{
 "cells": [
  {
   "cell_type": "markdown",
   "metadata": {
    "id": "HrDEr5o8ypNR"
   },
   "source": [
    "# Import all the necessary libraries"
   ]
  },
  {
   "cell_type": "code",
   "execution_count": 1,
   "metadata": {
    "id": "AOiUiHLkypNT",
    "outputId": "5933711e-86a0-4280-f983-97a9ef42b867"
   },
   "outputs": [
    {
     "name": "stderr",
     "output_type": "stream",
     "text": [
      "c:\\Users\\kmyut\\anaconda3\\envs\\cs135_env\\lib\\site-packages\\tqdm\\auto.py:21: TqdmWarning: IProgress not found. Please update jupyter and ipywidgets. See https://ipywidgets.readthedocs.io/en/stable/user_install.html\n",
      "  from .autonotebook import tqdm as notebook_tqdm\n"
     ]
    }
   ],
   "source": [
    "import torch\n",
    "import numpy as np\n",
    "from transformers import PatchTSTForPretraining\n",
    "from sklearn.ensemble import RandomForestClassifier\n",
    "from sklearn.metrics import f1_score, accuracy_score, classification_report\n",
    "import pandas as pd\n",
    "import numpy as np\n",
    "from scipy.interpolate import CubicSpline\n",
    "from sklearn.preprocessing import LabelEncoder\n",
    "from sklearn.model_selection import train_test_split\n",
    "from tqdm import tqdm\n",
    "import os\n",
    "from torch.utils.data import Dataset, DataLoader"
   ]
  },
  {
   "cell_type": "markdown",
   "metadata": {
    "id": "TREGjqdXypNW"
   },
   "source": [
    "## Data preprocessing\n",
    " - The earth FM expects 48 timesteps per pixel. Make sure to aggregate appropriately\n"
   ]
  },
  {
   "cell_type": "code",
   "execution_count": 2,
   "metadata": {
    "id": "9nnS_pOZypNW",
    "outputId": "66f99869-99ae-44e2-a384-dc7d3632294b"
   },
   "outputs": [
    {
     "data": {
      "text/html": [
       "<div>\n",
       "<style scoped>\n",
       "    .dataframe tbody tr th:only-of-type {\n",
       "        vertical-align: middle;\n",
       "    }\n",
       "\n",
       "    .dataframe tbody tr th {\n",
       "        vertical-align: top;\n",
       "    }\n",
       "\n",
       "    .dataframe thead th {\n",
       "        text-align: right;\n",
       "    }\n",
       "</style>\n",
       "<table border=\"1\" class=\"dataframe\">\n",
       "  <thead>\n",
       "    <tr style=\"text-align: right;\">\n",
       "      <th></th>\n",
       "      <th>unique_id</th>\n",
       "      <th>time</th>\n",
       "      <th>x</th>\n",
       "      <th>y</th>\n",
       "      <th>crop_type</th>\n",
       "      <th>red</th>\n",
       "      <th>nir</th>\n",
       "      <th>swir16</th>\n",
       "      <th>swir22</th>\n",
       "      <th>blue</th>\n",
       "      <th>green</th>\n",
       "      <th>rededge1</th>\n",
       "      <th>rededge2</th>\n",
       "      <th>rededge3</th>\n",
       "      <th>nir08</th>\n",
       "    </tr>\n",
       "  </thead>\n",
       "  <tbody>\n",
       "    <tr>\n",
       "      <th>0</th>\n",
       "      <td>Cameroon_agro-industrial_zones_1027296.3541211...</td>\n",
       "      <td>2023-01-28</td>\n",
       "      <td>1.027296e+06</td>\n",
       "      <td>442622.0456</td>\n",
       "      <td>cocoa</td>\n",
       "      <td>946.683944</td>\n",
       "      <td>1687.203380</td>\n",
       "      <td>1866.737465</td>\n",
       "      <td>1569.879437</td>\n",
       "      <td>530.815211</td>\n",
       "      <td>750.355493</td>\n",
       "      <td>1217.850704</td>\n",
       "      <td>1533.812958</td>\n",
       "      <td>1672.096901</td>\n",
       "      <td>1811.185352</td>\n",
       "    </tr>\n",
       "    <tr>\n",
       "      <th>1</th>\n",
       "      <td>Cameroon_agro-industrial_zones_1027296.3541211...</td>\n",
       "      <td>2025-02-26</td>\n",
       "      <td>1.027296e+06</td>\n",
       "      <td>442622.0456</td>\n",
       "      <td>cocoa</td>\n",
       "      <td>673.653371</td>\n",
       "      <td>2464.291011</td>\n",
       "      <td>1874.200562</td>\n",
       "      <td>1200.038202</td>\n",
       "      <td>439.839888</td>\n",
       "      <td>698.465169</td>\n",
       "      <td>1225.969101</td>\n",
       "      <td>2178.980337</td>\n",
       "      <td>2426.982584</td>\n",
       "      <td>2619.929775</td>\n",
       "    </tr>\n",
       "    <tr>\n",
       "      <th>2</th>\n",
       "      <td>Cameroon_agro-industrial_zones_1027296.3541211...</td>\n",
       "      <td>2021-01-28</td>\n",
       "      <td>1.027296e+06</td>\n",
       "      <td>442622.0456</td>\n",
       "      <td>cocoa</td>\n",
       "      <td>948.154366</td>\n",
       "      <td>2183.624789</td>\n",
       "      <td>2084.355493</td>\n",
       "      <td>1502.390423</td>\n",
       "      <td>605.953803</td>\n",
       "      <td>850.432113</td>\n",
       "      <td>1292.897465</td>\n",
       "      <td>1932.809014</td>\n",
       "      <td>2127.110423</td>\n",
       "      <td>2313.249577</td>\n",
       "    </tr>\n",
       "    <tr>\n",
       "      <th>3</th>\n",
       "      <td>Cameroon_agro-industrial_zones_1027296.3541211...</td>\n",
       "      <td>2022-01-03</td>\n",
       "      <td>1.027296e+06</td>\n",
       "      <td>442622.0456</td>\n",
       "      <td>cocoa</td>\n",
       "      <td>994.290141</td>\n",
       "      <td>1650.518310</td>\n",
       "      <td>2020.218028</td>\n",
       "      <td>1626.656338</td>\n",
       "      <td>569.026479</td>\n",
       "      <td>786.678310</td>\n",
       "      <td>1263.043380</td>\n",
       "      <td>1513.849577</td>\n",
       "      <td>1616.574085</td>\n",
       "      <td>1776.781972</td>\n",
       "    </tr>\n",
       "    <tr>\n",
       "      <th>4</th>\n",
       "      <td>Cameroon_agro-industrial_zones_1027296.3541211...</td>\n",
       "      <td>2025-02-21</td>\n",
       "      <td>1.027296e+06</td>\n",
       "      <td>442622.0456</td>\n",
       "      <td>cocoa</td>\n",
       "      <td>628.101408</td>\n",
       "      <td>2732.930704</td>\n",
       "      <td>1814.214648</td>\n",
       "      <td>1160.927324</td>\n",
       "      <td>488.134648</td>\n",
       "      <td>709.317183</td>\n",
       "      <td>1087.594930</td>\n",
       "      <td>2301.493521</td>\n",
       "      <td>2639.037746</td>\n",
       "      <td>2762.190986</td>\n",
       "    </tr>\n",
       "  </tbody>\n",
       "</table>\n",
       "</div>"
      ],
      "text/plain": [
       "                                           unique_id        time  \\\n",
       "0  Cameroon_agro-industrial_zones_1027296.3541211...  2023-01-28   \n",
       "1  Cameroon_agro-industrial_zones_1027296.3541211...  2025-02-26   \n",
       "2  Cameroon_agro-industrial_zones_1027296.3541211...  2021-01-28   \n",
       "3  Cameroon_agro-industrial_zones_1027296.3541211...  2022-01-03   \n",
       "4  Cameroon_agro-industrial_zones_1027296.3541211...  2025-02-21   \n",
       "\n",
       "              x            y crop_type         red          nir       swir16  \\\n",
       "0  1.027296e+06  442622.0456     cocoa  946.683944  1687.203380  1866.737465   \n",
       "1  1.027296e+06  442622.0456     cocoa  673.653371  2464.291011  1874.200562   \n",
       "2  1.027296e+06  442622.0456     cocoa  948.154366  2183.624789  2084.355493   \n",
       "3  1.027296e+06  442622.0456     cocoa  994.290141  1650.518310  2020.218028   \n",
       "4  1.027296e+06  442622.0456     cocoa  628.101408  2732.930704  1814.214648   \n",
       "\n",
       "        swir22        blue       green     rededge1     rededge2     rededge3  \\\n",
       "0  1569.879437  530.815211  750.355493  1217.850704  1533.812958  1672.096901   \n",
       "1  1200.038202  439.839888  698.465169  1225.969101  2178.980337  2426.982584   \n",
       "2  1502.390423  605.953803  850.432113  1292.897465  1932.809014  2127.110423   \n",
       "3  1626.656338  569.026479  786.678310  1263.043380  1513.849577  1616.574085   \n",
       "4  1160.927324  488.134648  709.317183  1087.594930  2301.493521  2639.037746   \n",
       "\n",
       "         nir08  \n",
       "0  1811.185352  \n",
       "1  2619.929775  \n",
       "2  2313.249577  \n",
       "3  1776.781972  \n",
       "4  2762.190986  "
      ]
     },
     "execution_count": 2,
     "metadata": {},
     "output_type": "execute_result"
    }
   ],
   "source": [
    "import pandas as pd\n",
    "# This is a dummy dataset\n",
    "# N.B. This df is for illustration only and should only be used to get an understanding of the problem. This data is completely fictious.\n",
    "train_data = pd.read_csv('Final_input.csv')\n",
    "train_data = train_data.dropna()\n",
    "\n",
    "counts = train_data['unique_id'].value_counts()\n",
    "\n",
    "# Filter unique_ids that appear more than once\n",
    "ids_to_keep = counts[counts > 1].index\n",
    "\n",
    "# Keep only rows where unique_id appears more than once\n",
    "train_data = train_data[train_data['unique_id'].isin(ids_to_keep)]\n",
    "train_data.head()\n",
    "\n"
   ]
  },
  {
   "cell_type": "code",
   "execution_count": null,
   "metadata": {},
   "outputs": [],
   "source": [
    "bands = {\n",
    "    \"red\": \"B4\",\n",
    "    \"nir\": \"B8\",\n",
    "    \"swir16\": \"B11\",\n",
    "    \"swir22\": \"B12\",\n",
    "    \"blue\": \"B2\",\n",
    "    \"green\": \"B3\",\n",
    "    \"rededge1\": \"B5\",\n",
    "    \"rededge2\": \"B6\",\n",
    "    \"rededge3\": \"B7\",\n",
    "    \"nir08\": \"B8A\",\n",
    "}\n",
    "\n",
    "reversed_bands = {v: k for k, v in bands.items()}\n",
    "\n",
    "\n",
    "import glob\n",
    "files = glob.glob('Input_csvs/*')\n",
    "# print(files)\n",
    "\n",
    "\n",
    "def fix_data(dataframes) :\n",
    "    combined_df = pd.DataFrame(columns=train_data.columns)\n",
    "\n",
    "    for df_name in dataframes:\n",
    "        \n",
    "        dataframe = pd.read_csv(df_name)\n",
    "\n",
    "        if 'crop_type' not in dataframe.columns:\n",
    "            dataframe['crop_type'] = 'rubber'\n",
    "        try:\n",
    "            dataframe.rename(columns=reversed_bands, inplace=True)\n",
    "            dataframe = dataframe[train_data.columns]\n",
    "            combined_df = pd.concat([combined_df, dataframe], ignore_index=True)\n",
    "\n",
    "        except:\n",
    "            print(df_name)\n",
    "    return combined_df\n",
    "\n",
    "combined = fix_data(files)\n",
    "print(combined.head())\n",
    "combined.to_csv(\"Final_input.csv\", index = False)"
   ]
  },
  {
   "cell_type": "code",
   "execution_count": 3,
   "metadata": {
    "id": "V4bCSsQnypNX",
    "outputId": "594604d8-e26f-4ce2-85ac-6f91d95e787d"
   },
   "outputs": [
    {
     "data": {
      "text/html": [
       "<div>\n",
       "<style scoped>\n",
       "    .dataframe tbody tr th:only-of-type {\n",
       "        vertical-align: middle;\n",
       "    }\n",
       "\n",
       "    .dataframe tbody tr th {\n",
       "        vertical-align: top;\n",
       "    }\n",
       "\n",
       "    .dataframe thead th {\n",
       "        text-align: right;\n",
       "    }\n",
       "</style>\n",
       "<table border=\"1\" class=\"dataframe\">\n",
       "  <thead>\n",
       "    <tr style=\"text-align: right;\">\n",
       "      <th></th>\n",
       "      <th>unique_id</th>\n",
       "      <th>time</th>\n",
       "      <th>x</th>\n",
       "      <th>y</th>\n",
       "      <th>red</th>\n",
       "      <th>nir</th>\n",
       "      <th>swir16</th>\n",
       "      <th>swir22</th>\n",
       "      <th>blue</th>\n",
       "      <th>green</th>\n",
       "      <th>rededge1</th>\n",
       "      <th>rededge2</th>\n",
       "      <th>rededge3</th>\n",
       "      <th>nir08</th>\n",
       "    </tr>\n",
       "  </thead>\n",
       "  <tbody>\n",
       "    <tr>\n",
       "      <th>0</th>\n",
       "      <td>ID_01FHV4</td>\n",
       "      <td>2018-01-03 10:59:22.851</td>\n",
       "      <td>-296455.0</td>\n",
       "      <td>846395.0</td>\n",
       "      <td>0.2920</td>\n",
       "      <td>0.3686</td>\n",
       "      <td>0.4173</td>\n",
       "      <td>0.3869</td>\n",
       "      <td>0.2488</td>\n",
       "      <td>0.2708</td>\n",
       "      <td>0.3211</td>\n",
       "      <td>0.3555</td>\n",
       "      <td>0.3752</td>\n",
       "      <td>0.3862</td>\n",
       "    </tr>\n",
       "    <tr>\n",
       "      <th>1</th>\n",
       "      <td>ID_01FHV4</td>\n",
       "      <td>2018-01-03 10:59:22.851</td>\n",
       "      <td>-296455.0</td>\n",
       "      <td>846395.0</td>\n",
       "      <td>0.2920</td>\n",
       "      <td>0.3686</td>\n",
       "      <td>0.4173</td>\n",
       "      <td>0.3869</td>\n",
       "      <td>0.2488</td>\n",
       "      <td>0.2708</td>\n",
       "      <td>0.3211</td>\n",
       "      <td>0.3555</td>\n",
       "      <td>0.3752</td>\n",
       "      <td>0.3862</td>\n",
       "    </tr>\n",
       "    <tr>\n",
       "      <th>2</th>\n",
       "      <td>ID_01FHV4</td>\n",
       "      <td>2018-02-12 10:59:25.232</td>\n",
       "      <td>-296455.0</td>\n",
       "      <td>846395.0</td>\n",
       "      <td>0.3510</td>\n",
       "      <td>0.3426</td>\n",
       "      <td>0.4817</td>\n",
       "      <td>0.4577</td>\n",
       "      <td>0.2538</td>\n",
       "      <td>0.2914</td>\n",
       "      <td>0.3684</td>\n",
       "      <td>0.3484</td>\n",
       "      <td>0.3588</td>\n",
       "      <td>0.3628</td>\n",
       "    </tr>\n",
       "    <tr>\n",
       "      <th>3</th>\n",
       "      <td>ID_01FHV4</td>\n",
       "      <td>2018-02-12 10:59:25.232</td>\n",
       "      <td>-296455.0</td>\n",
       "      <td>846395.0</td>\n",
       "      <td>0.3510</td>\n",
       "      <td>0.3426</td>\n",
       "      <td>0.4817</td>\n",
       "      <td>0.4577</td>\n",
       "      <td>0.2538</td>\n",
       "      <td>0.2914</td>\n",
       "      <td>0.3684</td>\n",
       "      <td>0.3484</td>\n",
       "      <td>0.3588</td>\n",
       "      <td>0.3628</td>\n",
       "    </tr>\n",
       "    <tr>\n",
       "      <th>4</th>\n",
       "      <td>ID_01FHV4</td>\n",
       "      <td>2018-03-14 10:59:24.436</td>\n",
       "      <td>-296455.0</td>\n",
       "      <td>846395.0</td>\n",
       "      <td>0.5312</td>\n",
       "      <td>0.6296</td>\n",
       "      <td>0.6643</td>\n",
       "      <td>0.5882</td>\n",
       "      <td>0.5244</td>\n",
       "      <td>0.5308</td>\n",
       "      <td>0.6016</td>\n",
       "      <td>0.6217</td>\n",
       "      <td>0.6401</td>\n",
       "      <td>0.6404</td>\n",
       "    </tr>\n",
       "  </tbody>\n",
       "</table>\n",
       "</div>"
      ],
      "text/plain": [
       "   unique_id                     time         x         y     red     nir  \\\n",
       "0  ID_01FHV4  2018-01-03 10:59:22.851 -296455.0  846395.0  0.2920  0.3686   \n",
       "1  ID_01FHV4  2018-01-03 10:59:22.851 -296455.0  846395.0  0.2920  0.3686   \n",
       "2  ID_01FHV4  2018-02-12 10:59:25.232 -296455.0  846395.0  0.3510  0.3426   \n",
       "3  ID_01FHV4  2018-02-12 10:59:25.232 -296455.0  846395.0  0.3510  0.3426   \n",
       "4  ID_01FHV4  2018-03-14 10:59:24.436 -296455.0  846395.0  0.5312  0.6296   \n",
       "\n",
       "   swir16  swir22    blue   green  rededge1  rededge2  rededge3   nir08  \n",
       "0  0.4173  0.3869  0.2488  0.2708    0.3211    0.3555    0.3752  0.3862  \n",
       "1  0.4173  0.3869  0.2488  0.2708    0.3211    0.3555    0.3752  0.3862  \n",
       "2  0.4817  0.4577  0.2538  0.2914    0.3684    0.3484    0.3588  0.3628  \n",
       "3  0.4817  0.4577  0.2538  0.2914    0.3684    0.3484    0.3588  0.3628  \n",
       "4  0.6643  0.5882  0.5244  0.5308    0.6016    0.6217    0.6401  0.6404  "
      ]
     },
     "execution_count": 3,
     "metadata": {},
     "output_type": "execute_result"
    }
   ],
   "source": [
    "test_data = pd.read_csv('test.csv')\n",
    "test_data.head()"
   ]
  },
  {
   "cell_type": "code",
   "execution_count": 4,
   "metadata": {
    "id": "Cq7fi0rWypNX",
    "outputId": "16ea2d78-f5f3-4fc6-b941-13005402cd00"
   },
   "outputs": [
    {
     "data": {
      "text/plain": [
       "crop_type\n",
       "rubber      40423\n",
       "palm_oil    37921\n",
       "cocoa       21100\n",
       "Name: count, dtype: int64"
      ]
     },
     "execution_count": 4,
     "metadata": {},
     "output_type": "execute_result"
    }
   ],
   "source": [
    "train_data['crop_type'].value_counts()"
   ]
  },
  {
   "cell_type": "code",
   "execution_count": 5,
   "metadata": {
    "id": "xWLQg5ibypNY",
    "outputId": "1894978e-90c3-475d-e6ef-338372985074"
   },
   "outputs": [
    {
     "name": "stdout",
     "output_type": "stream",
     "text": [
      "Total timesteps per pixel: 4456\n",
      "Minimum timesteps per pixel: 2\n",
      "Maximum timesteps per pixel: 96\n",
      "Average timesteps per pixel: 22.316876122082586\n"
     ]
    }
   ],
   "source": [
    "timesteps_per_pixel = train_data.groupby('unique_id').size()  #count the timesteps per pixel since model expects 48 timesteps per pixel\n",
    "\n",
    "print(\"Total timesteps per pixel:\", len(timesteps_per_pixel))\n",
    "print(\"Minimum timesteps per pixel:\", timesteps_per_pixel.min())\n",
    "print(\"Maximum timesteps per pixel:\", timesteps_per_pixel.max())\n",
    "print(\"Average timesteps per pixel:\", timesteps_per_pixel.mean())"
   ]
  },
  {
   "cell_type": "code",
   "execution_count": 6,
   "metadata": {
    "id": "lPQl8JTaypNZ",
    "outputId": "5ef9d399-9fda-4067-f6c9-d546f9719637"
   },
   "outputs": [
    {
     "name": "stdout",
     "output_type": "stream",
     "text": [
      "Total timesteps per pixel: 10523\n",
      "Minimum timesteps per pixel: 74\n",
      "Maximum timesteps per pixel: 740\n",
      "Average timesteps per pixel: 114.33155944122399\n"
     ]
    }
   ],
   "source": [
    "test_pixel = test_data.groupby('unique_id').size()  #count the timesteps per pixel since model expects 48 timesteps per pixel\n",
    "\n",
    "print(\"Total timesteps per pixel:\", len(test_pixel))\n",
    "print(\"Minimum timesteps per pixel:\", test_pixel.min())\n",
    "print(\"Maximum timesteps per pixel:\", test_pixel.max())\n",
    "print(\"Average timesteps per pixel:\", test_pixel.mean())"
   ]
  },
  {
   "cell_type": "code",
   "execution_count": 7,
   "metadata": {
    "id": "h8euYClRypNZ"
   },
   "outputs": [],
   "source": [
    "bands = ['red', 'nir', 'swir16', 'swir22', 'blue', 'green','rededge1', 'rededge2', 'rededge3', 'nir08']  # The spectral bands in the dataset"
   ]
  },
  {
   "cell_type": "code",
   "execution_count": 8,
   "metadata": {
    "id": "50XaeYi_ypNa"
   },
   "outputs": [],
   "source": [
    "# You can have different ways to aggregate data to the required timesteps\n",
    "# Below we have use interpolation, but remember it might introduce noise\n",
    "\n",
    "from scipy.interpolate import CubicSpline\n",
    "import numpy as np\n",
    "import pandas as pd\n",
    "\n",
    "def preprocess_with_interpolation(df, bands):\n",
    "    all_results = []\n",
    "    has_crop_type = 'crop_type' in df.columns\n",
    "\n",
    "    for pixel_id, group in df.groupby('unique_id'):\n",
    "        group = group.sort_values('time').reset_index(drop=True)\n",
    "\n",
    "        # if len(group) < 2:\n",
    "        #     # Not enough points to interpolate; either skip or handle differently\n",
    "        #     print(f\"Skipping unique_id {pixel_id} because it has less than 2 time points.\")\n",
    "        #     continue\n",
    "\n",
    "        if len(group) == 48:\n",
    "            keep_cols = ['unique_id', 'x', 'y'] + bands\n",
    "            if has_crop_type:\n",
    "                keep_cols.insert(1, 'crop_type')\n",
    "\n",
    "            clean_group = group[keep_cols].copy()\n",
    "            clean_group['timestep'] = range(48)\n",
    "            all_results.append(clean_group)\n",
    "        else:\n",
    "            new_rows = []\n",
    "            interpolated_bands = {}\n",
    "            old_times = np.arange(len(group))\n",
    "            new_times = np.linspace(0, len(group) - 1, 48)\n",
    "\n",
    "            for band in bands:\n",
    "                spline = CubicSpline(old_times, group[band].values)\n",
    "                interpolated_bands[band] = spline(new_times)\n",
    "\n",
    "            for i in range(48):\n",
    "                new_row = {\n",
    "                    'unique_id': pixel_id,\n",
    "                    'timestep': i,\n",
    "                    'x': group['x'].iloc[0],\n",
    "                    'y': group['y'].iloc[0]\n",
    "                }\n",
    "                if has_crop_type:\n",
    "                    new_row['crop_type'] = group['crop_type'].iloc[0]\n",
    "\n",
    "                for band in bands:\n",
    "                    new_row[band] = interpolated_bands[band][i]\n",
    "\n",
    "                new_rows.append(new_row)\n",
    "\n",
    "            all_results.append(pd.DataFrame(new_rows))\n",
    "\n",
    "    final_df = pd.concat(all_results, ignore_index=True)\n",
    "    return final_df\n"
   ]
  },
  {
   "cell_type": "code",
   "execution_count": 9,
   "metadata": {},
   "outputs": [
    {
     "name": "stdout",
     "output_type": "stream",
     "text": [
      "NaN or Inf count per specified columns:\n",
      "red         0\n",
      "nir         0\n",
      "swir16      0\n",
      "swir22      0\n",
      "blue        0\n",
      "green       0\n",
      "rededge1    0\n",
      "rededge2    0\n",
      "rededge3    0\n",
      "nir08       0\n",
      "dtype: int64\n",
      "\n",
      "Rows with NaN or Inf in specified columns:\n",
      "Empty DataFrame\n",
      "Columns: [unique_id, time, x, y, crop_type, red, nir, swir16, swir22, blue, green, rededge1, rededge2, rededge3, nir08]\n",
      "Index: []\n"
     ]
    }
   ],
   "source": [
    "import numpy as np\n",
    "cols_to_check = bands\n",
    "\n",
    "# Check for NaN in those columns\n",
    "nan_mask = train_data[cols_to_check].isna()\n",
    "\n",
    "# Check for inf or -inf in those columns\n",
    "inf_mask = ~np.isfinite(train_data[cols_to_check])\n",
    "\n",
    "# Combine both masks\n",
    "bad_mask = nan_mask | inf_mask\n",
    "\n",
    "# Count bad values per selected column\n",
    "print(\"NaN or Inf count per specified columns:\")\n",
    "print(bad_mask.sum())\n",
    "\n",
    "# Show rows where any of those columns have bad values\n",
    "bad_rows = train_data[bad_mask.any(axis=1)]\n",
    "print(\"\\nRows with NaN or Inf in specified columns:\")\n",
    "print(bad_rows)"
   ]
  },
  {
   "cell_type": "code",
   "execution_count": 10,
   "metadata": {
    "id": "i6FZuK4yypNa"
   },
   "outputs": [],
   "source": [
    "preprocessed_train_data = preprocess_with_interpolation(train_data, bands)\n",
    "preprocessed_test_data = preprocess_with_interpolation(test_data, bands)"
   ]
  },
  {
   "cell_type": "code",
   "execution_count": 11,
   "metadata": {
    "id": "cdzK5LdUypNb",
    "outputId": "a995de28-1fa6-42b0-ea87-a75212b03453"
   },
   "outputs": [
    {
     "name": "stdout",
     "output_type": "stream",
     "text": [
      "Minimum timesteps per pixel: 48\n",
      "Maximum timesteps per pixel: 48\n"
     ]
    }
   ],
   "source": [
    "train_pixel = preprocessed_train_data.groupby('unique_id').size()  #count the timesteps per pixel since model expects 48 timesteps per pixel\n",
    "\n",
    "print(\"Minimum timesteps per pixel:\", train_pixel.min())\n",
    "print(\"Maximum timesteps per pixel:\", train_pixel.max())\n"
   ]
  },
  {
   "cell_type": "markdown",
   "metadata": {
    "id": "N-6I-F3xypNb"
   },
   "source": [
    "# MODELLING\n",
    "- The earth FM was pretrained on a vast amount of Sentinel 2 unlabeled timeseries data, built on [PATCHTST](https://huggingface.co/docs/transformers/en/model_doc/patchtst#transformers.PatchTSTForPretraining) architecture.\n",
    "- The pretrained model can be used in different ways: finetuning though supervised classification, as a feature extractor etc.\n",
    "\n",
    "Download the models on hugging face\n",
    " - [600K](https://huggingface.co/AminiTech/FM-600K)\n",
    " - [18M](https://huggingface.co/AminiTech/fm-v2-28M)\n",
    "\n",
    "The model expects a dataset and its mask as input"
   ]
  },
  {
   "cell_type": "code",
   "execution_count": 12,
   "metadata": {
    "id": "1FW8cp5jypNb"
   },
   "outputs": [],
   "source": [
    "# use the model as a feature extractor for RF model\n",
    "def extract_patch_embeddings(model, past_values):\n",
    "    past_observed_mask = ~torch.isnan(past_values)\n",
    "\n",
    "    with torch.no_grad():\n",
    "        model_output = model.model(\n",
    "            past_values=past_values,\n",
    "            past_observed_mask=past_observed_mask,\n",
    "            return_dict=True\n",
    "        )\n",
    "        embeddings = model_output.last_hidden_state\n",
    "        all_patches = embeddings[:, :, 1:, :]\n",
    "        final_embeddings = all_patches.mean(dim=(1, 2))  # average of all patch level embeddings\n",
    "        return final_embeddings\n"
   ]
  },
  {
   "cell_type": "code",
   "execution_count": 13,
   "metadata": {
    "id": "lRKlBL0XypNc"
   },
   "outputs": [],
   "source": [
    "hf_token = os.getenv('HUGGINGFACE_HUB_TOKEN')\n",
    "MODEL_PATH = \"AminiTech/fm-v2-28M\"\n"
   ]
  },
  {
   "cell_type": "code",
   "execution_count": 14,
   "metadata": {
    "id": "FfN_AFsoypNc"
   },
   "outputs": [],
   "source": [
    "class CropDataset(Dataset):\n",
    "    def __init__(self, sequences, labels, unique_ids):\n",
    "        self.sequences = torch.FloatTensor(sequences)\n",
    "        self.labels = labels\n",
    "        self.unique_ids = unique_ids\n",
    "\n",
    "    def __len__(self):\n",
    "        return len(self.sequences)\n",
    "\n",
    "    def __getitem__(self, idx):\n",
    "        item = {\n",
    "            'sequence': self.sequences[idx],\n",
    "            'unique_id': self.unique_ids[idx]\n",
    "        }\n",
    "        if self.labels is not None:\n",
    "            item['label'] = self.labels[idx]\n",
    "        return item\n",
    "\n",
    "\n",
    "def prepare_sequences_from_df(df):\n",
    "    sequences = []\n",
    "    labels = []\n",
    "    unique_ids = []\n",
    "    has_labels = 'crop_type' in df.columns\n",
    "\n",
    "    for unique_id, group in df.groupby('unique_id'):\n",
    "        spectral_data = group[bands].values\n",
    "        sequences.append(spectral_data)\n",
    "        unique_ids.append(unique_id)\n",
    "\n",
    "        if has_labels:\n",
    "            labels.append(group['crop_type'].iloc[0])\n",
    "\n",
    "    sequences = np.array(sequences)\n",
    "\n",
    "    print(f\"Prepared {len(sequences)} sequences\")\n",
    "\n",
    "    if has_labels:\n",
    "        print(f\"Crop distribution:\")\n",
    "        unique, counts = np.unique(labels, return_counts=True)\n",
    "        for crop, count in zip(unique, counts):\n",
    "            print(f\"  {crop}: {count}\")\n",
    "    else:\n",
    "        labels = None\n",
    "\n",
    "    return sequences, labels, unique_ids\n",
    "\n",
    "def extract_embeddings_from_dataloader(model, dataloader):\n",
    "    model.eval()\n",
    "    all_embeddings = []\n",
    "    all_ids = []\n",
    "\n",
    "    device = next(model.parameters()).device\n",
    "\n",
    "    with torch.no_grad():\n",
    "        for batch in dataloader:\n",
    "            sequences = batch['sequence'].to(device)\n",
    "            embeddings = extract_patch_embeddings(model, sequences)\n",
    "\n",
    "            all_embeddings.append(embeddings.cpu())  # Move to CPU before collecting\n",
    "            all_ids.extend(batch['unique_id'])\n",
    "\n",
    "    return torch.cat(all_embeddings, dim=0), all_ids"
   ]
  },
  {
   "cell_type": "code",
   "execution_count": 15,
   "metadata": {
    "id": "oBaXtrRUypNc",
    "outputId": "c0b6cdc3-1878-4071-b0b6-4aaaaa574634"
   },
   "outputs": [
    {
     "name": "stdout",
     "output_type": "stream",
     "text": [
      "Prepared 4456 sequences\n",
      "Crop distribution:\n",
      "  cocoa: 601\n",
      "  palm_oil: 2390\n",
      "  rubber: 1465\n"
     ]
    }
   ],
   "source": [
    "train_seq, train_labels, train_ids = prepare_sequences_from_df(preprocessed_train_data)\n",
    "train_dataset = CropDataset(train_seq, train_labels, train_ids)\n"
   ]
  },
  {
   "cell_type": "code",
   "execution_count": 16,
   "metadata": {
    "id": "rcRH8m3-ypNc",
    "outputId": "ef923441-6259-442b-986a-b8d308d16d98"
   },
   "outputs": [
    {
     "name": "stdout",
     "output_type": "stream",
     "text": [
      "Train sequences shape: (4456, 48, 10)\n"
     ]
    }
   ],
   "source": [
    "print(\"Train sequences shape:\", train_seq.shape)\n"
   ]
  },
  {
   "cell_type": "code",
   "execution_count": 17,
   "metadata": {
    "id": "V7gO8sbFypNc",
    "outputId": "ddcd6436-1522-48d2-e102-07fab00f279c"
   },
   "outputs": [
    {
     "name": "stdout",
     "output_type": "stream",
     "text": [
      "Prepared 10523 sequences\n"
     ]
    }
   ],
   "source": [
    "test_seq, test_labels, test_ids = prepare_sequences_from_df(preprocessed_test_data)\n",
    "test_dataset = CropDataset(test_seq, test_labels, test_ids)"
   ]
  },
  {
   "cell_type": "code",
   "execution_count": 18,
   "metadata": {
    "id": "1BOBTmARypNd",
    "outputId": "510dfdae-4342-47a3-e1b7-228a17898749"
   },
   "outputs": [
    {
     "name": "stdout",
     "output_type": "stream",
     "text": [
      "Test sequences shape: (10523, 48, 10)\n"
     ]
    }
   ],
   "source": [
    "print(\"Test sequences shape:\", test_seq.shape)"
   ]
  },
  {
   "cell_type": "code",
   "execution_count": 19,
   "metadata": {
    "id": "FRCoflX2ypNd"
   },
   "outputs": [],
   "source": [
    "train_loader = DataLoader(train_dataset, batch_size=32, shuffle=True)\n",
    "test_loader = DataLoader(test_dataset, batch_size=32, shuffle=True)"
   ]
  },
  {
   "cell_type": "code",
   "execution_count": 20,
   "metadata": {
    "id": "sIri9nXJypNd",
    "outputId": "55c7418a-4f69-428f-a1e2-8919c4ed67e8"
   },
   "outputs": [
    {
     "name": "stderr",
     "output_type": "stream",
     "text": [
      "c:\\Users\\kmyut\\anaconda3\\envs\\cs135_env\\lib\\site-packages\\huggingface_hub\\file_download.py:797: FutureWarning: `resume_download` is deprecated and will be removed in version 1.0.0. Downloads always resume when possible. If you want to force a new download, use `force_download=True`.\n",
      "  warnings.warn(\n",
      "c:\\Users\\kmyut\\anaconda3\\envs\\cs135_env\\lib\\site-packages\\huggingface_hub\\file_download.py:142: UserWarning: `huggingface_hub` cache-system uses symlinks by default to efficiently store duplicated files but your machine does not support them in C:\\Users\\kmyut\\.cache\\huggingface\\hub\\models--AminiTech--fm-v2-28M. Caching files will still work but in a degraded version that might require more space on your disk. This warning can be disabled by setting the `HF_HUB_DISABLE_SYMLINKS_WARNING` environment variable. For more details, see https://huggingface.co/docs/huggingface_hub/how-to-cache#limitations.\n",
      "To support symlinks on Windows, you either need to activate Developer Mode or to run Python as an administrator. In order to activate developer mode, see this article: https://docs.microsoft.com/en-us/windows/apps/get-started/enable-your-device-for-development\n",
      "  warnings.warn(message)\n"
     ]
    },
    {
     "data": {
      "text/plain": [
       "PatchTSTForPretraining(\n",
       "  (model): PatchTSTModel(\n",
       "    (scaler): PatchTSTScaler(\n",
       "      (scaler): PatchTSTMeanScaler()\n",
       "    )\n",
       "    (patchifier): PatchTSTPatchify()\n",
       "    (masking): PatchTSTMasking()\n",
       "    (encoder): PatchTSTEncoder(\n",
       "      (embedder): PatchTSTEmbedding(\n",
       "        (input_embedding): Linear(in_features=12, out_features=512, bias=True)\n",
       "      )\n",
       "      (positional_encoder): PatchTSTPositionalEncoding(\n",
       "        (positional_dropout): Identity()\n",
       "      )\n",
       "      (layers): ModuleList(\n",
       "        (0-5): 6 x PatchTSTEncoderLayer(\n",
       "          (self_attn): PatchTSTAttention(\n",
       "            (k_proj): Linear(in_features=512, out_features=512, bias=True)\n",
       "            (v_proj): Linear(in_features=512, out_features=512, bias=True)\n",
       "            (q_proj): Linear(in_features=512, out_features=512, bias=True)\n",
       "            (out_proj): Linear(in_features=512, out_features=512, bias=True)\n",
       "          )\n",
       "          (dropout_path1): Identity()\n",
       "          (norm_sublayer1): LayerNorm((512,), eps=1e-05, elementwise_affine=True)\n",
       "          (dropout_path2): Identity()\n",
       "          (norm_sublayer2): LayerNorm((512,), eps=1e-05, elementwise_affine=True)\n",
       "          (ff): Sequential(\n",
       "            (0): Linear(in_features=512, out_features=2048, bias=True)\n",
       "            (1): GELUActivation()\n",
       "            (2): Identity()\n",
       "            (3): Linear(in_features=2048, out_features=512, bias=True)\n",
       "          )\n",
       "          (dropout_path3): Identity()\n",
       "          (norm_sublayer3): LayerNorm((512,), eps=1e-05, elementwise_affine=True)\n",
       "        )\n",
       "      )\n",
       "    )\n",
       "  )\n",
       "  (head): PatchTSTMaskPretrainHead(\n",
       "    (dropout): Dropout(p=0.1, inplace=False)\n",
       "    (linear): Linear(in_features=512, out_features=12, bias=True)\n",
       "  )\n",
       ")"
      ]
     },
     "execution_count": 20,
     "metadata": {},
     "output_type": "execute_result"
    }
   ],
   "source": [
    "# Load model\n",
    "model = PatchTSTForPretraining.from_pretrained(MODEL_PATH, token=hf_token)\n",
    "model.eval()"
   ]
  },
  {
   "cell_type": "code",
   "execution_count": 21,
   "metadata": {
    "id": "3JCxCw5jypNd"
   },
   "outputs": [],
   "source": [
    "train_embeddings, train_ids = extract_embeddings_from_dataloader(model, train_loader)\n",
    "test_embeddings, test_ids = extract_embeddings_from_dataloader(model, test_loader)"
   ]
  },
  {
   "cell_type": "code",
   "execution_count": 22,
   "metadata": {},
   "outputs": [
    {
     "name": "stdout",
     "output_type": "stream",
     "text": [
      "4456\n",
      "['gfw_oil_palm_v20191031_102.2893849804895_-0.6897149994975678', 'gfw_oil_palm_v20191031_110.88331487546637_-2.3610033807513844', 'gfw_oil_palm_v20191031_112.56090821787944_2.6988900644749663', 'rubber_310', 'gfw_oil_palm_v20191031_151.92767503185343_-3.206950000142342', 'gfw_oil_palm_v20191031_114.25228971076689_2.738717542230944', 'CIVKokao_-7.824862432111941_6.4108430665', 'rubber_739', 'gfw_oil_palm_v20191031_115.05860906781683_-1.2978521482579595', 'CIVKokao_-7.278198699485076_6.1376333059', 'gfw_oil_palm_v20191031_114.46128549449097_3.894284059661743', 'gfw_oil_palm_v20191031_103.47770999063749_-2.0740293624151036', 'gfw_oil_palm_v20191031_-10.935956429778036_6.838588542224215', 'gfw_oil_palm_v20191031_113.17921025510043_3.139666931433794', 'GHAKokao_-1.9394599488469388_5.599674893169014', 'gfw_oil_palm_v20191031_102.28587604635023_-0.42507899954608774', 'gfw_oil_palm_v20191031_120.78560092669571_-2.461086938811121', 'gfw_oil_palm_v20191031_100.67189658228821_1.6226539997323641', 'rubber_1203', 'CIVKokao_-7.187088077380598_4.8626544231', 'CIVKokao_-3.907105681619404_6.6840528271', 'gfw_oil_palm_v20191031_110.25548161748985_-0.20375872678374662', 'gfw_oil_palm_v20191031_102.25510695242055_-0.06515699954582033', 'GHAKokao_-2.574787016989796_5.1465317678169', 'gfw_oil_palm_v20191031_114.62781856392331_-1.1000968011763632', 'gfw_oil_palm_v20191031_100.578384017845_0.8745549998635056', 'gfw_oil_palm_v20191031_119.42263566512574_-1.2068834520596283', 'rubber_1396', 'gfw_oil_palm_v20191031_110.39723518769017_-0.5554990176654826', 'gfw_oil_palm_v20191031_103.23341944011992_-0.0009200000578459822', 'gfw_oil_palm_v20191031_114.34179571817548_2.826775359145614', 'gfw_oil_palm_v20191031_115.8792128580576_-0.8576928673318776', 'gfw_oil_palm_v20191031_113.67102852960653_3.2916218346800292', 'CIVKokao_-6.6404243447537326_6.5929829069000006', 'gfw_oil_palm_v20191031_114.74633979781862_-0.7462873757617103', 'rubber_907', 'gfw_oil_palm_v20191031_114.0789605559155_4.566085987278598', 'gfw_oil_palm_v20191031_96.51691457564027_3.810205857014779', 'RSPO_Palm_Oil_Mills_12506708.6118_250725.42929999903', 'gfw_oil_palm_v20191031_111.50149952566316_-0.7523658273709941', 'rubber_104', 'rubber_35', 'gfw_oil_palm_v20191031_116.88265070272053_2.6325869557735757', 'gfw_oil_palm_v20191031_113.00072906966574_-1.9798319026700995', 'gfw_oil_palm_v20191031_113.97569019969363_3.8550857579515423', 'rubber_1191', 'gfw_oil_palm_v20191031_109.39983446742181_1.1931430097421867', 'RSPO_Palm_Oil_Mills_11408175.7053_249811.57239999995', 'rubber_1391', 'rubber_1358', 'CIVKokao_-7.46041994369403_7.0483325079', 'gfw_oil_palm_v20191031_110.00864359056847_-0.17304675300516692', 'gfw_oil_palm_v20191031_112.83551231989233_-1.5772568670107603', 'rubber_634', 'rubber_113', 'rubber_758', 'CIVKokao_-6.6404243447537326_5.3180040241', 'GHAKokao_-2.66554802672449_5.962189393450704', 'gfw_oil_palm_v20191031_109.58631896944499_0.09265394127646687', 'gfw_oil_palm_v20191031_109.5226667067505_1.6149657967342819', 'gfw_oil_palm_v20191031_113.06194594674679_3.0392513346814383', 'gfw_oil_palm_v20191031_121.30995037948747_-2.2300920000457154', 'rubber_671', 'rubber_1101', 'gfw_oil_palm_v20191031_112.95923474648394_-2.1033059359201047', 'rubber_1090', 'gfw_oil_palm_v20191031_111.86222132850438_-0.1267383545413736', 'gfw_oil_palm_v20191031_117.51496497138302_2.5265421165255475', 'gfw_oil_palm_v20191031_120.2809535673018_-1.5409311649412416', 'RSPO_Palm_Oil_Mills_11549155.049899999_-324791.2173999995', 'rubber_1306', 'GHAKokao_-1.3948938904387755_5.690303518239436', 'CIVKokao_-8.007083676320896_7.2304723483', 'rubber_102', 'RSPO_Palm_Oil_Mills_11673867.5_-403988.58029999956', 'rubber_436', 'rubber_779', 'gfw_oil_palm_v20191031_111.51020415117736_0.49200759817222206', 'rubber_603', 'gfw_oil_palm_v20191031_109.51246361296461_1.3658966418666125', 'rubber_869', 'gfw_oil_palm_v20191031_120.84979180124012_-1.9347054921645963', 'rubber_744', 'Sarawak_oil_palm_concessions_12537040.706836898_285594.0825999994', 'gfw_oil_palm_v20191031_111.02641506923277_0.019860471683557535', 'gfw_oil_palm_v20191031_102.35108346206162_-0.4853050006751687', 'gfw_oil_palm_v20191031_102.58630063670472_-0.4371744997532687', 'gfw_oil_palm_v20191031_9.094102996613568_4.6247430765818365', 'rubber_421', 'gfw_oil_palm_v20191031_116.87726350087603_-0.05919327804730301', 'gfw_oil_palm_v20191031_10.593337623341224_3.71269483305025', 'gfw_oil_palm_v20191031_112.84555698750256_-2.280202611611145', 'rubber_215', 'gfw_oil_palm_v20191031_109.34094516383456_1.7340188626305348', 'gfw_oil_palm_v20191031_101.87908704810272_0.6223350005099633', 'gfw_oil_palm_v20191031_114.16628912280271_4.057801660218502', 'rubber_293', 'RSPO_Palm_Oil_Mills_11391285.6442_354160.58199999854', 'rubber_48', 'CIVKokao_-5.455986257395523_5.8644235453', 'rubber_150', 'rubber_965', 'gfw_oil_palm_v20191031_109.29275414726202_1.7436420914594635', 'GHAKokao_0.5110873139897958_7.049732894295774', 'gfw_oil_palm_v20191031_103.3656438825_0.21851750018259963', 'gfw_oil_palm_v20191031_116.52106400161901_0.24672936766626208', 'rubber_768', 'gfw_oil_palm_v20191031_115.07167700512014_4.288033297598645', 'CIVKokao_-4.271548170037314_5.8644235453', 'gfw_oil_palm_v20191031_117.35260133491327_-0.16930785892043332', 'rubber_1239', 'RSPO_Palm_Oil_Mills_13107870.0409_637807.8310999982', 'rubber_1348', 'gfw_oil_palm_v20191031_100.92518550031062_0.42814349987273204', 'Sarawak_oil_palm_concessions_12708933.171103016_452090.5020000003', 'gfw_oil_palm_v20191031_110.85665622555639_0.8165242375536366', 'gfw_oil_palm_v20191031_101.86286276267826_0.578034499942305', 'rubber_998', 'rubber_694', 'gfw_oil_palm_v20191031_97.58670466818569_2.9760507422480202', 'rubber_1322', 'Sarawak_oil_palm_concessions_12714990.491984908_493460.8460499998', 'CIVKokao_-6.6404243447537326_5.9554934655', 'rubber_912', 'rubber_221', 'rubber_1079', 'gfw_oil_palm_v20191031_121.70651170382719_-2.722765207498213', 'gfw_oil_palm_v20191031_112.00271317408047_-1.6185029092817445', 'gfw_oil_palm_v20191031_104.27951124284158_-3.936402039872121', 'CIVKokao_-7.551530565798508_6.4108430665', 'gfw_oil_palm_v20191031_115.21241131101701_-3.6983535766561886', 'rubber_1416', 'gfw_oil_palm_v20191031_111.25225683890685_-0.22607097014909527', 'rubber_1192', 'rubber_192', 'rubber_1275', 'gfw_oil_palm_v20191031_112.64655540545644_-1.686426850368747', 'CIVKokao_-6.093760612126866_5.0447942635', 'rubber_379', 'gfw_oil_palm_v20191031_115.01941914979909_-2.0486291277319992', 'gfw_oil_palm_v20191031_111.4892789481368_2.517834612027741', 'gfw_oil_palm_v20191031_112.56692856690145_-2.898232493085004', 'gfw_oil_palm_v20191031_105.85304373259251_-4.573464631287635', 'gfw_oil_palm_v20191031_115.24109905367457_0.20982397025011323', 'gfw_oil_palm_v20191031_112.46149899973463_-1.9222237434809415', 'CIVKokao_-7.004866833171643_7.6858219493', 'gfw_oil_palm_v20191031_112.90587953255928_-1.7719176725624948', 'gfw_oil_palm_v20191031_109.2446576890066_1.3459597823181753', 'gfw_oil_palm_v20191031_111.68337558563633_-2.4343749493943108', 'rubber_258', 'rubber_249', 'RSPO_Palm_Oil_Mills_11192247.1739_1182371.9935000017', 'RSPO_Palm_Oil_Mills_11455663.0416_302775.8748999983', 'gfw_oil_palm_v20191031_115.02504429330229_-2.086912223120521', 'gfw_oil_palm_v20191031_-10.703474474552337_7.0831476062774925', 'gfw_oil_palm_v20191031_112.63787268455894_-1.9245021700390055', 'GHAKokao_-1.5764159099081634_6.052818018521126', 'gfw_oil_palm_v20191031_111.51947783669857_-2.220020532471466', 'gfw_oil_palm_v20191031_110.46921032500558_-2.285556683144364', 'GHAKokao_-0.8503278320306125_5.599674893169014', 'rubber_792', 'rubber_802', 'rubber_583', 'rubber_1511', 'gfw_oil_palm_v20191031_112.63585014765707_-2.7200374881894334', 'GHAKokao_-2.0302209585816327_5.690303518239436', 'gfw_oil_palm_v20191031_113.0922265129189_-1.8975978700455869', 'gfw_oil_palm_v20191031_8.882573751255038_4.96551367501624', 'gfw_oil_palm_v20191031_112.73212320977727_-1.7904558214788722', 'rubber_433', 'rubber_265', 'gfw_oil_palm_v20191031_110.00531051193022_0.4211209413285246', 'GHAKokao_-0.4872837930918368_6.415332518802816', 'gfw_oil_palm_v20191031_111.14059118557986_1.3290106918400397', 'gfw_oil_palm_v20191031_115.67667400012391_-2.39817180198699', 'gfw_oil_palm_v20191031_111.71201223942984_0.5994234903019731', 'gfw_oil_palm_v20191031_112.43674135052079_-2.9808157630369863', 'rubber_632', 'CIVKokao_-8.189304920529851_7.5036821089', 'gfw_oil_palm_v20191031_109.60755303317296_-0.8604900237455695', 'rubber_1307', 'Sarawak_oil_palm_concessions_12482449.581923395_298692.00060000084', 'gfw_oil_palm_v20191031_95.62051598304694_4.708379695466618', 'gfw_oil_palm_v20191031_99.80193548648026_2.4072469989999092', 'rubber_1173', 'gfw_oil_palm_v20191031_103.31173795182082_-2.0120005587287437', 'CIVKokao_-3.633773815305971_6.5019129867', 'gfw_oil_palm_v20191031_116.89352343119259_-0.8659862632553654', 'rubber_589', 'gfw_oil_palm_v20191031_112.72916801006699_2.9011611157429797', 'rubber_16', 'gfw_oil_palm_v20191031_111.83258146541714_0.11376218083006506', 'gfw_oil_palm_v20191031_101.49162504025941_-2.8985766303571268', 'gfw_oil_palm_v20191031_105.46574934788337_-3.6214457541181844', 'rubber_825', 'gfw_oil_palm_v20191031_9.474781252337383_4.720470860491929', 'rubber_1278', 'gfw_oil_palm_v20191031_101.70198324844215_0.7121234993001337', 'gfw_oil_palm_v20191031_10.021932657738857_3.362976971759906', 'gfw_oil_palm_v20191031_113.69754952402728_3.7744845650107948', 'gfw_oil_palm_v20191031_115.46920362966246_-1.03187736309971', 'gfw_oil_palm_v20191031_99.70291720023238_2.2999864818407048', 'CIVKokao_-7.369309321589553_4.7715845029', 'rubber_959', 'gfw_oil_palm_v20191031_112.3390020971257_-2.555294394520587', 'rubber_297', 'rubber_304', 'gfw_oil_palm_v20191031_110.47994862487255_-0.04367320985070933', 'CIVKokao_-4.362658792141792_6.6840528271', 'gfw_oil_palm_v20191031_115.82526170428264_-0.4015563091762715', 'rubber_1485', 'rubber_541', 'gfw_oil_palm_v20191031_117.31771397709562_3.7673497481424363', 'rubber_387', 'rubber_1333', 'gfw_oil_palm_v20191031_117.27764305913902_3.924174767151868', 'rubber_118', 'GHAKokao_0.3295652945204081_7.230990144436619', 'RSPO_Palm_Oil_Mills_11282230.3919_324822.20430000126', 'gfw_oil_palm_v20191031_110.76238538138877_-0.08318323681686479', 'gfw_oil_palm_v20191031_110.71470767344782_-0.4885067944529453', 'RSPO_Palm_Oil_Mills_12528297.468600001_-322345.16690000147', 'gfw_oil_palm_v20191031_113.0965309775769_-1.1591683961045192', 'GHAKokao_-1.5764159099081634_6.415332518802816', 'rubber_287', 'gfw_oil_palm_v20191031_9.307305264804809_4.360103512167484', 'RSPO_Palm_Oil_Mills_11197695.5951_184840.93569999933', 'gfw_oil_palm_v20191031_133.65917478289344_-0.9338873903407148', 'rubber_875', 'gfw_oil_palm_v20191031_103.53885275000367_-2.631014572364535', 'gfw_oil_palm_v20191031_111.70026413564278_-0.10370206070143695', 'GHAKokao_-1.9394599488469388_6.596589768943661', 'gfw_oil_palm_v20191031_100.04080416490334_-0.0976744814920778', 'gfw_oil_palm_v20191031_111.72301033752791_-1.7579968215460156', 'rubber_278', 'gfw_oil_palm_v20191031_112.74783658126827_-1.8123729611931765', 'rubber_376', 'gfw_oil_palm_v20191031_116.21720826847405_0.3115450966290041', 'rubber_856', 'rubber_926', 'gfw_oil_palm_v20191031_114.08542623600916_3.7612287059901064', 'gfw_oil_palm_v20191031_119.38898946402747_-1.4855793858798734', 'gfw_oil_palm_v20191031_114.01968835862459_4.346535334787973', 'gfw_oil_palm_v20191031_-8.856439005102198_5.068538109647363', 'rubber_306', 'gfw_oil_palm_v20191031_115.0591046123341_4.472464803657829', 'gfw_oil_palm_v20191031_103.36367351834076_-2.9881839090100755', 'gfw_oil_palm_v20191031_9.020225284835629_5.11131879917329', 'gfw_oil_palm_v20191031_133.43326880234835_-4.1931085590626935', 'gfw_oil_palm_v20191031_102.38410950004328_-0.07948100044777107', 'gfw_oil_palm_v20191031_102.8287964302978_-0.4563380003484099', 'gfw_oil_palm_v20191031_116.04210424211753_-2.190778702924689', 'Sarawak_oil_palm_concessions_12453839.191430053_278654.1227000002', 'rubber_963', 'gfw_oil_palm_v20191031_101.4304627665384_-0.5631299999494956', 'GHAKokao_-0.1242397541530611_7.049732894295774', 'GHAKokao_-2.4840260072551024_6.687218394014084', 'rubber_1453', 'rubber_1503', 'rubber_126', 'rubber_1425', 'gfw_oil_palm_v20191031_100.64315896545362_1.1687980004275005', 'gfw_oil_palm_v20191031_115.20377959361326_4.844665888769811', 'rubber_514', 'rubber_1092', 'GHAKokao_0.2388042847857141_6.505961143873239', 'gfw_oil_palm_v20191031_116.01135527792573_0.46172607005226496', 'gfw_oil_palm_v20191031_111.2348001821482_0.7666002667889984', 'CIVKokao_-3.7248844374104486_7.2304723483', 'rubber_610', 'gfw_oil_palm_v20191031_109.59792680020502_0.004504792812070946', 'gfw_oil_palm_v20191031_101.83410394323354_-3.1112502809256455', 'rubber_1071', 'gfw_oil_palm_v20191031_109.81641757658187_0.8709413233335113', 'gfw_oil_palm_v20191031_110.80157680327532_-0.259713098380729', 'GHAKokao_-2.4840260072551024_6.505961143873239', 'rubber_892', 'gfw_oil_palm_v20191031_116.22302012455225_-2.431063658211201', 'rubber_1499', 'rubber_1106', 'gfw_oil_palm_v20191031_121.19866826265385_0.9814094902058628', 'gfw_oil_palm_v20191031_101.58239625814207_-0.8856081366060948', 'gfw_oil_palm_v20191031_117.63500863569593_2.699190497843233', 'gfw_oil_palm_v20191031_97.66425319717295_4.7493888140425895', 'rubber_776', 'rubber_1081', 'gfw_oil_palm_v20191031_102.26964748896604_-0.6242459998529739', 'CIVKokao_-3.633773815305971_5.8644235453', 'rubber_1210', 'gfw_oil_palm_v20191031_99.47698041961284_0.1801337418787341', 'GHAKokao_-2.756309036459184_6.324703893732394', 'gfw_oil_palm_v20191031_99.86656963269053_-0.1376741245611015', 'CIVKokao_-5.455986257395523_6.5929829069000006', 'gfw_oil_palm_v20191031_109.26695512133097_0.849778443220714', 'gfw_oil_palm_v20191031_112.88007685773229_3.043753734747213', 'gfw_oil_palm_v20191031_103.82195715101548_-1.7254739998751631', 'gfw_oil_palm_v20191031_112.54851746496617_2.7327516295341923', 'gfw_oil_palm_v20191031_114.30774082783437_3.9476834663190346', 'gfw_oil_palm_v20191031_115.65709094516264_-2.3476846559720457', 'gfw_oil_palm_v20191031_111.28477753903775_-2.144319802466839', 'gfw_oil_palm_v20191031_110.28830783484965_0.5528656365399911', 'gfw_oil_palm_v20191031_111.68940997820405_0.13258007645941916', 'rubber_608', 'Sarawak_oil_palm_concessions_12705525.558352562_461620.5978500005', 'rubber_670', 'rubber_1231', 'rubber_27', 'gfw_oil_palm_v20191031_110.88053916267353_-0.10736235628766622', 'gfw_oil_palm_v20191031_117.60395496622651_2.3074017023767226', 'gfw_oil_palm_v20191031_102.63379167438121_-1.4230242710531513', 'rubber_440', 'gfw_oil_palm_v20191031_112.67620485660365_-2.4466476821447714', 'gfw_oil_palm_v20191031_110.35544791716615_-0.865393221519895', 'gfw_oil_palm_v20191031_113.06593656985618_-1.9551682837892201', 'gfw_oil_palm_v20191031_112.80409873793431_-1.9049632645429142', 'rubber_729', 'gfw_oil_palm_v20191031_116.90641067835409_-0.5267015359470406', 'gfw_oil_palm_v20191031_109.31765171966003_0.38987111765800364', 'GHAKokao_-1.848698939112245_7.956019145', 'rubber_14', 'rubber_908', 'rubber_1501', 'rubber_1205', 'CIVKokao_-3.269331326888061_6.7751227473', 'gfw_oil_palm_v20191031_140.13484552807716_-2.5341340307108737', 'rubber_1346', 'gfw_oil_palm_v20191031_113.13552053773083_-1.815353139086028', 'gfw_oil_palm_v20191031_112.53506826238103_-2.6642600950772817', 'rubber_1051', 'CIVKokao_-6.6404243447537326_6.1376333059', 'gfw_oil_palm_v20191031_111.89354547913273_-2.3225385723971215', 'gfw_oil_palm_v20191031_111.26249508455143_1.2439746415166155', 'rubber_828', 'RSPO_Palm_Oil_Mills_11267727.9113_84296.0214000009', 'gfw_oil_palm_v20191031_112.35501739454442_-2.2137794820873182', 'gfw_oil_palm_v20191031_109.49331175930769_-0.7989333573884778', 'gfw_oil_palm_v20191031_-9.167442167991783_5.2830492100190725', 'CIVKokao_-8.098194298425375_7.1394024281', 'rubber_868', 'rubber_1257', 'gfw_oil_palm_v20191031_115.9536472054999_-1.9150792849809477', 'gfw_oil_palm_v20191031_140.04278647992385_-2.4553720430852763', 'gfw_oil_palm_v20191031_111.64858985104996_0.5043229763243176', 'RSPO_Palm_Oil_Mills_16721535.596199997_-623484.7496999986', 'gfw_oil_palm_v20191031_110.21134404149942_0.6638675969120982', 'rubber_127', 'gfw_oil_palm_v20191031_116.41619155820814_0.37836186705661135', 'CIVKokao_-4.089326925828359_7.0483325079', 'gfw_oil_palm_v20191031_131.10430157345388_-0.3236448913486072', 'gfw_oil_palm_v20191031_110.61822718372883_-1.0292542574279366', 'GHAKokao_-0.6688058125612244_5.327789017957746', 'gfw_oil_palm_v20191031_114.32998356289461_3.695617417859637', 'rubber_1009', 'rubber_78', 'CIVKokao_-3.269331326888061_7.0483325079', 'gfw_oil_palm_v20191031_111.37747430417906_-2.13665178475199', 'rubber_510', 'rubber_600', 'rubber_1266', 'gfw_oil_palm_v20191031_101.90373487368973_-0.694125500091701', 'RSPO_Palm_Oil_Mills_11258111.1318_443780.23600000143', 'gfw_oil_palm_v20191031_114.14516193274255_4.4206723357598605', 'GHAKokao_-2.3025039877857143_5.237160392887323', 'GHAKokao_-1.757937929377551_7.956019145', 'rubber_101', 'gfw_oil_palm_v20191031_114.23798745136585_-1.0030514371740082', 'rubber_615', 'gfw_oil_palm_v20191031_115.60105866026385_-2.277703115506256', 'gfw_oil_palm_v20191031_114.06203607503326_4.354730481576524', 'gfw_oil_palm_v20191031_112.48435647745319_-1.8347607048925454', 'gfw_oil_palm_v20191031_112.50760773016819_-1.7130121585841493', 'CIVKokao_-3.907105681619404_5.8644235453', 'gfw_oil_palm_v20191031_116.75365390939496_0.9308431130193355', 'rubber_721', 'gfw_oil_palm_v20191031_104.39914540712468_-0.5001939480421242', 'gfw_oil_palm_v20191031_117.02433777069749_2.301299908863797', 'gfw_oil_palm_v20191031_96.67170865189883_3.972995578233423', 'gfw_oil_palm_v20191031_111.31742562749884_-2.230280224103012', 'gfw_oil_palm_v20191031_96.27111572625385_4.329851589279485', 'gfw_oil_palm_v20191031_117.28176431348932_3.8653470656645936', 'rubber_395', 'rubber_272', 'gfw_oil_palm_v20191031_100.73341924094882_0.8716740001051733', 'gfw_oil_palm_v20191031_115.00810849053283_4.554882837572961', 'gfw_oil_palm_v20191031_115.44483501168462_-2.0547164767839092', 'gfw_oil_palm_v20191031_113.18667882923788_-1.6397449041039636', 'gfw_oil_palm_v20191031_112.2744742586808_-3.239217202112087', 'gfw_oil_palm_v20191031_101.10459209364265_0.8537844998049593', 'rubber_975', 'gfw_oil_palm_v20191031_112.84911069036087_-1.6380081607979378', 'rubber_1073', 'rubber_1355', 'GHAKokao_-1.9394599488469388_5.690303518239436', 'rubber_1179', 'gfw_oil_palm_v20191031_114.70740856711441_-2.4064441115064312', 'RSPO_Palm_Oil_Mills_13141482.293200001_587637.9420999996', 'rubber_385', 'Sarawak_oil_palm_concessions_12480060.663249683_273286.2097499985', 'rubber_736', 'CIVKokao_-5.547096879500001_6.8661926675', 'Sarawak_oil_palm_concessions_12706581.30635844_492595.970999999', 'rubber_384', 'rubber_1003', 'rubber_1441', 'rubber_635', 'rubber_1254', 'rubber_1087', 'GHAKokao_-3.028592065663265_6.324703893732394', 'rubber_942', 'RSPO_Palm_Oil_Mills_13062424.3041_650323.2371000014', 'rubber_1395', 'gfw_oil_palm_v20191031_10.158862098196531_3.784882079094814', 'gfw_oil_palm_v20191031_115.25477724348644_-1.9508851762098516', 'GHAKokao_-1.6671769196428572_6.324703893732394', 'rubber_260', 'rubber_1195', 'rubber_382', 'rubber_852', 'gfw_oil_palm_v20191031_9.392190999503782_4.414841885244925', 'rubber_234', 'rubber_649', 'Sarawak_oil_palm_concessions_12688665.642698051_475196.9164500013', 'gfw_oil_palm_v20191031_110.44144069056708_0.2193435710990741', 'rubber_483', 'gfw_oil_palm_v20191031_110.4847602711088_-0.9516624442663328', 'gfw_oil_palm_v20191031_116.46484419563767_-1.3807449414757968', 'rubber_333', 'rubber_1494', 'gfw_oil_palm_v20191031_9.056371218958699_5.082179513473818', 'rubber_512', 'rubber_56', 'gfw_oil_palm_v20191031_100.17125034498076_2.303297806748418', 'rubber_8', 'gfw_oil_palm_v20191031_115.59759744640394_-2.323620311577997', 'rubber_94', 'gfw_oil_palm_v20191031_109.19538246462707_-0.3410945327864283', 'gfw_oil_palm_v20191031_114.31344353431402_-1.9213852205514286', 'CIVKokao_-3.998216303723882_5.6822837049', 'gfw_oil_palm_v20191031_110.08922228068977_-1.614358544161405', 'GHAKokao_-2.0302209585816327_6.777847019084507', 'gfw_oil_palm_v20191031_101.66381851657557_0.587688499974405', 'GHAKokao_-0.3965227833571427_6.052818018521126', 'rubber_684', 'rubber_507', 'gfw_oil_palm_v20191031_111.21367711006047_1.687077148541647', 'rubber_1433', 'gfw_oil_palm_v20191031_119.30484262281468_-2.0323065076890714', 'gfw_oil_palm_v20191031_112.1649458787549_-2.176032663676409', 'rubber_271', 'CIVKokao_-6.913756211067165_6.5929829069000006', 'rubber_19', 'rubber_367', 'CIVKokao_-4.544880036350747_7.0483325079', 'rubber_953', 'rubber_827', 'rubber_803', 'gfw_oil_palm_v20191031_114.4909418464074_-0.7993779030676933', 'gfw_oil_palm_v20191031_115.21259651428551_-3.710211376603695', 'GHAKokao_-1.5764159099081634_6.8684756441549295', 'gfw_oil_palm_v20191031_112.1620587582899_-2.0854311710116633', 'RSPO_Palm_Oil_Mills_11090381.0456_22148.059099998325', 'gfw_oil_palm_v20191031_113.17165774999359_-1.4964630770593033', 'gfw_oil_palm_v20191031_113.71527426281388_-1.1739825086357598', 'rubber_1277', 'RSPO_Palm_Oil_Mills_11294840.552499998_363672.40040000156', 'gfw_oil_palm_v20191031_104.47268842354848_-2.751044473773362', 'rubber_1317', 'gfw_oil_palm_v20191031_103.1162587757064_-1.9447953117542056', 'gfw_oil_palm_v20191031_101.18894086037147_0.6091039996499603', 'gfw_oil_palm_v20191031_115.60016137450843_-2.281773481710758', 'rubber_1332', 'gfw_oil_palm_v20191031_130.808167009254_-0.19952669215302876', 'GHAKokao_-1.757937929377551_6.505961143873239', 'gfw_oil_palm_v20191031_111.3302504564164_-1.9763502668512558', 'CIVKokao_-4.271548170037314_6.5019129867', 'gfw_oil_palm_v20191031_114.0013360340949_3.3905333279008403', 'gfw_oil_palm_v20191031_114.5926223999823_2.8453628700505647', 'rubber_457', 'rubber_1438', 'gfw_oil_palm_v20191031_136.6457886383547_-4.383960943492667', 'gfw_oil_palm_v20191031_131.099552156539_-0.31121243540550836', 'rubber_1327', 'rubber_1467', 'gfw_oil_palm_v20191031_111.81353508687289_-2.5604067674082955', 'gfw_oil_palm_v20191031_112.27041233201967_-2.6052651552126918', 'rubber_413', 'rubber_675', 'gfw_oil_palm_v20191031_112.46174490237965_-2.909383545963834', 'gfw_oil_palm_v20191031_113.2680644914705_-1.450991775649868', 'gfw_oil_palm_v20191031_101.75272432031718_0.12960100023602195', 'rubber_766', 'gfw_oil_palm_v20191031_112.20810658982771_1.0545750997111725', 'rubber_516', 'gfw_oil_palm_v20191031_112.05912124067692_-2.528363425581574', 'rubber_470', 'CIVKokao_-4.362658792141792_6.1376333059', 'rubber_1497', 'rubber_812', 'rubber_889', 'gfw_oil_palm_v20191031_115.08959129323296_-0.655494478137598', 'gfw_oil_palm_v20191031_116.01459019503011_-1.999231158291252', 'RSPO_Palm_Oil_Mills_12925769.9443_-271608.88170000166', 'gfw_oil_palm_v20191031_111.4997805122496_-2.341075389867285', 'CIVKokao_-6.275981856335822_6.8661926675', 'gfw_oil_palm_v20191031_113.88394042559585_3.5307951474282504', 'gfw_oil_palm_v20191031_116.40817265628141_-2.2867799967494022', 'gfw_oil_palm_v20191031_119.51387239796043_-1.199941527179618', 'gfw_oil_palm_v20191031_109.15142030890922_0.9491179584272231', 'rubber_1491', 'gfw_oil_palm_v20191031_113.87180109177736_3.041427360834149', 'gfw_oil_palm_v20191031_102.63219385108513_-2.9107218972476687', 'GHAKokao_-2.1209819683163267_8.046647770070422', 'gfw_oil_palm_v20191031_112.95873266423837_-1.9893460819560573', 'CIVKokao_-8.007083676320896_6.8661926675', 'GHAKokao_-0.4872837930918368_6.234075268661972', 'GHAKokao_-2.3932649975204083_6.959104269225352', 'rubber_1347', 'CIVKokao_-5.455986257395523_5.3180040241', 'rubber_863', 'gfw_oil_palm_v20191031_113.7253824737974_3.9248495383755824', 'gfw_oil_palm_v20191031_100.26930965597958_2.3385533803343606', 'rubber_1047', 'gfw_oil_palm_v20191031_112.52484563563385_2.789633478252597', 'gfw_oil_palm_v20191031_112.27761145261992_2.1391178064915835', 'gfw_oil_palm_v20191031_111.80990283462187_0.5012556208503725', 'gfw_oil_palm_v20191031_110.45068720071026_-0.9934602430956545', 'gfw_oil_palm_v20191031_103.17054055181855_-2.719439156641698', 'rubber_276', 'gfw_oil_palm_v20191031_115.74241736614108_-0.7629822103606614', 'GHAKokao_-1.848698939112245_5.871560768380281', 'gfw_oil_palm_v20191031_10.14437821291594_3.644154653564584', 'rubber_1138', 'gfw_oil_palm_v20191031_117.51467069281648_2.275764283494965', 'rubber_1439', 'rubber_685', 'gfw_oil_palm_v20191031_101.43035381482815_-2.706335532159045', 'gfw_oil_palm_v20191031_112.77806751192998_-3.136272901972717', 'gfw_oil_palm_v20191031_112.7705169117638_-2.4383917910981836', 'gfw_oil_palm_v20191031_111.65118516969868_2.772324580714951', 'gfw_oil_palm_v20191031_111.27932488792142_-2.6900148389136405', 'GHAKokao_-2.3025039877857143_6.8684756441549295', 'gfw_oil_palm_v20191031_111.27922644876784_0.040962841811847284', 'gfw_oil_palm_v20191031_122.2752886304983_-0.8513342157514217', 'rubber_1181', 'GHAKokao_-0.1242397541530611_6.143446643591549', 'rubber_1554', 'Sarawak_oil_palm_concessions_12694273.091283597_438372.4282499999', 'gfw_oil_palm_v20191031_100.66808433958224_1.7953634998756627', 'rubber_742', 'gfw_oil_palm_v20191031_115.47314039223774_4.914602585890691', 'CIVKokao_-3.269331326888061_6.5019129867', 'gfw_oil_palm_v20191031_110.76297905527517_1.2504558261755676', 'gfw_oil_palm_v20191031_116.31850473075711_-0.6074739611542839', 'gfw_oil_palm_v20191031_101.89773373161675_0.5644024994759036', 'rubber_1379', 'rubber_1105', 'rubber_1337', 'rubber_152', 'gfw_oil_palm_v20191031_100.76417332145448_0.9456135000630184', 'rubber_135', 'gfw_oil_palm_v20191031_111.05844878225594_0.43308542650134996', 'gfw_oil_palm_v20191031_115.49710776825793_-1.9830040395047206', 'rubber_1097', 'gfw_oil_palm_v20191031_114.34962911185448_-1.2387482343934266', 'GHAKokao_-2.3932649975204083_7.140361519366197', 'gfw_oil_palm_v20191031_101.73707139579645_-1.4431000025629999', 'gfw_oil_palm_v20191031_100.84033576429033_1.0711320003416063', 'gfw_oil_palm_v20191031_112.68480400257826_-3.0757151562293927', 'rubber_129', 'gfw_oil_palm_v20191031_109.28361003573221_0.47957360798568516', 'rubber_830', 'rubber_923', 'gfw_oil_palm_v20191031_109.60193210161738_1.4002203343510473', 'rubber_202', 'rubber_288', 'gfw_oil_palm_v20191031_102.30099223004139_-3.9480293984379387', 'gfw_oil_palm_v20191031_100.04190297921966_-0.10196821591031835', 'rubber_1038', 'gfw_oil_palm_v20191031_101.3669475934683_-0.2935099999365036', 'Sarawak_oil_palm_concessions_12542677.856204882_318610.3499499988', 'gfw_oil_palm_v20191031_109.6971236670867_1.1059412363490821', 'gfw_oil_palm_v20191031_101.88855210767011_0.13854799959057118', 'gfw_oil_palm_v20191031_110.99624694431513_-2.766769767260911', 'rubber_451', 'gfw_oil_palm_v20191031_115.49669723402981_-2.094307288500488', 'GHAKokao_-2.2117429780510207_7.049732894295774', 'CIVKokao_-7.09597745527612_7.3215422685', 'gfw_oil_palm_v20191031_109.4934337987872_1.5499240159806504', 'GHAKokao_-2.3025039877857143_5.327789017957746', 'rubber_943', 'CIVKokao_-5.547096879500001_5.4090739443', 'gfw_oil_palm_v20191031_111.0956823478613_0.22144219305289425', 'gfw_oil_palm_v20191031_111.7593174342363_0.12081166732468773', 'gfw_oil_palm_v20191031_110.81020354704086_1.4264191278905116', 'gfw_oil_palm_v20191031_111.74659490777708_1.0012794433417014', 'gfw_oil_palm_v20191031_103.42364535482471_-1.2754680742421556', 'gfw_oil_palm_v20191031_119.39802341273932_-1.3438035208157828', 'CIVKokao_-4.45376941424627_7.3215422685', 'rubber_1411', 'gfw_oil_palm_v20191031_116.62183423707026_-0.10827307274402642', 'gfw_oil_palm_v20191031_102.86979475047042_-1.792410525825062', 'gfw_oil_palm_v20191031_101.64210011649591_-0.5437629994128486', 'CIVKokao_-6.093760612126866_5.3180040241', 'Cameroon_agro-industrial_zones_1097994.1850672672_435530.2985999994', 'rubber_1178', 'CIVKokao_-3.907105681619404_5.7733536251', 'gfw_oil_palm_v20191031_101.39127912196072_-0.16243250005973664', 'CIVKokao_-5.273765013186567_6.5019129867', 'gfw_oil_palm_v20191031_114.07527727323898_4.394046491052762', 'gfw_oil_palm_v20191031_119.41104311968485_-1.7453005063132423', 'rubber_621', 'Cameroon_agro-industrial_zones_1089087.6488347843_535461.6163500007', 'gfw_oil_palm_v20191031_111.34589098673842_2.431750583072983', 'rubber_463', 'gfw_oil_palm_v20191031_112.10950378195041_-2.587173052943939', 'gfw_oil_palm_v20191031_110.96109924191576_0.061570681491900814', 'gfw_oil_palm_v20191031_110.43755714573902_-1.3515290618666143', 'gfw_oil_palm_v20191031_109.29380416530518_1.2652668351464627', 'gfw_oil_palm_v20191031_103.35653345109799_-3.0843361158190135', 'gfw_oil_palm_v20191031_111.42868759464304_-0.7910254005517459', 'gfw_oil_palm_v20191031_111.56458419187749_0.5699484939778472', 'GHAKokao_-0.3965227833571427_6.324703893732394', 'gfw_oil_palm_v20191031_112.80933974115243_-2.3481265670873483', 'gfw_oil_palm_v20191031_116.24901775461957_0.20164974034338456', 'rubber_164', 'gfw_oil_palm_v20191031_112.29192038368032_-2.886219538500825', 'gfw_oil_palm_v20191031_113.70408136604516_2.7656035365241394', 'gfw_oil_palm_v20191031_96.65343754100488_3.862329439552127', 'gfw_oil_palm_v20191031_109.79633883124592_1.2646138661871191', 'gfw_oil_palm_v20191031_139.3591881944132_-5.97973435285806', 'CIVKokao_-6.731534966858209_5.5001438645', 'GHAKokao_-0.3057617736224491_6.234075268661972', 'gfw_oil_palm_v20191031_101.4897459643278_0.3903624995798225', 'gfw_oil_palm_v20191031_116.9255108285088_1.022276983546078', 'Sarawak_oil_palm_concessions_12670325.425070435_386837.8479999993', 'rubber_853', 'gfw_oil_palm_v20191031_140.24256564973018_-6.685074001913563', 'gfw_oil_palm_v20191031_113.15672225029519_-1.8769603212617767', 'gfw_oil_palm_v20191031_116.52002511068417_-2.364158529392512', 'gfw_oil_palm_v20191031_116.66718857603088_0.7359049088844642', 'gfw_oil_palm_v20191031_114.6484127280626_2.684843393807654', 'rubber_263', 'rubber_1065', 'rubber_1037', 'CIVKokao_-3.178220704783583_6.2287032261', 'gfw_oil_palm_v20191031_114.52281021009281_-2.6823755082230036', 'gfw_oil_palm_v20191031_114.26145182552605_4.207795376805365', 'rubber_1546', 'gfw_oil_palm_v20191031_99.8348278070956_2.3863587178806256', 'rubber_107', 'gfw_oil_palm_v20191031_102.58222631446495_-0.34711649977657544', 'CIVKokao_-7.09597745527612_5.1358641837', 'rubber_1271', 'gfw_oil_palm_v20191031_115.34722233166252_-1.0380098374339752', 'rubber_1127', 'rubber_1049', 'CIVKokao_-3.8159950595149263_6.5929829069000006', 'gfw_oil_palm_v20191031_115.31423253750741_-3.7928147621414894', 'rubber_1017', 'rubber_33', 'rubber_1029', 'gfw_oil_palm_v20191031_112.01524634122728_-2.1961470777253567', 'gfw_oil_palm_v20191031_109.45707315524982_0.3962606636488033', 'gfw_oil_palm_v20191031_112.36464927244499_2.630791377919877', 'gfw_oil_palm_v20191031_100.5254345733036_0.5268749996315307', 'rubber_111', 'rubber_1330', 'rubber_96', 'rubber_988', 'gfw_oil_palm_v20191031_112.48417012175602_-2.294988092876139', 'gfw_oil_palm_v20191031_111.2534504977965_0.4398415235674804', 'rubber_1008', 'gfw_oil_palm_v20191031_110.49679789991819_-1.091851234346933', 'rubber_162', 'gfw_oil_palm_v20191031_118.64552167188346_0.8816598702069314', 'gfw_oil_palm_v20191031_118.83003737554742_0.8627005220116075', 'gfw_oil_palm_v20191031_104.2479934836507_0.9873443074939132', 'rubber_488', 'gfw_oil_palm_v20191031_112.04865057585617_-2.350312951631338', 'rubber_1121', 'GHAKokao_-2.8470700461938776_5.690303518239436', 'rubber_1206', 'gfw_oil_palm_v20191031_112.4840426794402_0.47942589164165383', 'gfw_oil_palm_v20191031_119.47317291706567_-1.2655952866930136', 'CIVKokao_-7.915973054216419_6.7751227473', 'rubber_110', 'gfw_oil_palm_v20191031_101.99926717911761_0.4466870002049461', 'RSPO_Palm_Oil_Mills_11499767.267299999_438052.21290000156', 'rubber_438', 'rubber_257', 'gfw_oil_palm_v20191031_114.96623787778094_4.602799782334159', 'rubber_300', 'CIVKokao_-3.269331326888061_5.5001438645', 'CIVKokao_-3.633773815305971_6.2287032261', 'rubber_1364', 'gfw_oil_palm_v20191031_115.06568842010019_-3.8066688178116124', 'gfw_oil_palm_v20191031_113.75233630764504_3.534282085200118', 'gfw_oil_palm_v20191031_116.58818287842844_-0.2571050491586391', 'gfw_oil_palm_v20191031_97.55845278812437_3.9794100462367794', 'gfw_oil_palm_v20191031_116.63657075675587_-1.1756190058623872', 'rubber_1293', 'rubber_1247', 'RSPO_Palm_Oil_Mills_16250929.4432_-677334.4092000015', 'gfw_oil_palm_v20191031_117.00210121019533_-1.0378469090575493', 'gfw_oil_palm_v20191031_103.22570027010107_0.5880650006993164', 'gfw_oil_palm_v20191031_111.85693297558012_0.35433378062953125', 'gfw_oil_palm_v20191031_111.52402433482277_0.30899043386153835', 'rubber_1419', 'rubber_471', 'rubber_1128', 'GHAKokao_-2.574787016989796_5.962189393450704', 'gfw_oil_palm_v20191031_112.06490714781965_-0.09679967946152601', 'rubber_328', 'gfw_oil_palm_v20191031_113.69480097876567_3.374196812432956', 'gfw_oil_palm_v20191031_111.61156206839073_-2.1849628151317404', 'rubber_1054', 'CIVKokao_-8.098194298425375_6.957262587700001', 'rubber_1422', 'gfw_oil_palm_v20191031_112.03036108418509_2.7539627160066686', 'rubber_969', 'gfw_oil_palm_v20191031_108.92310905414807_0.33672145003495757', 'rubber_886', 'CIVKokao_-5.455986257395523_6.8661926675', 'rubber_688', 'gfw_oil_palm_v20191031_116.01989200549534_-1.9030092059100525', 'rubber_108', 'gfw_oil_palm_v20191031_145.929835507753_-6.035532192056962', 'gfw_oil_palm_v20191031_110.71836221122226_-1.3589954974441696', 'GHAKokao_-2.1209819683163267_6.415332518802816', 'rubber_1294', 'GHAKokao_-1.757937929377551_7.502876019647887', 'rubber_374', 'GHAKokao_-2.1209819683163267_6.687218394014084', 'GHAKokao_-0.3965227833571427_5.962189393450704', 'rubber_1229', 'rubber_238', 'gfw_oil_palm_v20191031_120.40347577601463_-1.5164936783404528', 'rubber_642', 'rubber_772', 'gfw_oil_palm_v20191031_112.85777585793178_-1.9448968672465696', 'rubber_69', 'CIVKokao_-4.81821190266418_6.0465633857', 'gfw_oil_palm_v20191031_100.01996490963268_1.6612998843322657', 'gfw_oil_palm_v20191031_97.86486566701146_4.482854733758984', 'GHAKokao_-1.122610861234694_5.599674893169014', 'Sarawak_oil_palm_concessions_12687466.089060687_402851.65894999914', 'rubber_1161', 'rubber_1338', 'rubber_1094', 'gfw_oil_palm_v20191031_115.18100254356338_-3.6961828290742176', 'rubber_1329', 'gfw_oil_palm_v20191031_102.42341332656449_-0.6547384999317387', 'gfw_oil_palm_v20191031_109.52290576589854_-0.3008597192505533', 'gfw_oil_palm_v20191031_114.47788222063043_3.838575877025164', 'gfw_oil_palm_v20191031_111.44720295600735_-1.88264787220146', 'gfw_oil_palm_v20191031_113.1992013356068_-1.3782118624374107', 'gfw_oil_palm_v20191031_117.49608531749928_1.9761099816904846', 'rubber_919', 'gfw_oil_palm_v20191031_111.53940624808243_2.4888024333357066', 'CIVKokao_-7.46041994369403_6.8661926675', 'rubber_1472', 'gfw_oil_palm_v20191031_110.72737488364045_1.144731459889016', 'gfw_oil_palm_v20191031_114.17462133029143_2.9986742931342008', 'rubber_854', 'CIVKokao_-5.273765013186567_6.4108430665', 'rubber_404', 'gfw_oil_palm_v20191031_97.72996231364684_4.8406833476585405', 'rubber_796', 'gfw_oil_palm_v20191031_117.96828987330298_1.1305115029036017', 'CIVKokao_-6.184871234231344_6.8661926675', 'gfw_oil_palm_v20191031_99.82864398114316_2.3918051241572584', 'gfw_oil_palm_v20191031_112.73079435995325_0.46981507840322934', 'gfw_oil_palm_v20191031_104.07176358482715_-2.453613899511737', 'gfw_oil_palm_v20191031_112.7696481387295_-1.6989908546440802', 'gfw_oil_palm_v20191031_115.14822230766003_-1.5239139625092832', 'gfw_oil_palm_v20191031_110.51145981977041_0.09935026670154912', 'gfw_oil_palm_v20191031_117.14339686762634_1.2482228945210636', 'CIVKokao_-4.271548170037314_6.4108430665', 'RSPO_Palm_Oil_Mills_11085355.638500001_338653.7509999983', 'gfw_oil_palm_v20191031_9.42938868463403_5.145696851178855', 'RSPO_Palm_Oil_Mills_12929758.8556_-389860.75829999894', 'rubber_22', 'Sarawak_oil_palm_concessions_12546346.638557218_328348.531849999', 'rubber_584', 'CIVKokao_-4.362658792141792_7.2304723483', 'gfw_oil_palm_v20191031_112.07800739860107_2.412671324222316', 'rubber_1493', 'rubber_656', 'gfw_oil_palm_v20191031_113.2450056437998_3.3305566242389943', 'rubber_704', 'CIVKokao_-5.820428745813434_6.4108430665', 'gfw_oil_palm_v20191031_111.38229597161498_-2.3721613804432593', 'gfw_oil_palm_v20191031_112.53214035667217_-2.349154472400926', 'gfw_oil_palm_v20191031_99.5906495584806_0.16629472961813008', 'rubber_646', 'gfw_oil_palm_v20191031_9.783440807001085_4.804493132052528', 'gfw_oil_palm_v20191031_110.15936294425774_0.11901965708165108', 'gfw_oil_palm_v20191031_102.72984331780196_-2.186622251815322', 'rubber_952', 'GHAKokao_-0.3057617736224491_6.505961143873239', 'rubber_745', 'gfw_oil_palm_v20191031_99.82893747657019_2.384980491556604', 'rubber_930', 'gfw_oil_palm_v20191031_109.91232015582852_-0.1763005703149645', 'rubber_820', 'gfw_oil_palm_v20191031_102.40054712054447_-0.6821135001378593', 'RSPO_Palm_Oil_Mills_11339992.8512_50836.476100001484', 'rubber_53', 'rubber_187', 'gfw_oil_palm_v20191031_115.56411547218372_-2.3314608062212017', 'rubber_1042', 'gfw_oil_palm_v20191031_114.57111059199853_-0.7160636025531346', 'gfw_oil_palm_v20191031_111.72035342591411_-2.485944049078512', 'gfw_oil_palm_v20191031_102.3824614823947_-0.011014999742343434', 'gfw_oil_palm_v20191031_111.51700226880868_-2.06471818754423', 'gfw_oil_palm_v20191031_116.63969898048227_-1.2852893702082042', 'rubber_537', 'rubber_443', 'gfw_oil_palm_v20191031_114.40591369436495_-1.7924653071281114', 'gfw_oil_palm_v20191031_111.46549059985195_2.6219224122896208', 'gfw_oil_palm_v20191031_114.95981839139172_-1.9856881637276729', 'RSPO_Palm_Oil_Mills_11297342.0128_411610.9288999997', 'gfw_oil_palm_v20191031_116.1952643943727_-2.687276604731437', 'rubber_185', 'gfw_oil_palm_v20191031_112.84245734271465_3.030872787349324', 'CIVKokao_-3.998216303723882_7.6858219493', 'gfw_oil_palm_v20191031_103.18253717482276_-1.9900957514177264', 'GHAKokao_-1.3948938904387755_5.237160392887323', 'gfw_oil_palm_v20191031_112.68623830230119_-3.2109511158512873', 'gfw_oil_palm_v20191031_101.70161125523879_0.40482950033131715', 'gfw_oil_palm_v20191031_111.76943126970215_-2.625907228935432', 'gfw_oil_palm_v20191031_109.49157719791842_-0.1743633074206059', 'gfw_oil_palm_v20191031_111.72721716020462_-2.4154942329724065', 'CIVKokao_-6.458203100544777_7.5947520291', 'CIVKokao_-6.913756211067165_7.5036821089', 'gfw_oil_palm_v20191031_110.26153919863157_-0.7789709768790374', 'Sarawak_oil_palm_concessions_12450269.66995507_314669.412250001', 'rubber_951', 'GHAKokao_0.5110873139897958_8.046647770070422', 'CIVKokao_-7.642641187902986_7.3215422685', 'rubber_303', 'rubber_848', 'gfw_oil_palm_v20191031_113.07091289183234_-1.8835951559916282', 'rubber_1437', 'rubber_651', 'gfw_oil_palm_v20191031_103.04554162138564_-1.3307447657582543', 'gfw_oil_palm_v20191031_110.36514070957305_-0.18750674444063975', 'rubber_896', 'gfw_oil_palm_v20191031_114.98391786523254_-0.8868632700238663', 'GHAKokao_-0.8503278320306125_6.596589768943661', 'gfw_oil_palm_v20191031_116.29298653075136_-2.297712849818083', 'gfw_oil_palm_v20191031_100.99415448194566_-0.8261243643978275', 'rubber_1272', 'GHAKokao_-2.2117429780510207_6.234075268661972', 'Cameroon_agro-industrial_zones_1062266.8778416635_504141.80780000053', 'gfw_oil_palm_v20191031_111.50138803544641_-2.1019373521269813', 'rubber_1319', 'gfw_oil_palm_v20191031_111.37681303327943_-2.311860570109104', 'RSPO_Palm_Oil_Mills_12509373.1551_-285069.97679999843', 'CIVKokao_-6.913756211067165_5.5912137847', 'rubber_895', 'rubber_475', 'rubber_1387', 'gfw_oil_palm_v20191031_111.84880525287429_2.7764829352394145', 'rubber_59', 'gfw_oil_palm_v20191031_110.97669580929474_-2.457754252306785', 'CIVKokao_-8.28041554263433_6.5929829069000006', 'gfw_oil_palm_v20191031_116.06522508440577_-2.0047679387892856', 'gfw_oil_palm_v20191031_114.00979992504716_3.5826814290048503', 'rubber_1030', 'GHAKokao_-2.1209819683163267_6.324703893732394', 'gfw_oil_palm_v20191031_133.4332688019436_-4.1931085590626935', 'rubber_38', 'gfw_oil_palm_v20191031_-10.231151470550234_7.031701338951791', 'gfw_oil_palm_v20191031_112.35414769651845_-2.2860801326419278', 'rubber_39', 'rubber_1523', 'GHAKokao_-1.6671769196428572_6.234075268661972', 'rubber_468', 'rubber_909', 'Sarawak_oil_palm_concessions_12643695.071094334_424871.81085', 'gfw_oil_palm_v20191031_101.51196891748818_1.7508070000930616', 'gfw_oil_palm_v20191031_102.16563616057262_-0.4723025000103007', 'gfw_oil_palm_v20191031_97.44358578904917_4.799941939269189', 'gfw_oil_palm_v20191031_101.47911482791699_-1.3249461440491928', 'rubber_1007', 'rubber_1131', 'gfw_oil_palm_v20191031_131.25918613160627_-0.2540227474018195', 'gfw_oil_palm_v20191031_111.87474091538137_2.5023966352965203', 'rubber_1538', 'gfw_oil_palm_v20191031_97.82173792792159_2.81553189148363', 'rubber_899', 'gfw_oil_palm_v20191031_114.29562709239681_-2.714590598527252', 'CIVKokao_-8.189304920529851_6.8661926675', 'rubber_918', 'rubber_1102', 'rubber_887', 'rubber_815', 'gfw_oil_palm_v20191031_110.54252498391668_-1.415850401125084', 'rubber_313', 'gfw_oil_palm_v20191031_112.5929127149816_-2.7660233803246683', 'gfw_oil_palm_v20191031_104.41259377364685_1.1683492832428612', 'gfw_oil_palm_v20191031_116.45298741883235_-0.13283442476878804', 'rubber_997', 'rubber_1040', 'rubber_181', 'gfw_oil_palm_v20191031_116.00988370323043_-1.8025266478864523', 'rubber_1490', 'rubber_1186', 'gfw_oil_palm_v20191031_105.49327510970667_-4.913867950195652', 'gfw_oil_palm_v20191031_101.09461964020969_0.5906040004243494', 'rubber_1504', 'CIVKokao_-5.364875635291046_6.6840528271', 'gfw_oil_palm_v20191031_117.98537798445454_2.415063265907122', 'gfw_oil_palm_v20191031_100.49193844554759_1.5570125002268185', 'GHAKokao_-1.5764159099081634_5.055903142746478', 'rubber_1374', 'rubber_414', 'gfw_oil_palm_v20191031_115.28094999738046_-0.8970603400625805', 'RSPO_Palm_Oil_Mills_11065590.306400001_356872.3018000014', 'CIVKokao_-5.000433146873135_5.5912137847', 'rubber_1174', 'gfw_oil_palm_v20191031_112.1608718715648_2.1588199623214734', 'rubber_1100', 'rubber_1522', 'Sarawak_oil_palm_concessions_12634151.82077274_395530.55055000074', 'rubber_1216', 'rubber_860', 'gfw_oil_palm_v20191031_101.43719857398366_-2.7551851273916554', 'gfw_oil_palm_v20191031_100.62174869290402_1.7374334998561949', 'rubber_1463', 'rubber_1308', 'CIVKokao_-8.007083676320896_6.5929829069000006', 'RSPO_Palm_Oil_Mills_11549190.0042_-261751.50129999965', 'GHAKokao_-1.2133718709693877_5.690303518239436', 'rubber_109', 'rubber_1014', 'gfw_oil_palm_v20191031_97.77490850361349_2.7484839377336527', 'CIVKokao_-7.09597745527612_4.5894446625', 'rubber_1285', 'rubber_291', 'gfw_oil_palm_v20191031_114.11275476528176_3.873719732329903', 'gfw_oil_palm_v20191031_112.846672114667_3.0330009326969503', 'rubber_1362', 'gfw_oil_palm_v20191031_111.2856146939776_-0.021768152977841737', 'Cameroon_agro-industrial_zones_1016217.7852782267_496735.0019499995', 'GHAKokao_-2.0302209585816327_6.052818018521126', 'rubber_559', 'gfw_oil_palm_v20191031_111.76688946279242_-2.5363089237177974', 'CIVKokao_-7.004866833171643_4.9537243433', 'CIVKokao_-6.458203100544777_4.9537243433', 'gfw_oil_palm_v20191031_101.98360438863475_1.4347455001548042', 'CIVKokao_-3.907105681619404_5.5912137847', 'rubber_669', 'gfw_oil_palm_v20191031_104.39527958455216_-2.694416784706789', 'RSPO_Palm_Oil_Mills_11488789.941_-176556.66600000113', 'CIVKokao_-7.09597745527612_7.0483325079', 'CIVKokao_-7.369309321589553_7.2304723483', 'gfw_oil_palm_v20191031_109.56969360904321_-0.891861051296388', 'rubber_1016', 'Sarawak_oil_palm_concessions_12618088.237290498_396514.6848500017', 'RSPO_Palm_Oil_Mills_11324749.539299998_298276.36019999906', 'CIVKokao_-4.727101280559703_5.8644235453', 'gfw_oil_palm_v20191031_111.90002291692082_2.6263816952591412', 'gfw_oil_palm_v20191031_112.45465395560338_-1.9916814805657737', 'gfw_oil_palm_v20191031_114.01247184367594_4.560585978710094', 'gfw_oil_palm_v20191031_116.29954467698693_0.2370229115282143', 'gfw_oil_palm_v20191031_113.45003301235569_-1.7393621002806015', 'rubber_587', 'rubber_223', 'gfw_oil_palm_v20191031_112.71385799225682_0.5324621070906232', 'rubber_1544', 'gfw_oil_palm_v20191031_116.63904698648338_0.522605206065549', 'gfw_oil_palm_v20191031_101.32707211120143_-0.7896845635416696', 'rubber_756', 'rubber_183', 'rubber_970', 'gfw_oil_palm_v20191031_112.6727922191295_2.8609358759399868', 'gfw_oil_palm_v20191031_136.30417837957106_-2.432079433918659', 'rubber_188', 'rubber_1420', 'gfw_oil_palm_v20191031_-10.473560550429417_6.963824715755152', 'gfw_oil_palm_v20191031_101.90811759571727_-1.5448955303044443', 'CIVKokao_-6.367092478440299_6.1376333059', 'gfw_oil_palm_v20191031_102.07696371971764_-0.4981089993807757', 'gfw_oil_palm_v20191031_112.52896719792376_-2.3977097658429614', 'GHAKokao_-0.6688058125612244_5.599674893169014', 'gfw_oil_palm_v20191031_96.08926612982853_4.420599822523968', 'gfw_oil_palm_v20191031_117.08982024597887_3.2918919019897714', 'gfw_oil_palm_v20191031_116.82406421491405_-0.6279765149540992', 'rubber_1421', 'gfw_oil_palm_v20191031_110.18597494109527_-0.3382291794330001', 'gfw_oil_palm_v20191031_111.30392214055341_1.5490479418591292', 'rubber_85', 'rubber_556', 'rubber_334', 'gfw_oil_palm_v20191031_115.29279071777479_-3.8658454854806905', 'gfw_oil_palm_v20191031_15.324048357199702_0.3674407982542789', 'gfw_oil_palm_v20191031_112.8568818952081_0.7645083533279831', 'rubber_693', 'GHAKokao_0.5110873139897958_6.777847019084507', 'gfw_oil_palm_v20191031_111.48353002253145_0.48121197535252236', 'gfw_oil_palm_v20191031_113.18155967133315_-1.3171371625499262', 'gfw_oil_palm_v20191031_10.060692336734567_3.626859997241155', 'rubber_574', 'rubber_217', 'gfw_oil_palm_v20191031_9.009302764245092_4.243332477761783', 'gfw_oil_palm_v20191031_110.80173984538192_0.22341291567363442', 'CIVKokao_-5.091543768977613_5.7733536251', 'gfw_oil_palm_v20191031_102.6408521096555_-2.1828332776335913', 'rubber_434', 'rubber_840', 'gfw_oil_palm_v20191031_102.2602603354352_-0.19644999991749046', 'gfw_oil_palm_v20191031_117.97973499644033_0.8365586015983411', 'GHAKokao_-2.756309036459184_7.7747618948591555', 'gfw_oil_palm_v20191031_112.32467902676862_-2.839524603327675', 'rubber_1091', 'rubber_1474', 'gfw_oil_palm_v20191031_104.33188369843708_-3.1192461415461423', 'rubber_1290', 'GHAKokao_-1.848698939112245_5.962189393450704', 'gfw_oil_palm_v20191031_101.60504750381662_-0.26858150013603677', 'gfw_oil_palm_v20191031_113.97592110790393_4.028212883467887', 'rubber_1246', 'gfw_oil_palm_v20191031_109.74638444671052_1.2985053058253015', 'rubber_536', 'gfw_oil_palm_v20191031_117.88953963381684_2.469699310524902', 'gfw_oil_palm_v20191031_114.0727277182284_-0.9445431128243058', 'gfw_oil_palm_v20191031_109.16866612282863_0.2803512962254615', 'CIVKokao_-3.8159950595149263_6.8661926675', 'rubber_826', 'gfw_oil_palm_v20191031_111.21286945464209_-2.3095778223086256', 'gfw_oil_palm_v20191031_110.3172914661223_0.6449896400598902', 'gfw_oil_palm_v20191031_109.77056090367242_0.5201212596884375', 'gfw_oil_palm_v20191031_117.17736467714215_3.7961694682964264', 'gfw_oil_palm_v20191031_114.12584359865504_3.6410391384954437', 'GHAKokao_0.4203263042551022_7.684133269788733', 'gfw_oil_palm_v20191031_109.83234131719894_0.29067140521127044', 'gfw_oil_palm_v20191031_117.02913654365511_1.7443747484459209', 'rubber_1295', 'gfw_oil_palm_v20191031_101.49712429100532_-1.4772350001950656', 'Sarawak_oil_palm_concessions_12673107.06470542_323608.5099500008', 'gfw_oil_palm_v20191031_102.36367400030501_-0.09498000022679776', 'CIVKokao_-7.915973054216419_6.6840528271', 'Sarawak_oil_palm_concessions_12705042.732196514_446208.26970000006', 'gfw_oil_palm_v20191031_109.15155695463203_-0.4304250104558207', 'rubber_835', 'gfw_oil_palm_v20191031_111.82384128857117_-0.05099014752721587', 'gfw_oil_palm_v20191031_111.60110010132016_-1.8639125365842233', 'Sarawak_oil_palm_concessions_12718506.712579422_304988.8043499999', 'gfw_oil_palm_v20191031_111.42604532363947_0.42497034365652553', 'gfw_oil_palm_v20191031_111.64010166055127_-2.551794561369803', 'GHAKokao_0.1480432750510205_6.324703893732394', 'gfw_oil_palm_v20191031_113.66883828580893_3.4694981418758175', 'CIVKokao_-4.909322524768657_5.5001438645', 'rubber_72', 'RSPO_Palm_Oil_Mills_11538265.2207_192983.18569999933', 'rubber_540', 'gfw_oil_palm_v20191031_116.02242857651832_-2.981945129863817', 'gfw_oil_palm_v20191031_101.75428945355867_0.6979210004039089', 'gfw_oil_palm_v20191031_111.94652125403952_0.42313271889992166', 'GHAKokao_-1.0318498515_5.780932143309858', 'Sarawak_oil_palm_concessions_12485691.14367638_240375.62139999866', 'Cameroon_agro-industrial_zones_1192841.3553786196_402556.31680000015', 'GHAKokao_-2.574787016989796_7.7747618948591555', 'gfw_oil_palm_v20191031_111.76244318806539_0.012474504295028055', 'gfw_oil_palm_v20191031_105.54544378339159_-4.7900611853253565', 'CIVKokao_-5.273765013186567_6.0465633857', 'gfw_oil_palm_v20191031_112.37469897186223_2.859572381410345', 'gfw_oil_palm_v20191031_100.93405909063681_0.7259454990855545', 'CIVKokao_-5.820428745813434_6.7751227473', 'gfw_oil_palm_v20191031_112.135932850033_2.150146659490815', 'rubber_1237', 'gfw_oil_palm_v20191031_116.2210051619972_-2.396798261580443', 'gfw_oil_palm_v20191031_117.75011229367385_2.0125826595121907', 'rubber_1244', 'gfw_oil_palm_v20191031_112.92103131470361_-1.9688230609354491', 'rubber_1185', 'GHAKokao_-0.941088841765306_6.143446643591549', 'rubber_1114', 'rubber_1444', 'gfw_oil_palm_v20191031_109.68241608581081_1.1026013494228835', 'rubber_833', 'gfw_oil_palm_v20191031_99.6234758854298_2.290440559184475', 'rubber_1078', 'rubber_1233', 'rubber_1343', 'gfw_oil_palm_v20191031_101.35746779845472_-0.7637883419583318', 'rubber_928', 'rubber_607', 'rubber_524', 'gfw_oil_palm_v20191031_115.6070505422677_-2.2886866282852054', 'CIVKokao_-5.000433146873135_6.4108430665', 'gfw_oil_palm_v20191031_110.35969600434214_-2.274972677546998', 'rubber_1533', 'gfw_oil_palm_v20191031_110.63531290092106_-1.1928776510826822', 'rubber_548', 'gfw_oil_palm_v20191031_111.76834526635983_-2.3460075593013414', 'gfw_oil_palm_v20191031_100.46955436746035_1.7236659998861228', 'gfw_oil_palm_v20191031_116.85343718333837_1.2524019995527738', 'gfw_oil_palm_v20191031_111.27947463133472_-2.3420336579768843', 'GHAKokao_-2.1209819683163267_6.052818018521126', 'gfw_oil_palm_v20191031_115.94167915703557_-2.1648289820217883', 'rubber_1412', 'Sarawak_oil_palm_concessions_12721632.607963353_414716.18539999984', 'rubber_849', 'gfw_oil_palm_v20191031_113.84750584113866_3.349071705095213', 'rubber_373', 'rubber_30', 'GHAKokao_-2.3932649975204083_6.8684756441549295', 'RSPO_Palm_Oil_Mills_12517196.4663_-276189.55790000036', 'gfw_oil_palm_v20191031_113.44797953984518_3.7165255982778547', 'rubber_961', 'gfw_oil_palm_v20191031_101.29348700006139_0.21657949984418678', 'gfw_oil_palm_v20191031_109.35984750379316_1.8515904550854998', 'rubber_401', 'rubber_1137', 'gfw_oil_palm_v20191031_111.52392389138896_0.40852992186850656', 'Sarawak_oil_palm_concessions_12677502.257757243_393295.32104999945', 'rubber_415', 'GHAKokao_-0.3057617736224491_5.871560768380281', 'gfw_oil_palm_v20191031_113.18639418623661_3.266418551075361', 'Sarawak_oil_palm_concessions_12375644.888237813_180681.13289999962', 'gfw_oil_palm_v20191031_117.25013683992275_4.0973957998762955', 'rubber_976', 'Sarawak_oil_palm_concessions_12637392.423653677_404169.3942000009', 'gfw_oil_palm_v20191031_115.24099108559466_-3.8691166736455216', 'gfw_oil_palm_v20191031_109.43436484137602_0.0773900440653108', 'rubber_1336', 'gfw_oil_palm_v20191031_114.08686057387263_3.028406049499722', 'gfw_oil_palm_v20191031_101.29947955068155_-0.07593999993099487', 'rubber_1521', 'CIVKokao_-7.278198699485076_6.2287032261', 'Sarawak_oil_palm_concessions_12756392.367595464_316874.6191499997', 'gfw_oil_palm_v20191031_109.65615230898652_0.19519196323858523', 'gfw_oil_palm_v20191031_112.60131598470332_-3.3851507179811904', 'rubber_663', 'gfw_oil_palm_v20191031_110.28351067313281_-0.30312884097315873', 'gfw_oil_palm_v20191031_110.3962227476681_-1.7908197415877396', 'gfw_oil_palm_v20191031_109.1671935302813_0.39086377629237745', 'rubber_267', 'rubber_103', 'gfw_oil_palm_v20191031_115.11364111298839_-3.7851691892566066', 'gfw_oil_palm_v20191031_115.642207954502_-3.7375580130917854', 'CIVKokao_-6.184871234231344_5.7733536251', 'rubber_977', 'rubber_266', 'gfw_oil_palm_v20191031_103.39746489851998_-1.9074962621926659', 'gfw_oil_palm_v20191031_114.13567801774894_4.143192809650543', 'rubber_212', 'rubber_1076', 'rubber_980', 'gfw_oil_palm_v20191031_150.27130971503826_-10.311387975224818', 'CIVKokao_-7.369309321589553_7.3215422685', 'rubber_11', 'rubber_281', 'GHAKokao_-2.3932649975204083_6.777847019084507', 'gfw_oil_palm_v20191031_109.91621880937171_1.3728095289865792', 'gfw_oil_palm_v20191031_111.40464938640453_-2.246594363089315', 'gfw_oil_palm_v20191031_110.98474214179203_-2.584921956333176', 'rubber_1524', 'gfw_oil_palm_v20191031_101.02761399948953_0.5803350003600087', 'gfw_oil_palm_v20191031_110.28535650446022_-1.959633528814237', 'gfw_oil_palm_v20191031_115.65707991216433_-2.344847765262017', 'gfw_oil_palm_v20191031_110.34895825724364_0.6560019545266869', 'rubber_400', 'gfw_oil_palm_v20191031_109.65582407245051_0.5450688174720142', 'gfw_oil_palm_v20191031_100.09611545462516_2.155112964941395', 'rubber_1525', 'CIVKokao_-5.911539367917911_6.2287032261', 'Sarawak_oil_palm_concessions_12382851.288949542_173146.28680000082', 'CIVKokao_-5.182654391082091_5.8644235453', 'gfw_oil_palm_v20191031_101.25485288473016_1.63267399955555', 'RSPO_Palm_Oil_Mills_12942718.336800002_29536.83999999985', 'rubber_870', 'rubber_1531', 'gfw_oil_palm_v20191031_101.06624439390322_0.19006450017664633', 'gfw_oil_palm_v20191031_9.078641047292287_5.115753268048934', 'Cameroon_agro-industrial_zones_1036084.4827342981_485833.6341000013', 'gfw_oil_palm_v20191031_111.13341561561049_-2.202804534901304', 'gfw_oil_palm_v20191031_102.53361911336273_1.0627690004891406', 'rubber_1060', 'CIVKokao_-4.271548170037314_5.7733536251', 'rubber_402', 'GHAKokao_0.2388042847857141_6.415332518802816', 'gfw_oil_palm_v20191031_113.59619358871109_3.367563640549662', 'rubber_1328', 'rubber_866', 'gfw_oil_palm_v20191031_117.17163026584844_3.9107111269670156', 'gfw_oil_palm_v20191031_110.69169403620967_0.13301928016571196', 'gfw_oil_palm_v20191031_116.56593944263246_-0.3434987065999735', 'gfw_oil_palm_v20191031_114.09419267974363_4.502999850213001', 'GHAKokao_-1.9394599488469388_6.777847019084507', 'gfw_oil_palm_v20191031_113.90995197597775_3.8822524320041794', 'Sarawak_oil_palm_concessions_12702579.83891597_491525.2860499993', 'gfw_oil_palm_v20191031_115.53746921459717_-2.5959544569825255', 'rubber_201', 'rubber_1344', 'gfw_oil_palm_v20191031_101.19017838113959_0.5124734996523443', 'gfw_oil_palm_v20191031_103.02689403729605_-2.787419590891318', 'gfw_oil_palm_v20191031_112.6828362735062_-2.533294398917292', 'GHAKokao_0.5110873139897958_7.59350464471831', 'rubber_1483', 'gfw_oil_palm_v20191031_116.76955000950876_1.140161226209699', 'gfw_oil_palm_v20191031_123.3833742378774_-0.7087666693961978', 'GHAKokao_-0.3965227833571427_5.871560768380281', 'gfw_oil_palm_v20191031_116.23623038023982_-1.375802235584672', 'gfw_oil_palm_v20191031_102.76912116015711_-1.5059377347385805', 'rubber_1378', 'rubber_1141', 'gfw_oil_palm_v20191031_96.52867157439921_4.047685142005776', 'gfw_oil_palm_v20191031_100.7482624151271_0.6543025002602292', 'gfw_oil_palm_v20191031_110.11251065212795_0.4448807240162296', 'rubber_602', 'Sarawak_oil_palm_concessions_12520192.400612023_329141.88489999995', 'gfw_oil_palm_v20191031_111.69818610915388_0.8981105298771297', 'rubber_1172', 'rubber_947', 'CIVKokao_-6.093760612126866_5.5001438645', 'rubber_1039', 'gfw_oil_palm_v20191031_110.45748216886074_-1.6810712589813193', 'gfw_oil_palm_v20191031_112.46212218723767_2.92773103925623', 'rubber_1265', 'GHAKokao_-1.757937929377551_6.687218394014084', 'gfw_oil_palm_v20191031_105.79022543363777_-3.930479231681119', 'CIVKokao_-5.638207501604478_5.6822837049', 'gfw_oil_palm_v20191031_112.14076253556638_-2.686302449198621', 'gfw_oil_palm_v20191031_110.89311008964845_-2.1579787731517683', 'rubber_599', 'gfw_oil_palm_v20191031_112.42609061442533_0.5171715166522972', 'CIVKokao_-5.000433146873135_7.0483325079', 'gfw_oil_palm_v20191031_103.22656787993415_0.3483460000179832', 'rubber_1187', 'gfw_oil_palm_v20191031_111.54615395245118_-2.3828689632319993', 'gfw_oil_palm_v20191031_9.848978568596252_3.84927429257462', 'gfw_oil_palm_v20191031_115.63729049313713_-2.495040584105567', 'GHAKokao_-2.574787016989796_5.055903142746478', 'gfw_oil_palm_v20191031_101.64979367673494_1.6335169997598484', 'GHAKokao_-1.848698939112245_5.327789017957746', 'gfw_oil_palm_v20191031_112.46783979937703_-2.6168116179617016', 'CIVKokao_-8.098194298425375_6.7751227473', 'gfw_oil_palm_v20191031_101.86115215314655_0.5818030001584589', 'gfw_oil_palm_v20191031_110.65002004111287_-1.1417264308300616', 'gfw_oil_palm_v20191031_112.4493425026585_1.1300597887283743', 'gfw_oil_palm_v20191031_104.32548229199037_-3.9189407346770793', 'GHAKokao_-2.1209819683163267_6.959104269225352', 'gfw_oil_palm_v20191031_110.38788155620546_-1.5118042228864965', 'gfw_oil_palm_v20191031_117.09623517658127_2.696671962641034', 'rubber_393', 'gfw_oil_palm_v20191031_117.66981370656782_4.007687980615913', 'gfw_oil_palm_v20191031_112.38881148786527_-1.8692713070750813', 'gfw_oil_palm_v20191031_110.97496831272437_-2.53169095537325', 'rubber_1155', 'rubber_1086', 'gfw_oil_palm_v20191031_103.86938170516461_-1.6518890504392232', 'rubber_763', 'gfw_oil_palm_v20191031_101.32428022787836_1.0242220548040848', 'gfw_oil_palm_v20191031_109.30117417606237_0.7751294078459807', 'gfw_oil_palm_v20191031_9.364135272344626_4.3152025090886355', 'gfw_oil_palm_v20191031_112.71142197208422_-1.7074257157241561', 'CIVKokao_-4.45376941424627_7.0483325079', 'rubber_564', 'Sarawak_oil_palm_concessions_12394880.55885579_297785.05019999854', 'RSPO_Palm_Oil_Mills_-392757.4274000004_588794.3311999999', 'gfw_oil_palm_v20191031_112.38502224167155_-2.1642700834974278', 'gfw_oil_palm_v20191031_115.01212385420433_4.557004523539945', 'gfw_oil_palm_v20191031_112.07107236748405_0.9895344673918771', 'Sarawak_oil_palm_concessions_12719964.086547676_401661.81990000047', 'gfw_oil_palm_v20191031_109.17918459016282_-0.06192715951075911', 'RSPO_Palm_Oil_Mills_11206162.1103_492148.7672000006', 'gfw_oil_palm_v20191031_117.76794433341212_1.9954516294392022', 'rubber_432', 'gfw_oil_palm_v20191031_115.52922377233011_-2.169783830109651', 'rubber_1053', 'rubber_1139', 'rubber_1325', 'rubber_452', 'gfw_oil_palm_v20191031_112.29085927235629_-2.671562391790843', 'gfw_oil_palm_v20191031_117.05388743245678_4.076339792947209', 'gfw_oil_palm_v20191031_111.72223963619999_0.6316878805413069', 'rubber_1238', 'gfw_oil_palm_v20191031_111.17230953887801_1.6228691908605697', 'gfw_oil_palm_v20191031_117.93009161847723_2.241644963294533', 'gfw_oil_palm_v20191031_111.65728646440269_-1.9419973005348652', 'gfw_oil_palm_v20191031_112.622152840723_2.5646784142275294', 'Cameroon_agro-industrial_zones_1037192.155130818_504013.9284500014', 'gfw_oil_palm_v20191031_112.68339958208585_-1.9431079587652107', 'GHAKokao_0.4203263042551022_7.502876019647887', 'gfw_oil_palm_v20191031_110.89816658092_1.3414420447647046', 'rubber_1252', 'gfw_oil_palm_v20191031_117.00519455381848_1.1225403160828478', 'rubber_1066', 'gfw_oil_palm_v20191031_108.98529575173471_1.0028616790733054', 'rubber_933', 'gfw_oil_palm_v20191031_115.92682262108849_-2.7613823187389244', 'gfw_oil_palm_v20191031_112.77544639415899_-1.637114143402954', 'rubber_1223', 'rubber_430', 'gfw_oil_palm_v20191031_111.59020952625374_-2.2383310787162145', 'gfw_oil_palm_v20191031_117.3227679468927_0.6088907105879002', 'RSPO_Palm_Oil_Mills_11591502.876600001_-290953.97399999946', 'gfw_oil_palm_v20191031_105.46187002610444_-3.67280666794332', 'rubber_950', 'gfw_oil_palm_v20191031_114.77961481521359_-1.0487107031862593', 'gfw_oil_palm_v20191031_101.0335208516384_0.6822289993688742', 'gfw_oil_palm_v20191031_111.30106699911514_-0.20005551285157708', 'GHAKokao_-1.848698939112245_6.143446643591549', 'gfw_oil_palm_v20191031_114.10378341646236_4.268083223861794', 'gfw_oil_palm_v20191031_112.10107674523246_-2.161936726798416', 'gfw_oil_palm_v20191031_102.39358820070727_0.7737150004469413', 'gfw_oil_palm_v20191031_101.94009495302092_-0.648886000288627', 'gfw_oil_palm_v20191031_111.78126666482461_2.4178281218204916', 'rubber_631', 'rubber_193', 'gfw_oil_palm_v20191031_103.10146279606863_-1.0080137024203566', 'gfw_oil_palm_v20191031_113.96436056077812_3.793080027271543', 'gfw_oil_palm_v20191031_111.73702421969529_2.3471767829323085', 'RSPO_Palm_Oil_Mills_12494283.241500001_-246139.0401000008', 'gfw_oil_palm_v20191031_114.23582501444632_-3.2459913481221463', 'gfw_oil_palm_v20191031_9.980408415869235_2.936733105898213', 'rubber_737', 'CIVKokao_-6.002649990022389_6.3197731463', 'rubber_1500', 'gfw_oil_palm_v20191031_116.88403789802923_1.189810015669707', 'CIVKokao_-6.367092478440299_5.7733536251', 'gfw_oil_palm_v20191031_111.68197873482238_0.22374286479140437', 'rubber_1539', 'gfw_oil_palm_v20191031_116.06419993888841_-2.868631531419993', 'gfw_oil_palm_v20191031_117.01282932365808_4.154348889739595', 'rubber_427', 'Sarawak_oil_palm_concessions_12734160.788830731_411541.1958499998', 'rubber_740', 'gfw_oil_palm_v20191031_112.18657230222693_-2.227186571103317', 'gfw_oil_palm_v20191031_111.54836433709627_-2.048267349358582', 'gfw_oil_palm_v20191031_100.31949280675255_0.9833059994223845', 'gfw_oil_palm_v20191031_110.44591719312908_-1.9246247413385902', 'gfw_oil_palm_v20191031_102.89413677844159_-1.3398973343944078', 'rubber_327', 'gfw_oil_palm_v20191031_115.15354013507782_-3.013174697654108', 'gfw_oil_palm_v20191031_115.54953288591244_-2.3283207212242587', 'Cameroon_agro-industrial_zones_1108915.0326732006_421082.36099999957', 'gfw_oil_palm_v20191031_110.3651423415777_-1.8615996772332153', 'CIVKokao_-3.3604419489925386_6.3197731463', 'rubber_539', 'rubber_1543', 'gfw_oil_palm_v20191031_111.69488747408467_2.390002421874442', 'RSPO_Palm_Oil_Mills_11585606.9511_199696.48180000111', 'GHAKokao_-2.3025039877857143_5.599674893169014', 'RSPO_Palm_Oil_Mills_11525833.3939_192707.54410000145', 'rubber_1258', 'gfw_oil_palm_v20191031_112.5477452119325_-2.1184841475252654', 'rubber_1451', 'gfw_oil_palm_v20191031_111.20286256068982_-1.8414233862302183', 'rubber_795', 'rubber_1033', 'gfw_oil_palm_v20191031_102.95437048194708_-1.26063465281689', 'rubber_383', 'gfw_oil_palm_v20191031_102.93847500494562_-1.1661557138150727', 'gfw_oil_palm_v20191031_117.96439825761712_2.322831819932645', 'gfw_oil_palm_v20191031_114.18791510574289_3.5940348315922392', 'gfw_oil_palm_v20191031_111.79302313423352_-2.507723041235323', 'Sarawak_oil_palm_concessions_12695730.235378925_502442.9593000002', 'rubber_735', 'gfw_oil_palm_v20191031_110.30173971691701_-1.7448039056256732', 'rubber_308', 'rubber_789', 'gfw_oil_palm_v20191031_108.9538917536515_0.35510469972226133', 'gfw_oil_palm_v20191031_-10.903458943237183_6.759422588939373', 'gfw_oil_palm_v20191031_109.96576273257745_1.380351007143389', 'rubber_1320', 'GHAKokao_-0.6688058125612244_6.324703893732394', 'rubber_1507', 'gfw_oil_palm_v20191031_111.38299547550915_-2.061929315685319', 'rubber_1190', 'gfw_oil_palm_v20191031_110.84405603820109_-2.32682550973945', 'rubber_1156', 'gfw_oil_palm_v20191031_116.15541440271892_-1.9860049863410154', 'rubber_680', 'rubber_155', 'GHAKokao_-0.8503278320306125_6.777847019084507', 'rubber_759', 'gfw_oil_palm_v20191031_100.17812726765888_1.878325157330238', 'gfw_oil_palm_v20191031_115.57263736122835_-3.753142345043102', 'gfw_oil_palm_v20191031_117.14169629285578_1.550373578977542', 'rubber_1341', 'rubber_1459', 'gfw_oil_palm_v20191031_12.00963882975358_-4.721077965175823', 'gfw_oil_palm_v20191031_98.8193503187644_1.5088403530498908', 'gfw_oil_palm_v20191031_109.5476481364924_0.057342764407195546', 'CIVKokao_-5.364875635291046_6.957262587700001', 'rubber_517', 'gfw_oil_palm_v20191031_112.84495224435548_-1.716157822525389', 'gfw_oil_palm_v20191031_112.44150287185028_2.8485612841760144', 'rubber_733', 'rubber_1162', 'Sarawak_oil_palm_concessions_12692613.648460051_484318.86154999956', 'rubber_799', 'gfw_oil_palm_v20191031_112.47260289463777_-2.184527066171057', 'gfw_oil_palm_v20191031_111.23704573798604_1.5552085483359406', 'rubber_1461', 'rubber_349', 'Sarawak_oil_palm_concessions_12326114.988902915_127439.40220000036', 'rubber_699', 'rubber_294', 'gfw_oil_palm_v20191031_101.97016149390898_-3.1563609636375247', 'gfw_oil_palm_v20191031_112.10337587576745_-2.026980360105483', 'gfw_oil_palm_v20191031_116.12411086951171_-2.017895656559233', 'RSPO_Palm_Oil_Mills_13145601.7823_529839.7895999998', 'gfw_oil_palm_v20191031_111.68649311478555_0.5333960615790261', 'CIVKokao_-6.913756211067165_7.6858219493', 'GHAKokao_-1.0318498515_6.415332518802816', 'rubber_1218', 'CIVKokao_-4.271548170037314_5.9554934655', 'rubber_1404', 'gfw_oil_palm_v20191031_112.52442247645263_0.9466974987906553', 'rubber_1545', 'gfw_oil_palm_v20191031_112.91080304181045_-1.3202951858740164', 'RSPO_Palm_Oil_Mills_11531456.141399998_28553.544799998403', 'CIVKokao_-4.45376941424627_5.5912137847', 'gfw_oil_palm_v20191031_131.21041679195542_-0.36678978781836236', 'gfw_oil_palm_v20191031_101.42446182497989_-2.7781513941714024', 'gfw_oil_palm_v20191031_110.61164840056134_0.02814412480168471', 'rubber_179', 'CIVKokao_-6.913756211067165_6.2287032261', 'gfw_oil_palm_v20191031_114.78553197696846_-3.711865564394202', 'gfw_oil_palm_v20191031_113.81462570172744_3.395089980018696', 'gfw_oil_palm_v20191031_115.6276264585_-2.3469707251187515', 'gfw_oil_palm_v20191031_113.49941975239402_-1.2947200249591049', 'rubber_1340', 'gfw_oil_palm_v20191031_112.8529459177664_0.8916831521058839', 'Cameroon_agro-industrial_zones_1088148.3893031846_526777.7933499999', 'rubber_1249', 'rubber_839', 'gfw_oil_palm_v20191031_102.45093788514421_-0.5135059998519296', 'gfw_oil_palm_v20191031_99.10969071470079_0.7031885324249458', 'rubber_903', 'gfw_oil_palm_v20191031_112.53376346532423_2.686885053602367', 'gfw_oil_palm_v20191031_111.19626044834632_0.5161905590970832', 'gfw_oil_palm_v20191031_9.430547248706727_4.6935952066035895', 'rubber_778', 'gfw_oil_palm_v20191031_111.38452316780135_0.34122978247859237', 'Sarawak_oil_palm_concessions_12656324.983353887_431571.8660499994', 'rubber_595', 'gfw_oil_palm_v20191031_115.4706114754772_-3.749511823311906', 'gfw_oil_palm_v20191031_113.01409970097615_-1.1943094441754454', 'rubber_178', 'RSPO_Palm_Oil_Mills_11511106.381900001_-332519.58089999855', 'rubber_767', 'rubber_630', 'gfw_oil_palm_v20191031_114.77493107537308_-0.6972442320356436', 'gfw_oil_palm_v20191031_111.74289410904947_-2.51020761758744', 'CIVKokao_-4.271548170037314_7.1394024281', 'rubber_765', 'rubber_666', 'rubber_941', 'gfw_oil_palm_v20191031_112.25804048867822_-2.2283117466397186', 'rubber_1226', 'gfw_oil_palm_v20191031_9.353670780268335_4.227128646469936', 'gfw_oil_palm_v20191031_102.15520401654203_-0.42124749957238805', 'gfw_oil_palm_v20191031_110.8184405592055_-2.403096314143511', 'rubber_106', 'rubber_499', 'GHAKokao_-2.1209819683163267_7.140361519366197', 'gfw_oil_palm_v20191031_111.0647270145646_-2.6293904781380206', 'rubber_1498', 'GHAKokao_-3.1193530753979597_6.687218394014084', 'RSPO_Palm_Oil_Mills_12190906.682300001_158244.53200000152', 'gfw_oil_palm_v20191031_117.23590524926846_3.6798949239616547', 'gfw_oil_palm_v20191031_115.13363131515058_-3.7283692588841006', 'rubber_1369', 'CIVKokao_-4.180437547932836_7.2304723483', 'rubber_469', 'gfw_oil_palm_v20191031_112.7231631719601_-1.3019202845933648', 'gfw_oil_palm_v20191031_111.78347102137334_2.5961813547858696', 'gfw_oil_palm_v20191031_112.36877684430002_-2.6039602110448072', 'rubber_706', 'rubber_687', 'gfw_oil_palm_v20191031_99.91778972286357_1.458332419205874', 'gfw_oil_palm_v20191031_117.14364315577411_-0.6584019116687898', 'gfw_oil_palm_v20191031_111.40389901316544_2.306397039591758', 'rubber_95', 'CIVKokao_-7.278198699485076_6.5929829069000006', 'rubber_1180', 'rubber_1248', 'GHAKokao_0.5110873139897958_7.7747618948591555', 'gfw_oil_palm_v20191031_111.09723518319069_-2.6290570490934613', 'rubber_82', 'gfw_oil_palm_v20191031_97.59797959266848_4.795315209729239', 'gfw_oil_palm_v20191031_115.182115727703_-3.867258998503928', 'rubber_205', 'rubber_1108', 'rubber_289', 'gfw_oil_palm_v20191031_110.26159337991888_-1.5381172298761498', 'gfw_oil_palm_v20191031_115.47384387831015_-2.1679423333219177', 'rubber_1456', 'gfw_oil_palm_v20191031_97.7345634094623_4.637447357109949', 'rubber_298', 'gfw_oil_palm_v20191031_111.94835933817828_-1.6910072882056966', 'gfw_oil_palm_v20191031_100.76862957278743_1.036133000637534', 'gfw_oil_palm_v20191031_109.5580700130988_0.659453124012515', 'gfw_oil_palm_v20191031_98.23127662555723_4.3752386574881825', 'rubber_115', 'CIVKokao_-4.180437547932836_7.867961789700001', 'rubber_727', 'gfw_oil_palm_v20191031_98.07380027762794_2.242852926371512', 'gfw_oil_palm_v20191031_115.50675487516892_0.2677440345596551', 'gfw_oil_palm_v20191031_102.82089688979791_0.3732159998186262', 'gfw_oil_palm_v20191031_117.13430130160302_2.755005112096285', 'rubber_273', 'rubber_100', 'rubber_715', 'gfw_oil_palm_v20191031_111.18668848957245_0.7184546482635312', 'rubber_459', 'gfw_oil_palm_v20191031_113.58024530076881_3.8138688492181245', 'rubber_428', 'gfw_oil_palm_v20191031_115.20212853776651_-1.0268142995901428', 'rubber_200', 'gfw_oil_palm_v20191031_10.09530863745712_3.6185459834605354', 'rubber_1056', 'rubber_233', 'gfw_oil_palm_v20191031_114.39291267186229_3.694374878997536', 'rubber_219', 'gfw_oil_palm_v20191031_113.16012329882415_-1.4446955761398783', 'rubber_1368', 'rubber_525', 'rubber_1302', 'gfw_oil_palm_v20191031_95.994043238118_4.4980433640101865', 'gfw_oil_palm_v20191031_112.81373593117547_-1.8071481901367576', 'rubber_1011', 'rubber_1146', 'gfw_oil_palm_v20191031_118.16294093237967_0.9705731343927653', 'rubber_32', 'gfw_oil_palm_v20191031_112.70574945590516_2.948303057140464', 'gfw_oil_palm_v20191031_114.182973488505_3.87722936134611', 'rubber_423', 'CIVKokao_-5.638207501604478_5.5912137847', 'gfw_oil_palm_v20191031_111.31408012280502_1.437148557010346', 'CIVKokao_-6.6404243447537326_6.957262587700001', 'rubber_439', 'gfw_oil_palm_v20191031_112.28686708103012_2.790382815864291', 'gfw_oil_palm_v20191031_101.71375653714679_0.4758829998506826', 'gfw_oil_palm_v20191031_111.19248140168824_-0.08101399964627376', 'rubber_901', 'gfw_oil_palm_v20191031_110.66549386224749_-1.8018621208400702', 'gfw_oil_palm_v20191031_109.25277589742367_0.3848004836554537', 'gfw_oil_palm_v20191031_112.33965144745588_-2.052659379226924', 'CIVKokao_-3.7248844374104486_6.1376333059', 'gfw_oil_palm_v20191031_8.836355452271587_4.922658279755922', 'rubber_1095', 'gfw_oil_palm_v20191031_98.9028474024085_1.3534438149302161', 'rubber_1222', 'gfw_oil_palm_v20191031_110.76129672853246_0.08215612175763454', 'gfw_oil_palm_v20191031_101.60319365370655_-1.3976286701269203', 'rubber_1020', 'gfw_oil_palm_v20191031_104.24442241763832_0.9781918508233787', 'gfw_oil_palm_v20191031_97.91065446471441_2.5645665988195674', 'CIVKokao_-4.635990658455224_7.0483325079', 'gfw_oil_palm_v20191031_111.5754198124259_0.9576432112653208', 'CIVKokao_-4.362658792141792_6.0465633857', 'gfw_oil_palm_v20191031_136.72053523076232_-2.3365319960047657', 'rubber_58', 'rubber_285', 'gfw_oil_palm_v20191031_115.60306151011076_-3.748597996999905', 'rubber_924', 'Sarawak_oil_palm_concessions_12514607.365557175_289148.7806000002', 'gfw_oil_palm_v20191031_100.76201343352545_-0.8473020783781635', 'gfw_oil_palm_v20191031_101.81543519003569_-3.012161851488173', 'rubber_1351', 'gfw_oil_palm_v20191031_96.72674536975299_3.813483476681199', 'gfw_oil_palm_v20191031_111.23514366150081_-2.722524642897895', 'gfw_oil_palm_v20191031_101.97162638783601_0.18746800004822717', 'GHAKokao_-1.2133718709693877_6.324703893732394', 'gfw_oil_palm_v20191031_111.84267536012507_2.8255774095699167', 'gfw_oil_palm_v20191031_117.40737543241221_0.7667340045208277', 'rubber_1142', 'CIVKokao_-7.733751810007464_7.0483325079', 'gfw_oil_palm_v20191031_9.461462005233503_4.250083108748498', 'rubber_1287', 'gfw_oil_palm_v20191031_116.11783895275637_0.3037777029287554', 'rubber_920', 'gfw_oil_palm_v20191031_100.54463717061657_1.0096984997360607', 'Sarawak_oil_palm_concessions_12335335.433585893_158804.65629999898', 'rubber_1208', 'gfw_oil_palm_v20191031_110.27978362925859_-0.23786025479682849', 'gfw_oil_palm_v20191031_116.65846005758152_-0.36621082137224903', 'rubber_1478', 'CIVKokao_-5.911539367917911_7.5947520291', 'RSPO_Palm_Oil_Mills_12851071.449099999_-402368.09849999845', 'gfw_oil_palm_v20191031_110.4877610780561_0.27739460322845844', 'rubber_613', 'gfw_oil_palm_v20191031_111.33059574022198_-2.296665451699198', 'gfw_oil_palm_v20191031_102.83765547796801_-1.3247995379182385', 'gfw_oil_palm_v20191031_103.00335323505794_-1.1767904641084783', 'gfw_oil_palm_v20191031_114.6522432996026_2.503944249377696', 'gfw_oil_palm_v20191031_101.09425622024996_1.3458850000927782', 'gfw_oil_palm_v20191031_-10.95557388452533_6.738239635778029', 'Sarawak_oil_palm_concessions_12694018.709687939_473539.88939999975', 'gfw_oil_palm_v20191031_115.0700502738875_-3.73833987468538', 'Cameroon_agro-industrial_zones_997911.7766488509_557095.263150001', 'rubber_798', 'gfw_oil_palm_v20191031_104.54769583293785_-4.578985706924755', 'gfw_oil_palm_v20191031_116.06071335365183_-1.855828339606063', 'CIVKokao_-3.7248844374104486_7.412612188700001', 'rubber_364', 'gfw_oil_palm_v20191031_9.491901952738313_5.126565312489333', 'gfw_oil_palm_v20191031_102.85009702996467_-1.530614721142399', 'gfw_oil_palm_v20191031_109.22038444896117_-0.373470789245431', 'GHAKokao_-2.2117429780510207_6.596589768943661', 'rubber_705', 'rubber_1163', 'gfw_oil_palm_v20191031_101.90587278587313_1.5076345002321148', 'rubber_1010', 'gfw_oil_palm_v20191031_100.10985827134_2.227981403818859', 'rubber_841', 'Sarawak_oil_palm_concessions_12516930.843983933_317231.10504999943', 'gfw_oil_palm_v20191031_97.84571210642977_4.187973813940431', 'gfw_oil_palm_v20191031_115.09259493346264_-3.9440856329455016', 'gfw_oil_palm_v20191031_112.07087207696135_-2.1310868082595107', 'rubber_1143', 'CIVKokao_-6.367092478440299_4.9537243433', 'gfw_oil_palm_v20191031_111.26913177785995_-2.6197435854480204', 'gfw_oil_palm_v20191031_109.30636538367752_1.7745577099703667', 'gfw_oil_palm_v20191031_103.00634262099888_-1.5940286745835408', 'gfw_oil_palm_v20191031_114.07704444850359_3.653045964200061', 'rubber_898', 'rubber_726', 'gfw_oil_palm_v20191031_112.39737567248883_-3.117685033587378', 'gfw_oil_palm_v20191031_101.82471621997962_-0.4066464998360573', 'gfw_oil_palm_v20191031_101.76835640060295_0.36590744787054064', 'rubber_1064', 'gfw_oil_palm_v20191031_117.37509018638298_4.223158930140585', 'rubber_1110', 'rubber_657', 'rubber_1526', 'gfw_oil_palm_v20191031_103.48060670145944_0.09970099960159473', 'gfw_oil_palm_v20191031_99.97588085540934_-0.11005892218148006', 'rubber_36', 'rubber_61', 'rubber_399', 'GHAKokao_0.2388042847857141_6.596589768943661', 'rubber_1481', 'rubber_352', 'rubber_762', 'GHAKokao_-2.4840260072551024_6.959104269225352', 'gfw_oil_palm_v20191031_9.290399125380922_4.181196979407133', 'Sarawak_oil_palm_concessions_12482914.944510553_239409.43064999953', 'GHAKokao_-2.3025039877857143_6.052818018521126', 'rubber_1215', 'gfw_oil_palm_v20191031_9.330004235500656_4.053269221447465', 'GHAKokao_-0.6688058125612244_6.234075268661972', 'rubber_478', 'gfw_oil_palm_v20191031_111.1267678740713_-0.35566963924239303', 'gfw_oil_palm_v20191031_116.4578819552087_0.13363538276675513', 'gfw_oil_palm_v20191031_114.22682934068678_4.5121915879215635', 'RSPO_Palm_Oil_Mills_11001055.169300001_385306.8542000018', 'gfw_oil_palm_v20191031_115.66268104983138_-3.711612885026568', 'rubber_523', 'gfw_oil_palm_v20191031_113.82631609279024_-2.8686761877057734', 'rubber_1072', 'gfw_oil_palm_v20191031_110.55235516044237_1.4609938692717321', 'gfw_oil_palm_v20191031_108.94417584488835_0.7375440901377885', 'gfw_oil_palm_v20191031_101.15634095590087_0.74578100054282', 'gfw_oil_palm_v20191031_108.9708162642799_0.9439488945259598', 'RSPO_Palm_Oil_Mills_11250689.906599998_443780.23600000143', 'gfw_oil_palm_v20191031_111.88501709681412_-2.157158987597086', 'CIVKokao_-8.371526164738807_6.5929829069000006', 'rubber_173', 'RSPO_Palm_Oil_Mills_11708958.854400001_-540718.6158999987', 'gfw_oil_palm_v20191031_111.29006675582944_1.6712851739216887', 'rubber_1300', 'Sarawak_oil_palm_concessions_12523774.330444591_318617.0139499996', 'GHAKokao_-1.9394599488469388_6.8684756441549295', 'Sarawak_oil_palm_concessions_12763029.354285996_278826.56675000116', 'gfw_oil_palm_v20191031_101.66376008383602_0.5314709997868476', 'gfw_oil_palm_v20191031_113.09321391822905_-1.3134400118469785', 'Sarawak_oil_palm_concessions_12527201.246091869_299212.3643999994', 'rubber_6', 'rubber_1370', 'rubber_591', 'rubber_1232', 'gfw_oil_palm_v20191031_112.55506487502271_2.688374611948916', 'rubber_623', 'gfw_oil_palm_v20191031_117.42684588286585_2.256060528220928', 'rubber_446', 'RSPO_Palm_Oil_Mills_11421087.541700002_372721.5918000005', 'rubber_1457', 'gfw_oil_palm_v20191031_112.14422902836193_-1.7798572927298153', 'CIVKokao_-6.6404243447537326_6.7751227473', 'gfw_oil_palm_v20191031_112.60782062356374_-1.3240801702136196', 'gfw_oil_palm_v20191031_114.22381422717068_3.6579112168792847', 'CIVKokao_-7.004866833171643_6.5929829069000006', 'GHAKokao_-3.1193530753979597_6.959104269225352', 'rubber_1134', 'rubber_1529', 'gfw_oil_palm_v20191031_100.57961304908676_0.4966766700423193', 'gfw_oil_palm_v20191031_108.94454765314379_0.3952854720969299', 'gfw_oil_palm_v20191031_100.83641025595122_0.7227735002968814', 'gfw_oil_palm_v20191031_112.08163778416251_-0.1364808006483429', 'gfw_oil_palm_v20191031_97.65341995096117_4.81158147600442', 'RSPO_Palm_Oil_Mills_16497404.3768_-977108.9992000014', 'gfw_oil_palm_v20191031_139.8960778932967_-2.4392072126926223', 'gfw_oil_palm_v20191031_118.41543193122266_1.3508682514686825', 'gfw_oil_palm_v20191031_111.7610558330378_0.3941118563772079', 'CIVKokao_-7.915973054216419_6.3197731463', 'gfw_oil_palm_v20191031_101.91776163146734_0.5698175000776757', 'rubber_627', 'CIVKokao_-7.369309321589553_4.4073048221', 'CIVKokao_-4.45376941424627_6.2287032261', 'gfw_oil_palm_v20191031_103.09175135481175_-1.0811022054023738', 'gfw_oil_palm_v20191031_110.26508170988241_0.3999194946889588', 'gfw_oil_palm_v20191031_112.53686686239335_-0.25296668386530996', 'Sarawak_oil_palm_concessions_12396205.38676719_157168.5384999998', 'gfw_oil_palm_v20191031_113.91168512818358_-1.1679227876564084', 'CIVKokao_-4.727101280559703_7.412612188700001', 'gfw_oil_palm_v20191031_110.79399787025955_0.05476978604687588', 'rubber_339', 'gfw_oil_palm_v20191031_101.27393870859308_0.7894414531606344', 'gfw_oil_palm_v20191031_111.55950959193737_2.393197927142751', 'rubber_1171', 'rubber_934', 'CIVKokao_-7.09597745527612_4.6805145827', 'gfw_oil_palm_v20191031_112.20278614862696_-2.814685647674395', 'rubber_1241', 'GHAKokao_-2.66554802672449_6.505961143873239', 'gfw_oil_palm_v20191031_103.47212748742388_-1.2652744886266305', 'rubber_51', 'gfw_oil_palm_v20191031_101.16802024959983_1.5011539999572108', 'gfw_oil_palm_v20191031_112.37156618760082_0.5040938632412519', 'rubber_1120', 'rubber_377', 'gfw_oil_palm_v20191031_14.567759306245321_1.5938789430588258', 'Cameroon_agro-industrial_zones_1010629.6992117906_570241.2251000013', 'rubber_690', 'CIVKokao_-6.093760612126866_6.3197731463', 'gfw_oil_palm_v20191031_109.69320298196652_1.2272463435940324', 'gfw_oil_palm_v20191031_103.9318230080907_-1.2546965134332595', 'gfw_oil_palm_v20191031_112.80274958943545_-1.502188272720531', 'rubber_606', 'gfw_oil_palm_v20191031_109.327802809401_-0.17669411004501967', 'gfw_oil_palm_v20191031_109.96714472208826_-0.17641983121018256', 'rubber_1536', 'gfw_oil_palm_v20191031_115.00999811908504_-3.9935534922997533', 'rubber_900', 'rubber_147', 'gfw_oil_palm_v20191031_122.1507647898867_-4.175045102449445', 'gfw_oil_palm_v20191031_116.20294994856064_-1.65641142984353', 'gfw_oil_palm_v20191031_117.86059037425593_1.8177834339084313', 'rubber_1224', 'CIVKokao_-5.729318123708956_5.9554934655', 'rubber_1068', 'gfw_oil_palm_v20191031_101.25344076136814_1.073566999767337', 'RSPO_Palm_Oil_Mills_-5420212.1305_-283216.5621000007', 'CIVKokao_-3.178220704783583_6.957262587700001', 'gfw_oil_palm_v20191031_120.78027956477246_-1.4974466957083905', 'gfw_oil_palm_v20191031_102.00207229084529_0.9298115002506222', 'rubber_590', 'gfw_oil_palm_v20191031_110.18704360007837_-0.13736889510838068', 'rubber_337', 'rubber_482', 'Sarawak_oil_palm_concessions_12711340.564287407_400348.76019999944', 'GHAKokao_-1.2133718709693877_6.415332518802816', 'rubber_492', 'gfw_oil_palm_v20191031_111.67424074711607_-2.330418156972314', 'GHAKokao_-0.7595668222959184_6.052818018521126', 'Sarawak_oil_palm_concessions_12459767.407614_276191.01414999925', 'gfw_oil_palm_v20191031_111.4814089479544_-2.0986592490750127', 'gfw_oil_palm_v20191031_114.8193126134717_-3.9479684073160684', 'CIVKokao_-4.635990658455224_6.0465633857', 'gfw_oil_palm_v20191031_101.80680602027576_0.5659950000692504', 'gfw_oil_palm_v20191031_15.384540061786211_-4.112024413096151', 'gfw_oil_palm_v20191031_110.2985855245875_0.3217439949895038', 'rubber_614', 'rubber_1167', 'gfw_oil_palm_v20191031_111.3944097318817_-0.03865113114468954', 'gfw_oil_palm_v20191031_110.20945405157704_0.24468705811133873', 'Sarawak_oil_palm_concessions_12600216.825144725_370237.46745000035', 'CIVKokao_-6.184871234231344_6.1376333059', 'gfw_oil_palm_v20191031_114.33922117092843_-2.7083937768013016', 'gfw_oil_palm_v20191031_112.40350244991606_2.7203778507572736', 'gfw_oil_palm_v20191031_112.92757432854275_3.0819637579711525', 'GHAKokao_-1.3041328807040815_6.143446643591549', 'Sarawak_oil_palm_concessions_12597105.622606456_355238.6221000012', 'gfw_oil_palm_v20191031_110.10475140567496_-1.7637117500970305', 'CIVKokao_-6.458203100544777_6.957262587700001', 'rubber_1193', 'RSPO_Palm_Oil_Mills_11024525.548099998_899742.7003999986', 'gfw_oil_palm_v20191031_112.27687889691285_-2.4263977816322324', 'rubber_914', 'gfw_oil_palm_v20191031_101.42930122047925_-0.8588428196403584', 'gfw_oil_palm_v20191031_109.50362450360566_-0.4958398790071499', 'gfw_oil_palm_v20191031_109.4793586731893_-0.19834905106776546', 'gfw_oil_palm_v20191031_117.06718221915315_-0.08622200239341282', 'rubber_700', 'gfw_oil_palm_v20191031_116.14185356213098_-0.6278684038537108', 'CIVKokao_-6.549313722649254_5.9554934655', 'gfw_oil_palm_v20191031_116.39677992737245_-1.9669485059687304', 'gfw_oil_palm_v20191031_112.07419098575426_-2.162862958358801', 'rubber_783', 'gfw_oil_palm_v20191031_101.55258251009244_0.6214085000523539', 'Sarawak_oil_palm_concessions_12611448.540720308_339496.6568999998', 'gfw_oil_palm_v20191031_110.81112828536536_-2.4167269265063567', 'gfw_oil_palm_v20191031_95.73414584575154_4.632459244898314', 'Sarawak_oil_palm_concessions_12513204.888400238_326331.0709500015', 'CIVKokao_-4.089326925828359_7.1394024281', 'gfw_oil_palm_v20191031_110.36339569090845_-0.020172152222983186', 'CIVKokao_-5.364875635291046_6.5019129867', 'rubber_753', 'rubber_117', 'rubber_1006', 'gfw_oil_palm_v20191031_109.61298547478239_1.4974780085033217', 'gfw_oil_palm_v20191031_118.06448717876165_1.623845882481561', 'CIVKokao_-4.45376941424627_6.5019129867', 'gfw_oil_palm_v20191031_110.46382054625937_-1.2545062901830875', 'gfw_oil_palm_v20191031_111.37673343949004_-2.2392767401293554', 'Sarawak_oil_palm_concessions_12620412.015161794_361982.1356999986', 'GHAKokao_-1.5764159099081634_7.502876019647887', 'gfw_oil_palm_v20191031_111.51827716819388_-2.254262566514143', 'gfw_oil_palm_v20191031_100.4748544998854_1.4190490007109418', 'gfw_oil_palm_v20191031_117.56262397064779_2.6481317373398667', 'rubber_189', 'CIVKokao_-7.915973054216419_6.4108430665', 'rubber_1321', 'gfw_oil_palm_v20191031_101.57582817321733_-0.9413769533336733', 'rubber_2', 'rubber_750', 'Sarawak_oil_palm_concessions_12499716.865949312_310746.85830000043', 'GHAKokao_0.4203263042551022_7.59350464471831', 'rubber_984', 'gfw_oil_palm_v20191031_101.08189082100688_1.286891500492402', 'gfw_oil_palm_v20191031_113.42023643732574_3.556004630509392', 'gfw_oil_palm_v20191031_110.22318484260511_-0.001475297696714506', 'rubber_77', 'gfw_oil_palm_v20191031_102.1175439532094_-0.2225034998865567', 'CIVKokao_-5.000433146873135_6.5019129867', 'gfw_oil_palm_v20191031_122.32175561105794_0.7788813209663488', 'rubber_326', 'rubber_120', 'Sarawak_oil_palm_concessions_12554129.023651741_338243.9172999989', 'gfw_oil_palm_v20191031_114.10921617044795_4.411082784293143', 'gfw_oil_palm_v20191031_14.88931913006515_-0.0055794509808322346', 'rubber_57', 'rubber_1310', 'rubber_408', 'gfw_oil_palm_v20191031_108.98261486105996_1.014064013543475', 'gfw_oil_palm_v20191031_112.2812534951194_-1.957966263981831', 'GHAKokao_-2.1209819683163267_5.599674893169014', 'rubber_761', 'CIVKokao_-6.184871234231344_6.5929829069000006', 'gfw_oil_palm_v20191031_113.84445774015288_2.9057782684024573', 'gfw_oil_palm_v20191031_118.05301786570737_2.329175165951142', 'gfw_oil_palm_v20191031_148.1937731649545_-8.722853530066232', 'gfw_oil_palm_v20191031_102.37990500526263_-1.2947279682211104', 'rubber_17', 'CIVKokao_-5.091543768977613_6.5929829069000006', 'gfw_oil_palm_v20191031_102.54822799062072_-0.5622740000449937', 'GHAKokao_-2.66554802672449_5.418417643028168', 'rubber_151', 'rubber_1400', 'gfw_oil_palm_v20191031_9.705154653296066_4.7153092420779785', 'gfw_oil_palm_v20191031_110.01307412459636_0.7327248081034554', 'rubber_1133', 'CIVKokao_-4.727101280559703_6.957262587700001', 'gfw_oil_palm_v20191031_111.84916145188478_-2.6239963602437513', 'RSPO_Palm_Oil_Mills_13159077.006700002_590836.5051999986', 'GHAKokao_-1.757937929377551_6.959104269225352', 'gfw_oil_palm_v20191031_111.0409810122803_-2.4490535642205487', 'gfw_oil_palm_v20191031_116.26827457202947_-3.6038948782459954', 'rubber_1384', 'gfw_oil_palm_v20191031_116.14807834023391_-1.917958763536035', 'gfw_oil_palm_v20191031_109.27845471731317_1.5975847843603788', 'rubber_722', 'gfw_oil_palm_v20191031_104.67795606433558_-2.7414473855383505', 'rubber_1312', 'rubber_1220', 'GHAKokao_-2.1209819683163267_7.7747618948591555', 'gfw_oil_palm_v20191031_112.45465400632156_-2.4598812577637545', 'rubber_910', 'rubber_1284', 'rubber_1449', 'GHAKokao_-1.2133718709693877_5.780932143309858', 'gfw_oil_palm_v20191031_110.09740283143367_-0.9722027183307489', 'rubber_679', 'gfw_oil_palm_v20191031_114.28400247977352_-3.1161551932574696', 'gfw_oil_palm_v20191031_110.48881325702727_0.19956259373878993', 'gfw_oil_palm_v20191031_116.07106415815389_0.49085411062887374', 'RSPO_Palm_Oil_Mills_11285219.3202_355310.73039999977', 'rubber_572', 'rubber_445', 'rubber_1360', 'CIVKokao_-4.362658792141792_6.5929829069000006', 'rubber_1398', 'rubber_480', 'gfw_oil_palm_v20191031_117.27064850672627_-0.2798334353646226', 'gfw_oil_palm_v20191031_112.60400175594398_-1.4758633951295224', 'RSPO_Palm_Oil_Mills_-5431865.5001_-281234.6950000003', 'gfw_oil_palm_v20191031_117.11287119270986_-0.7129743710702883', 'RSPO_Palm_Oil_Mills_13182144.297600001_605494.7206000015', 'rubber_9', 'gfw_oil_palm_v20191031_109.5506012945967_1.0327304601926812', 'rubber_1126', 'CIVKokao_-6.913756211067165_5.5001438645', 'rubber_1093', 'gfw_oil_palm_v20191031_15.95280410207147_1.578559225378001', 'CIVKokao_-3.998216303723882_6.3197731463', 'rubber_194', 'gfw_oil_palm_v20191031_114.1521467113059_4.563326992246942', 'gfw_oil_palm_v20191031_98.914548251523_1.4633027841962019', 'gfw_oil_palm_v20191031_102.06316394889203_1.354750499735843', 'gfw_oil_palm_v20191031_113.82065598746952_3.2088630440442785', 'gfw_oil_palm_v20191031_112.04368861253516_-2.300038595554696', 'Sarawak_oil_palm_concessions_12713612.440788344_435662.23450000025', 'gfw_oil_palm_v20191031_112.62868397379921_-1.9697176646883463', 'rubber_397', 'CIVKokao_-7.551530565798508_7.1394024281', 'gfw_oil_palm_v20191031_112.60320289985785_-2.9779132906157884', 'gfw_oil_palm_v20191031_111.61931261308715_-2.802852789974196', 'gfw_oil_palm_v20191031_14.516722997761343_0.5836729501466493', 'rubber_186', 'gfw_oil_palm_v20191031_101.3460272091257_1.8112869994455423', 'rubber_359', 'gfw_oil_palm_v20191031_97.09107772815031_4.924924080282153', 'gfw_oil_palm_v20191031_109.17805414334673_1.1678536533734416', 'rubber_813', 'rubber_751', 'gfw_oil_palm_v20191031_115.39415140136842_-1.9790672050874036', 'CIVKokao_-5.547096879500001_6.1376333059', 'gfw_oil_palm_v20191031_115.00405664076852_-0.9877546202793894', 'gfw_oil_palm_v20191031_96.50046340100485_4.148867129764312', 'gfw_oil_palm_v20191031_111.45135127908162_1.3620245608848904', 'rubber_154', 'CIVKokao_-4.180437547932836_7.3215422685', 'CIVKokao_-5.911539367917911_5.7733536251', 'CIVKokao_-3.3604419489925386_5.7733536251', 'rubber_282', 'gfw_oil_palm_v20191031_114.03495609770792_3.833817726856722', 'gfw_oil_palm_v20191031_100.5245577688647_1.5692624999145153', 'rubber_283', 'rubber_622', 'rubber_720', 'CIVKokao_-7.915973054216419_6.8661926675', 'rubber_1194', 'gfw_oil_palm_v20191031_111.76689008718722_-2.289208421231592', 'gfw_oil_palm_v20191031_101.82269948635664_1.5906484995786627', 'gfw_oil_palm_v20191031_101.45625559311968_-1.4046285275344417', 'gfw_oil_palm_v20191031_115.41449426687588_0.2560495946631818', 'gfw_oil_palm_v20191031_116.43633889802567_0.2513823322288715', 'gfw_oil_palm_v20191031_116.35013564338382_-1.4198308576079057', 'gfw_oil_palm_v20191031_114.26500549395428_-0.9232559360625032', 'gfw_oil_palm_v20191031_112.56924882610822_-1.5976782686870479', 'gfw_oil_palm_v20191031_116.182868903523_-2.389755269539961', 'gfw_oil_palm_v20191031_102.208860311967_-0.29585200001974954', 'CIVKokao_-3.907105681619404_6.957262587700001', 'gfw_oil_palm_v20191031_110.21386280238744_0.9172543820840815', 'rubber_1129', 'gfw_oil_palm_v20191031_99.78499282470806_-0.12711504052663258', 'gfw_oil_palm_v20191031_112.64145227224054_-1.638967071473104', 'gfw_oil_palm_v20191031_112.77828738296503_-2.5325054744979525', 'gfw_oil_palm_v20191031_118.28260927469901_1.4975060192375054', 'gfw_oil_palm_v20191031_116.78319842952621_2.649065900021327', 'gfw_oil_palm_v20191031_102.05420871276296_-0.6790895000803232', 'gfw_oil_palm_v20191031_109.67737878914954_0.6313279219461094', 'gfw_oil_palm_v20191031_139.1962331842172_-2.117261341587522', 'gfw_oil_palm_v20191031_111.76957055143257_-2.4181196656399493', 'gfw_oil_palm_v20191031_110.03618067248391_-0.20232222034408665', 'rubber_353', 'rubber_248', 'rubber_254', 'RSPO_Palm_Oil_Mills_11143353.093199998_180491.56980000064', 'gfw_oil_palm_v20191031_102.02536734547678_-0.4659719994581337', 'rubber_552', 'gfw_oil_palm_v20191031_95.58697353624638_4.785648987011257', 'gfw_oil_palm_v20191031_113.96974912018749_-1.3259364149835164', 'gfw_oil_palm_v20191031_115.18470036444825_-1.66510159046598', 'rubber_1242', 'gfw_oil_palm_v20191031_112.50507861414687_2.565330494206961', 'rubber_1031', 'gfw_oil_palm_v20191031_109.3966973363915_0.5949433466582548', 'gfw_oil_palm_v20191031_111.16640652050057_0.05654157818139538', 'CIVKokao_-8.371526164738807_7.3215422685', 'rubber_754', 'GHAKokao_-0.8503278320306125_6.415332518802816', 'Sarawak_oil_palm_concessions_12759317.918573705_303218.0342499986', 'gfw_oil_palm_v20191031_112.52696236589101_-3.025269634435972', 'rubber_253', 'gfw_oil_palm_v20191031_100.45270697918954_1.6457339992747393', 'gfw_oil_palm_v20191031_116.87492847867843_-1.1219205265110475', 'GHAKokao_-2.8470700461938776_7.140361519366197', 'rubber_255', 'gfw_oil_palm_v20191031_111.62514977741012_-0.2412594034486233', 'CIVKokao_-4.089326925828359_6.0465633857', 'rubber_927', 'gfw_oil_palm_v20191031_109.71386289948099_1.2685993912489835', 'GHAKokao_0.4203263042551022_8.137276395140844', 'CIVKokao_-4.544880036350747_7.3215422685', 'rubber_1041', 'gfw_oil_palm_v20191031_117.19016753502821_1.5475755511209286', 'rubber_843', 'rubber_1259', 'gfw_oil_palm_v20191031_111.26382331032076_-2.017942637142909', 'rubber_707', 'rubber_1339', 'Sarawak_oil_palm_concessions_12424436.249014478_286482.55969999917', 'Cameroon_agro-industrial_zones_1055061.7605321635_594785.2219000012', 'gfw_oil_palm_v20191031_102.25034531539055_-0.7236115000706036', 'rubber_465', 'gfw_oil_palm_v20191031_112.68880010427245_-1.836159067936535', 'Cameroon_agro-industrial_zones_1052900.9586422658_511355.97199999914', 'gfw_oil_palm_v20191031_112.94933059224024_0.8412229034643417', 'rubber_1517', 'gfw_oil_palm_v20191031_101.27893688755572_-1.0705435269621262', 'CIVKokao_-5.638207501604478_6.1376333059', 'rubber_511', 'gfw_oil_palm_v20191031_117.5218915975199_3.5984054423073815', 'CIVKokao_-5.911539367917911_6.6840528271', 'rubber_1213', 'gfw_oil_palm_v20191031_110.2403396891338_-1.4108226854684744', 'gfw_oil_palm_v20191031_110.43203584177503_0.3979450547206511', 'rubber_60', 'rubber_764', 'rubber_70', 'gfw_oil_palm_v20191031_101.88001337322214_0.12850200036706383', 'rubber_20', 'CIVKokao_-3.178220704783583_7.0483325079', 'rubber_855', 'GHAKokao_-1.2133718709693877_6.687218394014084', 'rubber_1234', 'rubber_701', 'gfw_oil_palm_v20191031_9.128756820648832_4.026934726956256', 'gfw_oil_palm_v20191031_113.81946984071777_3.4728949941087706', 'gfw_oil_palm_v20191031_111.08814332956561_0.03760078524811661', 'gfw_oil_palm_v20191031_109.69256935877497_1.5264613036463288', 'gfw_oil_palm_v20191031_114.18119632159127_4.112500147014288', 'gfw_oil_palm_v20191031_102.38591712563606_-0.438355000233031', 'gfw_oil_palm_v20191031_114.23557159101748_3.975463633140265', 'rubber_42', 'rubber_650', 'rubber_422', 'gfw_oil_palm_v20191031_15.448791772404444_-3.9732464182875162', 'CIVKokao_-5.182654391082091_5.9554934655', 'Sarawak_oil_palm_concessions_12406707.672631409_151634.1626999993', 'gfw_oil_palm_v20191031_112.64654777127751_-1.6960338356429077', 'gfw_oil_palm_v20191031_111.73885235059984_2.57514232975484', 'gfw_oil_palm_v20191031_116.21185188137581_-2.10371144337833', 'rubber_1443', 'gfw_oil_palm_v20191031_111.21679384634118_-2.4275312543138057', 'rubber_730', 'gfw_oil_palm_v20191031_116.20653592171685_-2.527467449912791', 'rubber_1436', 'rubber_1375', 'rubber_336', 'gfw_oil_palm_v20191031_100.60145777736406_0.39846879784687417', 'GHAKokao_-1.6671769196428572_7.140361519366197', 'gfw_oil_palm_v20191031_111.77795899280815_-1.7700296156241961', 'gfw_oil_palm_v20191031_109.66447248100269_-0.14713844678183818', 'gfw_oil_palm_v20191031_98.02353518449057_4.067610247415104', 'gfw_oil_palm_v20191031_115.90203732879192_-2.6824701173519543', 'rubber_847', 'rubber_686', 'gfw_oil_palm_v20191031_102.4223252184701_-0.4097895004350107', 'gfw_oil_palm_v20191031_112.45541567106773_2.6306456176012034', 'CIVKokao_-6.6404243447537326_4.9537243433', 'gfw_oil_palm_v20191031_9.272679786484995_4.092534463294896', 'rubber_1147', 'rubber_674', 'gfw_oil_palm_v20191031_101.89640407640402_0.1920374998807688', 'gfw_oil_palm_v20191031_116.19753902550107_-2.2046282444478322', 'gfw_oil_palm_v20191031_112.31344191907564_-2.99009454792494', 'rubber_1050', 'gfw_oil_palm_v20191031_112.53052879720678_-2.6011569401406405', 'RSPO_Palm_Oil_Mills_11463835.784699999_-144758.7111000009', 'CIVKokao_-6.184871234231344_5.4090739443', 'gfw_oil_palm_v20191031_95.99335646415096_4.949399682399559', 'gfw_oil_palm_v20191031_114.37403053550247_-0.8031281092747804', 'rubber_1262', 'gfw_oil_palm_v20191031_116.46365076501343_-1.2805727538794258', 'gfw_oil_palm_v20191031_117.2289205417693_-0.022241240890451763', 'CIVKokao_-7.09597745527612_7.412612188700001', 'rubber_143', 'gfw_oil_palm_v20191031_111.49575154190521_-2.097692459439344', 'rubber_1069', 'gfw_oil_palm_v20191031_113.74104792476844_3.6003753717260736', 'CIVKokao_-3.4515525710970154_7.1394024281', 'rubber_738', 'gfw_oil_palm_v20191031_114.9817135458317_-1.1120001077187567', 'gfw_oil_palm_v20191031_101.68916898374668_0.8620149993928408', 'rubber_513', 'gfw_oil_palm_v20191031_9.566521685424323_4.198188198176894', 'rubber_636', 'gfw_oil_palm_v20191031_101.63935190997387_-1.4304337498676034', 'Cameroon_agro-industrial_zones_988803.5869244568_553451.6940000001', 'GHAKokao_-1.5764159099081634_5.871560768380281', 'rubber_1034', 'gfw_oil_palm_v20191031_10.67722123297489_3.599291172000079', 'gfw_oil_palm_v20191031_111.9759654166102_-2.2105190651026874', 'gfw_oil_palm_v20191031_111.73516583624072_2.4231062950695446', 'CIVKokao_-6.367092478440299_7.2304723483', 'gfw_oil_palm_v20191031_101.663880942761_0.3290584995501149', 'gfw_oil_palm_v20191031_111.82985099762865_-2.768817318964011', 'gfw_oil_palm_v20191031_9.458370237985383_4.588675671944799', 'rubber_1165', 'rubber_26', 'Sarawak_oil_palm_concessions_12831776.59137775_541456.5079999994', 'rubber_1410', 'gfw_oil_palm_v20191031_110.33088022824535_0.07177125259133277', 'rubber_464', 'CIVKokao_-5.455986257395523_6.957262587700001', 'gfw_oil_palm_v20191031_114.9694728518754_-3.9611597934895997', 'gfw_oil_palm_v20191031_121.52203424340861_0.9303055108907472', 'gfw_oil_palm_v20191031_114.0323102383729_4.24997853513139', 'Cameroon_agro-industrial_zones_1002910.9962276143_472798.01689999923', 'rubber_752', 'rubber_709', 'rubber_773', 'gfw_oil_palm_v20191031_110.14819503691241_-1.94720494760017', 'gfw_oil_palm_v20191031_109.00861402478964_0.9589575825763745', 'GHAKokao_-0.941088841765306_5.418417643028168', 'rubber_864', 'CIVKokao_-5.820428745813434_6.5929829069000006', 'gfw_oil_palm_v20191031_109.46124408529298_-0.39602546375408565', 'gfw_oil_palm_v20191031_104.57617336389471_1.056129716813075', 'Sarawak_oil_palm_concessions_12669786.176101416_378161.0540500004', 'rubber_644', 'gfw_oil_palm_v20191031_114.59651631095991_-2.532284421139053', 'Cameroon_agro-industrial_zones_1054719.6673399592_492880.15410000086', 'gfw_oil_palm_v20191031_112.77989631749374_-2.043477314626273', 'CIVKokao_-3.178220704783583_5.6822837049', 'rubber_372', 'rubber_769', 'gfw_oil_palm_v20191031_105.29966242752963_-3.579664846805173', 'gfw_oil_palm_v20191031_114.44171575635349_-1.230248888775094', 'gfw_oil_palm_v20191031_118.80901527299659_1.0791208107270052', 'gfw_oil_palm_v20191031_115.14244385140624_-1.0691696169341185', 'rubber_1309', 'gfw_oil_palm_v20191031_111.10303053391357_0.33282072834396104', 'rubber_380', 'Cameroon_agro-industrial_zones_1053245.1325848033_473551.5626500007', 'gfw_oil_palm_v20191031_100.89329404477424_-1.963678661391043', 'gfw_oil_palm_v20191031_103.80053243981487_-1.7586205787266636', 'gfw_oil_palm_v20191031_101.63501588180597_2.051430728795168', 'gfw_oil_palm_v20191031_122.50535490686698_-1.195837414814747', 'gfw_oil_palm_v20191031_110.0468596661514_0.36611109979742196', 'gfw_oil_palm_v20191031_109.50849996036388_0.16007631427049773', 'GHAKokao_-1.3948938904387755_6.143446643591549', 'rubber_986', 'gfw_oil_palm_v20191031_109.31793281652592_0.04092726148400061', 'rubber_626', 'gfw_oil_palm_v20191031_112.66423354269905_-2.2739644287152885', 'rubber_330', 'Sarawak_oil_palm_concessions_12696803.178372309_459247.12475000136', 'gfw_oil_palm_v20191031_111.1481595099099_0.38398180921316794', 'rubber_1299', 'rubber_1189', 'rubber_647', 'RSPO_Palm_Oil_Mills_11509322.153099999_234937.23470000178', 'rubber_163', 'rubber_566', 'rubber_166', 'rubber_749', 'rubber_396', 'rubber_240', 'gfw_oil_palm_v20191031_98.84172402111946_1.4042830410295437', 'rubber_153', 'rubber_781', 'GHAKokao_-2.0302209585816327_6.505961143873239', 'rubber_394', 'Sarawak_oil_palm_concessions_12357097.828297537_173091.98004999943', 'rubber_1209', 'rubber_1168', 'Cameroon_agro-industrial_zones_1027296.3541211155_442622.04560000077', 'rubber_1363', 'gfw_oil_palm_v20191031_116.3037002527712_-1.475690230669528', 'gfw_oil_palm_v20191031_112.49850139759607_-3.1556187234752144', 'rubber_21', 'CIVKokao_-6.275981856335822_6.0465633857', 'gfw_oil_palm_v20191031_122.98780377868235_-5.193667234355303', 'gfw_oil_palm_v20191031_102.30515371667337_-0.7171950000491165', 'CIVKokao_-7.278198699485076_7.7768918695', 'gfw_oil_palm_v20191031_118.01881671586096_1.264064113318284', 'gfw_oil_palm_v20191031_96.61636537478486_3.9414432837806714', 'rubber_890', 'gfw_oil_palm_v20191031_101.08258111245547_0.7729269996314088', 'gfw_oil_palm_v20191031_111.49542462710846_-1.8207041520249163', 'gfw_oil_palm_v20191031_113.99080387922925_3.725267098947569', 'rubber_592', 'rubber_563', 'gfw_oil_palm_v20191031_-10.723744213961009_6.800255970518833', 'rubber_1552', 'rubber_981', 'gfw_oil_palm_v20191031_110.4943614567561_-1.2491382962452917', 'RSPO_Palm_Oil_Mills_13157963.8118_510759.31819999963', 'rubber_322', 'rubber_29', 'rubber_581', 'RSPO_Palm_Oil_Mills_11388540.505600002_-63545.890200000256', 'rubber_335', 'gfw_oil_palm_v20191031_114.04845657127211_-1.161461032850326', 'CIVKokao_-6.6404243447537326_5.4090739443', 'gfw_oil_palm_v20191031_102.01443568277594_1.069460999725493', 'CIVKokao_-7.733751810007464_6.6840528271', 'gfw_oil_palm_v20191031_112.59544129157821_0.7047644153455508', 'gfw_oil_palm_v20191031_109.12481236886012_1.0900863406621681', 'gfw_oil_palm_v20191031_109.67540510102197_0.8840866983925366', 'rubber_1303', 'rubber_1513', 'gfw_oil_palm_v20191031_105.46203025602841_-5.071870264950718', 'gfw_oil_palm_v20191031_110.99366789431406_-2.1213349102778523', 'gfw_oil_palm_v20191031_109.71306795426534_0.20768176670028993', 'rubber_771', 'gfw_oil_palm_v20191031_116.83249783278322_0.9803451295242382', 'gfw_oil_palm_v20191031_110.4422595867204_-1.9952030179548785', 'gfw_oil_palm_v20191031_103.15118771977137_-1.041026312414317', 'RSPO_Palm_Oil_Mills_-8257822.983899999_1180949.3035999984', 'gfw_oil_palm_v20191031_112.09880351527417_-2.1142851040742414', 'gfw_oil_palm_v20191031_102.72404987950614_0.8015200002479617', 'rubber_876', 'GHAKokao_0.2388042847857141_6.959104269225352', 'CIVKokao_-3.8159950595149263_6.4108430665', 'CIVKokao_-7.915973054216419_7.6858219493', 'gfw_oil_palm_v20191031_117.00584286610987_3.5156291535627133', 'gfw_oil_palm_v20191031_109.35723448371891_0.46274581536712844', 'gfw_oil_palm_v20191031_113.27682572247579_-1.5171431062192937', 'gfw_oil_palm_v20191031_117.0808749131995_-0.27526362436668705', 'rubber_1212', 'rubber_1202', 'gfw_oil_palm_v20191031_96.26123591551422_4.459673568580456', 'gfw_oil_palm_v20191031_101.31521240309176_0.947579999917167', 'rubber_0', 'rubber_229', 'gfw_oil_palm_v20191031_100.99933295215826_-2.231437564342059', 'rubber_838', 'gfw_oil_palm_v20191031_115.61539356493151_-2.2857365731842094', 'rubber_50', 'gfw_oil_palm_v20191031_110.66224267951591_-0.18616893859555717', 'rubber_811', 'rubber_456', 'gfw_oil_palm_v20191031_111.04713961244587_-0.06122217556290366', 'rubber_1082', 'RSPO_Palm_Oil_Mills_13247754.113000002_574169.4970000014', 'gfw_oil_palm_v20191031_100.45792157638168_1.6847289997936628', 'CIVKokao_-7.09597745527612_5.0447942635', 'gfw_oil_palm_v20191031_114.62892550868605_3.947499585087911', 'gfw_oil_palm_v20191031_103.50083072563041_0.36442649963333906', 'RSPO_Palm_Oil_Mills_12008602.4258_-333962.5789999999', 'gfw_oil_palm_v20191031_115.17097874395787_-1.9257211309253535', 'rubber_1415', 'gfw_oil_palm_v20191031_111.88801263708957_-2.4171373501085895', 'gfw_oil_palm_v20191031_110.96604177339677_-2.416978329736054', 'gfw_oil_palm_v20191031_116.82939199846035_-0.8242136836645102', 'rubber_450', 'GHAKokao_-0.6688058125612244_6.687218394014084', 'gfw_oil_palm_v20191031_109.94012498688403_0.5882208554582746', 'rubber_1292', 'gfw_oil_palm_v20191031_114.1196495555721_4.562813199219875', 'rubber_569', 'gfw_oil_palm_v20191031_116.11487768849585_-1.5081153036782382', 'gfw_oil_palm_v20191031_111.52472749639992_2.239758954562177', 'gfw_oil_palm_v20191031_112.27862749682272_-2.282201767197762', 'gfw_oil_palm_v20191031_103.00681279828248_-0.26033649942979764', 'GHAKokao_-2.0302209585816327_6.415332518802816', 'gfw_oil_palm_v20191031_111.20453526044318_-2.1124605878357556', 'rubber_324', 'Cameroon_agro-industrial_zones_1035661.6736910944_464550.68200000003', 'gfw_oil_palm_v20191031_104.38784134871622_-2.811591679462339', 'RSPO_Palm_Oil_Mills_11477072.8966_371661.02899999917', 'CIVKokao_-5.364875635291046_6.1376333059', 'rubber_1243', 'rubber_169', 'gfw_oil_palm_v20191031_102.25453783054513_0.9436050000707326', 'rubber_503', 'gfw_oil_palm_v20191031_116.5490345391751_-1.349205214149265', 'gfw_oil_palm_v20191031_99.82881782932022_2.3823649352436576', 'rubber_1479', 'gfw_oil_palm_v20191031_110.44639200914375_-2.129667996880471', 'GHAKokao_-2.0302209585816327_7.502876019647887', 'gfw_oil_palm_v20191031_110.50468462029272_0.3678841617747537', 'gfw_oil_palm_v20191031_109.28357164720396_1.7215394382445766', 'rubber_1423', 'RSPO_Palm_Oil_Mills_11741580.6972_-211700.84980000183', 'rubber_54', 'Sarawak_oil_palm_concessions_12450952.081151761_309197.72344999947', 'CIVKokao_-8.189304920529851_7.1394024281', 'gfw_oil_palm_v20191031_100.90114616188097_0.776899999835166', 'gfw_oil_palm_v20191031_113.26638745311405_-1.8032413566532455', 'gfw_oil_palm_v20191031_108.94455528351442_0.37098136529780845', 'gfw_oil_palm_v20191031_111.66025331552606_-2.6152168704121266', 'rubber_551', 'RSPO_Palm_Oil_Mills_11455944.4573_591764.430300001', 'gfw_oil_palm_v20191031_103.39945379199749_0.4025485003631104', 'rubber_668', 'gfw_oil_palm_v20191031_112.13124832989375_-2.148054234115534', 'gfw_oil_palm_v20191031_102.31625286676433_0.09573750028548034', 'CIVKokao_-6.367092478440299_5.4090739443', 'rubber_658', 'gfw_oil_palm_v20191031_97.48711238467146_4.796722412209732', 'rubber_311', 'rubber_708', 'rubber_1516', 'rubber_1455', 'gfw_oil_palm_v20191031_115.81408225492422_-1.7385683051331284', 'Sarawak_oil_palm_concessions_12776384.008386346_290764.8666500002', 'gfw_oil_palm_v20191031_101.38091209961394_-0.059054000491698844', 'gfw_oil_palm_v20191031_115.85203037255343_-2.3175559496472715', 'GHAKokao_-2.1209819683163267_6.234075268661972', 'gfw_oil_palm_v20191031_121.34652775758789_1.0342148537325784', 'gfw_oil_palm_v20191031_102.78761207683108_-2.3639931107933307', 'rubber_216', 'gfw_oil_palm_v20191031_115.3589141953843_4.70665583629787', 'gfw_oil_palm_v20191031_115.58734417261493_-0.4819058290906071', 'gfw_oil_palm_v20191031_113.11386402720309_3.0434619533066893', 'gfw_oil_palm_v20191031_114.20832372249117_3.910580713579094', 'gfw_oil_palm_v20191031_110.35407485874549_-1.0614278912341035', 'rubber_177', 'rubber_859', 'rubber_409', 'rubber_612', 'gfw_oil_palm_v20191031_116.14706259094227_-2.335638580256216', 'gfw_oil_palm_v20191031_101.61033680418728_-3.011381013322932', 'gfw_oil_palm_v20191031_110.40808085305277_0.4744203065019974', 'gfw_oil_palm_v20191031_119.30697864209912_-2.1154284949290627', 'rubber_88', 'rubber_165', 'gfw_oil_palm_v20191031_109.97149043784724_-0.01449500284203964', 'rubber_203', 'gfw_oil_palm_v20191031_115.08271957131811_-3.1286247066647945', 'Sarawak_oil_palm_concessions_12691810.30972587_508219.04835000075', 'rubber_710', 'gfw_oil_palm_v20191031_100.9650137911531_0.6828979996430746', 'gfw_oil_palm_v20191031_102.51095339777879_-0.558681499851275', 'rubber_1118', 'RSPO_Palm_Oil_Mills_10891282.574099999_524658.135400001', 'rubber_1316', 'rubber_1279', 'gfw_oil_palm_v20191031_115.11839272888281_-0.40231545029774907', 'gfw_oil_palm_v20191031_112.86550767622575_-1.9873978235006575', 'rubber_420', 'gfw_oil_palm_v20191031_103.88442473802358_-1.7237857727450887', 'rubber_472', 'rubber_159', 'gfw_oil_palm_v20191031_109.59455982082127_-0.26556400712311756', 'gfw_oil_palm_v20191031_117.09564646148962_1.5005821844703462', 'gfw_oil_palm_v20191031_112.51665080086224_2.573606239136751', 'gfw_oil_palm_v20191031_111.3405108700045_2.554472329384595', 'gfw_oil_palm_v20191031_110.08658886733707_-1.377092778908576', 'gfw_oil_palm_v20191031_112.71687558594785_-1.945439023092348', 'gfw_oil_palm_v20191031_100.55573831709115_1.7497089998205695', 'rubber_1062', 'rubber_655', 'gfw_oil_palm_v20191031_117.36995001412495_3.3837828043829745', 'rubber_893', 'rubber_1372', 'rubber_1540', 'RSPO_Palm_Oil_Mills_11431584.0792_-442383.59800000116', 'Sarawak_oil_palm_concessions_12628809.074503385_377359.48775000125', 'rubber_1125', 'Sarawak_oil_palm_concessions_12622236.7697546_379478.12384999916', 'rubber_534', 'rubber_1196', 'GHAKokao_-1.5764159099081634_5.690303518239436', 'CIVKokao_-4.45376941424627_6.8661926675', 'rubber_55', 'rubber_774', 'gfw_oil_palm_v20191031_117.17762928032019_3.3072063662807807', 'gfw_oil_palm_v20191031_139.98752684178268_-2.547015547379573', 'gfw_oil_palm_v20191031_110.02532394517351_0.031478482696002175', 'rubber_982', 'CIVKokao_-5.364875635291046_6.5929829069000006', 'gfw_oil_palm_v20191031_102.0732641098906_-0.2714269928613646', 'rubber_1505', 'gfw_oil_palm_v20191031_101.19508903545676_0.28230550009885746', 'gfw_oil_palm_v20191031_97.70026396134963_4.508871876386053', 'rubber_1532', 'rubber_944', 'rubber_365', 'rubber_1382', 'gfw_oil_palm_v20191031_102.07345921666409_-0.364554000366752', 'rubber_158', 'rubber_884', 'gfw_oil_palm_v20191031_99.65809250994002_0.2872513662076983', 'gfw_oil_palm_v20191031_111.15360910903672_0.847558110168734', 'rubber_1469', 'gfw_oil_palm_v20191031_112.38430769886448_2.5414219551092287', 'gfw_oil_palm_v20191031_-11.025503524985222_6.8624285113188535', 'gfw_oil_palm_v20191031_100.50361302416354_0.6409505001155935', 'gfw_oil_palm_v20191031_113.80409745630914_-1.4273612372312812', 'gfw_oil_palm_v20191031_113.5236276659576_3.6282880244229148', 'CIVKokao_-5.364875635291046_5.3180040241', 'CIVKokao_-7.09597745527612_7.1394024281', 'gfw_oil_palm_v20191031_112.32825507579928_0.6488780788104123', 'gfw_oil_palm_v20191031_116.38157987664651_-2.326018764804104', 'CIVKokao_-6.458203100544777_7.6858219493', 'RSPO_Palm_Oil_Mills_11125888.401_235184.75459999964', 'gfw_oil_palm_v20191031_111.42762095426869_-0.2300234069046212', 'RSPO_Palm_Oil_Mills_11388849.751200002_397513.0544999987', 'rubber_1393', 'rubber_1267', 'gfw_oil_palm_v20191031_101.8934792040455_-0.44616549978792364', 'gfw_oil_palm_v20191031_100.81705851741641_0.848394369954292', 'gfw_oil_palm_v20191031_112.607493126002_-2.56314170377658', 'gfw_oil_palm_v20191031_112.40545763513374_-2.2305702131947385', 'gfw_oil_palm_v20191031_116.90302751723968_0.9237732406925545', 'rubber_1115', 'rubber_280', 'rubber_582', 'gfw_oil_palm_v20191031_15.77197992831697_0.38505456776411506', 'rubber_921', 'gfw_oil_palm_v20191031_118.51684951489835_1.3402681911742036', 'gfw_oil_palm_v20191031_115.82647251671801_-0.6290277100106891', 'gfw_oil_palm_v20191031_114.69479061213238_2.792837154760946', 'rubber_625', 'gfw_oil_palm_v20191031_113.09734889683963_-1.9783863737820582', 'gfw_oil_palm_v20191031_114.21588098373621_-1.2631296271304961', 'rubber_1365', 'gfw_oil_palm_v20191031_101.25127736311862_1.4232265000031248', 'RSPO_Palm_Oil_Mills_13268081.052099999_579132.2967999987', 'gfw_oil_palm_v20191031_100.91576464886151_0.5335740000900842', 'gfw_oil_palm_v20191031_121.8425764801017_-1.6257751582968467', 'Sarawak_oil_palm_concessions_12372103.811541967_183131.12989999913', 'rubber_182', 'gfw_oil_palm_v20191031_102.88637896589637_-0.5803119999987132', 'rubber_447', 'gfw_oil_palm_v20191031_115.1338222003877_-0.9563937492220589', 'gfw_oil_palm_v20191031_112.61430515702524_-2.1585494429024266', 'rubber_261', 'rubber_570', 'RSPO_Palm_Oil_Mills_11030864.7478_393299.5428000018', 'gfw_oil_palm_v20191031_115.46135378436564_-2.1410629126232834', 'rubber_937', 'rubber_922', 'gfw_oil_palm_v20191031_109.14078337192748_0.8064507541491253', 'gfw_oil_palm_v20191031_110.42577717799249_0.09056960775129141', 'gfw_oil_palm_v20191031_115.69446814049864_-3.7084641710346204', 'gfw_oil_palm_v20191031_117.4604932762673_0.6531693176100077', 'rubber_343', 'rubber_454', 'CIVKokao_-6.822645588962687_7.2304723483', 'gfw_oil_palm_v20191031_9.075216320798752_5.1519217623294935', 'rubber_241', 'gfw_oil_palm_v20191031_117.27674956514294_3.3473333663918368', 'Sarawak_oil_palm_concessions_12809720.488926008_477787.9122499991', 'gfw_oil_palm_v20191031_9.96155322724164_3.779902360705421', 'rubber_681', 'gfw_oil_palm_v20191031_101.53884894669923_-0.3066489997015083', 'gfw_oil_palm_v20191031_9.288546104588537_3.9988159190694432', 'gfw_oil_palm_v20191031_110.41382331171667_-2.325041525046288', 'gfw_oil_palm_v20191031_109.53087841541847_1.1874422428154219', 'gfw_oil_palm_v20191031_121.02935492607158_-2.0194330754760017', 'rubber_199', 'rubber_67', 'gfw_oil_palm_v20191031_116.61443375186582_0.3506279919384099', 'gfw_oil_palm_v20191031_116.77500128581572_0.5771413877149598', 'gfw_oil_palm_v20191031_110.19007045365996_-1.6124534603588359', 'Cameroon_agro-industrial_zones_1182006.1235927579_412838.05030000024', 'rubber_698', 'rubber_810', 'CIVKokao_-7.004866833171643_7.5036821089', 'rubber_134', 'rubber_429', 'rubber_1318', 'CIVKokao_-4.180437547932836_5.5001438645', 'RSPO_Palm_Oil_Mills_11441788.2916_300673.92819999903', 'gfw_oil_palm_v20191031_97.52724583843059_4.854142086987764', 'gfw_oil_palm_v20191031_115.47775474918498_-0.6620817175971183', 'gfw_oil_palm_v20191031_101.95334855900484_-3.260546922652253', 'rubber_15', 'rubber_711', 'RSPO_Palm_Oil_Mills_13184420.7812_618681.6743000001', 'Sarawak_oil_palm_concessions_12562034.077382699_337789.9156999998', 'RSPO_Palm_Oil_Mills_11570993.151_-283913.88800000027', 'gfw_oil_palm_v20191031_101.69892613614411_1.990204999910958', 'gfw_oil_palm_v20191031_110.9155445412805_-2.4254128077048733', 'gfw_oil_palm_v20191031_96.48841881683808_3.7972192932358553', 'rubber_712', 'gfw_oil_palm_v20191031_108.9559627147265_0.8295187351515665', 'rubber_237', 'gfw_oil_palm_v20191031_110.48204323822088_0.49950684866226425', 'GHAKokao_-2.1209819683163267_7.321618769507042', 'gfw_oil_palm_v20191031_101.78640225809032_-1.0423924945678777', 'CIVKokao_-7.733751810007464_7.2304723483', 'gfw_oil_palm_v20191031_100.24476976661816_1.5971945797661817', 'GHAKokao_-0.5780448028265308_6.505961143873239', 'gfw_oil_palm_v20191031_113.2905696952813_3.0483112641535968', 'GHAKokao_-2.574787016989796_7.865390519929577', 'gfw_oil_palm_v20191031_112.44211719953508_-2.462534915653748', 'rubber_340', 'gfw_oil_palm_v20191031_111.3450520774926_1.6691675151188576', 'rubber_786', 'gfw_oil_palm_v20191031_110.43420385726353_-1.859974612638183', 'CIVKokao_-6.093760612126866_6.7751227473', 'rubber_1304', 'rubber_1151', 'gfw_oil_palm_v20191031_118.09344828032309_1.0339644168244604', 'rubber_728', 'gfw_oil_palm_v20191031_109.61339516865712_-0.05624442623923187', 'gfw_oil_palm_v20191031_109.64617317352818_-0.10536929180923948', 'rubber_1240', 'gfw_oil_palm_v20191031_109.47146916190314_0.32795131180375847', 'rubber_1136', 'gfw_oil_palm_v20191031_116.45626998286713_-2.3392919303782094', 'CIVKokao_-6.275981856335822_6.1376333059', 'gfw_oil_palm_v20191031_110.710951614518_-1.9001213910892716', 'gfw_oil_palm_v20191031_114.2891473244496_4.429227160105484', 'gfw_oil_palm_v20191031_118.22292424394766_1.5566358029999776', 'rubber_987', 'gfw_oil_palm_v20191031_136.76460108336832_-1.8158401844768548', 'gfw_oil_palm_v20191031_116.88219130910232_-0.9719785159956018', 'gfw_oil_palm_v20191031_112.97369168143776_-1.3429868001505554', 'rubber_703', 'GHAKokao_-2.66554802672449_5.599674893169014', 'rubber_1342', 'RSPO_Palm_Oil_Mills_13056755.804299999_691967.2142999992', 'gfw_oil_palm_v20191031_111.52679100818975_-1.93861124466315', 'rubber_807', 'rubber_1158', 'rubber_845', 'gfw_oil_palm_v20191031_101.32349389951615_-0.7861011928156643', 'Sarawak_oil_palm_concessions_12701975.055604957_475560.8751500007', 'gfw_oil_palm_v20191031_114.61890298252895_2.722828507379802', 'rubber_618', 'gfw_oil_palm_v20191031_9.3352118758317_4.324907126113146', 'gfw_oil_palm_v20191031_112.62811168917906_-1.2182466136402184', 'gfw_oil_palm_v20191031_112.06658104881592_-2.0877080372460455', 'CIVKokao_-6.367092478440299_6.8661926675', 'CIVKokao_-6.184871234231344_7.412612188700001', 'CIVKokao_-4.271548170037314_5.2269341039', 'rubber_208', 'gfw_oil_palm_v20191031_112.50297896769027_2.8609956655675433', 'gfw_oil_palm_v20191031_111.36541878071311_0.42698180691496646', 'rubber_92', 'CIVKokao_-4.089326925828359_5.6822837049', 'gfw_oil_palm_v20191031_102.38891019692694_-0.5415950001590772', 'rubber_121', 'rubber_49', 'gfw_oil_palm_v20191031_103.8509233690854_-2.279082614820709', 'gfw_oil_palm_v20191031_111.1404995046273_1.6448689360026947', 'gfw_oil_palm_v20191031_10.618141667160089_3.7060004353219256', 'gfw_oil_palm_v20191031_109.35985002296692_1.819125354151879', 'rubber_805', 'gfw_oil_palm_v20191031_113.8641216526274_3.5655153312176253', 'gfw_oil_palm_v20191031_131.09104399165125_-0.31253932393056516', 'CIVKokao_-6.549313722649254_5.7733536251', 'CIVKokao_-6.731534966858209_6.8661926675', 'rubber_479', 'rubber_86', 'rubber_1013', 'rubber_1427', 'GHAKokao_-1.2133718709693877_5.871560768380281', 'gfw_oil_palm_v20191031_105.49085587125799_-3.522884394399199', 'gfw_oil_palm_v20191031_8.995199116322135_4.125012387211996', 'CIVKokao_-3.8159950595149263_6.7751227473', 'gfw_oil_palm_v20191031_114.23982663714877_-1.104497024767852', 'gfw_oil_palm_v20191031_110.07531436706329_-0.8360235983103337', 'GHAKokao_-1.6671769196428572_8.046647770070422', 'gfw_oil_palm_v20191031_110.67930278833933_-1.2377055878424983', 'rubber_844', 'rubber_44', 'gfw_oil_palm_v20191031_116.10942034451355_-3.991941787133669', 'CIVKokao_-7.46041994369403_7.1394024281', 'rubber_363', 'gfw_oil_palm_v20191031_114.42442022753625_-1.5067587038010686', 'GHAKokao_-0.941088841765306_6.687218394014084', 'gfw_oil_palm_v20191031_-10.984014510751903_7.014677906589014', 'gfw_oil_palm_v20191031_112.54106073310967_2.9779918092746698', 'gfw_oil_palm_v20191031_102.24259493113829_-0.5630950001340977', 'rubber_84', 'gfw_oil_palm_v20191031_112.53490207190663_-2.236800722625162', 'gfw_oil_palm_v20191031_112.34087958190298_0.6632725613796993', 'gfw_oil_palm_v20191031_102.54136235145748_-0.4777925000237815', 'gfw_oil_palm_v20191031_113.03146611642534_-1.3799963062344887', 'gfw_oil_palm_v20191031_112.23654314770137_-2.6464682872316416', 'rubber_689', 'gfw_oil_palm_v20191031_109.22400791744586_0.09510384156914142', 'rubber_842', 'rubber_1221', 'rubber_362', 'rubber_640', 'rubber_993', 'rubber_1496', 'gfw_oil_palm_v20191031_102.09964092205098_1.555274000095153', 'gfw_oil_palm_v20191031_115.06879897373933_-1.234936528497883', 'gfw_oil_palm_v20191031_99.89753421553915_-0.19472345267510605', 'gfw_oil_palm_v20191031_116.1757210911043_-3.5162695754305275', 'rubber_122', 'rubber_1401', 'gfw_oil_palm_v20191031_109.5302481867383_0.2707019371447359', 'CIVKokao_-7.369309321589553_6.5019129867', 'gfw_oil_palm_v20191031_112.91874701200439_-1.827586348431197', 'gfw_oil_palm_v20191031_119.34186711933776_-1.3998637457651455', 'gfw_oil_palm_v20191031_103.64488510226535_-1.0891480458455476', 'gfw_oil_palm_v20191031_104.28331273176205_-3.913622927855812', 'rubber_1383', 'gfw_oil_palm_v20191031_9.040584075196836_4.534869260458123', 'rubber_755', 'rubber_74', 'rubber_862', 'gfw_oil_palm_v20191031_113.24990540778262_3.3944368963957743', 'CIVKokao_-5.182654391082091_6.1376333059', 'CIVKokao_-4.544880036350747_5.7733536251', 'rubber_1486', 'gfw_oil_palm_v20191031_117.53980679898902_2.326125447981184', 'gfw_oil_palm_v20191031_112.76733109610353_-2.9958120188595103', 'rubber_1281', 'rubber_251', 'CIVKokao_-6.458203100544777_6.2287032261', 'RSPO_Palm_Oil_Mills_12479997.166000001_-262881.1242999993', 'gfw_oil_palm_v20191031_100.50403991265483_2.1445535000440827', 'gfw_oil_palm_v20191031_114.2753430500429_3.573124949207113', 'gfw_oil_palm_v20191031_111.84474995367677_-2.334905045531343', 'gfw_oil_palm_v20191031_113.00007554962774_-2.0463247678736423', 'rubber_1407', 'gfw_oil_palm_v20191031_109.25318374891924_0.9691630306994057', 'gfw_oil_palm_v20191031_121.0063678504211_-2.6334938314750502', 'gfw_oil_palm_v20191031_117.08010706040778_3.699192604754984', 'CIVKokao_-3.542663193201493_7.2304723483', 'rubber_1043', 'rubber_366', 'rubber_879', 'rubber_1482', 'rubber_550', 'rubber_504', 'gfw_oil_palm_v20191031_112.42063071311054_2.5965784257039672', 'rubber_692', 'CIVKokao_-4.362658792141792_5.8644235453', 'gfw_oil_palm_v20191031_112.72944112077892_-2.6992236439558894', 'rubber_1145', 'rubber_834', 'CIVKokao_-4.635990658455224_5.6822837049', 'gfw_oil_palm_v20191031_100.93051298337575_-1.8886239526331678', 'gfw_oil_palm_v20191031_111.88341849816922_2.1525366806734496', 'rubber_861', 'gfw_oil_palm_v20191031_111.71116449669759_-2.2631239638997442', 'gfw_oil_palm_v20191031_113.05148265142012_-1.9942180053565721', 'gfw_oil_palm_v20191031_114.58575915635038_-1.0743795284923578', 'gfw_oil_palm_v20191031_9.993628744062551_2.807885511007555', 'rubber_125', 'Sarawak_oil_palm_concessions_12653557.19707087_386459.0173000004', 'gfw_oil_palm_v20191031_113.14616546180875_-1.410161636999817', 'rubber_562', 'gfw_oil_palm_v20191031_9.410219094713286_5.164144923549486', 'Sarawak_oil_palm_concessions_12517434.02696999_278390.7457500007', 'rubber_190', 'gfw_oil_palm_v20191031_112.67997462198181_3.0180048571885436', 'rubber_528', 'gfw_oil_palm_v20191031_97.83954614116908_4.274296382672077', 'gfw_oil_palm_v20191031_9.216965106847562_4.095876076469779', 'gfw_oil_palm_v20191031_113.40690928794191_-1.6749673129411065', 'gfw_oil_palm_v20191031_109.5455746676816_0.9542488753354803', 'gfw_oil_palm_v20191031_111.7559446821235_-0.549372107436767', 'gfw_oil_palm_v20191031_111.54470916055848_-2.0150900775449827', 'gfw_oil_palm_v20191031_100.96484694750721_1.9580210000692375', 'Cameroon_agro-industrial_zones_1188582.8307179208_400935.04810000025', 'GHAKokao_-2.0302209585816327_7.140361519366197', 'gfw_oil_palm_v20191031_118.48382916357991_1.231945706429343', 'rubber_34', 'CIVKokao_-3.907105681619404_6.1376333059', 'gfw_oil_palm_v20191031_112.5361835134292_-2.4999508285178536', 'rubber_412', 'rubber_611', 'gfw_oil_palm_v20191031_112.29005867304355_2.905933538602028', 'rubber_999', 'gfw_oil_palm_v20191031_109.21554915360548_-0.29642643927869017', 'rubber_911', 'RSPO_Palm_Oil_Mills_12499539.9705_115314.6838000007', 'rubber_509', 'gfw_oil_palm_v20191031_112.81327595861127_-2.1361782557218305', 'gfw_oil_palm_v20191031_9.246150086184743_4.127358867268043', 'rubber_1256', 'rubber_777', 'Sarawak_oil_palm_concessions_12606376.36387299_370964.8414500002', 'rubber_146', 'CIVKokao_-6.731534966858209_5.6822837049', 'gfw_oil_palm_v20191031_109.14555849948276_0.48896747776703364', 'gfw_oil_palm_v20191031_110.17170787983937_-1.4151019641842595', 'rubber_424', 'RSPO_Palm_Oil_Mills_11251741.207899999_59371.21539999917', 'gfw_oil_palm_v20191031_113.49451684752701_3.550836224911933', 'gfw_oil_palm_v20191031_113.58586857247082_3.1476221332549983', 'gfw_oil_palm_v20191031_117.90177317309973_1.598282017501134', 'rubber_561', 'rubber_1260', 'gfw_oil_palm_v20191031_109.54284140612094_1.4399924876132957', 'Sarawak_oil_palm_concessions_12483787.941773703_243389.5863500014', 'rubber_315', 'gfw_oil_palm_v20191031_109.64519482655707_-0.20215942461771874', 'rubber_785', 'gfw_oil_palm_v20191031_103.25954721241825_-2.9172834111504073', 'GHAKokao_-2.3025039877857143_6.505961143873239', 'rubber_881', 'GHAKokao_-2.4840260072551024_5.418417643028168', 'gfw_oil_palm_v20191031_116.30358662991836_-2.093658330517485', 'rubber_207', 'gfw_oil_palm_v20191031_116.8409802784283_0.7719726282842316', 'rubber_348', 'CIVKokao_-2.813778216365672_5.5912137847', 'gfw_oil_palm_v20191031_109.18976934900672_0.7591905298691302', 'CIVKokao_-3.269331326888061_6.5929829069000006', 'CIVKokao_-3.3604419489925386_6.0465633857', 'gfw_oil_palm_v20191031_115.01964220207711_-3.7890139618747867', 'gfw_oil_palm_v20191031_113.24196315931741_2.4586186583744905', 'rubber_3', 'rubber_246', 'gfw_oil_palm_v20191031_118.29186892759814_0.9128371482659077', 'Sarawak_oil_palm_concessions_12699211.800948728_508833.25434999913', 'gfw_oil_palm_v20191031_110.20581702510955_0.34798935047822965', 'rubber_80', 'rubber_1077', 'CIVKokao_-4.81821190266418_5.7733536251', 'gfw_oil_palm_v20191031_100.13321622550879_1.852140690890252', 'gfw_oil_palm_v20191031_115.85108543887199_-0.18759395844438131', 'gfw_oil_palm_v20191031_116.25006429522996_0.30124235804851196', 'CIVKokao_-7.278198699485076_7.2304723483', 'gfw_oil_palm_v20191031_109.41207207672798_1.2678571942542192', 'gfw_oil_palm_v20191031_102.57127313771022_0.24475600013937537', 'gfw_oil_palm_v20191031_112.25510026366362_2.615011642173613', 'gfw_oil_palm_v20191031_113.97344708160571_3.61647425663179', 'Sarawak_oil_palm_concessions_12628971.31273643_414012.182599999', 'gfw_oil_palm_v20191031_115.12811084264533_-3.7546457934185753', 'gfw_oil_palm_v20191031_110.95204507409593_-2.415540332670105', 'RSPO_Palm_Oil_Mills_11445637.274300002_425218.2424999997', 'rubber_320', 'GHAKokao_0.4203263042551022_8.227905020211267', 'rubber_79', 'CIVKokao_-4.362658792141792_5.7733536251', 'CIVKokao_-6.093760612126866_6.5929829069000006', 'gfw_oil_palm_v20191031_116.92618178375814_-1.0412731781146363', 'rubber_731', 'gfw_oil_palm_v20191031_112.25995692227029_-2.4860047101491887', 'gfw_oil_palm_v20191031_-10.246893549529211_7.1813367578369025', 'rubber_1123', 'GHAKokao_-1.6671769196428572_6.8684756441549295', 'gfw_oil_palm_v20191031_116.79721689158902_-0.9853700732701896', 'CIVKokao_-6.731534966858209_4.7715845029', 'rubber_616', 'gfw_oil_palm_v20191031_97.50622844970819_4.9343230726018135', 'gfw_oil_palm_v20191031_102.68368711175341_-2.16813802759782', 'gfw_oil_palm_v20191031_111.47966587830996_-0.8131586014881407', 'rubber_180', 'rubber_804', 'gfw_oil_palm_v20191031_109.26954141798379_-0.302163622902782', 'rubber_648', 'gfw_oil_palm_v20191031_114.68681808175597_-0.7152533772415097', 'gfw_oil_palm_v20191031_101.28356051685776_1.3668099996318404', 'GHAKokao_-2.574787016989796_7.230990144436619', 'CIVKokao_-5.638207501604478_7.0483325079', 'GHAKokao_0.7833703431938779_6.234075268661972', 'gfw_oil_palm_v20191031_113.66789610266251_-1.481135908944907', 'gfw_oil_palm_v20191031_111.31860958040434_0.7763094905906769', 'gfw_oil_palm_v20191031_112.52071589114223_-2.438833832615188', 'gfw_oil_palm_v20191031_110.57916588045366_0.833275079681215', 'GHAKokao_0.6018483237244898_6.234075268661972', 'gfw_oil_palm_v20191031_102.62050663141068_-0.8283745000830152', 'rubber_1357', 'gfw_oil_palm_v20191031_114.14540974107703_-0.991650014386579', 'CIVKokao_-7.09597745527612_6.8661926675', 'rubber_1470', 'gfw_oil_palm_v20191031_115.58369965968419_-2.3241674429230557', 'RSPO_Palm_Oil_Mills_12527864.5471_-265140.39510000125', 'rubber_1188', 'gfw_oil_palm_v20191031_103.6671766765779_-1.2756868586115786', 'gfw_oil_palm_v20191031_121.39813984229576_-2.225123675617027', 'rubber_797', 'rubber_846', 'rubber_529', 'gfw_oil_palm_v20191031_102.00435507074464_-3.259501933817063', 'rubber_1135', 'gfw_oil_palm_v20191031_110.49437514507679_-0.19031186390131438', 'rubber_411', 'RSPO_Palm_Oil_Mills_11089276.645_315533.814100001', 'gfw_oil_palm_v20191031_114.77960461926382_-3.921734187232886', 'gfw_oil_palm_v20191031_111.97731406302175_2.5719178352899803', 'RSPO_Palm_Oil_Mills_11445365.432100002_432134.86459999904', 'gfw_oil_palm_v20191031_113.16172516493353_3.189514242638296', 'rubber_1487', 'rubber_132', 'CIVKokao_-4.362658792141792_5.5912137847', 'gfw_oil_palm_v20191031_111.23163137726635_1.810370078116705', 'rubber_695', 'gfw_oil_palm_v20191031_9.09871507873468_5.0629436309438915', 'gfw_oil_palm_v20191031_117.52994348221173_3.7014898500766265', 'gfw_oil_palm_v20191031_16.092277777297653_-0.3479583335601433', 'gfw_oil_palm_v20191031_101.92245906225213_0.7032734999221759', 'CIVKokao_-3.8159950595149263_6.5019129867', 'rubber_45', 'rubber_741', 'Sarawak_oil_palm_concessions_12443679.073616281_289104.536150001', 'rubber_724', 'gfw_oil_palm_v20191031_115.05525340711934_-1.1706706328933478', 'rubber_196', 'Sarawak_oil_palm_concessions_12736062.641499793_460913.3914999999', 'rubber_1028', 'rubber_1157', 'gfw_oil_palm_v20191031_103.17649414278182_-1.0876768709907196', 'gfw_oil_palm_v20191031_110.65895488479887_-2.2034354210078106', 'Sarawak_oil_palm_concessions_12455129.902305836_282585.7826000005', 'rubber_641', 'rubber_809', 'GHAKokao_-1.848698939112245_7.230990144436619', 'rubber_1376', 'gfw_oil_palm_v20191031_112.1317523735796_2.6822154916016814', 'rubber_206', 'rubber_760', 'gfw_oil_palm_v20191031_109.75765363411651_1.4541540084507858', 'gfw_oil_palm_v20191031_102.28716139766797_-0.48216000043359486', 'Sarawak_oil_palm_concessions_12718764.180623304_455946.1330500003', 'rubber_1019', 'gfw_oil_palm_v20191031_98.04758401018103_2.289063453865367', 'gfw_oil_palm_v20191031_111.88633556039673_2.537681180092534', 'gfw_oil_palm_v20191031_99.71392463717675_0.045341441654272785', 'rubber_495', 'rubber_732', 'gfw_oil_palm_v20191031_101.87558139467365_0.13659249979409083', 'gfw_oil_palm_v20191031_95.4370086793393_4.944997143503429', 'gfw_oil_palm_v20191031_114.58611116121179_2.6197921085690723', 'gfw_oil_palm_v20191031_109.47735930856348_1.2938017840750717', 'rubber_522', 'gfw_oil_palm_v20191031_103.03223986368548_-1.6180503528913732', 'gfw_oil_palm_v20191031_102.60163548113599_-0.7029157682979985', 'rubber_356', 'rubber_175', 'rubber_1446', 'rubber_1055', 'gfw_oil_palm_v20191031_112.75529219828417_-1.5907670241787457', 'rubber_553', 'gfw_oil_palm_v20191031_109.34869776320367_0.5484266876914887', 'rubber_1015', 'gfw_oil_palm_v20191031_111.36199288137368_1.1738028778005685', 'rubber_716', 'gfw_oil_palm_v20191031_112.93611664216249_-1.685748338864613', 'rubber_990', 'Sarawak_oil_palm_concessions_12719526.63521747_468831.2621499989', 'rubber_1553', 'CIVKokao_-5.911539367917911_6.0465633857', 'GHAKokao_0.5110873139897958_7.502876019647887', 'gfw_oil_palm_v20191031_9.181089158628819_4.032058873318476', 'rubber_388', 'rubber_714', 'gfw_oil_palm_v20191031_117.60729064896874_0.6553403120558414', 'rubber_381', 'gfw_oil_palm_v20191031_9.863449583106611_3.9093982777583847', 'gfw_oil_palm_v20191031_116.61531603251333_-1.2826992844942993', 'rubber_665', 'rubber_1551', 'gfw_oil_palm_v20191031_140.59574368794296_-8.219008995418733', 'CIVKokao_-5.455986257395523_5.4090739443', 'gfw_oil_palm_v20191031_9.432161292831506_4.1809436129574635', 'rubber_167', 'gfw_oil_palm_v20191031_109.6300751416789_1.1066420676774555', 'gfw_oil_palm_v20191031_113.21115146258484_-1.8904975116007847', 'gfw_oil_palm_v20191031_109.23328688966271_0.8770990973955008', 'gfw_oil_palm_v20191031_113.31021683785092_-1.3704060870212516', 'gfw_oil_palm_v20191031_102.21044657003833_-0.6750594994962285', 'rubber_546', 'gfw_oil_palm_v20191031_110.63054095925531_-2.0948883292329583', 'gfw_oil_palm_v20191031_116.93563375507696_1.2559974742541158', 'GHAKokao_-0.941088841765306_6.505961143873239', 'GHAKokao_-1.9394599488469388_5.780932143309858', 'Cameroon_agro-industrial_zones_1032229.9926556638_455966.74035000056', 'gfw_oil_palm_v20191031_116.11820046169547_0.24207541160103574', 'gfw_oil_palm_v20191031_109.29214615871318_1.0617704980601275', 'gfw_oil_palm_v20191031_100.4748544998854_1.441532500624504', 'gfw_oil_palm_v20191031_102.35747075864316_-0.6305524997479779', 'gfw_oil_palm_v20191031_117.07006377476932_0.8904062996111577', 'rubber_302', 'gfw_oil_palm_v20191031_95.29107101018694_5.356857291680825', 'gfw_oil_palm_v20191031_99.64853625675116_0.11460655160121291', 'gfw_oil_palm_v20191031_101.85731822061302_-3.0836750268809396', 'gfw_oil_palm_v20191031_111.83305761714263_-2.532938778651612', 'rubber_309', 'gfw_oil_palm_v20191031_140.11545143022397_-2.561269522120682', 'RSPO_Palm_Oil_Mills_11416832.354200002_399941.43989999965', 'gfw_oil_palm_v20191031_116.10502718071677_-0.6224000307367703', 'RSPO_Palm_Oil_Mills_11248866.382_87190.03310000151', 'gfw_oil_palm_v20191031_102.50066026746678_-0.7499875000730185', 'rubber_213', 'RSPO_Palm_Oil_Mills_10915927.373599999_471526.7820000015', 'gfw_oil_palm_v20191031_112.0302410897995_-1.8629049208753088', 'RSPO_Palm_Oil_Mills_11436222.3171_243106.36050000042', 'rubber_555', 'rubber_1409', 'gfw_oil_palm_v20191031_111.78311121612523_-2.2115805488531635', 'gfw_oil_palm_v20191031_100.06358818945253_2.129289671631142', 'gfw_oil_palm_v20191031_112.83076644388555_-1.8777850049739016', 'rubber_1273', 'gfw_oil_palm_v20191031_101.25638053992733_0.11577549983960012', 'gfw_oil_palm_v20191031_115.86983311651161_-0.4729809134882714', 'gfw_oil_palm_v20191031_101.40024266241986_-0.49571500004714153', 'gfw_oil_palm_v20191031_131.09491615444315_-0.32035489386322524', 'gfw_oil_palm_v20191031_109.46416473378466_1.1387351150336258', 'GHAKokao_-0.4872837930918368_6.324703893732394', 'gfw_oil_palm_v20191031_101.69678627361264_-2.944126869309514', 'gfw_oil_palm_v20191031_111.33980533877633_0.20763666525007807', 'rubber_1288', 'gfw_oil_palm_v20191031_112.61616857015368_-2.8453861407077454', 'GHAKokao_-2.0302209585816327_5.599674893169014', 'gfw_oil_palm_v20191031_111.77658342664789_0.2931322471056035', 'gfw_oil_palm_v20191031_110.08972633517571_0.5826990010081374', 'CIVKokao_-6.822645588962687_5.2269341039', 'GHAKokao_0.6018483237244898_8.227905020211267', 'Sarawak_oil_palm_concessions_12719408.464180648_476208.4227499999', 'CIVKokao_-7.369309321589553_5.6822837049', 'gfw_oil_palm_v20191031_100.48741534191059_1.1534200003827664', 'Sarawak_oil_palm_concessions_12385684.29719077_138489.50459999964', 'gfw_oil_palm_v20191031_114.16326231079066_4.324942859325603', 'gfw_oil_palm_v20191031_116.35039947849214_-1.3607804318213539', 'rubber_1354', 'gfw_oil_palm_v20191031_102.5638010105605_0.72542000003304', 'gfw_oil_palm_v20191031_8.993356831796717_5.141189107341546', 'gfw_oil_palm_v20191031_112.98236205094982_-1.7990454734198238', 'rubber_89', 'gfw_oil_palm_v20191031_117.78577980229016_3.702609550990104', 'rubber_894', 'rubber_301', 'rubber_131', 'gfw_oil_palm_v20191031_111.07077533757585_1.660583530705452', 'rubber_873', 'RSPO_Palm_Oil_Mills_11291819.007599998_321106.7221999988', 'CIVKokao_-6.822645588962687_7.6858219493', 'rubber_142', 'gfw_oil_palm_v20191031_116.79829213837002_-0.9534629346666748', 'gfw_oil_palm_v20191031_113.63827643898756_3.8634424931266835', 'rubber_256', 'gfw_oil_palm_v20191031_109.4407191600873_1.548024058763417', 'gfw_oil_palm_v20191031_105.64069800332749_-4.537067936735838', 'gfw_oil_palm_v20191031_110.36398063816824_0.29435258395469077', 'CIVKokao_-3.907105681619404_6.4108430665', 'gfw_oil_palm_v20191031_99.25272358528846_0.5926290447946769', 'Cameroon_agro-industrial_zones_1011207.5796005295_568964.3688499983', 'gfw_oil_palm_v20191031_101.60522153404874_-1.4977144998741778', 'CIVKokao_-6.549313722649254_7.1394024281', 'rubber_1200', 'rubber_419', 'gfw_oil_palm_v20191031_115.72710900689222_-0.01724327975350093', 'rubber_139', 'gfw_oil_palm_v20191031_101.61075863905074_-0.6116040000744647', 'GHAKokao_-1.4856549001734694_6.234075268661972', 'rubber_1353', 'RSPO_Palm_Oil_Mills_12583728.8977_354740.8949000016', 'gfw_oil_palm_v20191031_110.25053680190167_-0.9937259338546482', 'gfw_oil_palm_v20191031_100.5926474997698_1.644277500006723', 'gfw_oil_palm_v20191031_114.66712071569113_-0.6344723509181449', 'gfw_oil_palm_v20191031_116.27677716842689_-3.6653129123109522', 'gfw_oil_palm_v20191031_112.25806928048341_-3.0596396784283115', 'rubber_822', 'rubber_225', 'gfw_oil_palm_v20191031_101.7603851055137_-0.5599789998808831', 'rubber_645', 'RSPO_Palm_Oil_Mills_11057441.385699999_893499.9481999986', 'Sarawak_oil_palm_concessions_12741772.01680581_433843.88240000047', 'RSPO_Palm_Oil_Mills_16834233.6676_567822.2008999996', 'rubber_1349', 'rubber_444', 'rubber_329', 'RSPO_Palm_Oil_Mills_13199319.0026_559461.9620999992', 'rubber_1', 'RSPO_Palm_Oil_Mills_13118290.7698_651141.2215000018', 'rubber_286', 'rubber_506', 'gfw_oil_palm_v20191031_102.03076333609954_-0.01378699987006371', 'gfw_oil_palm_v20191031_113.41065152179203_3.0995842782419345', 'rubber_176', 'gfw_oil_palm_v20191031_116.99518084436545_1.2681548257846487', 'GHAKokao_-1.9394599488469388_7.7747618948591555', 'gfw_oil_palm_v20191031_102.21932458111309_-0.49671399980118736', 'rubber_1169', 'gfw_oil_palm_v20191031_116.22182624088245_0.22025942268419385', 'CIVKokao_-6.822645588962687_4.7715845029', 'gfw_oil_palm_v20191031_109.64068476689658_0.012118064297311548', 'gfw_oil_palm_v20191031_97.99749514749965_3.9880342474326937', 'gfw_oil_palm_v20191031_116.8385376491934_0.9162497836006764', 'rubber_985', 'gfw_oil_palm_v20191031_114.70736135330694_-0.7765006655731668', 'gfw_oil_palm_v20191031_114.71881518259777_-1.1379646458516106', 'gfw_oil_palm_v20191031_113.98422285502468_4.264822782145814', 'gfw_oil_palm_v20191031_110.1384952310909_-0.0034330799725807992', 'gfw_oil_palm_v20191031_100.87156684730618_0.602590000078493', 'gfw_oil_palm_v20191031_111.34117274739702_0.5316926242153386', 'rubber_588', 'RSPO_Palm_Oil_Mills_11272582.665600002_108139.70949999988', 'rubber_829', 'rubber_1023', 'gfw_oil_palm_v20191031_113.45200723505792_-2.112275957919053', 'gfw_oil_palm_v20191031_113.35595207628657_3.1703892123424', 'rubber_888', 'rubber_1480', 'CIVKokao_-4.271548170037314_7.412612188700001', 'gfw_oil_palm_v20191031_116.10617451222828_-1.552864348310976', 'GHAKokao_-1.0318498515_5.327789017957746', 'CIVKokao_-4.909322524768657_5.9554934655', 'rubber_1324', 'GHAKokao_-1.757937929377551_6.143446643591549', 'gfw_oil_palm_v20191031_9.317255655120965_4.522929364098957', 'CIVKokao_-8.371526164738807_6.5019129867', 'gfw_oil_palm_v20191031_111.11665169508542_-0.241016501510245', 'gfw_oil_palm_v20191031_112.7877634304139_-2.9025474452083415', 'rubber_936', 'gfw_oil_palm_v20191031_117.26667227126734_4.199304701550716', 'gfw_oil_palm_v20191031_111.80081861236718_2.151963523847627', 'rubber_7', 'gfw_oil_palm_v20191031_101.37250319759764_-0.21254150004014605', 'CIVKokao_-3.4515525710970154_5.3180040241', 'gfw_oil_palm_v20191031_102.19441968152852_-0.40992950014626217', 'gfw_oil_palm_v20191031_102.43701767526574_-0.6937840000814788', 'gfw_oil_palm_v20191031_110.20133265951517_-0.48578572922795615', 'rubber_209', 'gfw_oil_palm_v20191031_111.50048037259197_-2.239365535141303', 'gfw_oil_palm_v20191031_111.65598555162885_2.455057265730403', 'gfw_oil_palm_v20191031_112.0636768643331_2.112680676871804', 'gfw_oil_palm_v20191031_111.54245489079254_-2.1344197362317914', 'rubber_1211', 'gfw_oil_palm_v20191031_111.02900981596946_-2.2754589468228517', 'gfw_oil_palm_v20191031_114.97620602414077_-1.8352883681635888', 'gfw_oil_palm_v20191031_116.30350879185019_-0.5805746497002247', 'gfw_oil_palm_v20191031_115.66693170241274_-0.006151086153664664', 'gfw_oil_palm_v20191031_115.97283186200845_-1.865476079907097', 'GHAKokao_-1.757937929377551_6.415332518802816', 'gfw_oil_palm_v20191031_102.21763231252811_-0.43356949988242377', 'RSPO_Palm_Oil_Mills_13076003.3895_643033.4626999982', 'gfw_oil_palm_v20191031_113.38748206747428_3.4069005817464983', 'gfw_oil_palm_v20191031_98.18921003676184_2.145044327084179', 'gfw_oil_palm_v20191031_110.87619972525634_-1.987753450960895', 'rubber_1473', 'rubber_232', 'gfw_oil_palm_v20191031_101.09518892160875_0.1814964998635844', 'rubber_1022', 'CIVKokao_-3.542663193201493_6.5929829069000006', 'rubber_144', 'rubber_939', 'GHAKokao_-1.848698939112245_6.415332518802816', 'rubber_174', 'rubber_497', 'gfw_oil_palm_v20191031_115.65761523402756_-2.353673430334453', 'gfw_oil_palm_v20191031_116.40302035145362_-1.4277661974519447', 'CIVKokao_-6.822645588962687_6.3197731463', 'gfw_oil_palm_v20191031_110.27192557002553_-1.0950823667077714', 'gfw_oil_palm_v20191031_115.6011695547468_-2.287445385346132', 'gfw_oil_palm_v20191031_139.70223009046373_-7.376675407743818', 'rubber_222', 'gfw_oil_palm_v20191031_111.62832297719594_-2.363279246939612', 'GHAKokao_0.2388042847857141_6.687218394014084', 'rubber_725', 'gfw_oil_palm_v20191031_110.05930709829407_0.307606279206567', 'gfw_oil_palm_v20191031_114.13134071697044_4.005091419333667', 'gfw_oil_palm_v20191031_101.96679741066296_0.832885000092773', 'gfw_oil_palm_v20191031_113.83192540497927_-3.0404036609999707', 'CIVKokao_-3.178220704783583_5.8644235453', 'rubber_972', 'gfw_oil_palm_v20191031_111.47870742031395_-2.3288787330170635', 'gfw_oil_palm_v20191031_115.54343405669911_-3.7415480581462646', 'gfw_oil_palm_v20191031_109.78776952394784_0.28915820548687066', 'gfw_oil_palm_v20191031_100.73974924662815_1.983951500661334', 'CIVKokao_-6.367092478440299_7.6858219493', 'RSPO_Palm_Oil_Mills_10939119.008299999_387413.42709999904', 'rubber_850', 'GHAKokao_-1.122610861234694_6.324703893732394', 'gfw_oil_palm_v20191031_117.01923962378712_-0.7006798387535014', 'rubber_1414', 'Sarawak_oil_palm_concessions_12384055.479801334_178130.61104999855', 'gfw_oil_palm_v20191031_102.44321962957433_-0.6056010002359358', 'gfw_oil_palm_v20191031_102.26162741042273_-5.359693355713745', 'gfw_oil_palm_v20191031_102.54577614977967_-1.9858919015399863', 'gfw_oil_palm_v20191031_109.30443811938233_0.15869375366386862', 'gfw_oil_palm_v20191031_114.9211712801854_-1.5652803543048037', 'CIVKokao_-7.187088077380598_6.5929829069000006', 'rubber_360', 'rubber_791', 'rubber_1350', 'gfw_oil_palm_v20191031_115.00787065156308_-0.6820932154793979', 'CIVKokao_-3.178220704783583_5.4090739443', 'rubber_1250', 'gfw_oil_palm_v20191031_116.18079288479848_0.3419103012693938', 'rubber_1276', 'gfw_oil_palm_v20191031_110.11366238069904_0.5071353910855123', 'gfw_oil_palm_v20191031_102.24363276421269_-5.361327243107695', 'gfw_oil_palm_v20191031_114.10455336182537_3.3516509162069212', 'rubber_321', 'rubber_442', 'CIVKokao_-4.727101280559703_6.7751227473', 'rubber_1356', 'rubber_1388', 'rubber_905', 'rubber_76', 'gfw_oil_palm_v20191031_15.426290638827107_0.4199722219905482', 'gfw_oil_palm_v20191031_97.80439637462592_4.667916687055538', 'gfw_oil_palm_v20191031_109.46132336303855_0.428431406134564', 'gfw_oil_palm_v20191031_101.07513360921428_0.4861435004222585', 'rubber_878', 'rubber_1405', 'rubber_1296', 'gfw_oil_palm_v20191031_100.53768940172469_1.4682599997492787', 'CIVKokao_-5.364875635291046_7.0483325079', 'gfw_oil_palm_v20191031_109.38373541756089_-0.16540565334810253', 'rubber_137', 'gfw_oil_palm_v20191031_112.28970219599056_-2.6461334233187017', 'rubber_1394', 'GHAKokao_-0.3057617736224491_5.962189393450704', 'gfw_oil_palm_v20191031_160.26898605744879_-9.446014559824022', 'rubber_467', 'rubber_123', 'CIVKokao_-6.549313722649254_4.8626544231', 'CIVKokao_-6.093760612126866_5.5912137847', 'rubber_390', 'Sarawak_oil_palm_concessions_12438301.764651572_269819.43475', 'rubber_1448', 'gfw_oil_palm_v20191031_117.60557017772013_4.0527095796335', 'rubber_416', 'rubber_885', 'rubber_718', 'gfw_oil_palm_v20191031_100.60001733322338_0.585838499647167', 'gfw_oil_palm_v20191031_111.58506995480568_-0.7410040498469357', 'rubber_341', 'rubber_661', 'gfw_oil_palm_v20191031_97.88599375373263_2.3771688939294506', 'gfw_oil_palm_v20191031_112.15059726185451_-2.1576334887944313', 'gfw_oil_palm_v20191031_114.13838528196212_3.5179434185540117', 'gfw_oil_palm_v20191031_111.56734533359469_0.26087647641827516', 'gfw_oil_palm_v20191031_109.37631188268932_0.4438118001745579', 'gfw_oil_palm_v20191031_113.55251267626211_-1.4594347719970813', 'gfw_oil_palm_v20191031_116.10431393788039_-2.4251557257061336', 'rubber_578', 'rubber_474', 'gfw_oil_palm_v20191031_112.46109997961474_-2.5565205221043357', 'gfw_oil_palm_v20191031_100.68368025640386_1.067261999941394', 'gfw_oil_palm_v20191031_121.2422567577545_1.163614644500342', 'rubber_819', 'gfw_oil_palm_v20191031_118.49663329695238_1.2885206934254256', 'rubber_1085', 'rubber_1537', 'gfw_oil_palm_v20191031_118.33001053275262_1.2629806146137526', 'CIVKokao_-7.46041994369403_7.3215422685', 'gfw_oil_palm_v20191031_111.00569845726638_1.554720881963192', 'gfw_oil_palm_v20191031_96.45926825379229_4.217209403091601', 'CIVKokao_-5.182654391082091_6.4108430665', 'gfw_oil_palm_v20191031_109.91711634748444_0.44755203020218914', 'CIVKokao_-4.635990658455224_6.7751227473', 'CIVKokao_-4.81821190266418_7.0483325079', 'RSPO_Palm_Oil_Mills_11554159.195_-119768.21970000118', 'rubber_683', 'gfw_oil_palm_v20191031_112.2356259120144_-2.611251952865274', 'rubber_1417', 'CIVKokao_-3.0871100826791054_6.0465633857', 'CIVKokao_-7.642641187902986_6.8661926675', 'gfw_oil_palm_v20191031_116.20677567768055_-1.441965184495615', 'rubber_99', 'rubber_1124', 'CIVKokao_-8.098194298425375_7.0483325079', 'Sarawak_oil_palm_concessions_12330078.427142326_139211.15764999948', 'CIVKokao_-6.913756211067165_6.8661926675', 'rubber_138', 'gfw_oil_palm_v20191031_111.61060978386743_2.572651516604367', 'gfw_oil_palm_v20191031_112.79150453214794_-1.6554227592529003', 'gfw_oil_palm_v20191031_114.99372267086102_-1.7407426500032273', 'rubber_935', 'RSPO_Palm_Oil_Mills_11139370.415800001_230110.2212000005', 'rubber_148', 'gfw_oil_palm_v20191031_9.160545209265404_4.399975640363664', 'gfw_oil_palm_v20191031_101.25065898224433_0.0026089994559015395', 'rubber_832', 'gfw_oil_palm_v20191031_112.07094236011224_-2.4790978903052974', 'rubber_314', 'gfw_oil_palm_v20191031_111.823253435356_-2.251068460590915', 'gfw_oil_palm_v20191031_112.77605871417828_2.9475578442691415', 'rubber_1088', 'gfw_oil_palm_v20191031_121.31317635237818_0.9718589373900954', 'gfw_oil_palm_v20191031_112.58413906235666_-1.9573938221171545', 'Cameroon_agro-industrial_zones_1007053.2133728268_561120.5355500001', 'gfw_oil_palm_v20191031_111.18800353957678_0.22075664300476205', 'rubber_619', 'rubber_1527', 'Sarawak_oil_palm_concessions_12715672.479570467_502814.8797500003', 'CIVKokao_-4.089326925828359_6.4108430665', 'gfw_oil_palm_v20191031_116.42165717864748_0.4507278038950915', 'rubber_1323', 'rubber_172', 'CIVKokao_-6.822645588962687_7.5947520291', 'rubber_824', 'GHAKokao_-1.3041328807040815_5.871560768380281', 'gfw_oil_palm_v20191031_101.74810049986331_0.509653500009108', 'RSPO_Palm_Oil_Mills_16810464.4961_-592079.1317000017', 'rubber_1392', 'rubber_808', 'gfw_oil_palm_v20191031_112.10051595201452_2.753158530991442', 'rubber_1345', 'gfw_oil_palm_v20191031_116.27218786826994_-1.4470465019943504', 'gfw_oil_palm_v20191031_101.29683607300365_-0.762602090763778', 'CIVKokao_-7.369309321589553_7.412612188700001', 'gfw_oil_palm_v20191031_-8.036612451413106_4.619896077875268', 'gfw_oil_palm_v20191031_112.39914284920906_-2.00261205340351', 'Cameroon_agro-industrial_zones_1034202.4999278982_465862.38990000077', 'gfw_oil_palm_v20191031_117.72388113478164_1.8805379167415879', 'Sarawak_oil_palm_concessions_12519226.177851485_326055.4512999989', 'RSPO_Palm_Oil_Mills_13067928.6076_668771.680399999', 'GHAKokao_-1.5764159099081634_6.596589768943661', 'GHAKokao_-1.122610861234694_5.509046268098591', 'rubber_955', 'gfw_oil_palm_v20191031_113.47336458398357_-1.3566336799003693', 'RSPO_Palm_Oil_Mills_12997776.623_-32927.227099999785', 'rubber_1297', 'gfw_oil_palm_v20191031_100.70599581725911_1.4983900006480724', 'gfw_oil_palm_v20191031_109.93028422072277_0.4547479784864663', 'gfw_oil_palm_v20191031_109.43190002383793_0.36512774285114347', 'gfw_oil_palm_v20191031_111.72006083771298_2.742596149143111', 'gfw_oil_palm_v20191031_113.44866058461344_3.631824363303849', 'CIVKokao_-6.367092478440299_6.7751227473', 'gfw_oil_palm_v20191031_112.35990329365924_2.9302030484820136', 'rubber_1462', 'rubber_787', 'rubber_1283', 'gfw_oil_palm_v20191031_111.41422673307844_-2.3941310652963352', 'CIVKokao_-6.275981856335822_6.2287032261', 'rubber_124', 'gfw_oil_palm_v20191031_114.28037010668157_3.7228365687027747', 'gfw_oil_palm_v20191031_110.08458721317263_-1.550409738718372', 'gfw_oil_palm_v20191031_113.55915163953938_-1.725579464270794', 'CIVKokao_-7.187088077380598_7.5947520291', 'gfw_oil_palm_v20191031_131.0949748917269_-1.4215044653586517', 'gfw_oil_palm_v20191031_116.48124443121273_0.44276913203995605', 'gfw_oil_palm_v20191031_111.92226402742057_-2.2227071680513006', 'CIVKokao_-3.633773815305971_6.4108430665', 'gfw_oil_palm_v20191031_110.46636901786559_-1.802737176029808', 'gfw_oil_palm_v20191031_111.28160775272934_-2.218602998579456', 'gfw_oil_palm_v20191031_117.80707987807827_4.09735039625383', 'GHAKokao_0.5110873139897958_6.596589768943661', 'gfw_oil_palm_v20191031_116.10728169070134_-1.4396194621184293', 'gfw_oil_palm_v20191031_101.57390035568909_1.76908350025343', 'gfw_oil_palm_v20191031_9.641520992124557_4.627207032828437', 'rubber_1035', 'gfw_oil_palm_v20191031_112.13758738610106_-2.200661736899548', 'Sarawak_oil_palm_concessions_12524008.062945887_285666.7446000017', 'gfw_oil_palm_v20191031_9.093975346999265_5.152972447920291', 'CIVKokao_-6.367092478440299_5.0447942635', 'RSPO_Palm_Oil_Mills_12913060.932_585246.8577999994', 'rubber_87', 'rubber_262', 'rubber_1160', 'rubber_1424', 'rubber_973', 'gfw_oil_palm_v20191031_100.95651004018794_1.6847220003700443', 'rubber_1445', 'gfw_oil_palm_v20191031_102.71315675025295_-2.064537945419687', 'GHAKokao_-2.3932649975204083_6.687218394014084', 'Cameroon_agro-industrial_zones_1041245.8693124012_470989.2754999995', 'rubber_1198', 'CIVKokao_-3.633773815305971_6.8661926675', 'rubber_617', 'rubber_547', 'rubber_605', 'RSPO_Palm_Oil_Mills_11084514.619800001_300797.74170000106', 'rubber_1144', 'gfw_oil_palm_v20191031_112.26542260589318_-2.6964540450180436', 'rubber_140', 'rubber_518', 'gfw_oil_palm_v20191031_113.95149924502391_-3.27795303105745', 'gfw_oil_palm_v20191031_116.10425634507828_-1.6569388543446166', 'rubber_1389', 'gfw_oil_palm_v20191031_112.66470633847544_-2.642690109410921', 'rubber_277', 'gfw_oil_palm_v20191031_114.88523595953251_-1.248272953733732', 'gfw_oil_palm_v20191031_110.68070747895217_-0.08876417942323656', 'CIVKokao_-6.731534966858209_5.8644235453', 'rubber_659', 'gfw_oil_palm_v20191031_114.25460257853604_4.092349814492451', 'gfw_oil_palm_v20191031_112.44602304432223_2.500032935022091', 'gfw_oil_palm_v20191031_111.47065545728668_0.4091389328654884', 'rubber_1036', 'gfw_oil_palm_v20191031_101.32422492327402_-0.7754290406176665', 'rubber_1385', 'Sarawak_oil_palm_concessions_12661595.526054505_401055.9792499989', 'rubber_696', 'gfw_oil_palm_v20191031_112.46179463296288_-3.0824856892130867', 'gfw_oil_palm_v20191031_104.35142129191028_-5.583549023268773', 'rubber_316', 'gfw_oil_palm_v20191031_9.601366703912886_4.375294141161817', 'rubber_43', 'gfw_oil_palm_v20191031_113.0546305051895_-1.9954901202227973', 'rubber_1166', 'gfw_oil_palm_v20191031_109.84738125075057_-0.9644741712958762', 'gfw_oil_palm_v20191031_110.08231252856245_-0.2835315762211792', 'rubber_1164', 'gfw_oil_palm_v20191031_102.90835382761422_-1.2362814502287165', 'rubber_1184', 'rubber_719', 'gfw_oil_palm_v20191031_101.76546202522884_-1.4644366474332173', 'gfw_oil_palm_v20191031_116.12359328179853_-2.3750143537293695', 'rubber_425', 'rubber_378', 'rubber_1058', 'CIVKokao_-7.733751810007464_7.3215422685', 'GHAKokao_-2.66554802672449_6.777847019084507', 'rubber_968', 'GHAKokao_-1.4856549001734694_5.599674893169014', 'gfw_oil_palm_v20191031_112.78071660370118_-1.9153637616782078', 'rubber_491', 'CIVKokao_-4.362658792141792_7.5036821089', 'rubber_653', 'gfw_oil_palm_v20191031_112.70447471081201_-2.1339481196098973', 'rubber_1506', 'Cameroon_agro-industrial_zones_996062.543528071_493818.8607999999', 'gfw_oil_palm_v20191031_-9.813644178010536_5.815731600044359', 'CIVKokao_-6.458203100544777_7.412612188700001', 'CIVKokao_-3.7248844374104486_5.7733536251', 'gfw_oil_palm_v20191031_97.70031969498098_4.679375185316644', 'gfw_oil_palm_v20191031_114.16562983576256_-2.7371882687235143', 'gfw_oil_palm_v20191031_111.92799498828214_2.4802910696272136', 'gfw_oil_palm_v20191031_109.27785712253217_0.5661932722518372', 'rubber_1442', 'GHAKokao_-2.0302209585816327_5.418417643028168', 'gfw_oil_palm_v20191031_116.9106639054772_-0.36800490275402353', 'rubber_1111', 'Cameroon_agro-industrial_zones_1064940.3227032118_467758.9118999988', 'rubber_1509', 'gfw_oil_palm_v20191031_102.59742261391547_-0.737414499879236', 'GHAKokao_-0.4872837930918368_7.956019145', 'gfw_oil_palm_v20191031_101.87181514591553_0.12418899977262754', 'rubber_983', 'gfw_oil_palm_v20191031_114.03057296560809_4.577281115481185', 'CIVKokao_-6.367092478440299_7.5947520291', 'GHAKokao_-0.2150007638877551_5.780932143309858', 'gfw_oil_palm_v20191031_96.08755517607841_4.459542639431362', 'GHAKokao_-2.3025039877857143_6.687218394014084', 'gfw_oil_palm_v20191031_116.09354171495725_-1.634482535540485', 'gfw_oil_palm_v20191031_102.17693247014668_0.13584749961253806', 'rubber_357', 'gfw_oil_palm_v20191031_110.60436510902166_-1.5430585143888607', 'gfw_oil_palm_v20191031_112.86313846481443_-1.8956390234220635', 'gfw_oil_palm_v20191031_104.22253276535686_-2.6637810770350256', 'gfw_oil_palm_v20191031_116.14265158763301_0.4743480135999505', 'rubber_160', 'gfw_oil_palm_v20191031_112.40803204592763_2.9302037396110165', 'rubber_638', 'gfw_oil_palm_v20191031_98.19395554687111_3.959550334580399', 'rubber_962', 'rubber_1403', 'gfw_oil_palm_v20191031_110.18688093308313_-0.9019422855079995', 'gfw_oil_palm_v20191031_112.09674886668307_-2.199128646869468', 'rubber_994', 'gfw_oil_palm_v20191031_-10.939313504221825_6.687598969401591', 'GHAKokao_-2.3025039877857143_6.234075268661972', 'rubber_73', 'RSPO_Palm_Oil_Mills_11201905.5869_578941.2672000006', 'rubber_171', 'rubber_370', 'gfw_oil_palm_v20191031_110.3217308009726_-0.36585694624099574', 'gfw_oil_palm_v20191031_131.0984325719516_-0.32039974620124667', 'rubber_1235', 'gfw_oil_palm_v20191031_109.35482697669858_1.1878265141324107', 'rubber_1452', 'rubber_227', 'rubber_633', 'gfw_oil_palm_v20191031_114.08067227938457_3.888971537706425', 'rubber_228', 'rubber_576', 'gfw_oil_palm_v20191031_109.55038116793834_0.4134365617979654', 'rubber_1435', 'gfw_oil_palm_v20191031_112.616719278071_-2.476977093318112', 'rubber_660', 'gfw_oil_palm_v20191031_112.45516853629091_2.5473656041893378', 'gfw_oil_palm_v20191031_111.59095199950565_0.1957076637277737', 'gfw_oil_palm_v20191031_119.64663440244638_-3.9538005166304515', 'CIVKokao_-3.4515525710970154_6.2287032261', 'gfw_oil_palm_v20191031_113.93005638216795_3.8461873718998163', 'rubber_405', 'rubber_817', 'gfw_oil_palm_v20191031_102.15578391641895_-0.37321149986078694', 'RSPO_Palm_Oil_Mills_16701668.184_-583403.7142000012', 'CIVKokao_-6.458203100544777_5.8644235453', 'CIVKokao_-7.369309321589553_6.5929829069000006', 'rubber_1282', 'gfw_oil_palm_v20191031_117.61670657894875_0.5979503274956528', 'gfw_oil_palm_v20191031_101.02026589502043_1.5940510000037023', 'gfw_oil_palm_v20191031_110.66694129200268_1.4966133827515478', 'rubber_949', 'gfw_oil_palm_v20191031_103.69149550025864_-1.1815271757884886', 'GHAKokao_-1.6671769196428572_5.599674893169014', 'gfw_oil_palm_v20191031_116.86397606169133_-0.9044964055346156', 'gfw_oil_palm_v20191031_100.30778062024802_1.2816089997056679', 'gfw_oil_palm_v20191031_109.8313347727542_0.4538452983719594', 'rubber_597', 'GHAKokao_-2.756309036459184_6.505961143873239', 'gfw_oil_palm_v20191031_101.42285526726297_1.9949963750827067', 'gfw_oil_palm_v20191031_113.3502152375699_3.5596596736051254', 'Sarawak_oil_palm_concessions_12700199.093163978_456303.35770000145', 'rubber_1432', 'gfw_oil_palm_v20191031_111.56385644308179_-0.08987763499476387', 'rubber_989', 'gfw_oil_palm_v20191031_114.99152721259395_-3.9144132246405547', 'gfw_oil_palm_v20191031_110.18967548447256_0.6754604723230102', 'rubber_1468', 'gfw_oil_palm_v20191031_113.76600436001647_3.4116302445402766', 'gfw_oil_palm_v20191031_117.24460872829465_3.174298159232734', 'gfw_oil_palm_v20191031_112.29315996523403_-2.6080434182191254', 'gfw_oil_palm_v20191031_114.15476295893299_3.8109713671349823', 'rubber_184', 'rubber_1471', 'CIVKokao_-6.458203100544777_5.4090739443', 'gfw_oil_palm_v20191031_116.94567077743787_0.0998119988747419', 'rubber_1454', 'rubber_484', 'gfw_oil_palm_v20191031_103.40907012116142_-1.3304127333608449', 'rubber_723', 'gfw_oil_palm_v20191031_112.14377511793955_2.1858754122705193', 'GHAKokao_-1.3041328807040815_5.237160392887323', 'rubber_596', 'GHAKokao_-1.2133718709693877_6.777847019084507', 'CIVKokao_-5.729318123708956_7.3215422685', 'rubber_784', 'rubber_133', 'rubber_392', 'gfw_oil_palm_v20191031_112.47430954289291_2.569260774815035', 'gfw_oil_palm_v20191031_117.33569753556021_2.751625811482114', 'gfw_oil_palm_v20191031_9.083832245410353_5.104328660289582', 'gfw_oil_palm_v20191031_112.35511437587238_-2.9875909113413854', 'rubber_871', 'rubber_1301', 'gfw_oil_palm_v20191031_111.81786848987457_-1.8897964388045807', 'rubber_836', 'gfw_oil_palm_v20191031_100.5662238666292_2.056731500208599', 'rubber_501', 'rubber_1484', 'gfw_oil_palm_v20191031_114.71456987396837_-0.6947457067489324', 'gfw_oil_palm_v20191031_112.25660235278649_-2.075183038366447', 'gfw_oil_palm_v20191031_110.68177108926425_-1.1556188655181643', 'rubber_532', 'RSPO_Palm_Oil_Mills_13131547.696600001_524303.1653000005', 'gfw_oil_palm_v20191031_111.43635559086297_-0.030680514943725257', 'RSPO_Palm_Oil_Mills_11477039.500799999_-118747.68690000102', 'rubber_1489', 'CIVKokao_-8.007083676320896_6.5019129867', 'GHAKokao_-2.3932649975204083_5.962189393450704', 'rubber_1057', 'gfw_oil_palm_v20191031_117.07048980836899_0.005596892632610206', 'GHAKokao_-2.3025039877857143_6.415332518802816', 'gfw_oil_palm_v20191031_112.07189832914146_-2.19762119201431', 'rubber_505', 'gfw_oil_palm_v20191031_110.76421650216162_-2.04278814840427', 'rubber_593', 'rubber_1413', 'Sarawak_oil_palm_concessions_12644321.051094584_350568.07379999943', 'gfw_oil_palm_v20191031_117.44902534874836_2.7300994393377493', 'gfw_oil_palm_v20191031_103.50487471084091_-1.9370850609767274', 'CIVKokao_-7.278198699485076_6.8661926675', 'RSPO_Palm_Oil_Mills_12994203.601300001_139250.14809999987', 'rubber_1052', 'rubber_47', 'rubber_1005', 'gfw_oil_palm_v20191031_110.29009096071941_-0.5085864461075573', 'rubber_1150', 'gfw_oil_palm_v20191031_115.59780312185687_-0.6082136787182435', 'gfw_oil_palm_v20191031_99.72888180308607_0.20072922172624885', 'gfw_oil_palm_v20191031_-9.127716062717539_5.165615980413179', 'rubber_1408', 'gfw_oil_palm_v20191031_112.81199376330254_-2.7457682848783236', 'rubber_1502', 'gfw_oil_palm_v20191031_116.96455647305642_-1.0746014586903243', 'GHAKokao_-1.6671769196428572_5.418417643028168', 'gfw_oil_palm_v20191031_116.70135526847847_-1.1545640034758833', 'gfw_oil_palm_v20191031_116.67479637282982_-0.9877223665439487', 'gfw_oil_palm_v20191031_116.10727102633237_-3.223740548687317', 'gfw_oil_palm_v20191031_110.28274242785503_0.006784410971846455', 'rubber_800', 'rubber_1070', 'gfw_oil_palm_v20191031_116.8014352975674_0.008414805399041825', 'rubber_128', 'CIVKokao_-3.633773815305971_5.5912137847', 'rubber_519', 'rubber_1182', 'gfw_oil_palm_v20191031_9.315263303451747_5.1448938937383275', 'rubber_948', 'rubber_391', 'GHAKokao_-2.3025039877857143_5.055903142746478', 'gfw_oil_palm_v20191031_110.5428173501291_-2.3280496997337536', 'rubber_64', 'gfw_oil_palm_v20191031_9.057423280352733_5.095619805010074', 'rubber_156', 'gfw_oil_palm_v20191031_114.72482838774505_-0.8706199940174599', 'gfw_oil_palm_v20191031_112.93867007365218_-2.1700261416430067', 'GHAKokao_-2.3025039877857143_6.596589768943661', 'gfw_oil_palm_v20191031_111.93319110404894_0.5318820915854019', 'gfw_oil_palm_v20191031_112.08655954732342_-2.4416590955407855', 'rubber_1466', 'gfw_oil_palm_v20191031_111.64333400826433_-0.38276913708594407', 'CIVKokao_-5.364875635291046_7.1394024281', 'CIVKokao_-5.455986257395523_7.2304723483', 'gfw_oil_palm_v20191031_114.86339337398883_-3.9486221694774883', 'CIVKokao_-7.369309321589553_6.3197731463', 'gfw_oil_palm_v20191031_112.76266066838446_-2.386913312049643', 'rubber_264', 'gfw_oil_palm_v20191031_112.97452759385058_-1.8501341750520623', 'rubber_12', 'gfw_oil_palm_v20191031_112.66118514443988_-2.0122849976544614', 'rubber_245', 'rubber_624', 'gfw_oil_palm_v20191031_111.48740768411386_-0.0698586848803302', 'rubber_1116', 'Sarawak_oil_palm_concessions_12438712.148584_286760.1311499998', 'rubber_275', 'rubber_598', 'RSPO_Palm_Oil_Mills_11518084.2216_198249.29250000045', 'gfw_oil_palm_v20191031_102.20406993916885_0.29157750005165894', 'gfw_oil_palm_v20191031_114.57165530592107_-0.784906787917862', 'gfw_oil_palm_v20191031_121.00543202310128_-2.634412899035965', 'gfw_oil_palm_v20191031_112.97453067421522_-2.0534746537821604', 'gfw_oil_palm_v20191031_100.87668509291154_-2.1754303589238475', 'gfw_oil_palm_v20191031_112.28307532333442_-2.1562833006337883', 'RSPO_Palm_Oil_Mills_11241660.894000001_442206.2857999988', 'rubber_473', 'Sarawak_oil_palm_concessions_12656447.350819563_375831.17250000127', 'CIVKokao_-6.275981856335822_7.3215422685', 'RSPO_Palm_Oil_Mills_11418863.9349_364213.7366000004', 'gfw_oil_palm_v20191031_115.08587107310217_-1.500631060624869', 'gfw_oil_palm_v20191031_112.41422467188517_-2.7848609679592187', 'gfw_oil_palm_v20191031_113.34984149052937_-1.6227571508716778', 'gfw_oil_palm_v20191031_110.64094872088874_-2.3479642641893292', 'rubber_1067', 'CIVKokao_-6.549313722649254_6.5929829069000006', 'gfw_oil_palm_v20191031_109.26606294717287_0.6741835771105116', 'gfw_oil_palm_v20191031_112.71638819217985_-1.466062947247167', 'gfw_oil_palm_v20191031_116.7178649113278_-0.9813724213001365', 'rubber_531', 'gfw_oil_palm_v20191031_112.25868692184255_-2.64169100848315', 'rubber_305', 'gfw_oil_palm_v20191031_114.77221030598028_2.611080984749748', 'gfw_oil_palm_v20191031_116.31476867363514_-2.2244225133382542', 'CIVKokao_-4.089326925828359_6.5019129867', 'GHAKokao_-2.2117429780510207_6.687218394014084', 'rubber_1089', 'gfw_oil_palm_v20191031_113.36195207372978_-1.2981995851426404', 'gfw_oil_palm_v20191031_115.42743617761136_0.27374440388123844', 'rubber_161', 'gfw_oil_palm_v20191031_105.48106716261961_-4.473345682657055', 'gfw_oil_palm_v20191031_112.35607766136155_-3.24342796687705', 'gfw_oil_palm_v20191031_115.69185185857123_-0.9600121575349476', 'rubber_526', 'gfw_oil_palm_v20191031_112.52638741996073_-1.7972867169583537', 'gfw_oil_palm_v20191031_102.436612714613_-0.5781770004681448', 'rubber_1488', 'rubber_654', 'Sarawak_oil_palm_concessions_12728470.513625719_314802.92950000055', 'rubber_1535', 'Cameroon_agro-industrial_zones_1002302.0348574318_469148.41984999925', 'gfw_oil_palm_v20191031_111.75151834949929_-1.94571088679794', 'gfw_oil_palm_v20191031_112.75073015596656_-1.748066270092238', 'rubber_639', 'RSPO_Palm_Oil_Mills_11342930.461199999_281544.13010000065', 'gfw_oil_palm_v20191031_111.01885017240124_1.6244515435040512', 'rubber_1286', 'gfw_oil_palm_v20191031_110.93172558866677_-2.398448917733276', 'gfw_oil_palm_v20191031_112.00743808889618_-2.308146290918529', 'gfw_oil_palm_v20191031_109.18211412190476_0.4617616085614884', 'rubber_960', 'gfw_oil_palm_v20191031_112.35644024844652_-1.8434406941826467', 'rubber_226', 'rubber_485', 'gfw_oil_palm_v20191031_116.05411253403054_0.33911154316325565', 'gfw_oil_palm_v20191031_110.4801310220886_0.7471399305635202', 'gfw_oil_palm_v20191031_111.44843113579843_0.4504817867051827', 'gfw_oil_palm_v20191031_112.42604457891713_-1.8549227627752316', 'gfw_oil_palm_v20191031_109.97482203467234_-0.9346958700682535', 'rubber_1534', 'gfw_oil_palm_v20191031_110.75583139721708_-2.2069858315808233', 'gfw_oil_palm_v20191031_113.7344090966385_-3.2571995259372954', 'gfw_oil_palm_v20191031_102.6231855270716_-0.5730382765451338', 'CIVKokao_-7.369309321589553_4.8626544231', 'rubber_498', 'gfw_oil_palm_v20191031_111.93193072121676_2.833418446953914', 'rubber_770', 'RSPO_Palm_Oil_Mills_12874161.003899999_-386360.0797000006', 'gfw_oil_palm_v20191031_111.588664612291_-1.9777959180471214', 'gfw_oil_palm_v20191031_113.01800885800984_-1.011864031499755', 'rubber_279', 'gfw_oil_palm_v20191031_101.63806750064757_-1.3346175554057993', 'GHAKokao_-1.4856549001734694_5.690303518239436', 'gfw_oil_palm_v20191031_117.3732027231274_4.084377716658395', 'gfw_oil_palm_v20191031_117.33847573736634_3.9866129305424636', 'gfw_oil_palm_v20191031_109.20447261564888_1.1919387577176224', 'rubber_268', 'rubber_1528', 'gfw_oil_palm_v20191031_113.39732233888205_3.035196539788558', 'gfw_oil_palm_v20191031_111.08274943026407_-2.441071748762141', 'gfw_oil_palm_v20191031_112.73496883801714_-1.9134489651974889', 'gfw_oil_palm_v20191031_102.8136775694509_-4.184555530663147', 'gfw_oil_palm_v20191031_114.04047936541886_3.806703002141944', 'GHAKokao_-0.0334787444183675_6.143446643591549', 'GHAKokao_-0.4872837930918368_6.052818018521126', 'gfw_oil_palm_v20191031_101.18880777947082_0.9028960001004407', 'gfw_oil_palm_v20191031_110.38892114700175_-2.2943562651794593', 'CIVKokao_-7.551530565798508_6.6840528271', 'gfw_oil_palm_v20191031_111.96432302064056_-2.526257609501016', 'rubber_667', 'rubber_902', 'gfw_oil_palm_v20191031_111.69899395171844_-0.3894015252101326', 'gfw_oil_palm_v20191031_102.34577183584425_-0.02684600044253216', 'rubber_1004', 'rubber_746', 'GHAKokao_0.3295652945204081_7.140361519366197', 'gfw_oil_palm_v20191031_112.23834680147316_2.8029547714955925', 'CIVKokao_-7.004866833171643_6.1376333059', 'rubber_601', 'gfw_oil_palm_v20191031_116.38889961353361_0.24780817235938457', 'rubber_1149', 'rubber_567', 'gfw_oil_palm_v20191031_112.9129170188667_-1.58947982048727', 'gfw_oil_palm_v20191031_104.68662544977944_-2.7855890388529474', 'gfw_oil_palm_v20191031_102.40896320365678_-0.4569945000460507', 'gfw_oil_palm_v20191031_10.7154762106546_3.6138264330935783', 'rubber_270', 'gfw_oil_palm_v20191031_117.11065905969406_1.742456350180504', 'rubber_1402', 'GHAKokao_-2.4840260072551024_7.321618769507042', 'Sarawak_oil_palm_concessions_12703741.277825674_508467.77270000055', 'rubber_676', 'rubber_971', 'rubber_1418', 'CIVKokao_-4.635990658455224_6.8661926675', 'Sarawak_oil_palm_concessions_12473409.155401971_228844.65874999948', 'gfw_oil_palm_v20191031_102.9937964020394_0.4084489999714833', 'GHAKokao_-2.66554802672449_7.140361519366197', 'gfw_oil_palm_v20191031_100.05774763910617_0.9781777768829727', 'rubber_1508', 'GHAKokao_0.4203263042551022_8.046647770070422', 'gfw_oil_palm_v20191031_113.91004185844221_3.3345029181752466', 'gfw_oil_palm_v20191031_113.83871341854821_-1.5565570649064853', 'rubber_682', 'rubber_476', 'gfw_oil_palm_v20191031_109.3209541423586_1.4112976792445409', 'rubber_958', 'GHAKokao_-2.8470700461938776_7.684133269788733', 'rubber_906', 'gfw_oil_palm_v20191031_113.99989091735091_3.0560861595487268', 'gfw_oil_palm_v20191031_109.98901389028734_0.5259349801153519', 'rubber_295', 'gfw_oil_palm_v20191031_109.83465397679659_0.4751802331812769', 'CIVKokao_-7.187088077380598_7.2304723483', 'RSPO_Palm_Oil_Mills_11196885.411899999_185558.6922999993', 'rubber_1018', 'rubber_1510', 'gfw_oil_palm_v20191031_9.474707976306295_4.42321762039694', 'rubber_867', 'gfw_oil_palm_v20191031_109.20677273849573_0.3754424599516142', 'gfw_oil_palm_v20191031_15.798704185794946_1.4915176527175902', 'gfw_oil_palm_v20191031_118.65594881114987_1.2458698512127455', 'gfw_oil_palm_v20191031_101.54487997451362_-1.094930217155735', 'rubber_490', 'gfw_oil_palm_v20191031_8.964394011478454_4.998120765860705', 'rubber_543', 'gfw_oil_palm_v20191031_109.58034686829704_1.1497867707929572', 'rubber_105', 'CIVKokao_-5.364875635291046_6.8661926675', 'gfw_oil_palm_v20191031_117.2608592527238_2.0650335548048417', 'rubber_210', 'gfw_oil_palm_v20191031_115.04356970166506_-0.8410417887974688', 'rubber_1458', 'gfw_oil_palm_v20191031_112.13420532839618_-2.310245036978813', 'gfw_oil_palm_v20191031_110.72122340777933_-0.4063521620724657', 'gfw_oil_palm_v20191031_110.13701707902385_0.6462789139907841', 'gfw_oil_palm_v20191031_140.6538173274846_-7.845930815005033', 'rubber_344', 'rubber_224', 'CIVKokao_-8.007083676320896_7.5036821089', 'gfw_oil_palm_v20191031_114.40999730386899_4.1368564459683626', 'CIVKokao_-3.178220704783583_6.0465633857', 'rubber_1132', 'rubber_1021', 'rubber_75', 'CIVKokao_-6.913756211067165_6.957262587700001', 'gfw_oil_palm_v20191031_9.046512935704904_5.034141915217276', 'rubber_296', 'rubber_549', 'gfw_oil_palm_v20191031_109.92876220367285_0.2020131860597587', 'rubber_1434', 'gfw_oil_palm_v20191031_101.96543794003048_0.3501179998958719', 'rubber_244', 'gfw_oil_palm_v20191031_114.19136976312446_4.006472331932713', 'rubber_10', 'rubber_18', 'gfw_oil_palm_v20191031_111.97459424017374_-2.333258541997992', 'rubber_1377', 'rubber_13', 'Sarawak_oil_palm_concessions_12394368.974040937_284456.8138500005', 'gfw_oil_palm_v20191031_111.70139511193446_-2.5362170107563884', 'rubber_940', 'gfw_oil_palm_v20191031_111.70300999929941_-0.6882498262683896', 'Sarawak_oil_palm_concessions_12664373.674298339_380005.56069999933', 'rubber_673', 'rubber_1495', 'rubber_369', 'rubber_1261', 'gfw_oil_palm_v20191031_111.68770411798263_0.6528802791016801', 'rubber_460', 'gfw_oil_palm_v20191031_109.6600938699682_-0.3215413986664828', 'rubber_814', 'rubber_1159', 'CIVKokao_-5.729318123708956_7.6858219493', 'GHAKokao_-1.848698939112245_4.874645892605633', 'Sarawak_oil_palm_concessions_12436620.286282577_305421.0658999998', 'gfw_oil_palm_v20191031_112.27849488027667_1.1271097597076505', 'rubber_24', 'gfw_oil_palm_v20191031_101.94355735591722_-3.296569685392626', 'gfw_oil_palm_v20191031_100.14158890919597_2.23968625156931', 'rubber_1046', 'gfw_oil_palm_v20191031_109.45065450514932_1.069809972652223', 'gfw_oil_palm_v20191031_112.11029234727073_2.4542209510860857', 'gfw_oil_palm_v20191031_99.36736522198979_0.31012929078426055', 'CIVKokao_-6.458203100544777_7.1394024281', 'CIVKokao_-5.455986257395523_6.3197731463', 'rubber_851', 'gfw_oil_palm_v20191031_109.22364211537615_0.6356849672874887', 'gfw_oil_palm_v20191031_110.63567876843409_1.3357475515084047', 'rubber_545', 'gfw_oil_palm_v20191031_115.38857206705539_-2.056920146297614', 'gfw_oil_palm_v20191031_108.97552706050585_1.0261601212426967', 'gfw_oil_palm_v20191031_100.3388702091248_1.1515669999171791', 'CIVKokao_-4.544880036350747_5.9554934655', 'rubber_1373', 'gfw_oil_palm_v20191031_9.54250572164009_4.524074545504021', 'gfw_oil_palm_v20191031_103.92796181720561_-2.389089352141781', 'gfw_oil_palm_v20191031_117.74394372943516_2.6863165584125284', 'rubber_318', 'rubber_677', 'rubber_801', 'RSPO_Palm_Oil_Mills_13067343.289700001_639390.4561999999', 'rubber_1492', 'gfw_oil_palm_v20191031_109.03583717382168_1.0293475987128318', 'rubber_141', 'gfw_oil_palm_v20191031_120.76600583537805_-2.5148965033209265', 'rubber_116', 'gfw_oil_palm_v20191031_112.53144297624935_1.0295978098911007', 'gfw_oil_palm_v20191031_9.846485606410969_3.7379045638946025', 'rubber_487', 'gfw_oil_palm_v20191031_150.75491843776342_-5.526632519625025', 'Sarawak_oil_palm_concessions_12680407.843607362_371404.8850500006', 'CIVKokao_-5.911539367917911_6.1376333059', 'gfw_oil_palm_v20191031_96.35292117032095_4.034613881875202', 'gfw_oil_palm_v20191031_8.9477820681104_4.431625002691732', 'CIVKokao_-6.184871234231344_5.9554934655', 'rubber_1450', 'gfw_oil_palm_v20191031_122.23722848537588_-1.3244194399051707', 'gfw_oil_palm_v20191031_112.03314776726366_-2.414800047184343', 'rubber_235', 'Sarawak_oil_palm_concessions_12456653.570973765_292469.91449999996', 'rubber_1002', 'GHAKokao_-1.848698939112245_5.690303518239436', 'Sarawak_oil_palm_concessions_12650155.073407598_430402.73230000027', 'rubber_1334', 'gfw_oil_palm_v20191031_113.37109005250812_3.249996627892216', 'Sarawak_oil_palm_concessions_12662852.160486039_393684.2243499998', 'gfw_oil_palm_v20191031_111.67856872000644_-1.8224315626164866', 'rubber_1269', 'gfw_oil_palm_v20191031_110.54396956930032_-1.815667212022106', 'gfw_oil_palm_v20191031_111.34402462648589_-2.541565594176774', 'rubber_1477', 'gfw_oil_palm_v20191031_99.16896824306562_0.4166198596688844', 'RSPO_Palm_Oil_Mills_11332852.930300001_306122.38540000096', 'gfw_oil_palm_v20191031_15.485394851022999_0.35100164675864676', 'gfw_oil_palm_v20191031_101.84012100172302_-0.6233835000983845', 'CIVKokao_-4.45376941424627_5.9554934655', 'Cameroon_agro-industrial_zones_1016447.193759378_502491.88335000165', 'gfw_oil_palm_v20191031_109.42630767760741_0.5521849693609511', 'rubber_214', 'CIVKokao_-3.998216303723882_5.8644235453', 'gfw_oil_palm_v20191031_114.08782956826086_4.0955506298078035', 'gfw_oil_palm_v20191031_100.83166443328216_0.5198585002696916', 'rubber_1514', 'CIVKokao_-4.362658792141792_6.3197731463', 'GHAKokao_-3.028592065663265_6.234075268661972', 'gfw_oil_palm_v20191031_112.19911775123354_2.1102356927230517', 'gfw_oil_palm_v20191031_108.85346790581768_0.8050917094649606', 'CIVKokao_-5.729318123708956_7.0483325079', 'rubber_628', 'rubber_375', 'gfw_oil_palm_v20191031_113.18967357001594_3.32403306217617', 'rubber_114', 'rubber_508', 'gfw_oil_palm_v20191031_115.96989532517999_-0.5279592621102154', 'rubber_1550', 'gfw_oil_palm_v20191031_112.29370268934039_2.622164447731251', 'gfw_oil_palm_v20191031_113.60614696100805_-1.4431704630963225', 'gfw_oil_palm_v20191031_114.35369818353229_-2.628341624466316', 'gfw_oil_palm_v20191031_101.83991365667936_0.7888600005386763', 'rubber_652', 'rubber_782', 'rubber_1366', 'gfw_oil_palm_v20191031_114.22070296682193_4.428418509956401', 'rubber_1083', 'CIVKokao_-7.824862432111941_7.412612188700001', 'gfw_oil_palm_v20191031_116.72537145417664_-0.24372698890931588', 'gfw_oil_palm_v20191031_110.65535038948941_0.7868824601575568', 'CIVKokao_-4.362658792141792_5.9554934655', 'gfw_oil_palm_v20191031_113.49333104667049_3.6836156436471583', 'gfw_oil_palm_v20191031_120.95688360496632_-1.9103123156108097', 'gfw_oil_palm_v20191031_117.11481533380783_3.2266764032435162', 'Sarawak_oil_palm_concessions_12721072.998399526_398016.52355000004', 'CIVKokao_-5.729318123708956_5.1358641837', 'gfw_oil_palm_v20191031_109.69809374596144_-0.24577250319842392', 'CIVKokao_-3.633773815305971_7.5036821089', 'rubber_1098', 'rubber_41', 'rubber_274', 'gfw_oil_palm_v20191031_110.7525216382465_-2.4063258771873564', 'gfw_oil_palm_v20191031_114.99123200019349_-3.926609022188586', 'CIVKokao_-6.002649990022389_7.5036821089', 'Sarawak_oil_palm_concessions_12623332.180122312_338034.67284999974', 'GHAKokao_-1.3041328807040815_6.234075268661972', 'rubber_1406', 'gfw_oil_palm_v20191031_100.8489049477119_-2.149346882752411', 'gfw_oil_palm_v20191031_112.77565980567879_3.0370735782331053', 'gfw_oil_palm_v20191031_110.21261914538358_-2.4421057699152584', 'gfw_oil_palm_v20191031_102.71599712069313_0.281683499743707', 'gfw_oil_palm_v20191031_113.45460602164462_-1.4433886147925818', 'gfw_oil_palm_v20191031_108.9390850066943_0.35412923882336145', 'gfw_oil_palm_v20191031_114.28436019157112_3.8277366285427377', 'gfw_oil_palm_v20191031_99.77405640237126_-0.02447402460651915', 'gfw_oil_palm_v20191031_114.26538152131245_3.6058069729135696', 'gfw_oil_palm_v20191031_9.003832372230615_4.210636769071812', 'CIVKokao_-5.911539367917911_5.6822837049', 'rubber_1140', 'gfw_oil_palm_v20191031_109.8524919067608_1.2518540026102585', 'gfw_oil_palm_v20191031_109.57160257493813_0.19982623719127446', 'gfw_oil_palm_v20191031_111.82688994033727_0.6092164517779395', 'rubber_435', 'rubber_775', 'gfw_oil_palm_v20191031_102.75502983221202_-0.7671539998571291', 'rubber_790', 'CIVKokao_-5.000433146873135_5.5001438645', 'gfw_oil_palm_v20191031_109.56567368132173_-0.39175118526893016', 'gfw_oil_palm_v20191031_117.64824060990571_3.7385230065316364', 'gfw_oil_palm_v20191031_115.11439071679641_-0.5773766389206969', 'gfw_oil_palm_v20191031_102.25628801987614_-0.7595450006012072', 'gfw_oil_palm_v20191031_101.92477431388171_-3.3861430960269843', 'rubber_355', 'rubber_1059', 'Cameroon_agro-industrial_zones_1070192.0382062397_473172.5072000008', 'CIVKokao_-5.729318123708956_6.5019129867', 'rubber_218', 'gfw_oil_palm_v20191031_10.09890762654629_3.5535379088475167', 'gfw_oil_palm_v20191031_111.65171023067515_-2.5244170961220505', 'rubber_149', 'rubber_747', 'gfw_oil_palm_v20191031_101.3002929871464_-0.7694125221700858', 'Sarawak_oil_palm_concessions_12394967.88707351_270782.5457499996', 'gfw_oil_palm_v20191031_109.627521599862_0.08606176049201508', 'gfw_oil_palm_v20191031_115.60827684003863_-2.284999264904087', 'rubber_880', 'gfw_oil_palm_v20191031_110.62832089854925_-2.462183832917418', 'gfw_oil_palm_v20191031_103.3583923167366_-2.9302182328850392', 'gfw_oil_palm_v20191031_99.1812705956127_0.3794175821058161', 'gfw_oil_palm_v20191031_9.513048651023583_4.617511741773569', 'rubber_1236', 'rubber_1291', 'rubber_882', 'gfw_oil_palm_v20191031_111.37274897549739_-2.1003460755108847', 'GHAKokao_-2.1209819683163267_5.237160392887323', 'gfw_oil_palm_v20191031_97.8954317595563_2.4584560393648474', 'gfw_oil_palm_v20191031_115.8972703371476_-2.76998707659223', 'gfw_oil_palm_v20191031_111.82655413304164_0.8734007906140846', 'rubber_586', 'gfw_oil_palm_v20191031_101.21813292136088_-0.08675549956655004', 'GHAKokao_-1.0318498515_5.962189393450704', 'rubber_1280', 'gfw_oil_palm_v20191031_110.02470148336636_-0.7250008289749701', 'rubber_816', 'gfw_oil_palm_v20191031_115.98843274256338_-2.829363389708618', 'rubber_535', 'gfw_oil_palm_v20191031_102.92053649414848_-1.542355738726286', 'gfw_oil_palm_v20191031_97.65924764049765_4.794817234427882', 'gfw_oil_palm_v20191031_112.0592093083356_2.047392878478661', 'gfw_oil_palm_v20191031_109.09462088992271_1.5036406519446643', 'rubber_494', 'gfw_oil_palm_v20191031_16.05099617208044_0.30952297865266587', 'rubber_431', 'CIVKokao_-8.007083676320896_7.412612188700001', 'CIVKokao_-5.911539367917911_5.5001438645', 'rubber_521', 'rubber_1270', 'gfw_oil_palm_v20191031_102.30695415110316_-0.4729519998348337', 'rubber_1397', 'gfw_oil_palm_v20191031_9.128839685093826_4.457742362170393', 'rubber_1475', 'rubber_946', 'rubber_1359', 'CIVKokao_-6.002649990022389_6.6840528271', 'gfw_oil_palm_v20191031_115.96608861143491_-2.704364444413528', 'gfw_oil_palm_v20191031_9.09586587630238_5.016193917615283', 'rubber_493', 'rubber_406', 'gfw_oil_palm_v20191031_116.40405969868547_0.4810298001353033', 'gfw_oil_palm_v20191031_112.67677300527677_-3.321747022207262', 'gfw_oil_palm_v20191031_8.979043247659574_5.0863279196978795', 'gfw_oil_palm_v20191031_110.77979943687805_-2.3522077328005366', 'gfw_oil_palm_v20191031_97.8560841568688_4.235070652089007', 'gfw_oil_palm_v20191031_122.36160719778702_-1.2963672564935678', 'gfw_oil_palm_v20191031_111.11740656502715_-1.829167206851082', 'rubber_1547', 'gfw_oil_palm_v20191031_110.29068276902849_0.912238612571997', 'CIVKokao_-7.642641187902986_7.0483325079', 'GHAKokao_-0.5780448028265308_5.418417643028168', 'Sarawak_oil_palm_concessions_12391426.710692156_159999.42405000143', 'rubber_1264', 'rubber_573', 'gfw_oil_palm_v20191031_111.35700768990797_1.4117259305572816', 'gfw_oil_palm_v20191031_123.60268963285121_0.7792370914187359', 'gfw_oil_palm_v20191031_114.05732350953913_4.12192696615665', 'gfw_oil_palm_v20191031_109.8342393699161_0.5424132647104898', 'GHAKokao_-1.5764159099081634_6.959104269225352', 'gfw_oil_palm_v20191031_9.303507106622982_4.169444980651434', 'gfw_oil_palm_v20191031_114.01535940600102_3.6678370873617894', 'rubber_1289', 'CIVKokao_-5.547096879500001_6.5019129867', 'gfw_oil_palm_v20191031_116.06612357921964_-1.9860052858152244', 'rubber_1255', 'rubber_1430', 'rubber_938', 'rubber_481', 'rubber_231', 'gfw_oil_palm_v20191031_110.61025969977877_-1.7092735172089704', 'gfw_oil_palm_v20191031_111.30120533661173_-2.5122325652806126', 'gfw_oil_palm_v20191031_101.94017350015707_-0.625102500679759', 'rubber_236', 'gfw_oil_palm_v20191031_97.7918648196534_4.505528265816906', 'rubber_757', 'gfw_oil_palm_v20191031_114.0345953865683_3.934869767525811', 'rubber_1112', 'rubber_83', 'gfw_oil_palm_v20191031_116.68777031415993_-1.2570213378143933', 'CIVKokao_-5.273765013186567_6.1376333059', 'gfw_oil_palm_v20191031_113.83193898495931_-3.306951507206179', 'gfw_oil_palm_v20191031_116.79301292633302_0.6357323165931348', 'gfw_oil_palm_v20191031_101.79949283335449_-3.1972225906999086', 'gfw_oil_palm_v20191031_113.05709731712022_-1.8452611504316678', 'gfw_oil_palm_v20191031_100.15020961225241_2.298382784687874', 'gfw_oil_palm_v20191031_116.12563865772265_-1.6373675260404355', 'gfw_oil_palm_v20191031_102.64552353665759_-2.0480451664512316', 'rubber_1426', 'gfw_oil_palm_v20191031_111.29867523163821_0.14801289872630718', 'gfw_oil_palm_v20191031_112.47080185549616_2.955420292262801', 'gfw_oil_palm_v20191031_139.20428934990193_-5.958810516591996', 'gfw_oil_palm_v20191031_114.65589771159327_-0.8543089549941953', 'GHAKokao_-2.4840260072551024_6.415332518802816', 'CIVKokao_-2.90488883847015_5.4090739443', 'gfw_oil_palm_v20191031_113.06140601483452_-2.0741190972184995', 'gfw_oil_palm_v20191031_102.48732222592977_-1.9333899279027662', 'gfw_oil_palm_v20191031_116.06960999595927_-2.4656521632666113', 'gfw_oil_palm_v20191031_113.69370173323995_3.873921068502625', 'rubber_1298', 'Sarawak_oil_palm_concessions_12394874.49976262_185837.17115000077', 'rubber_269', 'rubber_1361', 'gfw_oil_palm_v20191031_117.42595566868735_3.8590592123129284', 'Cameroon_agro-industrial_zones_1058987.7316942362_514576.37590000033', 'gfw_oil_palm_v20191031_112.8441668550694_-1.4316709445084257', 'gfw_oil_palm_v20191031_-9.768394866453153_6.0622983341148995', 'rubber_821', 'rubber_65', 'gfw_oil_palm_v20191031_116.02936213711769_-2.4460595628484896', 'gfw_oil_palm_v20191031_112.08708456194654_-1.692704245054756', 'rubber_1024', 'gfw_oil_palm_v20191031_111.60076709950857_-2.059523422367988', 'rubber_220', 'gfw_oil_palm_v20191031_116.73703166167006_1.017726696379981', 'CIVKokao_-4.727101280559703_6.5019129867', 'gfw_oil_palm_v20191031_96.45598297058386_3.8931771277723897', 'rubber_1371', 'rubber_1175', 'gfw_oil_palm_v20191031_109.83960741270391_-0.10999251219459438', 'GHAKokao_-0.941088841765306_6.324703893732394', 'gfw_oil_palm_v20191031_104.41521875548105_-2.4454615132381434', 'CIVKokao_-5.000433146873135_6.1376333059', 'rubber_1228', 'gfw_oil_palm_v20191031_101.11213741336276_-0.15553850050136475', 'gfw_oil_palm_v20191031_101.19874990099737_0.993645999613193', 'rubber_62', 'gfw_oil_palm_v20191031_100.87651603664463_1.127709999616826', 'Sarawak_oil_palm_concessions_12629047.126008831_404563.8493000008', 'rubber_978', 'rubber_1541', 'rubber_992', 'rubber_1311', 'rubber_403', 'CIVKokao_-3.998216303723882_6.5929829069000006', 'rubber_1027', 'rubber_743', 'rubber_1170', 'rubber_806', 'gfw_oil_palm_v20191031_9.775003294992352_4.726754711860593', 'gfw_oil_palm_v20191031_111.50456167425855_-1.8789706608172594', 'gfw_oil_palm_v20191031_116.05560387373023_-1.4794411365491555', 'gfw_oil_palm_v20191031_111.47470092765573_-0.10248678208924389', 'CIVKokao_-7.369309321589553_5.3180040241', 'rubber_945', 'gfw_oil_palm_v20191031_112.85563324709787_-1.678515710381646', 'CIVKokao_-5.091543768977613_5.8644235453', 'rubber_557', 'CIVKokao_-4.45376941424627_5.5001438645', 'GHAKokao_-2.4840260072551024_7.049732894295774', 'gfw_oil_palm_v20191031_114.04768513458879_4.508860903308118', 'RSPO_Palm_Oil_Mills_16707600.288400002_-611419.8434000015', 'rubber_897', 'gfw_oil_palm_v20191031_116.22751044261715_-3.874786798871554', 'GHAKokao_-1.0318498515_6.505961143873239', 'gfw_oil_palm_v20191031_111.72516924302056_-2.5476470337835337', 'RSPO_Palm_Oil_Mills_11409082.6252_-436906.60610000044', 'rubber_780', 'RSPO_Palm_Oil_Mills_11388367.0698_357054.7058000006', 'gfw_oil_palm_v20191031_117.19218194164111_0.8102750465063195', 'gfw_oil_palm_v20191031_110.07095994183979_0.29455596203814594', 'RSPO_Palm_Oil_Mills_11148677.9498_199603.7072999999', 'CIVKokao_-6.731534966858209_5.4090739443', 'rubber_418', 'rubber_1335', 'gfw_oil_palm_v20191031_112.6217365864664_0.5545660440877214', 'rubber_284', 'gfw_oil_palm_v20191031_103.9553694997447_-2.5364888452339756', 'rubber_46', 'CIVKokao_-7.551530565798508_6.5929829069000006', 'rubber_565', 'gfw_oil_palm_v20191031_103.07841348868008_0.2109834994390667', 'gfw_oil_palm_v20191031_116.75428890301853_1.0762548800088325', 'rubber_346', 'rubber_191', 'rubber_239', 'CIVKokao_-3.4515525710970154_6.7751227473', 'rubber_1274', 'gfw_oil_palm_v20191031_112.94541489074173_-1.9811679912596958', 'gfw_oil_palm_v20191031_110.9320569148372_1.4536471348075395', 'CIVKokao_-4.45376941424627_7.7768918695', 'rubber_441', 'gfw_oil_palm_v20191031_101.83610191987043_0.2659325000349497', 'rubber_462', 'rubber_119', 'rubber_1548', 'CIVKokao_-6.731534966858209_6.4108430665', 'rubber_957', 'gfw_oil_palm_v20191031_101.67154947288658_-3.065464139008725', 'gfw_oil_palm_v20191031_116.75903266311747_1.224155710967409', 'gfw_oil_palm_v20191031_111.21261336025708_0.09764324553944448', 'rubber_1476', 'rubber_979', 'gfw_oil_palm_v20191031_109.30994862528458_0.9439856115967586', 'CIVKokao_-4.089326925828359_6.3197731463', 'rubber_702', 'gfw_oil_palm_v20191031_115.919864128536_-2.7155271003453265', 'CIVKokao_-6.002649990022389_5.9554934655', 'gfw_oil_palm_v20191031_109.73674111704304_0.4982019139372369', 'gfw_oil_palm_v20191031_109.18979973302689_0.427177876657737', 'gfw_oil_palm_v20191031_101.63594141104758_0.16256500007486352', 'rubber_325', 'gfw_oil_palm_v20191031_114.3173812050729_-2.86828178192863', 'gfw_oil_palm_v20191031_102.99817677219734_-1.6218352324598868', 'rubber_877', 'gfw_oil_palm_v20191031_9.02809812931715_5.127763148750432', 'gfw_oil_palm_v20191031_117.19228092967171_1.736388965178719', 'Sarawak_oil_palm_concessions_12625882.96685582_396107.0163500011', 'rubber_204', 'gfw_oil_palm_v20191031_97.2834440230903_4.908349020990556', 'gfw_oil_palm_v20191031_108.9836690601326_0.44261619423210163', 'gfw_oil_palm_v20191031_-11.022589236152363_6.731158604768581', 'gfw_oil_palm_v20191031_9.71570656631104_4.6352509127495125', 'gfw_oil_palm_v20191031_103.24583695470105_-1.2684911212182044', 'rubber_1251', 'rubber_697', 'CIVKokao_-6.6404243447537326_5.2269341039', 'gfw_oil_palm_v20191031_109.53164764807829_0.6803310489888474', 'gfw_oil_palm_v20191031_97.9677902572283_2.300086856523336', 'rubber_477', 'rubber_243', 'gfw_oil_palm_v20191031_111.54974352214944_-0.2885877023605019', 'rubber_23', 'rubber_91', 'gfw_oil_palm_v20191031_113.10114996305062_-2.1610603846789616', 'CIVKokao_-7.824862432111941_7.5036821089', 'GHAKokao_-2.3025039877857143_7.59350464471831', 'rubber_620', 'gfw_oil_palm_v20191031_116.23149721581152_-0.7026209538938133', 'rubber_25', 'gfw_oil_palm_v20191031_114.8962278435819_-1.0928109058485802', 'rubber_857', 'rubber_1313', 'gfw_oil_palm_v20191031_110.76366465368275_-0.5192426443324507', 'gfw_oil_palm_v20191031_121.95981465766077_-4.27697369567943', 'rubber_1204', 'CIVKokao_-6.549313722649254_5.5001438645', 'gfw_oil_palm_v20191031_114.63160359998923_-0.7844545602296762', 'gfw_oil_palm_v20191031_115.98614734566145_-2.5307883606941743', 'rubber_831', 'rubber_317', 'CIVKokao_-7.824862432111941_7.2304723483', 'rubber_662', 'CIVKokao_-3.8159950595149263_6.0465633857', 'gfw_oil_palm_v20191031_99.70435434963186_0.15568188725941923', 'gfw_oil_palm_v20191031_116.36205906192563_-1.4672747131074573', 'GHAKokao_-1.0318498515_6.143446643591549', 'gfw_oil_palm_v20191031_111.09339030788125_-2.168466745543782', 'gfw_oil_palm_v20191031_140.53249006908058_-6.590959549143804', 'gfw_oil_palm_v20191031_99.99546482983604_-0.15437490457810554', 'GHAKokao_-1.2133718709693877_6.052818018521126', 'gfw_oil_palm_v20191031_115.4773392402413_-1.974739731253493', 'gfw_oil_palm_v20191031_115.02696045668631_-1.1341792505219246', 'gfw_oil_palm_v20191031_9.33972497278624_5.179841472006501', 'rubber_1107', 'gfw_oil_palm_v20191031_112.40483572617296_0.7335018124587975', 'gfw_oil_palm_v20191031_98.01787687406765_3.995689034771175', 'CIVKokao_-3.8159950595149263_5.7733536251', 'rubber_891', 'rubber_664', 'GHAKokao_-1.5764159099081634_5.780932143309858', 'rubber_691', 'gfw_oil_palm_v20191031_123.34084681995984_-0.6534001571914132', 'rubber_1080', 'rubber_351', 'rubber_793', 'gfw_oil_palm_v20191031_111.02395674181744_-0.24235579393467788', 'gfw_oil_palm_v20191031_101.43707024378229_-0.18934499962190898', 'rubber_520', 'rubber_604', 'rubber_112', 'gfw_oil_palm_v20191031_116.09383652650835_0.5297899321597015', 'RSPO_Palm_Oil_Mills_12358466.894900002_-276498.75939999893', 'gfw_oil_palm_v20191031_112.61847220399781_-2.3536419117947673', 'rubber_417', 'rubber_1199', 'rubber_145', 'rubber_1512', 'GHAKokao_-2.2117429780510207_6.415332518802816', 'gfw_oil_palm_v20191031_109.46396332017227_1.1018661262208127', 'rubber_1331', 'GHAKokao_-1.6671769196428572_5.871560768380281', 'GHAKokao_-1.3948938904387755_6.415332518802816', 'gfw_oil_palm_v20191031_119.64622969707261_-3.9556390015885654', 'Sarawak_oil_palm_concessions_12724679.503014997_439802.2240999993', 'gfw_oil_palm_v20191031_111.38713673380406_0.15215349164046188', 'rubber_453', 'gfw_oil_palm_v20191031_111.49517059324833_-0.10248678208924389', 'rubber_1245', 'gfw_oil_palm_v20191031_101.42950553132695_1.8413230000565477', 'rubber_52', 'gfw_oil_palm_v20191031_110.37117466744684_0.7273671613155557', 'rubber_345', 'gfw_oil_palm_v20191031_109.39652733418862_1.4787195917858469', 'rubber_323', 'CIVKokao_-3.269331326888061_6.0465633857', 'GHAKokao_-0.1242397541530611_6.052818018521126', 'gfw_oil_palm_v20191031_114.15310987886343_4.269793484831524', 'CIVKokao_-3.907105681619404_5.9554934655', 'rubber_872', 'rubber_68', 'gfw_oil_palm_v20191031_101.80204168691571_-0.8635750000861151', 'gfw_oil_palm_v20191031_112.36609399159208_-2.4170228888951613', 'rubber_1315', 'GHAKokao_-2.937831055928572_6.052818018521126', 'gfw_oil_palm_v20191031_111.36175422720342_-2.3766171911304355', 'gfw_oil_palm_v20191031_110.54671404435803_0.2065197751675214', 'gfw_oil_palm_v20191031_111.74250393432627_0.943804750289047', 'gfw_oil_palm_v20191031_9.59908990007164_4.148858284032713', 'Sarawak_oil_palm_concessions_12606037.67533784_273776.2097999994', 'CIVKokao_-6.275981856335822_7.6858219493', 'gfw_oil_palm_v20191031_9.267951669230406_5.137055367261439', 'gfw_oil_palm_v20191031_117.68187876835796_0.8736065586458324', 'gfw_oil_palm_v20191031_136.77639323625988_-4.569685935457471', 'rubber_1044', 'rubber_794', 'rubber_672', 'rubber_168', 'gfw_oil_palm_v20191031_110.20920877044736_-0.396609261807896', 'gfw_oil_palm_v20191031_114.8971722352091_-0.7044259984609766', 'RSPO_Palm_Oil_Mills_13007898.9043_124995.07539999858', 'rubber_1390', 'gfw_oil_palm_v20191031_112.0182465322967_-2.478040973761807', 'CIVKokao_-4.180437547932836_5.7733536251', 'rubber_1519', 'gfw_oil_palm_v20191031_101.57777517336841_-1.2126605885152912', 'rubber_571', 'gfw_oil_palm_v20191031_15.360146900225542_-4.123027983904251', 'RSPO_Palm_Oil_Mills_-8177020.841_860442.4640000015', 'gfw_oil_palm_v20191031_114.40132520541471_-1.3614933725210676', 'rubber_1518', 'gfw_oil_palm_v20191031_109.95042170873145_0.7807384430247737', 'rubber_837', 'gfw_oil_palm_v20191031_9.130900496809964_4.509299051210263', 'rubber_748', 'RSPO_Palm_Oil_Mills_11517392.8162_204244.2699000016', 'gfw_oil_palm_v20191031_104.39634847519824_-2.7273720143568596', 'gfw_oil_palm_v20191031_111.11287252106047_-0.29712708624597894', 'gfw_oil_palm_v20191031_101.32734498802702_0.2602544998953533', 'CIVKokao_-3.7248844374104486_6.8661926675', 'rubber_368', 'GHAKokao_-0.5780448028265308_6.415332518802816', 'gfw_oil_palm_v20191031_102.47813764241101_-0.7062739995953393', 'rubber_170', 'rubber_1099', 'gfw_oil_palm_v20191031_110.47601060322083_-1.5590481685381121', 'rubber_130', 'rubber_1429', 'Sarawak_oil_palm_concessions_12508375.540050661_292961.3156499993', 'gfw_oil_palm_v20191031_109.46718335285749_0.9815753998349237', 'CIVKokao_-7.824862432111941_7.7768918695', 'rubber_577', 'gfw_oil_palm_v20191031_117.70188230108708_0.6527200158660946', 'rubber_63', 'rubber_398', 'rubber_486', 'gfw_oil_palm_v20191031_110.53341468157979_0.0006453684391090064', 'gfw_oil_palm_v20191031_105.40601399459118_-3.5446684335513226', 'gfw_oil_palm_v20191031_136.79071410368888_-1.8097562506004579', 'rubber_1045', 'rubber_354', 'rubber_1428', 'gfw_oil_palm_v20191031_112.05054089395574_2.0553056129637355', 'gfw_oil_palm_v20191031_110.58364467756735_-1.4781298485635261', 'gfw_oil_palm_v20191031_111.08109527713846_-2.2208714799847655', 'gfw_oil_palm_v20191031_114.26039028391072_4.273884088929634', 'gfw_oil_palm_v20191031_98.01477787855836_2.701146680225179', 'gfw_oil_palm_v20191031_99.71783114945598_0.066538985685753', 'gfw_oil_palm_v20191031_114.25088007673446_-1.1736225882617646', 'gfw_oil_palm_v20191031_110.37296701866177_-0.7708079223976085', 'rubber_874', 'rubber_1381', 'gfw_oil_palm_v20191031_102.96394312411736_-0.6366240000474761', 'gfw_oil_palm_v20191031_112.06975087417504_0.5707869544045536', 'rubber_66', 'rubber_1001', 'gfw_oil_palm_v20191031_150.01837861899543_-10.41438100467957', 'gfw_oil_palm_v20191031_113.44652216939298_3.3879019943316564', 'gfw_oil_palm_v20191031_111.91529422369274_-1.8861276500209954', 'gfw_oil_palm_v20191031_97.88216765978626_4.332932509677562', 'rubber_71', 'rubber_1440', 'rubber_1217', 'gfw_oil_palm_v20191031_100.68018042642248_0.7483295002563182', 'rubber_594', 'rubber_1542', 'gfw_oil_palm_v20191031_102.54697348139052_-1.3921939276075648', 'gfw_oil_palm_v20191031_100.54257759257437_1.1318664997392887', 'gfw_oil_palm_v20191031_112.37381058931126_2.782248778458438', 'gfw_oil_palm_v20191031_117.02549320340894_-1.0942246522457992', 'gfw_oil_palm_v20191031_9.477781051743321_5.335319259826093', 'rubber_307', 'gfw_oil_palm_v20191031_102.82443952606502_-2.0490039813485623', 'GHAKokao_-0.5780448028265308_5.599674893169014', 'gfw_oil_palm_v20191031_102.02008975168214_-3.2165966032505366', 'rubber_247', 'rubber_1464', 'rubber_883', 'gfw_oil_palm_v20191031_111.90973546889175_0.06541909096830523', 'gfw_oil_palm_v20191031_111.62924357344001_0.9854540130423572', 'RSPO_Palm_Oil_Mills_13223631.1794_625390.7318999991', 'rubber_136', 'gfw_oil_palm_v20191031_115.03461519211123_-1.9807426474551164', 'GHAKokao_-1.5764159099081634_5.599674893169014', 'RSPO_Palm_Oil_Mills_11284085.753899999_-302531.3649000004', 'CIVKokao_-6.275981856335822_6.3197731463', 'rubber_5', 'gfw_oil_palm_v20191031_112.2713644496447_0.5882877384884182', 'rubber_967', 'rubber_4', 'RSPO_Palm_Oil_Mills_12504951.322299998_-258362.7928000018', 'gfw_oil_palm_v20191031_109.56917964162815_-0.7185037726308963', 'gfw_oil_palm_v20191031_112.42261435491922_-2.300581048176724', 'rubber_1380', 'rubber_637', 'gfw_oil_palm_v20191031_114.82651189596612_-1.1506637534793924', 'Cameroon_agro-industrial_zones_1054727.8243948082_526075.8942999989', 'rubber_916', 'gfw_oil_palm_v20191031_111.07048908027673_-2.263861786142428', 'rubber_40', 'gfw_oil_palm_v20191031_101.31474022037908_0.021310499879746203', 'CIVKokao_-6.549313722649254_6.4108430665', 'gfw_oil_palm_v20191031_96.56578997835211_3.8426367873080665', 'rubber_197', 'gfw_oil_palm_v20191031_114.39774747042021_-0.9242474606517419', 'gfw_oil_palm_v20191031_111.46135669593136_-0.1438800321376732', 'gfw_oil_palm_v20191031_117.18642556895986_1.4110638856399191', 'CIVKokao_-6.275981856335822_6.957262587700001', 'gfw_oil_palm_v20191031_112.67470016290571_-1.8935347955442978', 'CIVKokao_-6.275981856335822_7.0483325079', 'rubber_533', 'gfw_oil_palm_v20191031_97.04933847346435_4.996225921739011', 'Cameroon_agro-industrial_zones_1080372.8740419047_525499.3520500008', 'rubber_461', 'gfw_oil_palm_v20191031_103.86077571400553_-1.2045582805401693', 'gfw_oil_palm_v20191031_115.84342109419717_-1.5564437008660548', 'gfw_oil_palm_v20191031_100.44457571021007_1.195023999807745', 'gfw_oil_palm_v20191031_-9.62782971473257_5.743087563137152', 'GHAKokao_-1.3041328807040815_6.324703893732394', 'rubber_1153', 'gfw_oil_palm_v20191031_102.03064834834046_-0.6208199996931683', 'rubber_1447', 'rubber_466', 'CIVKokao_-3.542663193201493_6.2287032261', 'gfw_oil_palm_v20191031_109.15742351700538_0.3270247726752302', 'rubber_1431', 'GHAKokao_-1.3041328807040815_6.505961143873239', 'gfw_oil_palm_v20191031_109.73333394424756_-0.08042612586498876', 'rubber_252', 'gfw_oil_palm_v20191031_113.01401981991816_-1.8063461634945952', 'gfw_oil_palm_v20191031_115.42483112338971_-2.0812460207372396', 'GHAKokao_-2.937831055928572_6.959104269225352', 'rubber_1225', 'gfw_oil_palm_v20191031_101.4586354830509_-0.359606999763173', 'gfw_oil_palm_v20191031_116.05718484523_0.42387792997257634', 'gfw_oil_palm_v20191031_100.50803403639236_1.6998034997817797', 'rubber_410', 'gfw_oil_palm_v20191031_112.46938202720732_-2.4476548212129785', 'rubber_974', 'CIVKokao_-6.002649990022389_5.5912137847', 'CIVKokao_-7.09597745527612_6.6840528271', 'RSPO_Palm_Oil_Mills_11011807.630199999_958575.1191000007', 'RSPO_Palm_Oil_Mills_11601346.3026_181846.42909999937', 'gfw_oil_palm_v20191031_114.92610718921907_4.403154159686778', 'gfw_oil_palm_v20191031_111.4804566606787_-0.13583014879228017', 'gfw_oil_palm_v20191031_109.23302629880666_0.27342312063055374', 'gfw_oil_palm_v20191031_111.66495357179761_-2.6023719215268954', 'gfw_oil_palm_v20191031_117.88248594515_4.099199913195463', 'rubber_230', 'CIVKokao_-6.184871234231344_5.6822837049', 'gfw_oil_palm_v20191031_113.50916073754247_3.1945772499402096', 'gfw_oil_palm_v20191031_113.05923403043525_-1.9938965979995658', 'rubber_818', 'gfw_oil_palm_v20191031_105.70979104415284_-4.4236739159683225', 'gfw_oil_palm_v20191031_100.44960689866667_0.46997200020769014', 'gfw_oil_palm_v20191031_109.02782035732847_0.9588752982064648', 'gfw_oil_palm_v20191031_111.84869680887539_-2.7086206438275724', 'rubber_527', 'gfw_oil_palm_v20191031_100.28878680359556_2.064273400147414', 'CIVKokao_-6.458203100544777_5.5001438645', 'rubber_554', 'gfw_oil_palm_v20191031_-8.988483123066104_5.376368759614053', 'rubber_579', 'rubber_489', 'gfw_oil_palm_v20191031_109.84901643400143_0.8043761845634094', 'gfw_oil_palm_v20191031_102.11466380833002_-0.3679859994542767', 'gfw_oil_palm_v20191031_114.2549764349198_4.085063782917388', 'gfw_oil_palm_v20191031_95.9980998205242_4.9525083554263745', 'rubber_97', 'gfw_oil_palm_v20191031_102.93534105973896_-2.7683526496050206', 'gfw_oil_palm_v20191031_112.435616113321_-2.5616823923284926', 'GHAKokao_-1.122610861234694_6.505961143873239', 'gfw_oil_palm_v20191031_116.6389343241936_-1.0767399673755165', 'rubber_1305', 'gfw_oil_palm_v20191031_116.40267731713737_-0.06816745086709375', 'gfw_oil_palm_v20191031_101.19641649175705_1.0308209998393636', 'rubber_437', 'Cameroon_agro-industrial_zones_1096383.2791198865_428821.9561999999', 'gfw_oil_palm_v20191031_116.72541811525397_-1.0044752483339607', 'gfw_oil_palm_v20191031_116.35864601232694_-2.17774618873554', 'gfw_oil_palm_v20191031_115.0916535702568_-1.2043869565426917', 'Sarawak_oil_palm_concessions_12808320.937092183_498378.88709999993', 'gfw_oil_palm_v20191031_112.61334782016415_2.8503205415597677', 'rubber_81', 'CIVKokao_-3.7248844374104486_5.4090739443', 'rubber_542', 'gfw_oil_palm_v20191031_109.31937514095856_1.0998756293069505', 'gfw_oil_palm_v20191031_102.25457665562178_-0.6015009995713854', 'gfw_oil_palm_v20191031_131.09253846791614_-0.31437033417350335', 'CIVKokao_-6.093760612126866_5.7733536251', 'RSPO_Palm_Oil_Mills_-5432050.9583_-281203.7181000002', 'rubber_1326', 'gfw_oil_palm_v20191031_97.93179551251686_2.334188253684971', 'GHAKokao_-2.0302209585816327_4.78401726753521', 'gfw_oil_palm_v20191031_110.35255382913209_0.521837886509303', 'rubber_1367', 'rubber_1515', 'gfw_oil_palm_v20191031_100.52906910680957_0.759083000180425', 'gfw_oil_palm_v20191031_111.34510650962375_2.674077299328019', 'CIVKokao_-6.367092478440299_5.1358641837', 'gfw_oil_palm_v20191031_9.228360156421044_3.972953866777715', 'gfw_oil_palm_v20191031_116.06963197534529_-1.6781255008410767', 'gfw_oil_palm_v20191031_116.25578138492554_-2.044073242286231', 'gfw_oil_palm_v20191031_115.26981033814077_4.85815481609194', 'CIVKokao_-5.273765013186567_5.9554934655', 'rubber_713', 'gfw_oil_palm_v20191031_116.09066360946095_-2.363757457390676', 'gfw_oil_palm_v20191031_112.01450855826802_0.22015929531534084', 'gfw_oil_palm_v20191031_113.45349811088647_-1.5281207297877586', 'rubber_1207', 'gfw_oil_palm_v20191031_111.88395935789758_0.9561928993329616', 'gfw_oil_palm_v20191031_112.66549540786367_-2.4849285355234088', 'gfw_oil_palm_v20191031_112.3836604773631_-2.861477260866849', 'gfw_oil_palm_v20191031_112.22034773503171_2.1552284801603037', 'rubber_1012', 'Cameroon_agro-industrial_zones_1047540.7978547364_575649.9105999991', 'gfw_oil_palm_v20191031_101.61038058505163_-0.7199155009495257', 'gfw_oil_palm_v20191031_9.06471778710291_5.030925605032792', 'gfw_oil_palm_v20191031_111.67615310799096_-2.3673000739891563', 'CIVKokao_-5.638207501604478_5.9554934655', 'gfw_oil_palm_v20191031_96.18206337311963_4.477826254578019', 'gfw_oil_palm_v20191031_112.50937998751391_-2.7601110753158196', 'gfw_oil_palm_v20191031_103.14521099163157_-1.1506122466077784', 'gfw_oil_palm_v20191031_9.613698648632305_4.246687352339592', 'Cameroon_agro-industrial_zones_1049674.746720294_573587.9399500005', 'Sarawak_oil_palm_concessions_12571040.070904005_343248.2025499996', 'CIVKokao_-7.004866833171643_4.6805145827', 'rubber_1520', 'gfw_oil_palm_v20191031_111.2478631685515_1.599966523686163', 'gfw_oil_palm_v20191031_109.44989268051842_1.5991153715771986', 'rubber_290', 'rubber_292', 'RSPO_Palm_Oil_Mills_11339297.1043_468261.84640000015', 'rubber_788', 'gfw_oil_palm_v20191031_109.8956071060515_0.36659702643171954', 'rubber_932', 'gfw_oil_palm_v20191031_110.5581471794498_-1.3067352768614455', 'rubber_609', 'gfw_oil_palm_v20191031_99.95254882571933_-0.16070738903468396', 'rubber_299', 'gfw_oil_palm_v20191031_102.34052808929229_0.2589304995429984', 'gfw_oil_palm_v20191031_113.19198474164716_-1.9396342046048005', 'gfw_oil_palm_v20191031_100.14482134743099_1.9298870246665558', 'rubber_371', 'rubber_426', 'gfw_oil_palm_v20191031_109.69640952768447_0.06576324577733317', 'gfw_oil_palm_v20191031_104.69608509029852_-2.7218810151966295', 'gfw_oil_palm_v20191031_97.19071035280984_4.943160534081386', 'rubber_629', 'Sarawak_oil_palm_concessions_12527540.040175632_286418.59555000067', 'rubber_678', 'rubber_1530', 'rubber_455', 'gfw_oil_palm_v20191031_111.78635594181131_-2.579169133948284', 'rubber_1122', 'gfw_oil_palm_v20191031_112.5368069069596_2.5720776996761288', 'rubber_448', 'gfw_oil_palm_v20191031_111.85996452200358_0.7387693498757528', 'gfw_oil_palm_v20191031_103.10054643385112_-0.18938049991007233', 'gfw_oil_palm_v20191031_104.2643496263953_1.0247205107930029', 'CIVKokao_-3.269331326888061_6.3197731463', 'gfw_oil_palm_v20191031_112.6927073694221_-2.224434548065915', 'gfw_oil_palm_v20191031_111.41929244993676_-0.035836982940281814', 'gfw_oil_palm_v20191031_109.88366900735146_-0.8462269609054545', 'gfw_oil_palm_v20191031_102.33048383618024_-0.5589164998964122', 'CIVKokao_-4.544880036350747_6.7751227473', 'rubber_157', 'gfw_oil_palm_v20191031_109.02483920152775_0.6058613060545497', 'gfw_oil_palm_v20191031_101.55443961807833_-2.9469029087421745', 'gfw_oil_palm_v20191031_99.42991876630875_3.021336077348167', 'gfw_oil_palm_v20191031_109.38197748704303_1.8083193900279184', 'rubber_1549', 'rubber_1048', 'gfw_oil_palm_v20191031_101.30349748006836_1.1361319999419663', 'gfw_oil_palm_v20191031_109.40566426893221_1.3309864403220217', 'GHAKokao_-1.2133718709693877_5.599674893169014', 'GHAKokao_-2.2117429780510207_5.509046268098591', 'rubber_242', 'rubber_717', 'rubber_1314', 'gfw_oil_palm_v20191031_111.63800260654497_-2.283917152054869', 'rubber_1465', 'rubber_1399', 'CIVKokao_-5.638207501604478_6.0465633857', 'gfw_oil_palm_v20191031_96.38261480119911_3.947128335054714', 'rubber_449', 'CIVKokao_-5.911539367917911_6.4108430665', 'gfw_oil_palm_v20191031_103.0144291214667_-1.0754674104925357', 'rubber_1197', 'gfw_oil_palm_v20191031_116.04049642918646_-0.4227251266131873', 'CIVKokao_-6.093760612126866_5.9554934655', 'gfw_oil_palm_v20191031_102.48649400230227_-0.6188104996547565', 'gfw_oil_palm_v20191031_109.3803238923236_-0.38407684846771417', 'rubber_991']\n"
     ]
    }
   ],
   "source": [
    "print(len(train_ids))\n",
    "print(train_ids)"
   ]
  },
  {
   "cell_type": "code",
   "execution_count": 23,
   "metadata": {
    "id": "DaY3K2oEypNe",
    "outputId": "2f0fa36f-18d9-4e18-c01c-ce787511be28"
   },
   "outputs": [
    {
     "name": "stdout",
     "output_type": "stream",
     "text": [
      "Embeddings shape: Train torch.Size([4456, 512]), Test torch.Size([10523, 512])\n"
     ]
    }
   ],
   "source": [
    "print(f\"Embeddings shape: Train {train_embeddings.shape}, Test {test_embeddings.shape}\")"
   ]
  },
  {
   "cell_type": "code",
   "execution_count": 24,
   "metadata": {
    "id": "QGERFIy-ypNe"
   },
   "outputs": [
    {
     "name": "stdout",
     "output_type": "stream",
     "text": [
      "[0 0 0 ... 2 2 2]\n"
     ]
    }
   ],
   "source": [
    "label_encoder = LabelEncoder()\n",
    "train_labels_encoded = label_encoder.fit_transform(train_labels)\n",
    "print(train_labels_encoded)"
   ]
  },
  {
   "cell_type": "code",
   "execution_count": 25,
   "metadata": {
    "id": "CY_2M-CaypNe",
    "outputId": "74d80dc8-3d8a-40c4-a573-b2564e662000"
   },
   "outputs": [
    {
     "data": {
      "text/html": [
       "<style>#sk-container-id-1 {color: black;background-color: white;}#sk-container-id-1 pre{padding: 0;}#sk-container-id-1 div.sk-toggleable {background-color: white;}#sk-container-id-1 label.sk-toggleable__label {cursor: pointer;display: block;width: 100%;margin-bottom: 0;padding: 0.3em;box-sizing: border-box;text-align: center;}#sk-container-id-1 label.sk-toggleable__label-arrow:before {content: \"▸\";float: left;margin-right: 0.25em;color: #696969;}#sk-container-id-1 label.sk-toggleable__label-arrow:hover:before {color: black;}#sk-container-id-1 div.sk-estimator:hover label.sk-toggleable__label-arrow:before {color: black;}#sk-container-id-1 div.sk-toggleable__content {max-height: 0;max-width: 0;overflow: hidden;text-align: left;background-color: #f0f8ff;}#sk-container-id-1 div.sk-toggleable__content pre {margin: 0.2em;color: black;border-radius: 0.25em;background-color: #f0f8ff;}#sk-container-id-1 input.sk-toggleable__control:checked~div.sk-toggleable__content {max-height: 200px;max-width: 100%;overflow: auto;}#sk-container-id-1 input.sk-toggleable__control:checked~label.sk-toggleable__label-arrow:before {content: \"▾\";}#sk-container-id-1 div.sk-estimator input.sk-toggleable__control:checked~label.sk-toggleable__label {background-color: #d4ebff;}#sk-container-id-1 div.sk-label input.sk-toggleable__control:checked~label.sk-toggleable__label {background-color: #d4ebff;}#sk-container-id-1 input.sk-hidden--visually {border: 0;clip: rect(1px 1px 1px 1px);clip: rect(1px, 1px, 1px, 1px);height: 1px;margin: -1px;overflow: hidden;padding: 0;position: absolute;width: 1px;}#sk-container-id-1 div.sk-estimator {font-family: monospace;background-color: #f0f8ff;border: 1px dotted black;border-radius: 0.25em;box-sizing: border-box;margin-bottom: 0.5em;}#sk-container-id-1 div.sk-estimator:hover {background-color: #d4ebff;}#sk-container-id-1 div.sk-parallel-item::after {content: \"\";width: 100%;border-bottom: 1px solid gray;flex-grow: 1;}#sk-container-id-1 div.sk-label:hover label.sk-toggleable__label {background-color: #d4ebff;}#sk-container-id-1 div.sk-serial::before {content: \"\";position: absolute;border-left: 1px solid gray;box-sizing: border-box;top: 0;bottom: 0;left: 50%;z-index: 0;}#sk-container-id-1 div.sk-serial {display: flex;flex-direction: column;align-items: center;background-color: white;padding-right: 0.2em;padding-left: 0.2em;position: relative;}#sk-container-id-1 div.sk-item {position: relative;z-index: 1;}#sk-container-id-1 div.sk-parallel {display: flex;align-items: stretch;justify-content: center;background-color: white;position: relative;}#sk-container-id-1 div.sk-item::before, #sk-container-id-1 div.sk-parallel-item::before {content: \"\";position: absolute;border-left: 1px solid gray;box-sizing: border-box;top: 0;bottom: 0;left: 50%;z-index: -1;}#sk-container-id-1 div.sk-parallel-item {display: flex;flex-direction: column;z-index: 1;position: relative;background-color: white;}#sk-container-id-1 div.sk-parallel-item:first-child::after {align-self: flex-end;width: 50%;}#sk-container-id-1 div.sk-parallel-item:last-child::after {align-self: flex-start;width: 50%;}#sk-container-id-1 div.sk-parallel-item:only-child::after {width: 0;}#sk-container-id-1 div.sk-dashed-wrapped {border: 1px dashed gray;margin: 0 0.4em 0.5em 0.4em;box-sizing: border-box;padding-bottom: 0.4em;background-color: white;}#sk-container-id-1 div.sk-label label {font-family: monospace;font-weight: bold;display: inline-block;line-height: 1.2em;}#sk-container-id-1 div.sk-label-container {text-align: center;}#sk-container-id-1 div.sk-container {/* jupyter's `normalize.less` sets `[hidden] { display: none; }` but bootstrap.min.css set `[hidden] { display: none !important; }` so we also need the `!important` here to be able to override the default hidden behavior on the sphinx rendered scikit-learn.org. See: https://github.com/scikit-learn/scikit-learn/issues/21755 */display: inline-block !important;position: relative;}#sk-container-id-1 div.sk-text-repr-fallback {display: none;}</style><div id=\"sk-container-id-1\" class=\"sk-top-container\"><div class=\"sk-text-repr-fallback\"><pre>RandomForestClassifier(class_weight=&#x27;balanced&#x27;, random_state=42)</pre><b>In a Jupyter environment, please rerun this cell to show the HTML representation or trust the notebook. <br />On GitHub, the HTML representation is unable to render, please try loading this page with nbviewer.org.</b></div><div class=\"sk-container\" hidden><div class=\"sk-item\"><div class=\"sk-estimator sk-toggleable\"><input class=\"sk-toggleable__control sk-hidden--visually\" id=\"sk-estimator-id-1\" type=\"checkbox\" checked><label for=\"sk-estimator-id-1\" class=\"sk-toggleable__label sk-toggleable__label-arrow\">RandomForestClassifier</label><div class=\"sk-toggleable__content\"><pre>RandomForestClassifier(class_weight=&#x27;balanced&#x27;, random_state=42)</pre></div></div></div></div></div>"
      ],
      "text/plain": [
       "RandomForestClassifier(class_weight='balanced', random_state=42)"
      ]
     },
     "execution_count": 25,
     "metadata": {},
     "output_type": "execute_result"
    }
   ],
   "source": [
    "rf_model = RandomForestClassifier(class_weight=\"balanced\", random_state=42, n_estimators=100)\n",
    "rf_model.fit(train_embeddings.numpy(), train_labels_encoded)"
   ]
  },
  {
   "cell_type": "code",
   "execution_count": null,
   "metadata": {
    "id": "TF16XrFlypNe"
   },
   "outputs": [],
   "source": [
    "# Evaluate\n",
    "test_predictions_encoded = rf_model.predict(test_embeddings.numpy())\n"
   ]
  },
  {
   "cell_type": "code",
   "execution_count": null,
   "metadata": {
    "id": "-CVk3DYOypNe",
    "outputId": "d608169e-070a-4a7d-a5a8-c8860d790248"
   },
   "outputs": [],
   "source": [
    "test_predictions = label_encoder.inverse_transform(test_predictions_encoded)\n",
    "\n",
    "submission = pd.DataFrame({\n",
    "    'ID': test_ids,\n",
    "    'Target': test_predictions\n",
    "})\n",
    "submission.head()\n",
    "# submission.to_csv(\"submission.csv\", index=False)"
   ]
  },
  {
   "cell_type": "code",
   "execution_count": null,
   "metadata": {},
   "outputs": [],
   "source": [
    "import ee\n",
    "ee.Initialize(project='gradient-growers')\n"
   ]
  },
  {
   "cell_type": "code",
   "execution_count": null,
   "metadata": {},
   "outputs": [],
   "source": [
    "import geopandas"
   ]
  },
  {
   "cell_type": "code",
   "execution_count": null,
   "metadata": {},
   "outputs": [],
   "source": [
    "longitude = 115.794902228198879\n",
    "latitude = -1.629352395440254\n",
    "\n",
    "point = ee.Geometry.Point(longitude, latitude)\n",
    "start_date = '2024-01-01'\n",
    "end_date = '2024-01-31'\n",
    "\n",
    "# Example: Accessing Sentinel-2 Surface Reflectance data\n",
    "collection = ee.ImageCollection('COPERNICUS/S2_HARMONIZED') \\\n",
    "    .filterBounds(point) \\\n",
    "    .filterDate(start_date, end_date) \\\n",
    "    .sort('CLOUDY_PIXEL_PERCENTAGE') \\\n",
    "    .first() # Get the least cloudy image\n",
    "\n",
    "if collection:\n",
    "    # Select specific bands (e.g., B4=Red, B3=Green, B2=Blue, B8=NIR for Sentinel-2)\n",
    "    # Apply scaling factors if necessary (often provided in dataset metadata)\n",
    "    # For Sentinel-2 SR, reflectance values are 10000 * actual reflectance\n",
    "    bands_of_interest = ['B2', 'B3', 'B4', 'B8']\n",
    "    image_at_point = collection.select(bands_of_interest).sample(point, scale=10).first()\n",
    "\n",
    "    # Get the band values at the point\n",
    "    data = image_at_point.getInfo()\n",
    "    print(f\"Band data at ({latitude}, {longitude}):\")\n",
    "    for band in bands_of_interest:\n",
    "        if band in data['properties']:\n",
    "            value = data['properties'][band]\n",
    "            print(f\"{band}: {value / 10000.0}\") # Scale back to actual reflectance\n",
    "else:\n",
    "    print(\"No image found for the specified location and time range.\")\n"
   ]
  },
  {
   "cell_type": "code",
   "execution_count": null,
   "metadata": {},
   "outputs": [],
   "source": [
    "# collecting data from cocoa .tif\n",
    "import rasterio\n",
    "import matplotlib.pyplot as pyplot\n",
    "\n",
    "CIV_cocao = 'Zindi\\Cocoa\\Detected_Cocoa_Farms\\Detected Cocoa Farms\\CIVKakao.tif'\n",
    "GHA_cocao = 'Zindi\\Cocoa\\Detected_Cocoa_Farms\\Detected Cocoa Farms\\GHAKakao.tif'\n",
    "try:\n",
    "        with rasterio.open(CIV_cocao) as src:\n",
    "                band_data = src.read(1)\n",
    "                print(f'CIV - Coordinate Reference System (CRS): {src.crs}')\n",
    "                pyplot.imshow(band_data, cmap='pink')\n",
    "                pyplot.show()\n",
    "        with rasterio.open(GHA_cocao) as src:\n",
    "                band_data = src.read(1)\n",
    "                print(f'GHA - Coordinate Reference System (CRS): {src.crs}')\n",
    "except rasterio.errors.RasterioIOError as e:\n",
    "        print(f'Error opening or reading GeoTIFF file: {e}')\n",
    "except Exception as e:\n",
    "        print(f'An unexpected error occurred: {e}')"
   ]
  },
  {
   "cell_type": "code",
   "execution_count": null,
   "metadata": {},
   "outputs": [],
   "source": [
    "import rasterio\n",
    "from rasterio.enums import Resampling\n",
    "import pandas as pd\n",
    "import numpy as np\n",
    "\n",
    "CIV_cocao = 'Zindi/Cocoa/Detected_Cocoa_Farms/Detected Cocoa Farms/CIVKakao.tif'\n",
    "\n",
    "try:\n",
    "    with rasterio.open(CIV_cocao) as src:\n",
    "        # Set a scale factor, e.g. 0.1 means 10% of the original resolution\n",
    "        scale = 0.001\n",
    "        out_shape = (\n",
    "            1,\n",
    "            int(src.height * scale),\n",
    "            int(src.width * scale)\n",
    "        )\n",
    "\n",
    "        band_data = src.read(\n",
    "            1,\n",
    "            out_shape=out_shape,\n",
    "            resampling=Resampling.nearest\n",
    "        )\n",
    "\n",
    "        transform = src.transform * src.transform.scale(\n",
    "            (src.width / band_data.shape[1]),\n",
    "            (src.height / band_data.shape[0])\n",
    "        )\n",
    "\n",
    "        print(f'CIV - Coordinate Reference System (CRS): {src.crs}')\n",
    "\n",
    "        rows, cols = np.nonzero(band_data)\n",
    "        lons, lats = rasterio.transform.xy(transform, rows, cols)\n",
    "        df = pd.DataFrame({'Longitude': lons, 'Latitude': lats})\n",
    "        print(df.head())\n",
    "        df.to_csv('CIVKokao_coordinates_downsampled.csv', index=False)\n",
    "\n",
    "except rasterio.errors.RasterioIOError as e:\n",
    "    print(f'Error opening or reading GeoTIFF file: {e}')\n",
    "except Exception as e:\n",
    "    print(f'An unexpected error occurred: {e}')\n"
   ]
  },
  {
   "cell_type": "code",
   "execution_count": null,
   "metadata": {},
   "outputs": [],
   "source": [
    "pip install pandas"
   ]
  },
  {
   "cell_type": "code",
   "execution_count": null,
   "metadata": {},
   "outputs": [],
   "source": [
    "import rasterio\n",
    "from rasterio.enums import Resampling\n",
    "import pandas as pd\n",
    "import numpy as np\n",
    "\n",
    "GHA_cocao = 'Zindi/Cocoa/Detected_Cocoa_Farms/Detected Cocoa Farms/GHAKakao.tif'\n",
    "\n",
    "try:\n",
    "    with rasterio.open(GHA_cocao) as src:\n",
    "        # Set a scale factor, e.g. 0.1 means 10% of the original resolution\n",
    "        scale = 0.001\n",
    "        out_shape = (\n",
    "            1,\n",
    "            int(src.height * scale),\n",
    "            int(src.width * scale)\n",
    "        )\n",
    "\n",
    "        band_data = src.read(\n",
    "            1,\n",
    "            out_shape=out_shape,\n",
    "            resampling=Resampling.nearest\n",
    "        )\n",
    "\n",
    "        transform = src.transform * src.transform.scale(\n",
    "            (src.width / band_data.shape[1]),\n",
    "            (src.height / band_data.shape[0])\n",
    "        )\n",
    "\n",
    "        print(f'GHA - Coordinate Reference System (CRS): {src.crs}')\n",
    "\n",
    "        rows, cols = np.nonzero(band_data)\n",
    "        lons, lats = rasterio.transform.xy(transform, rows, cols)\n",
    "        df = pd.DataFrame({'Longitude': lons, 'Latitude': lats})\n",
    "        print(df.head())\n",
    "        df.to_csv('GHAKokao_coordinates_downsampled.csv', index=False)\n",
    "\n",
    "except rasterio.errors.RasterioIOError as e:\n",
    "    print(f'Error opening or reading GeoTIFF file: {e}')\n",
    "except Exception as e:\n",
    "    print(f'An unexpected error occurred: {e}')\n"
   ]
  }
 ],
 "metadata": {
  "colab": {
   "provenance": []
  },
  "kernelspec": {
   "display_name": "cs135_env",
   "language": "python",
   "name": "python3"
  },
  "language_info": {
   "codemirror_mode": {
    "name": "ipython",
    "version": 3
   },
   "file_extension": ".py",
   "mimetype": "text/x-python",
   "name": "python",
   "nbconvert_exporter": "python",
   "pygments_lexer": "ipython3",
   "version": "3.10.18"
  }
 },
 "nbformat": 4,
 "nbformat_minor": 4
}
