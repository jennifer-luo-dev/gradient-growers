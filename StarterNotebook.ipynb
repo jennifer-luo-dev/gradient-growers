{
 "cells": [
  {
   "cell_type": "markdown",
   "metadata": {
    "id": "HrDEr5o8ypNR"
   },
   "source": [
    "# Import all the necessary libraries"
   ]
  },
  {
   "cell_type": "code",
   "execution_count": null,
   "metadata": {
    "id": "AOiUiHLkypNT",
    "outputId": "5933711e-86a0-4280-f983-97a9ef42b867"
   },
   "outputs": [],
   "source": [
    "import torch\n",
    "import numpy as np\n",
    "from transformers import PatchTSTForPretraining\n",
    "from sklearn.ensemble import RandomForestClassifier\n",
    "from sklearn.metrics import f1_score, accuracy_score, classification_report\n",
    "import pandas as pd\n",
    "import numpy as np\n",
    "from scipy.interpolate import CubicSpline\n",
    "from sklearn.preprocessing import LabelEncoder\n",
    "from sklearn.model_selection import train_test_split\n",
    "from tqdm import tqdm\n",
    "import os\n",
    "from torch.utils.data import Dataset, DataLoader"
   ]
  },
  {
   "cell_type": "markdown",
   "metadata": {
    "id": "TREGjqdXypNW"
   },
   "source": [
    "## Data preprocessing\n",
    " - The earth FM expects 48 timesteps per pixel. Make sure to aggregate appropriately\n"
   ]
  },
  {
   "cell_type": "code",
   "execution_count": 5,
   "metadata": {
    "id": "9nnS_pOZypNW",
    "outputId": "66f99869-99ae-44e2-a384-dc7d3632294b"
   },
   "outputs": [
    {
     "data": {
      "text/html": [
       "<div>\n",
       "<style scoped>\n",
       "    .dataframe tbody tr th:only-of-type {\n",
       "        vertical-align: middle;\n",
       "    }\n",
       "\n",
       "    .dataframe tbody tr th {\n",
       "        vertical-align: top;\n",
       "    }\n",
       "\n",
       "    .dataframe thead th {\n",
       "        text-align: right;\n",
       "    }\n",
       "</style>\n",
       "<table border=\"1\" class=\"dataframe\">\n",
       "  <thead>\n",
       "    <tr style=\"text-align: right;\">\n",
       "      <th></th>\n",
       "      <th>unique_id</th>\n",
       "      <th>time</th>\n",
       "      <th>x</th>\n",
       "      <th>y</th>\n",
       "      <th>crop_type</th>\n",
       "      <th>red</th>\n",
       "      <th>nir</th>\n",
       "      <th>swir16</th>\n",
       "      <th>swir22</th>\n",
       "      <th>blue</th>\n",
       "      <th>green</th>\n",
       "      <th>rededge1</th>\n",
       "      <th>rededge2</th>\n",
       "      <th>rededge3</th>\n",
       "      <th>nir08</th>\n",
       "    </tr>\n",
       "  </thead>\n",
       "  <tbody>\n",
       "    <tr>\n",
       "      <th>0</th>\n",
       "      <td>PIXEL_0001</td>\n",
       "      <td>2018-01-01 00:00:00.000</td>\n",
       "      <td>274312.192156</td>\n",
       "      <td>763161.256666</td>\n",
       "      <td>cocoa</td>\n",
       "      <td>0.185399</td>\n",
       "      <td>0.470621</td>\n",
       "      <td>0.423230</td>\n",
       "      <td>0.248294</td>\n",
       "      <td>0.240145</td>\n",
       "      <td>0.220656</td>\n",
       "      <td>0.322180</td>\n",
       "      <td>0.482940</td>\n",
       "      <td>0.449330</td>\n",
       "      <td>0.477607</td>\n",
       "    </tr>\n",
       "    <tr>\n",
       "      <th>1</th>\n",
       "      <td>PIXEL_0001</td>\n",
       "      <td>2018-01-09 00:00:00.000</td>\n",
       "      <td>274312.192156</td>\n",
       "      <td>763161.256666</td>\n",
       "      <td>cocoa</td>\n",
       "      <td>0.220038</td>\n",
       "      <td>0.532922</td>\n",
       "      <td>0.309975</td>\n",
       "      <td>0.323104</td>\n",
       "      <td>0.266787</td>\n",
       "      <td>0.294504</td>\n",
       "      <td>0.525136</td>\n",
       "      <td>0.502824</td>\n",
       "      <td>0.423608</td>\n",
       "      <td>0.422886</td>\n",
       "    </tr>\n",
       "    <tr>\n",
       "      <th>2</th>\n",
       "      <td>PIXEL_0001</td>\n",
       "      <td>2018-01-17 00:00:00.000</td>\n",
       "      <td>274312.192156</td>\n",
       "      <td>763161.256666</td>\n",
       "      <td>cocoa</td>\n",
       "      <td>0.250492</td>\n",
       "      <td>0.630413</td>\n",
       "      <td>0.290035</td>\n",
       "      <td>0.331941</td>\n",
       "      <td>0.338385</td>\n",
       "      <td>0.348162</td>\n",
       "      <td>0.350808</td>\n",
       "      <td>0.461883</td>\n",
       "      <td>0.514735</td>\n",
       "      <td>0.578810</td>\n",
       "    </tr>\n",
       "    <tr>\n",
       "      <th>3</th>\n",
       "      <td>PIXEL_0001</td>\n",
       "      <td>2018-01-25 00:00:00.000</td>\n",
       "      <td>274312.192156</td>\n",
       "      <td>763161.256666</td>\n",
       "      <td>cocoa</td>\n",
       "      <td>0.259566</td>\n",
       "      <td>0.487199</td>\n",
       "      <td>0.381297</td>\n",
       "      <td>0.322500</td>\n",
       "      <td>0.292686</td>\n",
       "      <td>0.420341</td>\n",
       "      <td>0.401141</td>\n",
       "      <td>0.504158</td>\n",
       "      <td>0.480010</td>\n",
       "      <td>0.569881</td>\n",
       "    </tr>\n",
       "    <tr>\n",
       "      <th>4</th>\n",
       "      <td>PIXEL_0001</td>\n",
       "      <td>2018-02-02 00:00:00.000</td>\n",
       "      <td>274312.192156</td>\n",
       "      <td>763161.256666</td>\n",
       "      <td>cocoa</td>\n",
       "      <td>0.300939</td>\n",
       "      <td>0.670061</td>\n",
       "      <td>0.448583</td>\n",
       "      <td>0.364932</td>\n",
       "      <td>0.350569</td>\n",
       "      <td>0.289149</td>\n",
       "      <td>0.406982</td>\n",
       "      <td>0.506831</td>\n",
       "      <td>0.534893</td>\n",
       "      <td>0.541207</td>\n",
       "    </tr>\n",
       "  </tbody>\n",
       "</table>\n",
       "</div>"
      ],
      "text/plain": [
       "    unique_id                     time              x              y  \\\n",
       "0  PIXEL_0001  2018-01-01 00:00:00.000  274312.192156  763161.256666   \n",
       "1  PIXEL_0001  2018-01-09 00:00:00.000  274312.192156  763161.256666   \n",
       "2  PIXEL_0001  2018-01-17 00:00:00.000  274312.192156  763161.256666   \n",
       "3  PIXEL_0001  2018-01-25 00:00:00.000  274312.192156  763161.256666   \n",
       "4  PIXEL_0001  2018-02-02 00:00:00.000  274312.192156  763161.256666   \n",
       "\n",
       "  crop_type       red       nir    swir16    swir22      blue     green  \\\n",
       "0     cocoa  0.185399  0.470621  0.423230  0.248294  0.240145  0.220656   \n",
       "1     cocoa  0.220038  0.532922  0.309975  0.323104  0.266787  0.294504   \n",
       "2     cocoa  0.250492  0.630413  0.290035  0.331941  0.338385  0.348162   \n",
       "3     cocoa  0.259566  0.487199  0.381297  0.322500  0.292686  0.420341   \n",
       "4     cocoa  0.300939  0.670061  0.448583  0.364932  0.350569  0.289149   \n",
       "\n",
       "   rededge1  rededge2  rededge3     nir08  \n",
       "0  0.322180  0.482940  0.449330  0.477607  \n",
       "1  0.525136  0.502824  0.423608  0.422886  \n",
       "2  0.350808  0.461883  0.514735  0.578810  \n",
       "3  0.401141  0.504158  0.480010  0.569881  \n",
       "4  0.406982  0.506831  0.534893  0.541207  "
      ]
     },
     "execution_count": 5,
     "metadata": {},
     "output_type": "execute_result"
    }
   ],
   "source": [
    "# This is a dummy dataset\n",
    "# N.B. This df is for illustration only and should only be used to get an understanding of the problem. This data is completely fictious.\n",
    "train_data = pd.read_csv('dummy_satellite_data.csv')\n",
    "train_data.head()\n"
   ]
  },
  {
   "cell_type": "code",
   "execution_count": 6,
   "metadata": {
    "id": "V4bCSsQnypNX",
    "outputId": "594604d8-e26f-4ce2-85ac-6f91d95e787d"
   },
   "outputs": [
    {
     "data": {
      "text/html": [
       "<div>\n",
       "<style scoped>\n",
       "    .dataframe tbody tr th:only-of-type {\n",
       "        vertical-align: middle;\n",
       "    }\n",
       "\n",
       "    .dataframe tbody tr th {\n",
       "        vertical-align: top;\n",
       "    }\n",
       "\n",
       "    .dataframe thead th {\n",
       "        text-align: right;\n",
       "    }\n",
       "</style>\n",
       "<table border=\"1\" class=\"dataframe\">\n",
       "  <thead>\n",
       "    <tr style=\"text-align: right;\">\n",
       "      <th></th>\n",
       "      <th>unique_id</th>\n",
       "      <th>time</th>\n",
       "      <th>x</th>\n",
       "      <th>y</th>\n",
       "      <th>red</th>\n",
       "      <th>nir</th>\n",
       "      <th>swir16</th>\n",
       "      <th>swir22</th>\n",
       "      <th>blue</th>\n",
       "      <th>green</th>\n",
       "      <th>rededge1</th>\n",
       "      <th>rededge2</th>\n",
       "      <th>rededge3</th>\n",
       "      <th>nir08</th>\n",
       "    </tr>\n",
       "  </thead>\n",
       "  <tbody>\n",
       "    <tr>\n",
       "      <th>0</th>\n",
       "      <td>ID_01FHV4</td>\n",
       "      <td>2018-01-03 10:59:22.851</td>\n",
       "      <td>-296455.0</td>\n",
       "      <td>846395.0</td>\n",
       "      <td>0.2920</td>\n",
       "      <td>0.3686</td>\n",
       "      <td>0.4173</td>\n",
       "      <td>0.3869</td>\n",
       "      <td>0.2488</td>\n",
       "      <td>0.2708</td>\n",
       "      <td>0.3211</td>\n",
       "      <td>0.3555</td>\n",
       "      <td>0.3752</td>\n",
       "      <td>0.3862</td>\n",
       "    </tr>\n",
       "    <tr>\n",
       "      <th>1</th>\n",
       "      <td>ID_01FHV4</td>\n",
       "      <td>2018-01-03 10:59:22.851</td>\n",
       "      <td>-296455.0</td>\n",
       "      <td>846395.0</td>\n",
       "      <td>0.2920</td>\n",
       "      <td>0.3686</td>\n",
       "      <td>0.4173</td>\n",
       "      <td>0.3869</td>\n",
       "      <td>0.2488</td>\n",
       "      <td>0.2708</td>\n",
       "      <td>0.3211</td>\n",
       "      <td>0.3555</td>\n",
       "      <td>0.3752</td>\n",
       "      <td>0.3862</td>\n",
       "    </tr>\n",
       "    <tr>\n",
       "      <th>2</th>\n",
       "      <td>ID_01FHV4</td>\n",
       "      <td>2018-02-12 10:59:25.232</td>\n",
       "      <td>-296455.0</td>\n",
       "      <td>846395.0</td>\n",
       "      <td>0.3510</td>\n",
       "      <td>0.3426</td>\n",
       "      <td>0.4817</td>\n",
       "      <td>0.4577</td>\n",
       "      <td>0.2538</td>\n",
       "      <td>0.2914</td>\n",
       "      <td>0.3684</td>\n",
       "      <td>0.3484</td>\n",
       "      <td>0.3588</td>\n",
       "      <td>0.3628</td>\n",
       "    </tr>\n",
       "    <tr>\n",
       "      <th>3</th>\n",
       "      <td>ID_01FHV4</td>\n",
       "      <td>2018-02-12 10:59:25.232</td>\n",
       "      <td>-296455.0</td>\n",
       "      <td>846395.0</td>\n",
       "      <td>0.3510</td>\n",
       "      <td>0.3426</td>\n",
       "      <td>0.4817</td>\n",
       "      <td>0.4577</td>\n",
       "      <td>0.2538</td>\n",
       "      <td>0.2914</td>\n",
       "      <td>0.3684</td>\n",
       "      <td>0.3484</td>\n",
       "      <td>0.3588</td>\n",
       "      <td>0.3628</td>\n",
       "    </tr>\n",
       "    <tr>\n",
       "      <th>4</th>\n",
       "      <td>ID_01FHV4</td>\n",
       "      <td>2018-03-14 10:59:24.436</td>\n",
       "      <td>-296455.0</td>\n",
       "      <td>846395.0</td>\n",
       "      <td>0.5312</td>\n",
       "      <td>0.6296</td>\n",
       "      <td>0.6643</td>\n",
       "      <td>0.5882</td>\n",
       "      <td>0.5244</td>\n",
       "      <td>0.5308</td>\n",
       "      <td>0.6016</td>\n",
       "      <td>0.6217</td>\n",
       "      <td>0.6401</td>\n",
       "      <td>0.6404</td>\n",
       "    </tr>\n",
       "  </tbody>\n",
       "</table>\n",
       "</div>"
      ],
      "text/plain": [
       "   unique_id                     time         x         y     red     nir  \\\n",
       "0  ID_01FHV4  2018-01-03 10:59:22.851 -296455.0  846395.0  0.2920  0.3686   \n",
       "1  ID_01FHV4  2018-01-03 10:59:22.851 -296455.0  846395.0  0.2920  0.3686   \n",
       "2  ID_01FHV4  2018-02-12 10:59:25.232 -296455.0  846395.0  0.3510  0.3426   \n",
       "3  ID_01FHV4  2018-02-12 10:59:25.232 -296455.0  846395.0  0.3510  0.3426   \n",
       "4  ID_01FHV4  2018-03-14 10:59:24.436 -296455.0  846395.0  0.5312  0.6296   \n",
       "\n",
       "   swir16  swir22    blue   green  rededge1  rededge2  rededge3   nir08  \n",
       "0  0.4173  0.3869  0.2488  0.2708    0.3211    0.3555    0.3752  0.3862  \n",
       "1  0.4173  0.3869  0.2488  0.2708    0.3211    0.3555    0.3752  0.3862  \n",
       "2  0.4817  0.4577  0.2538  0.2914    0.3684    0.3484    0.3588  0.3628  \n",
       "3  0.4817  0.4577  0.2538  0.2914    0.3684    0.3484    0.3588  0.3628  \n",
       "4  0.6643  0.5882  0.5244  0.5308    0.6016    0.6217    0.6401  0.6404  "
      ]
     },
     "execution_count": 6,
     "metadata": {},
     "output_type": "execute_result"
    }
   ],
   "source": [
    "test_data = pd.read_csv('test.csv')\n",
    "test_data.head()"
   ]
  },
  {
   "cell_type": "code",
   "execution_count": 7,
   "metadata": {
    "id": "Cq7fi0rWypNX",
    "outputId": "16ea2d78-f5f3-4fc6-b941-13005402cd00"
   },
   "outputs": [
    {
     "data": {
      "text/plain": [
       "crop_type\n",
       "cocoa     4647\n",
       "rubber    4645\n",
       "oil       4642\n",
       "Name: count, dtype: int64"
      ]
     },
     "execution_count": 7,
     "metadata": {},
     "output_type": "execute_result"
    }
   ],
   "source": [
    "train_data['crop_type'].value_counts()"
   ]
  },
  {
   "cell_type": "code",
   "execution_count": 8,
   "metadata": {
    "id": "xWLQg5ibypNY",
    "outputId": "1894978e-90c3-475d-e6ef-338372985074"
   },
   "outputs": [
    {
     "name": "stdout",
     "output_type": "stream",
     "text": [
      "Total timesteps per pixel: 300\n",
      "Minimum timesteps per pixel: 30\n",
      "Maximum timesteps per pixel: 48\n",
      "Average timesteps per pixel: 46.446666666666665\n"
     ]
    }
   ],
   "source": [
    "timesteps_per_pixel = train_data.groupby('unique_id').size()  #count the timesteps per pixel since model expects 48 timesteps per pixel\n",
    "\n",
    "print(\"Total timesteps per pixel:\", len(timesteps_per_pixel))\n",
    "print(\"Minimum timesteps per pixel:\", timesteps_per_pixel.min())\n",
    "print(\"Maximum timesteps per pixel:\", timesteps_per_pixel.max())\n",
    "print(\"Average timesteps per pixel:\", timesteps_per_pixel.mean())"
   ]
  },
  {
   "cell_type": "code",
   "execution_count": 9,
   "metadata": {
    "id": "lPQl8JTaypNZ",
    "outputId": "5ef9d399-9fda-4067-f6c9-d546f9719637"
   },
   "outputs": [
    {
     "name": "stdout",
     "output_type": "stream",
     "text": [
      "Total timesteps per pixel: 10523\n",
      "Minimum timesteps per pixel: 74\n",
      "Maximum timesteps per pixel: 740\n",
      "Average timesteps per pixel: 114.33155944122399\n"
     ]
    }
   ],
   "source": [
    "test_pixel = test_data.groupby('unique_id').size()  #count the timesteps per pixel since model expects 48 timesteps per pixel\n",
    "\n",
    "print(\"Total timesteps per pixel:\", len(test_pixel))\n",
    "print(\"Minimum timesteps per pixel:\", test_pixel.min())\n",
    "print(\"Maximum timesteps per pixel:\", test_pixel.max())\n",
    "print(\"Average timesteps per pixel:\", test_pixel.mean())"
   ]
  },
  {
   "cell_type": "code",
   "execution_count": 10,
   "metadata": {
    "id": "h8euYClRypNZ"
   },
   "outputs": [],
   "source": [
    "bands = ['red', 'nir', 'swir16', 'swir22', 'blue', 'green','rededge1', 'rededge2', 'rededge3', 'nir08']  # The spectral bands in the dataset"
   ]
  },
  {
   "cell_type": "code",
   "execution_count": 11,
   "metadata": {
    "id": "50XaeYi_ypNa"
   },
   "outputs": [],
   "source": [
    "# You can have different ways to aggregate data to the required timesteps\n",
    "# Below we have use interpolation, but remember it might introduce noise\n",
    "\n",
    "from scipy.interpolate import CubicSpline\n",
    "import numpy as np\n",
    "import pandas as pd\n",
    "\n",
    "def preprocess_with_interpolation(df, bands):\n",
    "    all_results = []\n",
    "    has_crop_type = 'crop_type' in df.columns\n",
    "\n",
    "    for pixel_id, group in df.groupby('unique_id'):\n",
    "        group = group.sort_values('time').reset_index(drop=True)\n",
    "\n",
    "        if len(group) == 48:\n",
    "            keep_cols = ['unique_id', 'x', 'y'] + bands\n",
    "            if has_crop_type:\n",
    "                keep_cols.insert(1, 'crop_type')\n",
    "\n",
    "            clean_group = group[keep_cols].copy()\n",
    "            clean_group['timestep'] = range(48)\n",
    "            all_results.append(clean_group)\n",
    "        else:\n",
    "            new_rows = []\n",
    "            interpolated_bands = {}\n",
    "            old_times = np.arange(len(group))\n",
    "            new_times = np.linspace(0, len(group) - 1, 48)\n",
    "\n",
    "            for band in bands:\n",
    "                spline = CubicSpline(old_times, group[band].values)\n",
    "                interpolated_bands[band] = spline(new_times)\n",
    "\n",
    "            for i in range(48):\n",
    "                new_row = {\n",
    "                    'unique_id': pixel_id,\n",
    "                    'timestep': i,\n",
    "                    'x': group['x'].iloc[0],\n",
    "                    'y': group['y'].iloc[0]\n",
    "                }\n",
    "                if has_crop_type:\n",
    "                    new_row['crop_type'] = group['crop_type'].iloc[0]\n",
    "\n",
    "                for band in bands:\n",
    "                    new_row[band] = interpolated_bands[band][i]\n",
    "\n",
    "                new_rows.append(new_row)\n",
    "\n",
    "            all_results.append(pd.DataFrame(new_rows))\n",
    "\n",
    "    final_df = pd.concat(all_results, ignore_index=True)\n",
    "    return final_df\n"
   ]
  },
  {
   "cell_type": "code",
   "execution_count": 12,
   "metadata": {
    "id": "i6FZuK4yypNa"
   },
   "outputs": [],
   "source": [
    "preprocessed_train_data = preprocess_with_interpolation(train_data, bands)\n",
    "preprocessed_test_data = preprocess_with_interpolation(test_data, bands)"
   ]
  },
  {
   "cell_type": "code",
   "execution_count": 13,
   "metadata": {
    "id": "cdzK5LdUypNb",
    "outputId": "a995de28-1fa6-42b0-ea87-a75212b03453"
   },
   "outputs": [
    {
     "name": "stdout",
     "output_type": "stream",
     "text": [
      "Minimum timesteps per pixel: 48\n",
      "Maximum timesteps per pixel: 48\n"
     ]
    }
   ],
   "source": [
    "train_pixel = preprocessed_train_data.groupby('unique_id').size()  #count the timesteps per pixel since model expects 48 timesteps per pixel\n",
    "\n",
    "print(\"Minimum timesteps per pixel:\", train_pixel.min())\n",
    "print(\"Maximum timesteps per pixel:\", train_pixel.max())\n"
   ]
  },
  {
   "cell_type": "markdown",
   "metadata": {
    "id": "N-6I-F3xypNb"
   },
   "source": [
    "# MODELLING\n",
    "- The earth FM was pretrained on a vast amount of Sentinel 2 unlabeled timeseries data, built on [PATCHTST](https://huggingface.co/docs/transformers/en/model_doc/patchtst#transformers.PatchTSTForPretraining) architecture.\n",
    "- The pretrained model can be used in different ways: finetuning though supervised classification, as a feature extractor etc.\n",
    "\n",
    "Download the models on hugging face\n",
    " - [600K](https://huggingface.co/AminiTech/FM-600K)\n",
    " - [18M](https://huggingface.co/AminiTech/fm-v2-28M)\n",
    "\n",
    "The model expects a dataset and its mask as input"
   ]
  },
  {
   "cell_type": "code",
   "execution_count": 15,
   "metadata": {
    "id": "1FW8cp5jypNb"
   },
   "outputs": [],
   "source": [
    "# use the model as a feature extractor for RF model\n",
    "def extract_patch_embeddings(model, past_values):\n",
    "    past_observed_mask = ~torch.isnan(past_values)\n",
    "\n",
    "    with torch.no_grad():\n",
    "        model_output = model.model(\n",
    "            past_values=past_values,\n",
    "            past_observed_mask=past_observed_mask,\n",
    "            return_dict=True\n",
    "        )\n",
    "        embeddings = model_output.last_hidden_state\n",
    "        all_patches = embeddings[:, :, 1:, :]\n",
    "        final_embeddings = all_patches.mean(dim=(1, 2))  # average of all patch level embeddings\n",
    "        return final_embeddings\n"
   ]
  },
  {
   "cell_type": "code",
   "execution_count": 16,
   "metadata": {
    "id": "lRKlBL0XypNc"
   },
   "outputs": [],
   "source": [
    "hf_token = os.getenv('HUGGINGFACE_HUB_TOKEN')\n",
    "MODEL_PATH = \"AminiTech/fm-v2-28M\"\n"
   ]
  },
  {
   "cell_type": "code",
   "execution_count": 25,
   "metadata": {
    "id": "FfN_AFsoypNc"
   },
   "outputs": [],
   "source": [
    "class CropDataset(Dataset):\n",
    "    def __init__(self, sequences, labels, unique_ids):\n",
    "        self.sequences = torch.FloatTensor(sequences)\n",
    "        self.labels = labels\n",
    "        self.unique_ids = unique_ids\n",
    "\n",
    "    def __len__(self):\n",
    "        return len(self.sequences)\n",
    "\n",
    "    def __getitem__(self, idx):\n",
    "        item = {\n",
    "            'sequence': self.sequences[idx],\n",
    "            'unique_id': self.unique_ids[idx]\n",
    "        }\n",
    "        if self.labels is not None:\n",
    "            item['label'] = self.labels[idx]\n",
    "        return item\n",
    "\n",
    "\n",
    "def prepare_sequences_from_df(df):\n",
    "    sequences = []\n",
    "    labels = []\n",
    "    unique_ids = []\n",
    "    has_labels = 'crop_type' in df.columns\n",
    "\n",
    "    for unique_id, group in df.groupby('unique_id'):\n",
    "        spectral_data = group[bands].values\n",
    "        sequences.append(spectral_data)\n",
    "        unique_ids.append(unique_id)\n",
    "\n",
    "        if has_labels:\n",
    "            labels.append(group['crop_type'].iloc[0])\n",
    "\n",
    "    sequences = np.array(sequences)\n",
    "\n",
    "    print(f\"Prepared {len(sequences)} sequences\")\n",
    "\n",
    "    if has_labels:\n",
    "        print(f\"Crop distribution:\")\n",
    "        unique, counts = np.unique(labels, return_counts=True)\n",
    "        for crop, count in zip(unique, counts):\n",
    "            print(f\"  {crop}: {count}\")\n",
    "    else:\n",
    "        labels = None\n",
    "\n",
    "    return sequences, labels, unique_ids\n",
    "\n",
    "def extract_embeddings_from_dataloader(model, dataloader):\n",
    "    model.eval()\n",
    "    all_embeddings = []\n",
    "    all_ids = []\n",
    "\n",
    "    device = next(model.parameters()).device\n",
    "\n",
    "    with torch.no_grad():\n",
    "        for batch in dataloader:\n",
    "            sequences = batch['sequence'].to(device)\n",
    "            embeddings = extract_patch_embeddings(model, sequences)\n",
    "\n",
    "            all_embeddings.append(embeddings.cpu())  # Move to CPU before collecting\n",
    "            all_ids.extend(batch['unique_id'])\n",
    "\n",
    "    return torch.cat(all_embeddings, dim=0), all_ids"
   ]
  },
  {
   "cell_type": "code",
   "execution_count": 26,
   "metadata": {
    "id": "oBaXtrRUypNc",
    "outputId": "c0b6cdc3-1878-4071-b0b6-4aaaaa574634"
   },
   "outputs": [
    {
     "name": "stdout",
     "output_type": "stream",
     "text": [
      "Prepared 300 sequences\n",
      "Crop distribution:\n",
      "  cocoa: 100\n",
      "  oil: 100\n",
      "  rubber: 100\n"
     ]
    }
   ],
   "source": [
    "train_seq, train_labels, train_ids = prepare_sequences_from_df(preprocessed_train_data)\n",
    "train_dataset = CropDataset(train_seq, train_labels, train_ids)\n"
   ]
  },
  {
   "cell_type": "code",
   "execution_count": 27,
   "metadata": {
    "id": "rcRH8m3-ypNc",
    "outputId": "ef923441-6259-442b-986a-b8d308d16d98"
   },
   "outputs": [
    {
     "name": "stdout",
     "output_type": "stream",
     "text": [
      "Train sequences shape: (300, 48, 10)\n"
     ]
    }
   ],
   "source": [
    "print(\"Train sequences shape:\", train_seq.shape)\n"
   ]
  },
  {
   "cell_type": "code",
   "execution_count": 28,
   "metadata": {
    "id": "V7gO8sbFypNc",
    "outputId": "ddcd6436-1522-48d2-e102-07fab00f279c"
   },
   "outputs": [
    {
     "name": "stdout",
     "output_type": "stream",
     "text": [
      "Prepared 10523 sequences\n"
     ]
    }
   ],
   "source": [
    "test_seq, test_labels, test_ids = prepare_sequences_from_df(preprocessed_test_data)\n",
    "test_dataset = CropDataset(test_seq, test_labels, test_ids)"
   ]
  },
  {
   "cell_type": "code",
   "execution_count": 29,
   "metadata": {
    "id": "1BOBTmARypNd",
    "outputId": "510dfdae-4342-47a3-e1b7-228a17898749"
   },
   "outputs": [
    {
     "name": "stdout",
     "output_type": "stream",
     "text": [
      "Test sequences shape: (10523, 48, 10)\n"
     ]
    }
   ],
   "source": [
    "print(\"Test sequences shape:\", test_seq.shape)"
   ]
  },
  {
   "cell_type": "code",
   "execution_count": 30,
   "metadata": {
    "id": "FRCoflX2ypNd"
   },
   "outputs": [],
   "source": [
    "train_loader = DataLoader(train_dataset, batch_size=32, shuffle=True)\n",
    "test_loader = DataLoader(test_dataset, batch_size=32, shuffle=True)"
   ]
  },
  {
   "cell_type": "code",
   "execution_count": 31,
   "metadata": {
    "id": "sIri9nXJypNd",
    "outputId": "55c7418a-4f69-428f-a1e2-8919c4ed67e8"
   },
   "outputs": [
    {
     "data": {
      "application/vnd.jupyter.widget-view+json": {
       "model_id": "61bab401ae1943309f100f4aaa0e343d",
       "version_major": 2,
       "version_minor": 0
      },
      "text/plain": [
       "config.json: 0.00B [00:00, ?B/s]"
      ]
     },
     "metadata": {},
     "output_type": "display_data"
    },
    {
     "data": {
      "application/vnd.jupyter.widget-view+json": {
       "model_id": "214c9e8e2568480ab9e341e5ad26ffa8",
       "version_major": 2,
       "version_minor": 0
      },
      "text/plain": [
       "model.safetensors:   0%|          | 0.00/75.8M [00:00<?, ?B/s]"
      ]
     },
     "metadata": {},
     "output_type": "display_data"
    },
    {
     "data": {
      "text/plain": [
       "PatchTSTForPretraining(\n",
       "  (model): PatchTSTModel(\n",
       "    (scaler): PatchTSTScaler(\n",
       "      (scaler): PatchTSTMeanScaler()\n",
       "    )\n",
       "    (patchifier): PatchTSTPatchify()\n",
       "    (masking): PatchTSTMasking()\n",
       "    (encoder): PatchTSTEncoder(\n",
       "      (embedder): PatchTSTEmbedding(\n",
       "        (input_embedding): Linear(in_features=12, out_features=512, bias=True)\n",
       "      )\n",
       "      (positional_encoder): PatchTSTPositionalEncoding(\n",
       "        (positional_dropout): Identity()\n",
       "      )\n",
       "      (layers): ModuleList(\n",
       "        (0-5): 6 x PatchTSTEncoderLayer(\n",
       "          (self_attn): PatchTSTAttention(\n",
       "            (k_proj): Linear(in_features=512, out_features=512, bias=True)\n",
       "            (v_proj): Linear(in_features=512, out_features=512, bias=True)\n",
       "            (q_proj): Linear(in_features=512, out_features=512, bias=True)\n",
       "            (out_proj): Linear(in_features=512, out_features=512, bias=True)\n",
       "          )\n",
       "          (dropout_path1): Identity()\n",
       "          (norm_sublayer1): LayerNorm((512,), eps=1e-05, elementwise_affine=True)\n",
       "          (dropout_path2): Identity()\n",
       "          (norm_sublayer2): LayerNorm((512,), eps=1e-05, elementwise_affine=True)\n",
       "          (ff): Sequential(\n",
       "            (0): Linear(in_features=512, out_features=2048, bias=True)\n",
       "            (1): GELUActivation()\n",
       "            (2): Identity()\n",
       "            (3): Linear(in_features=2048, out_features=512, bias=True)\n",
       "          )\n",
       "          (dropout_path3): Identity()\n",
       "          (norm_sublayer3): LayerNorm((512,), eps=1e-05, elementwise_affine=True)\n",
       "        )\n",
       "      )\n",
       "    )\n",
       "  )\n",
       "  (head): PatchTSTMaskPretrainHead(\n",
       "    (dropout): Dropout(p=0.1, inplace=False)\n",
       "    (linear): Linear(in_features=512, out_features=12, bias=True)\n",
       "  )\n",
       ")"
      ]
     },
     "execution_count": 31,
     "metadata": {},
     "output_type": "execute_result"
    }
   ],
   "source": [
    "# Load model\n",
    "model = PatchTSTForPretraining.from_pretrained(MODEL_PATH, token=hf_token)\n",
    "model.eval()"
   ]
  },
  {
   "cell_type": "code",
   "execution_count": 33,
   "metadata": {
    "id": "3JCxCw5jypNd"
   },
   "outputs": [
    {
     "ename": "AttributeError",
     "evalue": "'list' object has no attribute 'shape'",
     "output_type": "error",
     "traceback": [
      "\u001b[0;31m---------------------------------------------------------------------------\u001b[0m",
      "\u001b[0;31mAttributeError\u001b[0m                            Traceback (most recent call last)",
      "Cell \u001b[0;32mIn[33], line 3\u001b[0m\n\u001b[1;32m      1\u001b[0m train_embeddings, train_ids \u001b[38;5;241m=\u001b[39m extract_embeddings_from_dataloader(model, train_loader)\n\u001b[1;32m      2\u001b[0m test_embeddings, test_ids \u001b[38;5;241m=\u001b[39m extract_embeddings_from_dataloader(model, test_loader)\n\u001b[0;32m----> 3\u001b[0m \u001b[38;5;28mprint\u001b[39m(train_ids\u001b[38;5;241m.\u001b[39mshape)\n",
      "\u001b[0;31mAttributeError\u001b[0m: 'list' object has no attribute 'shape'"
     ]
    }
   ],
   "source": [
    "train_embeddings, train_ids = extract_embeddings_from_dataloader(model, train_loader)\n",
    "test_embeddings, test_ids = extract_embeddings_from_dataloader(model, test_loader)"
   ]
  },
  {
   "cell_type": "code",
   "execution_count": 37,
   "metadata": {},
   "outputs": [
    {
     "name": "stdout",
     "output_type": "stream",
     "text": [
      "300\n",
      "['PIXEL_0095', 'PIXEL_0052', 'PIXEL_0149', 'PIXEL_0238', 'PIXEL_0234', 'PIXEL_0198', 'PIXEL_0279', 'PIXEL_0195', 'PIXEL_0053', 'PIXEL_0084', 'PIXEL_0165', 'PIXEL_0064', 'PIXEL_0089', 'PIXEL_0250', 'PIXEL_0241', 'PIXEL_0242', 'PIXEL_0071', 'PIXEL_0077', 'PIXEL_0221', 'PIXEL_0055', 'PIXEL_0128', 'PIXEL_0249', 'PIXEL_0001', 'PIXEL_0109', 'PIXEL_0156', 'PIXEL_0273', 'PIXEL_0056', 'PIXEL_0010', 'PIXEL_0113', 'PIXEL_0036', 'PIXEL_0094', 'PIXEL_0100', 'PIXEL_0060', 'PIXEL_0158', 'PIXEL_0066', 'PIXEL_0102', 'PIXEL_0137', 'PIXEL_0180', 'PIXEL_0041', 'PIXEL_0172', 'PIXEL_0201', 'PIXEL_0019', 'PIXEL_0206', 'PIXEL_0247', 'PIXEL_0007', 'PIXEL_0157', 'PIXEL_0146', 'PIXEL_0086', 'PIXEL_0159', 'PIXEL_0148', 'PIXEL_0154', 'PIXEL_0012', 'PIXEL_0029', 'PIXEL_0276', 'PIXEL_0130', 'PIXEL_0002', 'PIXEL_0290', 'PIXEL_0213', 'PIXEL_0143', 'PIXEL_0123', 'PIXEL_0280', 'PIXEL_0190', 'PIXEL_0028', 'PIXEL_0152', 'PIXEL_0058', 'PIXEL_0031', 'PIXEL_0300', 'PIXEL_0133', 'PIXEL_0141', 'PIXEL_0147', 'PIXEL_0267', 'PIXEL_0125', 'PIXEL_0291', 'PIXEL_0298', 'PIXEL_0240', 'PIXEL_0236', 'PIXEL_0070', 'PIXEL_0040', 'PIXEL_0049', 'PIXEL_0251', 'PIXEL_0037', 'PIXEL_0229', 'PIXEL_0272', 'PIXEL_0038', 'PIXEL_0287', 'PIXEL_0181', 'PIXEL_0054', 'PIXEL_0226', 'PIXEL_0091', 'PIXEL_0144', 'PIXEL_0228', 'PIXEL_0204', 'PIXEL_0087', 'PIXEL_0111', 'PIXEL_0139', 'PIXEL_0114', 'PIXEL_0145', 'PIXEL_0044', 'PIXEL_0164', 'PIXEL_0261', 'PIXEL_0282', 'PIXEL_0254', 'PIXEL_0110', 'PIXEL_0150', 'PIXEL_0134', 'PIXEL_0116', 'PIXEL_0082', 'PIXEL_0103', 'PIXEL_0101', 'PIXEL_0258', 'PIXEL_0286', 'PIXEL_0186', 'PIXEL_0227', 'PIXEL_0035', 'PIXEL_0179', 'PIXEL_0096', 'PIXEL_0025', 'PIXEL_0081', 'PIXEL_0022', 'PIXEL_0235', 'PIXEL_0135', 'PIXEL_0023', 'PIXEL_0208', 'PIXEL_0231', 'PIXEL_0090', 'PIXEL_0196', 'PIXEL_0078', 'PIXEL_0063', 'PIXEL_0048', 'PIXEL_0121', 'PIXEL_0170', 'PIXEL_0252', 'PIXEL_0074', 'PIXEL_0015', 'PIXEL_0215', 'PIXEL_0075', 'PIXEL_0067', 'PIXEL_0072', 'PIXEL_0033', 'PIXEL_0177', 'PIXEL_0178', 'PIXEL_0043', 'PIXEL_0224', 'PIXEL_0004', 'PIXEL_0140', 'PIXEL_0288', 'PIXEL_0120', 'PIXEL_0217', 'PIXEL_0269', 'PIXEL_0256', 'PIXEL_0285', 'PIXEL_0259', 'PIXEL_0045', 'PIXEL_0263', 'PIXEL_0112', 'PIXEL_0260', 'PIXEL_0118', 'PIXEL_0046', 'PIXEL_0068', 'PIXEL_0062', 'PIXEL_0047', 'PIXEL_0155', 'PIXEL_0283', 'PIXEL_0166', 'PIXEL_0274', 'PIXEL_0115', 'PIXEL_0050', 'PIXEL_0289', 'PIXEL_0076', 'PIXEL_0136', 'PIXEL_0017', 'PIXEL_0032', 'PIXEL_0220', 'PIXEL_0104', 'PIXEL_0092', 'PIXEL_0061', 'PIXEL_0275', 'PIXEL_0210', 'PIXEL_0124', 'PIXEL_0218', 'PIXEL_0167', 'PIXEL_0257', 'PIXEL_0138', 'PIXEL_0248', 'PIXEL_0184', 'PIXEL_0097', 'PIXEL_0168', 'PIXEL_0294', 'PIXEL_0160', 'PIXEL_0132', 'PIXEL_0192', 'PIXEL_0126', 'PIXEL_0088', 'PIXEL_0175', 'PIXEL_0277', 'PIXEL_0174', 'PIXEL_0042', 'PIXEL_0080', 'PIXEL_0202', 'PIXEL_0182', 'PIXEL_0005', 'PIXEL_0171', 'PIXEL_0209', 'PIXEL_0119', 'PIXEL_0106', 'PIXEL_0183', 'PIXEL_0027', 'PIXEL_0232', 'PIXEL_0173', 'PIXEL_0197', 'PIXEL_0188', 'PIXEL_0011', 'PIXEL_0057', 'PIXEL_0018', 'PIXEL_0212', 'PIXEL_0255', 'PIXEL_0161', 'PIXEL_0264', 'PIXEL_0205', 'PIXEL_0153', 'PIXEL_0295', 'PIXEL_0271', 'PIXEL_0237', 'PIXEL_0108', 'PIXEL_0163', 'PIXEL_0219', 'PIXEL_0176', 'PIXEL_0085', 'PIXEL_0030', 'PIXEL_0223', 'PIXEL_0069', 'PIXEL_0297', 'PIXEL_0239', 'PIXEL_0233', 'PIXEL_0266', 'PIXEL_0270', 'PIXEL_0193', 'PIXEL_0243', 'PIXEL_0107', 'PIXEL_0093', 'PIXEL_0189', 'PIXEL_0020', 'PIXEL_0292', 'PIXEL_0059', 'PIXEL_0169', 'PIXEL_0262', 'PIXEL_0293', 'PIXEL_0268', 'PIXEL_0131', 'PIXEL_0200', 'PIXEL_0199', 'PIXEL_0185', 'PIXEL_0207', 'PIXEL_0129', 'PIXEL_0013', 'PIXEL_0098', 'PIXEL_0073', 'PIXEL_0278', 'PIXEL_0265', 'PIXEL_0014', 'PIXEL_0099', 'PIXEL_0079', 'PIXEL_0039', 'PIXEL_0008', 'PIXEL_0299', 'PIXEL_0105', 'PIXEL_0194', 'PIXEL_0003', 'PIXEL_0117', 'PIXEL_0122', 'PIXEL_0006', 'PIXEL_0203', 'PIXEL_0246', 'PIXEL_0253', 'PIXEL_0244', 'PIXEL_0142', 'PIXEL_0222', 'PIXEL_0187', 'PIXEL_0026', 'PIXEL_0009', 'PIXEL_0127', 'PIXEL_0216', 'PIXEL_0281', 'PIXEL_0230', 'PIXEL_0151', 'PIXEL_0016', 'PIXEL_0191', 'PIXEL_0211', 'PIXEL_0284', 'PIXEL_0024', 'PIXEL_0083', 'PIXEL_0214', 'PIXEL_0225', 'PIXEL_0065', 'PIXEL_0051', 'PIXEL_0296', 'PIXEL_0021', 'PIXEL_0034', 'PIXEL_0245', 'PIXEL_0162']\n"
     ]
    }
   ],
   "source": [
    "print(len(train_ids))\n",
    "print(train_ids)"
   ]
  },
  {
   "cell_type": "code",
   "execution_count": 39,
   "metadata": {
    "id": "DaY3K2oEypNe",
    "outputId": "2f0fa36f-18d9-4e18-c01c-ce787511be28"
   },
   "outputs": [
    {
     "name": "stdout",
     "output_type": "stream",
     "text": [
      "Embeddings shape: Train torch.Size([300, 512]), Test torch.Size([10523, 512])\n"
     ]
    }
   ],
   "source": [
    "print(f\"Embeddings shape: Train {train_embeddings.shape}, Test {test_embeddings.shape}\")"
   ]
  },
  {
   "cell_type": "code",
   "execution_count": 45,
   "metadata": {
    "id": "QGERFIy-ypNe"
   },
   "outputs": [
    {
     "name": "stdout",
     "output_type": "stream",
     "text": [
      "[0 0 0 0 0 0 0 0 0 0 0 0 0 0 0 0 0 0 0 0 0 0 0 0 0 0 0 0 0 0 0 0 0 0 0 0 0\n",
      " 0 0 0 0 0 0 0 0 0 0 0 0 0 0 0 0 0 0 0 0 0 0 0 0 0 0 0 0 0 0 0 0 0 0 0 0 0\n",
      " 0 0 0 0 0 0 0 0 0 0 0 0 0 0 0 0 0 0 0 0 0 0 0 0 0 0 2 2 2 2 2 2 2 2 2 2 2\n",
      " 2 2 2 2 2 2 2 2 2 2 2 2 2 2 2 2 2 2 2 2 2 2 2 2 2 2 2 2 2 2 2 2 2 2 2 2 2\n",
      " 2 2 2 2 2 2 2 2 2 2 2 2 2 2 2 2 2 2 2 2 2 2 2 2 2 2 2 2 2 2 2 2 2 2 2 2 2\n",
      " 2 2 2 2 2 2 2 2 2 2 2 2 2 2 2 1 1 1 1 1 1 1 1 1 1 1 1 1 1 1 1 1 1 1 1 1 1\n",
      " 1 1 1 1 1 1 1 1 1 1 1 1 1 1 1 1 1 1 1 1 1 1 1 1 1 1 1 1 1 1 1 1 1 1 1 1 1\n",
      " 1 1 1 1 1 1 1 1 1 1 1 1 1 1 1 1 1 1 1 1 1 1 1 1 1 1 1 1 1 1 1 1 1 1 1 1 1\n",
      " 1 1 1 1]\n"
     ]
    }
   ],
   "source": [
    "label_encoder = LabelEncoder()\n",
    "train_labels_encoded = label_encoder.fit_transform(train_labels)\n",
    "print(train_labels_encoded)"
   ]
  },
  {
   "cell_type": "code",
   "execution_count": 43,
   "metadata": {
    "id": "CY_2M-CaypNe",
    "outputId": "74d80dc8-3d8a-40c4-a573-b2564e662000"
   },
   "outputs": [
    {
     "data": {
      "text/html": [
       "<style>#sk-container-id-1 {\n",
       "  /* Definition of color scheme common for light and dark mode */\n",
       "  --sklearn-color-text: black;\n",
       "  --sklearn-color-line: gray;\n",
       "  /* Definition of color scheme for unfitted estimators */\n",
       "  --sklearn-color-unfitted-level-0: #fff5e6;\n",
       "  --sklearn-color-unfitted-level-1: #f6e4d2;\n",
       "  --sklearn-color-unfitted-level-2: #ffe0b3;\n",
       "  --sklearn-color-unfitted-level-3: chocolate;\n",
       "  /* Definition of color scheme for fitted estimators */\n",
       "  --sklearn-color-fitted-level-0: #f0f8ff;\n",
       "  --sklearn-color-fitted-level-1: #d4ebff;\n",
       "  --sklearn-color-fitted-level-2: #b3dbfd;\n",
       "  --sklearn-color-fitted-level-3: cornflowerblue;\n",
       "\n",
       "  /* Specific color for light theme */\n",
       "  --sklearn-color-text-on-default-background: var(--sg-text-color, var(--theme-code-foreground, var(--jp-content-font-color1, black)));\n",
       "  --sklearn-color-background: var(--sg-background-color, var(--theme-background, var(--jp-layout-color0, white)));\n",
       "  --sklearn-color-border-box: var(--sg-text-color, var(--theme-code-foreground, var(--jp-content-font-color1, black)));\n",
       "  --sklearn-color-icon: #696969;\n",
       "\n",
       "  @media (prefers-color-scheme: dark) {\n",
       "    /* Redefinition of color scheme for dark theme */\n",
       "    --sklearn-color-text-on-default-background: var(--sg-text-color, var(--theme-code-foreground, var(--jp-content-font-color1, white)));\n",
       "    --sklearn-color-background: var(--sg-background-color, var(--theme-background, var(--jp-layout-color0, #111)));\n",
       "    --sklearn-color-border-box: var(--sg-text-color, var(--theme-code-foreground, var(--jp-content-font-color1, white)));\n",
       "    --sklearn-color-icon: #878787;\n",
       "  }\n",
       "}\n",
       "\n",
       "#sk-container-id-1 {\n",
       "  color: var(--sklearn-color-text);\n",
       "}\n",
       "\n",
       "#sk-container-id-1 pre {\n",
       "  padding: 0;\n",
       "}\n",
       "\n",
       "#sk-container-id-1 input.sk-hidden--visually {\n",
       "  border: 0;\n",
       "  clip: rect(1px 1px 1px 1px);\n",
       "  clip: rect(1px, 1px, 1px, 1px);\n",
       "  height: 1px;\n",
       "  margin: -1px;\n",
       "  overflow: hidden;\n",
       "  padding: 0;\n",
       "  position: absolute;\n",
       "  width: 1px;\n",
       "}\n",
       "\n",
       "#sk-container-id-1 div.sk-dashed-wrapped {\n",
       "  border: 1px dashed var(--sklearn-color-line);\n",
       "  margin: 0 0.4em 0.5em 0.4em;\n",
       "  box-sizing: border-box;\n",
       "  padding-bottom: 0.4em;\n",
       "  background-color: var(--sklearn-color-background);\n",
       "}\n",
       "\n",
       "#sk-container-id-1 div.sk-container {\n",
       "  /* jupyter's `normalize.less` sets `[hidden] { display: none; }`\n",
       "     but bootstrap.min.css set `[hidden] { display: none !important; }`\n",
       "     so we also need the `!important` here to be able to override the\n",
       "     default hidden behavior on the sphinx rendered scikit-learn.org.\n",
       "     See: https://github.com/scikit-learn/scikit-learn/issues/21755 */\n",
       "  display: inline-block !important;\n",
       "  position: relative;\n",
       "}\n",
       "\n",
       "#sk-container-id-1 div.sk-text-repr-fallback {\n",
       "  display: none;\n",
       "}\n",
       "\n",
       "div.sk-parallel-item,\n",
       "div.sk-serial,\n",
       "div.sk-item {\n",
       "  /* draw centered vertical line to link estimators */\n",
       "  background-image: linear-gradient(var(--sklearn-color-text-on-default-background), var(--sklearn-color-text-on-default-background));\n",
       "  background-size: 2px 100%;\n",
       "  background-repeat: no-repeat;\n",
       "  background-position: center center;\n",
       "}\n",
       "\n",
       "/* Parallel-specific style estimator block */\n",
       "\n",
       "#sk-container-id-1 div.sk-parallel-item::after {\n",
       "  content: \"\";\n",
       "  width: 100%;\n",
       "  border-bottom: 2px solid var(--sklearn-color-text-on-default-background);\n",
       "  flex-grow: 1;\n",
       "}\n",
       "\n",
       "#sk-container-id-1 div.sk-parallel {\n",
       "  display: flex;\n",
       "  align-items: stretch;\n",
       "  justify-content: center;\n",
       "  background-color: var(--sklearn-color-background);\n",
       "  position: relative;\n",
       "}\n",
       "\n",
       "#sk-container-id-1 div.sk-parallel-item {\n",
       "  display: flex;\n",
       "  flex-direction: column;\n",
       "}\n",
       "\n",
       "#sk-container-id-1 div.sk-parallel-item:first-child::after {\n",
       "  align-self: flex-end;\n",
       "  width: 50%;\n",
       "}\n",
       "\n",
       "#sk-container-id-1 div.sk-parallel-item:last-child::after {\n",
       "  align-self: flex-start;\n",
       "  width: 50%;\n",
       "}\n",
       "\n",
       "#sk-container-id-1 div.sk-parallel-item:only-child::after {\n",
       "  width: 0;\n",
       "}\n",
       "\n",
       "/* Serial-specific style estimator block */\n",
       "\n",
       "#sk-container-id-1 div.sk-serial {\n",
       "  display: flex;\n",
       "  flex-direction: column;\n",
       "  align-items: center;\n",
       "  background-color: var(--sklearn-color-background);\n",
       "  padding-right: 1em;\n",
       "  padding-left: 1em;\n",
       "}\n",
       "\n",
       "\n",
       "/* Toggleable style: style used for estimator/Pipeline/ColumnTransformer box that is\n",
       "clickable and can be expanded/collapsed.\n",
       "- Pipeline and ColumnTransformer use this feature and define the default style\n",
       "- Estimators will overwrite some part of the style using the `sk-estimator` class\n",
       "*/\n",
       "\n",
       "/* Pipeline and ColumnTransformer style (default) */\n",
       "\n",
       "#sk-container-id-1 div.sk-toggleable {\n",
       "  /* Default theme specific background. It is overwritten whether we have a\n",
       "  specific estimator or a Pipeline/ColumnTransformer */\n",
       "  background-color: var(--sklearn-color-background);\n",
       "}\n",
       "\n",
       "/* Toggleable label */\n",
       "#sk-container-id-1 label.sk-toggleable__label {\n",
       "  cursor: pointer;\n",
       "  display: block;\n",
       "  width: 100%;\n",
       "  margin-bottom: 0;\n",
       "  padding: 0.5em;\n",
       "  box-sizing: border-box;\n",
       "  text-align: center;\n",
       "}\n",
       "\n",
       "#sk-container-id-1 label.sk-toggleable__label-arrow:before {\n",
       "  /* Arrow on the left of the label */\n",
       "  content: \"▸\";\n",
       "  float: left;\n",
       "  margin-right: 0.25em;\n",
       "  color: var(--sklearn-color-icon);\n",
       "}\n",
       "\n",
       "#sk-container-id-1 label.sk-toggleable__label-arrow:hover:before {\n",
       "  color: var(--sklearn-color-text);\n",
       "}\n",
       "\n",
       "/* Toggleable content - dropdown */\n",
       "\n",
       "#sk-container-id-1 div.sk-toggleable__content {\n",
       "  max-height: 0;\n",
       "  max-width: 0;\n",
       "  overflow: hidden;\n",
       "  text-align: left;\n",
       "  /* unfitted */\n",
       "  background-color: var(--sklearn-color-unfitted-level-0);\n",
       "}\n",
       "\n",
       "#sk-container-id-1 div.sk-toggleable__content.fitted {\n",
       "  /* fitted */\n",
       "  background-color: var(--sklearn-color-fitted-level-0);\n",
       "}\n",
       "\n",
       "#sk-container-id-1 div.sk-toggleable__content pre {\n",
       "  margin: 0.2em;\n",
       "  border-radius: 0.25em;\n",
       "  color: var(--sklearn-color-text);\n",
       "  /* unfitted */\n",
       "  background-color: var(--sklearn-color-unfitted-level-0);\n",
       "}\n",
       "\n",
       "#sk-container-id-1 div.sk-toggleable__content.fitted pre {\n",
       "  /* unfitted */\n",
       "  background-color: var(--sklearn-color-fitted-level-0);\n",
       "}\n",
       "\n",
       "#sk-container-id-1 input.sk-toggleable__control:checked~div.sk-toggleable__content {\n",
       "  /* Expand drop-down */\n",
       "  max-height: 200px;\n",
       "  max-width: 100%;\n",
       "  overflow: auto;\n",
       "}\n",
       "\n",
       "#sk-container-id-1 input.sk-toggleable__control:checked~label.sk-toggleable__label-arrow:before {\n",
       "  content: \"▾\";\n",
       "}\n",
       "\n",
       "/* Pipeline/ColumnTransformer-specific style */\n",
       "\n",
       "#sk-container-id-1 div.sk-label input.sk-toggleable__control:checked~label.sk-toggleable__label {\n",
       "  color: var(--sklearn-color-text);\n",
       "  background-color: var(--sklearn-color-unfitted-level-2);\n",
       "}\n",
       "\n",
       "#sk-container-id-1 div.sk-label.fitted input.sk-toggleable__control:checked~label.sk-toggleable__label {\n",
       "  background-color: var(--sklearn-color-fitted-level-2);\n",
       "}\n",
       "\n",
       "/* Estimator-specific style */\n",
       "\n",
       "/* Colorize estimator box */\n",
       "#sk-container-id-1 div.sk-estimator input.sk-toggleable__control:checked~label.sk-toggleable__label {\n",
       "  /* unfitted */\n",
       "  background-color: var(--sklearn-color-unfitted-level-2);\n",
       "}\n",
       "\n",
       "#sk-container-id-1 div.sk-estimator.fitted input.sk-toggleable__control:checked~label.sk-toggleable__label {\n",
       "  /* fitted */\n",
       "  background-color: var(--sklearn-color-fitted-level-2);\n",
       "}\n",
       "\n",
       "#sk-container-id-1 div.sk-label label.sk-toggleable__label,\n",
       "#sk-container-id-1 div.sk-label label {\n",
       "  /* The background is the default theme color */\n",
       "  color: var(--sklearn-color-text-on-default-background);\n",
       "}\n",
       "\n",
       "/* On hover, darken the color of the background */\n",
       "#sk-container-id-1 div.sk-label:hover label.sk-toggleable__label {\n",
       "  color: var(--sklearn-color-text);\n",
       "  background-color: var(--sklearn-color-unfitted-level-2);\n",
       "}\n",
       "\n",
       "/* Label box, darken color on hover, fitted */\n",
       "#sk-container-id-1 div.sk-label.fitted:hover label.sk-toggleable__label.fitted {\n",
       "  color: var(--sklearn-color-text);\n",
       "  background-color: var(--sklearn-color-fitted-level-2);\n",
       "}\n",
       "\n",
       "/* Estimator label */\n",
       "\n",
       "#sk-container-id-1 div.sk-label label {\n",
       "  font-family: monospace;\n",
       "  font-weight: bold;\n",
       "  display: inline-block;\n",
       "  line-height: 1.2em;\n",
       "}\n",
       "\n",
       "#sk-container-id-1 div.sk-label-container {\n",
       "  text-align: center;\n",
       "}\n",
       "\n",
       "/* Estimator-specific */\n",
       "#sk-container-id-1 div.sk-estimator {\n",
       "  font-family: monospace;\n",
       "  border: 1px dotted var(--sklearn-color-border-box);\n",
       "  border-radius: 0.25em;\n",
       "  box-sizing: border-box;\n",
       "  margin-bottom: 0.5em;\n",
       "  /* unfitted */\n",
       "  background-color: var(--sklearn-color-unfitted-level-0);\n",
       "}\n",
       "\n",
       "#sk-container-id-1 div.sk-estimator.fitted {\n",
       "  /* fitted */\n",
       "  background-color: var(--sklearn-color-fitted-level-0);\n",
       "}\n",
       "\n",
       "/* on hover */\n",
       "#sk-container-id-1 div.sk-estimator:hover {\n",
       "  /* unfitted */\n",
       "  background-color: var(--sklearn-color-unfitted-level-2);\n",
       "}\n",
       "\n",
       "#sk-container-id-1 div.sk-estimator.fitted:hover {\n",
       "  /* fitted */\n",
       "  background-color: var(--sklearn-color-fitted-level-2);\n",
       "}\n",
       "\n",
       "/* Specification for estimator info (e.g. \"i\" and \"?\") */\n",
       "\n",
       "/* Common style for \"i\" and \"?\" */\n",
       "\n",
       ".sk-estimator-doc-link,\n",
       "a:link.sk-estimator-doc-link,\n",
       "a:visited.sk-estimator-doc-link {\n",
       "  float: right;\n",
       "  font-size: smaller;\n",
       "  line-height: 1em;\n",
       "  font-family: monospace;\n",
       "  background-color: var(--sklearn-color-background);\n",
       "  border-radius: 1em;\n",
       "  height: 1em;\n",
       "  width: 1em;\n",
       "  text-decoration: none !important;\n",
       "  margin-left: 1ex;\n",
       "  /* unfitted */\n",
       "  border: var(--sklearn-color-unfitted-level-1) 1pt solid;\n",
       "  color: var(--sklearn-color-unfitted-level-1);\n",
       "}\n",
       "\n",
       ".sk-estimator-doc-link.fitted,\n",
       "a:link.sk-estimator-doc-link.fitted,\n",
       "a:visited.sk-estimator-doc-link.fitted {\n",
       "  /* fitted */\n",
       "  border: var(--sklearn-color-fitted-level-1) 1pt solid;\n",
       "  color: var(--sklearn-color-fitted-level-1);\n",
       "}\n",
       "\n",
       "/* On hover */\n",
       "div.sk-estimator:hover .sk-estimator-doc-link:hover,\n",
       ".sk-estimator-doc-link:hover,\n",
       "div.sk-label-container:hover .sk-estimator-doc-link:hover,\n",
       ".sk-estimator-doc-link:hover {\n",
       "  /* unfitted */\n",
       "  background-color: var(--sklearn-color-unfitted-level-3);\n",
       "  color: var(--sklearn-color-background);\n",
       "  text-decoration: none;\n",
       "}\n",
       "\n",
       "div.sk-estimator.fitted:hover .sk-estimator-doc-link.fitted:hover,\n",
       ".sk-estimator-doc-link.fitted:hover,\n",
       "div.sk-label-container:hover .sk-estimator-doc-link.fitted:hover,\n",
       ".sk-estimator-doc-link.fitted:hover {\n",
       "  /* fitted */\n",
       "  background-color: var(--sklearn-color-fitted-level-3);\n",
       "  color: var(--sklearn-color-background);\n",
       "  text-decoration: none;\n",
       "}\n",
       "\n",
       "/* Span, style for the box shown on hovering the info icon */\n",
       ".sk-estimator-doc-link span {\n",
       "  display: none;\n",
       "  z-index: 9999;\n",
       "  position: relative;\n",
       "  font-weight: normal;\n",
       "  right: .2ex;\n",
       "  padding: .5ex;\n",
       "  margin: .5ex;\n",
       "  width: min-content;\n",
       "  min-width: 20ex;\n",
       "  max-width: 50ex;\n",
       "  color: var(--sklearn-color-text);\n",
       "  box-shadow: 2pt 2pt 4pt #999;\n",
       "  /* unfitted */\n",
       "  background: var(--sklearn-color-unfitted-level-0);\n",
       "  border: .5pt solid var(--sklearn-color-unfitted-level-3);\n",
       "}\n",
       "\n",
       ".sk-estimator-doc-link.fitted span {\n",
       "  /* fitted */\n",
       "  background: var(--sklearn-color-fitted-level-0);\n",
       "  border: var(--sklearn-color-fitted-level-3);\n",
       "}\n",
       "\n",
       ".sk-estimator-doc-link:hover span {\n",
       "  display: block;\n",
       "}\n",
       "\n",
       "/* \"?\"-specific style due to the `<a>` HTML tag */\n",
       "\n",
       "#sk-container-id-1 a.estimator_doc_link {\n",
       "  float: right;\n",
       "  font-size: 1rem;\n",
       "  line-height: 1em;\n",
       "  font-family: monospace;\n",
       "  background-color: var(--sklearn-color-background);\n",
       "  border-radius: 1rem;\n",
       "  height: 1rem;\n",
       "  width: 1rem;\n",
       "  text-decoration: none;\n",
       "  /* unfitted */\n",
       "  color: var(--sklearn-color-unfitted-level-1);\n",
       "  border: var(--sklearn-color-unfitted-level-1) 1pt solid;\n",
       "}\n",
       "\n",
       "#sk-container-id-1 a.estimator_doc_link.fitted {\n",
       "  /* fitted */\n",
       "  border: var(--sklearn-color-fitted-level-1) 1pt solid;\n",
       "  color: var(--sklearn-color-fitted-level-1);\n",
       "}\n",
       "\n",
       "/* On hover */\n",
       "#sk-container-id-1 a.estimator_doc_link:hover {\n",
       "  /* unfitted */\n",
       "  background-color: var(--sklearn-color-unfitted-level-3);\n",
       "  color: var(--sklearn-color-background);\n",
       "  text-decoration: none;\n",
       "}\n",
       "\n",
       "#sk-container-id-1 a.estimator_doc_link.fitted:hover {\n",
       "  /* fitted */\n",
       "  background-color: var(--sklearn-color-fitted-level-3);\n",
       "}\n",
       "</style><div id=\"sk-container-id-1\" class=\"sk-top-container\"><div class=\"sk-text-repr-fallback\"><pre>RandomForestClassifier(class_weight=&#x27;balanced&#x27;, random_state=42)</pre><b>In a Jupyter environment, please rerun this cell to show the HTML representation or trust the notebook. <br />On GitHub, the HTML representation is unable to render, please try loading this page with nbviewer.org.</b></div><div class=\"sk-container\" hidden><div class=\"sk-item\"><div class=\"sk-estimator fitted sk-toggleable\"><input class=\"sk-toggleable__control sk-hidden--visually\" id=\"sk-estimator-id-1\" type=\"checkbox\" checked><label for=\"sk-estimator-id-1\" class=\"sk-toggleable__label fitted sk-toggleable__label-arrow fitted\">&nbsp;&nbsp;RandomForestClassifier<a class=\"sk-estimator-doc-link fitted\" rel=\"noreferrer\" target=\"_blank\" href=\"https://scikit-learn.org/1.4/modules/generated/sklearn.ensemble.RandomForestClassifier.html\">?<span>Documentation for RandomForestClassifier</span></a><span class=\"sk-estimator-doc-link fitted\">i<span>Fitted</span></span></label><div class=\"sk-toggleable__content fitted\"><pre>RandomForestClassifier(class_weight=&#x27;balanced&#x27;, random_state=42)</pre></div> </div></div></div></div>"
      ],
      "text/plain": [
       "RandomForestClassifier(class_weight='balanced', random_state=42)"
      ]
     },
     "execution_count": 43,
     "metadata": {},
     "output_type": "execute_result"
    }
   ],
   "source": [
    "rf_model = RandomForestClassifier(class_weight=\"balanced\", random_state=42, n_estimators=100)\n",
    "rf_model.fit(train_embeddings.numpy(), train_labels_encoded)"
   ]
  },
  {
   "cell_type": "code",
   "execution_count": 47,
   "metadata": {
    "id": "TF16XrFlypNe"
   },
   "outputs": [],
   "source": [
    "# Evaluate\n",
    "test_predictions_encoded = rf_model.predict(test_embeddings.numpy())\n"
   ]
  },
  {
   "cell_type": "code",
   "execution_count": 49,
   "metadata": {
    "id": "-CVk3DYOypNe",
    "outputId": "d608169e-070a-4a7d-a5a8-c8860d790248"
   },
   "outputs": [
    {
     "data": {
      "text/html": [
       "<div>\n",
       "<style scoped>\n",
       "    .dataframe tbody tr th:only-of-type {\n",
       "        vertical-align: middle;\n",
       "    }\n",
       "\n",
       "    .dataframe tbody tr th {\n",
       "        vertical-align: top;\n",
       "    }\n",
       "\n",
       "    .dataframe thead th {\n",
       "        text-align: right;\n",
       "    }\n",
       "</style>\n",
       "<table border=\"1\" class=\"dataframe\">\n",
       "  <thead>\n",
       "    <tr style=\"text-align: right;\">\n",
       "      <th></th>\n",
       "      <th>ID</th>\n",
       "      <th>Target</th>\n",
       "    </tr>\n",
       "  </thead>\n",
       "  <tbody>\n",
       "    <tr>\n",
       "      <th>0</th>\n",
       "      <td>ID_KKA87X</td>\n",
       "      <td>oil</td>\n",
       "    </tr>\n",
       "    <tr>\n",
       "      <th>1</th>\n",
       "      <td>ID_98S22Z</td>\n",
       "      <td>oil</td>\n",
       "    </tr>\n",
       "    <tr>\n",
       "      <th>2</th>\n",
       "      <td>ID_LE497V</td>\n",
       "      <td>cocoa</td>\n",
       "    </tr>\n",
       "    <tr>\n",
       "      <th>3</th>\n",
       "      <td>ID_VPN6ZF</td>\n",
       "      <td>cocoa</td>\n",
       "    </tr>\n",
       "    <tr>\n",
       "      <th>4</th>\n",
       "      <td>ID_GDKAHR</td>\n",
       "      <td>cocoa</td>\n",
       "    </tr>\n",
       "  </tbody>\n",
       "</table>\n",
       "</div>"
      ],
      "text/plain": [
       "          ID Target\n",
       "0  ID_KKA87X    oil\n",
       "1  ID_98S22Z    oil\n",
       "2  ID_LE497V  cocoa\n",
       "3  ID_VPN6ZF  cocoa\n",
       "4  ID_GDKAHR  cocoa"
      ]
     },
     "execution_count": 49,
     "metadata": {},
     "output_type": "execute_result"
    }
   ],
   "source": [
    "test_predictions = label_encoder.inverse_transform(test_predictions_encoded)\n",
    "\n",
    "submission = pd.DataFrame({\n",
    "    'ID': test_ids,\n",
    "    'Target': test_predictions\n",
    "})\n",
    "submission.head()\n",
    "# submission.to_csv(\"submission.csv\", index=False)"
   ]
  },
  {
   "cell_type": "code",
   "execution_count": 5,
   "metadata": {},
   "outputs": [],
   "source": [
    "import ee\n",
    "ee.Initialize(project='gradient-growers')\n"
   ]
  },
  {
   "cell_type": "code",
   "execution_count": 8,
   "metadata": {},
   "outputs": [
    {
     "name": "stdout",
     "output_type": "stream",
     "text": [
      "Collecting geopandas\n",
      "  Using cached geopandas-1.1.1-py3-none-any.whl.metadata (2.3 kB)\n",
      "Requirement already satisfied: numpy>=1.24 in /opt/anaconda3/lib/python3.12/site-packages (from geopandas) (1.26.4)\n",
      "Collecting pyogrio>=0.7.2 (from geopandas)\n",
      "  Using cached pyogrio-0.11.0-cp312-cp312-macosx_12_0_arm64.whl.metadata (5.3 kB)\n",
      "Requirement already satisfied: packaging in /opt/anaconda3/lib/python3.12/site-packages (from geopandas) (23.2)\n",
      "Requirement already satisfied: pandas>=2.0.0 in /opt/anaconda3/lib/python3.12/site-packages (from geopandas) (2.2.2)\n",
      "Collecting pyproj>=3.5.0 (from geopandas)\n",
      "  Using cached pyproj-3.7.1.tar.gz (226 kB)\n",
      "  Installing build dependencies ... \u001b[?25ldone\n",
      "\u001b[?25h  Getting requirements to build wheel ... \u001b[?25ldone\n",
      "\u001b[?25h  Preparing metadata (pyproject.toml) ... \u001b[?25ldone\n",
      "\u001b[?25hCollecting shapely>=2.0.0 (from geopandas)\n",
      "  Downloading shapely-2.1.1-cp312-cp312-macosx_11_0_arm64.whl.metadata (6.8 kB)\n",
      "Requirement already satisfied: python-dateutil>=2.8.2 in /opt/anaconda3/lib/python3.12/site-packages (from pandas>=2.0.0->geopandas) (2.9.0.post0)\n",
      "Requirement already satisfied: pytz>=2020.1 in /opt/anaconda3/lib/python3.12/site-packages (from pandas>=2.0.0->geopandas) (2024.1)\n",
      "Requirement already satisfied: tzdata>=2022.7 in /opt/anaconda3/lib/python3.12/site-packages (from pandas>=2.0.0->geopandas) (2023.3)\n",
      "Requirement already satisfied: certifi in /opt/anaconda3/lib/python3.12/site-packages (from pyogrio>=0.7.2->geopandas) (2024.7.4)\n",
      "Requirement already satisfied: six>=1.5 in /opt/anaconda3/lib/python3.12/site-packages (from python-dateutil>=2.8.2->pandas>=2.0.0->geopandas) (1.16.0)\n",
      "Using cached geopandas-1.1.1-py3-none-any.whl (338 kB)\n",
      "Downloading pyogrio-0.11.0-cp312-cp312-macosx_12_0_arm64.whl (19.5 MB)\n",
      "\u001b[2K   \u001b[38;2;114;156;31m━━━━━━━━━━━━━━━━━━━━━━━━━━━━━━━━━━━━━━━━\u001b[0m \u001b[32m19.5/19.5 MB\u001b[0m \u001b[31m7.5 MB/s\u001b[0m eta \u001b[36m0:00:00\u001b[0mm eta \u001b[36m0:00:01\u001b[0m[36m0:00:01\u001b[0m\n",
      "\u001b[?25hDownloading shapely-2.1.1-cp312-cp312-macosx_11_0_arm64.whl (1.6 MB)\n",
      "\u001b[2K   \u001b[38;2;114;156;31m━━━━━━━━━━━━━━━━━━━━━━━━━━━━━━━━━━━━━━━━\u001b[0m \u001b[32m1.6/1.6 MB\u001b[0m \u001b[31m6.4 MB/s\u001b[0m eta \u001b[36m0:00:00\u001b[0m MB/s\u001b[0m eta \u001b[36m0:00:01\u001b[0m0:01\u001b[0m\n",
      "\u001b[?25hBuilding wheels for collected packages: pyproj\n",
      "  Building wheel for pyproj (pyproject.toml) ... \u001b[?25ldone\n",
      "\u001b[?25h  Created wheel for pyproj: filename=pyproj-3.7.1-cp312-cp312-macosx_11_0_arm64.whl size=508187 sha256=c26364cf3badd75a86760354fea08eda868299b3db59bca4e4b686530515d6f0\n",
      "  Stored in directory: /Users/jennifer/Library/Caches/pip/wheels/c4/72/c2/294be60784c762c3e785a7e2519c0ec43866c13ec752fb3a09\n",
      "Successfully built pyproj\n",
      "Installing collected packages: shapely, pyproj, pyogrio, geopandas\n",
      "Successfully installed geopandas-1.1.1 pyogrio-0.11.0 pyproj-3.7.1 shapely-2.1.1\n",
      "Note: you may need to restart the kernel to use updated packages.\n"
     ]
    }
   ],
   "source": [
    "%pip install geopandas\n",
    "\n",
    "\n",
    "# file_path = 'your_file.geojson' # Replace with the actual path to your GeoJSON file\n",
    "\n",
    "# try:\n",
    "#     gdf = geopandas.read_file(file_path)\n",
    "#     print(\"GeoDataFrame loaded successfully:\")\n",
    "#     print(gdf.head()) # Display the first few rows of the GeoDataFrame\n",
    "#     print(gdf.crs) # Print the Coordinate Reference System\n",
    "# except Exception as e:\n",
    "#     print(f\"Error loading GeoJSON with geopandas: {e}\")"
   ]
  },
  {
   "cell_type": "code",
   "execution_count": 1,
   "metadata": {},
   "outputs": [],
   "source": [
    "import geopandas"
   ]
  },
  {
   "cell_type": "code",
   "execution_count": 7,
   "metadata": {},
   "outputs": [
    {
     "name": "stdout",
     "output_type": "stream",
     "text": [
      "Band data at (-1.629352395440254, 115.79490222819888):\n",
      "B2: 0.2171\n",
      "B3: 0.2033\n",
      "B4: 0.1889\n",
      "B8: 0.3145\n"
     ]
    }
   ],
   "source": [
    "longitude = 115.794902228198879\n",
    "latitude = -1.629352395440254\n",
    "\n",
    "point = ee.Geometry.Point(longitude, latitude)\n",
    "start_date = '2024-01-01'\n",
    "end_date = '2024-01-31'\n",
    "\n",
    "# Example: Accessing Sentinel-2 Surface Reflectance data\n",
    "collection = ee.ImageCollection('COPERNICUS/S2_HARMONIZED') \\\n",
    "    .filterBounds(point) \\\n",
    "    .filterDate(start_date, end_date) \\\n",
    "    .sort('CLOUDY_PIXEL_PERCENTAGE') \\\n",
    "    .first() # Get the least cloudy image\n",
    "\n",
    "if collection:\n",
    "    # Select specific bands (e.g., B4=Red, B3=Green, B2=Blue, B8=NIR for Sentinel-2)\n",
    "    # Apply scaling factors if necessary (often provided in dataset metadata)\n",
    "    # For Sentinel-2 SR, reflectance values are 10000 * actual reflectance\n",
    "    bands_of_interest = ['B2', 'B3', 'B4', 'B8']\n",
    "    image_at_point = collection.select(bands_of_interest).sample(point, scale=10).first()\n",
    "\n",
    "    # Get the band values at the point\n",
    "    data = image_at_point.getInfo()\n",
    "    print(f\"Band data at ({latitude}, {longitude}):\")\n",
    "    for band in bands_of_interest:\n",
    "        if band in data['properties']:\n",
    "            value = data['properties'][band]\n",
    "            print(f\"{band}: {value / 10000.0}\") # Scale back to actual reflectance\n",
    "else:\n",
    "    print(\"No image found for the specified location and time range.\")\n"
   ]
  },
  {
   "cell_type": "code",
   "execution_count": 15,
   "metadata": {},
   "outputs": [
    {
     "name": "stdout",
     "output_type": "stream",
     "text": [
      "CIV - Coordinate Reference System (CRS): EPSG:4326\n",
      "GHA - Coordinate Reference System (CRS): EPSG:4326\n"
     ]
    },
    {
     "data": {
      "image/png": "[encoded data removed]",
      "text/plain": [
       "<Figure size 640x480 with 1 Axes>"
      ]
     },
     "metadata": {},
     "output_type": "display_data"
    }
   ],
   "source": [
    "# collecting data from cocoa .tif\n",
    "import rasterio\n",
    "from matplotlib import pyplot\n",
    "\n",
    "CIV_cocao = 'data/Detected_Cocoa_Farms/CIVKakao.tif'\n",
    "GHA_cocao = 'data/Detected_Cocoa_Farms/GHAKakao.tif'\n",
    "try:\n",
    "        with rasterio.open(CIV_cocao) as src:\n",
    "                band_data = src.read(1)\n",
    "                print(f'CIV - Coordinate Reference System (CRS): {src.crs}')\n",
    "                pyplot.imshow(band_data, cmap='pink')\n",
    "                pyplot.show()\n",
    "        with rasterio.open(GHA_cocao) as src:\n",
    "                band_data = src.read(1)\n",
    "                print(f'GHA - Coordinate Reference System (CRS): {src.crs}')\n",
    "except rasterio.errors.RasterioIOError as e:\n",
    "        print(f'Error opening or reading GeoTIFF file: {e}')\n",
    "except Exception as e:\n",
    "        print(f'An unexpected error occurred: {e}')"
   ]
  },
  {
   "cell_type": "code",
   "execution_count": 1,
   "metadata": {},
   "outputs": [
    {
     "name": "stdout",
     "output_type": "stream",
     "text": [
      "CIV - Coordinate Reference System (CRS): EPSG:4326\n",
      "   Longitude  Latitude\n",
      "0  -2.588001  8.780089\n",
      "1  -2.588001  8.779999\n",
      "2  -2.587642  8.779370\n",
      "3  -2.553147  8.565391\n",
      "4  -2.553057  8.564762\n"
     ]
    },
    {
     "ename": "KeyboardInterrupt",
     "evalue": "",
     "output_type": "error",
     "traceback": [
      "\u001b[0;31m---------------------------------------------------------------------------\u001b[0m",
      "\u001b[0;31mKeyboardInterrupt\u001b[0m                         Traceback (most recent call last)",
      "Cell \u001b[0;32mIn[1], line 14\u001b[0m\n\u001b[1;32m     12\u001b[0m                 df \u001b[38;5;241m=\u001b[39m pd\u001b[38;5;241m.\u001b[39mDataFrame({\u001b[38;5;124m'\u001b[39m\u001b[38;5;124mLongitude\u001b[39m\u001b[38;5;124m'\u001b[39m: lons, \u001b[38;5;124m'\u001b[39m\u001b[38;5;124mLatitude\u001b[39m\u001b[38;5;124m'\u001b[39m: lats})\n\u001b[1;32m     13\u001b[0m                 \u001b[38;5;28mprint\u001b[39m(df\u001b[38;5;241m.\u001b[39mhead())\n\u001b[0;32m---> 14\u001b[0m                 df\u001b[38;5;241m.\u001b[39mto_csv(\u001b[38;5;124m'\u001b[39m\u001b[38;5;124mCIVKokao_coordinates.csv\u001b[39m\u001b[38;5;124m'\u001b[39m, index\u001b[38;5;241m=\u001b[39m\u001b[38;5;28;01mFalse\u001b[39;00m)\n\u001b[1;32m     15\u001b[0m \u001b[38;5;28;01mexcept\u001b[39;00m rasterio\u001b[38;5;241m.\u001b[39merrors\u001b[38;5;241m.\u001b[39mRasterioIOError \u001b[38;5;28;01mas\u001b[39;00m e:\n\u001b[1;32m     16\u001b[0m         \u001b[38;5;28mprint\u001b[39m(\u001b[38;5;124mf\u001b[39m\u001b[38;5;124m'\u001b[39m\u001b[38;5;124mError opening or reading GeoTIFF file: \u001b[39m\u001b[38;5;132;01m{\u001b[39;00me\u001b[38;5;132;01m}\u001b[39;00m\u001b[38;5;124m'\u001b[39m)\n",
      "File \u001b[0;32m/opt/anaconda3/lib/python3.12/site-packages/pandas/util/_decorators.py:333\u001b[0m, in \u001b[0;36mdeprecate_nonkeyword_arguments.<locals>.decorate.<locals>.wrapper\u001b[0;34m(*args, **kwargs)\u001b[0m\n\u001b[1;32m    327\u001b[0m \u001b[38;5;28;01mif\u001b[39;00m \u001b[38;5;28mlen\u001b[39m(args) \u001b[38;5;241m>\u001b[39m num_allow_args:\n\u001b[1;32m    328\u001b[0m     warnings\u001b[38;5;241m.\u001b[39mwarn(\n\u001b[1;32m    329\u001b[0m         msg\u001b[38;5;241m.\u001b[39mformat(arguments\u001b[38;5;241m=\u001b[39m_format_argument_list(allow_args)),\n\u001b[1;32m    330\u001b[0m         \u001b[38;5;167;01mFutureWarning\u001b[39;00m,\n\u001b[1;32m    331\u001b[0m         stacklevel\u001b[38;5;241m=\u001b[39mfind_stack_level(),\n\u001b[1;32m    332\u001b[0m     )\n\u001b[0;32m--> 333\u001b[0m \u001b[38;5;28;01mreturn\u001b[39;00m func(\u001b[38;5;241m*\u001b[39margs, \u001b[38;5;241m*\u001b[39m\u001b[38;5;241m*\u001b[39mkwargs)\n",
      "File \u001b[0;32m/opt/anaconda3/lib/python3.12/site-packages/pandas/core/generic.py:3967\u001b[0m, in \u001b[0;36mNDFrame.to_csv\u001b[0;34m(self, path_or_buf, sep, na_rep, float_format, columns, header, index, index_label, mode, encoding, compression, quoting, quotechar, lineterminator, chunksize, date_format, doublequote, escapechar, decimal, errors, storage_options)\u001b[0m\n\u001b[1;32m   3956\u001b[0m df \u001b[38;5;241m=\u001b[39m \u001b[38;5;28mself\u001b[39m \u001b[38;5;28;01mif\u001b[39;00m \u001b[38;5;28misinstance\u001b[39m(\u001b[38;5;28mself\u001b[39m, ABCDataFrame) \u001b[38;5;28;01melse\u001b[39;00m \u001b[38;5;28mself\u001b[39m\u001b[38;5;241m.\u001b[39mto_frame()\n\u001b[1;32m   3958\u001b[0m formatter \u001b[38;5;241m=\u001b[39m DataFrameFormatter(\n\u001b[1;32m   3959\u001b[0m     frame\u001b[38;5;241m=\u001b[39mdf,\n\u001b[1;32m   3960\u001b[0m     header\u001b[38;5;241m=\u001b[39mheader,\n\u001b[0;32m   (...)\u001b[0m\n\u001b[1;32m   3964\u001b[0m     decimal\u001b[38;5;241m=\u001b[39mdecimal,\n\u001b[1;32m   3965\u001b[0m )\n\u001b[0;32m-> 3967\u001b[0m \u001b[38;5;28;01mreturn\u001b[39;00m DataFrameRenderer(formatter)\u001b[38;5;241m.\u001b[39mto_csv(\n\u001b[1;32m   3968\u001b[0m     path_or_buf,\n\u001b[1;32m   3969\u001b[0m     lineterminator\u001b[38;5;241m=\u001b[39mlineterminator,\n\u001b[1;32m   3970\u001b[0m     sep\u001b[38;5;241m=\u001b[39msep,\n\u001b[1;32m   3971\u001b[0m     encoding\u001b[38;5;241m=\u001b[39mencoding,\n\u001b[1;32m   3972\u001b[0m     errors\u001b[38;5;241m=\u001b[39merrors,\n\u001b[1;32m   3973\u001b[0m     compression\u001b[38;5;241m=\u001b[39mcompression,\n\u001b[1;32m   3974\u001b[0m     quoting\u001b[38;5;241m=\u001b[39mquoting,\n\u001b[1;32m   3975\u001b[0m     columns\u001b[38;5;241m=\u001b[39mcolumns,\n\u001b[1;32m   3976\u001b[0m     index_label\u001b[38;5;241m=\u001b[39mindex_label,\n\u001b[1;32m   3977\u001b[0m     mode\u001b[38;5;241m=\u001b[39mmode,\n\u001b[1;32m   3978\u001b[0m     chunksize\u001b[38;5;241m=\u001b[39mchunksize,\n\u001b[1;32m   3979\u001b[0m     quotechar\u001b[38;5;241m=\u001b[39mquotechar,\n\u001b[1;32m   3980\u001b[0m     date_format\u001b[38;5;241m=\u001b[39mdate_format,\n\u001b[1;32m   3981\u001b[0m     doublequote\u001b[38;5;241m=\u001b[39mdoublequote,\n\u001b[1;32m   3982\u001b[0m     escapechar\u001b[38;5;241m=\u001b[39mescapechar,\n\u001b[1;32m   3983\u001b[0m     storage_options\u001b[38;5;241m=\u001b[39mstorage_options,\n\u001b[1;32m   3984\u001b[0m )\n",
      "File \u001b[0;32m/opt/anaconda3/lib/python3.12/site-packages/pandas/io/formats/format.py:1014\u001b[0m, in \u001b[0;36mDataFrameRenderer.to_csv\u001b[0;34m(self, path_or_buf, encoding, sep, columns, index_label, mode, compression, quoting, quotechar, lineterminator, chunksize, date_format, doublequote, escapechar, errors, storage_options)\u001b[0m\n\u001b[1;32m    993\u001b[0m     created_buffer \u001b[38;5;241m=\u001b[39m \u001b[38;5;28;01mFalse\u001b[39;00m\n\u001b[1;32m    995\u001b[0m csv_formatter \u001b[38;5;241m=\u001b[39m CSVFormatter(\n\u001b[1;32m    996\u001b[0m     path_or_buf\u001b[38;5;241m=\u001b[39mpath_or_buf,\n\u001b[1;32m    997\u001b[0m     lineterminator\u001b[38;5;241m=\u001b[39mlineterminator,\n\u001b[0;32m   (...)\u001b[0m\n\u001b[1;32m   1012\u001b[0m     formatter\u001b[38;5;241m=\u001b[39m\u001b[38;5;28mself\u001b[39m\u001b[38;5;241m.\u001b[39mfmt,\n\u001b[1;32m   1013\u001b[0m )\n\u001b[0;32m-> 1014\u001b[0m csv_formatter\u001b[38;5;241m.\u001b[39msave()\n\u001b[1;32m   1016\u001b[0m \u001b[38;5;28;01mif\u001b[39;00m created_buffer:\n\u001b[1;32m   1017\u001b[0m     \u001b[38;5;28;01massert\u001b[39;00m \u001b[38;5;28misinstance\u001b[39m(path_or_buf, StringIO)\n",
      "File \u001b[0;32m/opt/anaconda3/lib/python3.12/site-packages/pandas/io/formats/csvs.py:270\u001b[0m, in \u001b[0;36mCSVFormatter.save\u001b[0;34m(self)\u001b[0m\n\u001b[1;32m    251\u001b[0m \u001b[38;5;28;01mwith\u001b[39;00m get_handle(\n\u001b[1;32m    252\u001b[0m     \u001b[38;5;28mself\u001b[39m\u001b[38;5;241m.\u001b[39mfilepath_or_buffer,\n\u001b[1;32m    253\u001b[0m     \u001b[38;5;28mself\u001b[39m\u001b[38;5;241m.\u001b[39mmode,\n\u001b[0;32m   (...)\u001b[0m\n\u001b[1;32m    258\u001b[0m ) \u001b[38;5;28;01mas\u001b[39;00m handles:\n\u001b[1;32m    259\u001b[0m     \u001b[38;5;66;03m# Note: self.encoding is irrelevant here\u001b[39;00m\n\u001b[1;32m    260\u001b[0m     \u001b[38;5;28mself\u001b[39m\u001b[38;5;241m.\u001b[39mwriter \u001b[38;5;241m=\u001b[39m csvlib\u001b[38;5;241m.\u001b[39mwriter(\n\u001b[1;32m    261\u001b[0m         handles\u001b[38;5;241m.\u001b[39mhandle,\n\u001b[1;32m    262\u001b[0m         lineterminator\u001b[38;5;241m=\u001b[39m\u001b[38;5;28mself\u001b[39m\u001b[38;5;241m.\u001b[39mlineterminator,\n\u001b[0;32m   (...)\u001b[0m\n\u001b[1;32m    267\u001b[0m         quotechar\u001b[38;5;241m=\u001b[39m\u001b[38;5;28mself\u001b[39m\u001b[38;5;241m.\u001b[39mquotechar,\n\u001b[1;32m    268\u001b[0m     )\n\u001b[0;32m--> 270\u001b[0m     \u001b[38;5;28mself\u001b[39m\u001b[38;5;241m.\u001b[39m_save()\n",
      "File \u001b[0;32m/opt/anaconda3/lib/python3.12/site-packages/pandas/io/formats/csvs.py:275\u001b[0m, in \u001b[0;36mCSVFormatter._save\u001b[0;34m(self)\u001b[0m\n\u001b[1;32m    273\u001b[0m \u001b[38;5;28;01mif\u001b[39;00m \u001b[38;5;28mself\u001b[39m\u001b[38;5;241m.\u001b[39m_need_to_save_header:\n\u001b[1;32m    274\u001b[0m     \u001b[38;5;28mself\u001b[39m\u001b[38;5;241m.\u001b[39m_save_header()\n\u001b[0;32m--> 275\u001b[0m \u001b[38;5;28mself\u001b[39m\u001b[38;5;241m.\u001b[39m_save_body()\n",
      "File \u001b[0;32m/opt/anaconda3/lib/python3.12/site-packages/pandas/io/formats/csvs.py:313\u001b[0m, in \u001b[0;36mCSVFormatter._save_body\u001b[0;34m(self)\u001b[0m\n\u001b[1;32m    311\u001b[0m \u001b[38;5;28;01mif\u001b[39;00m start_i \u001b[38;5;241m>\u001b[39m\u001b[38;5;241m=\u001b[39m end_i:\n\u001b[1;32m    312\u001b[0m     \u001b[38;5;28;01mbreak\u001b[39;00m\n\u001b[0;32m--> 313\u001b[0m \u001b[38;5;28mself\u001b[39m\u001b[38;5;241m.\u001b[39m_save_chunk(start_i, end_i)\n",
      "File \u001b[0;32m/opt/anaconda3/lib/python3.12/site-packages/pandas/io/formats/csvs.py:324\u001b[0m, in \u001b[0;36mCSVFormatter._save_chunk\u001b[0;34m(self, start_i, end_i)\u001b[0m\n\u001b[1;32m    321\u001b[0m data \u001b[38;5;241m=\u001b[39m \u001b[38;5;28mlist\u001b[39m(res\u001b[38;5;241m.\u001b[39m_iter_column_arrays())\n\u001b[1;32m    323\u001b[0m ix \u001b[38;5;241m=\u001b[39m \u001b[38;5;28mself\u001b[39m\u001b[38;5;241m.\u001b[39mdata_index[slicer]\u001b[38;5;241m.\u001b[39m_get_values_for_csv(\u001b[38;5;241m*\u001b[39m\u001b[38;5;241m*\u001b[39m\u001b[38;5;28mself\u001b[39m\u001b[38;5;241m.\u001b[39m_number_format)\n\u001b[0;32m--> 324\u001b[0m libwriters\u001b[38;5;241m.\u001b[39mwrite_csv_rows(\n\u001b[1;32m    325\u001b[0m     data,\n\u001b[1;32m    326\u001b[0m     ix,\n\u001b[1;32m    327\u001b[0m     \u001b[38;5;28mself\u001b[39m\u001b[38;5;241m.\u001b[39mnlevels,\n\u001b[1;32m    328\u001b[0m     \u001b[38;5;28mself\u001b[39m\u001b[38;5;241m.\u001b[39mcols,\n\u001b[1;32m    329\u001b[0m     \u001b[38;5;28mself\u001b[39m\u001b[38;5;241m.\u001b[39mwriter,\n\u001b[1;32m    330\u001b[0m )\n",
      "File \u001b[0;32mwriters.pyx:73\u001b[0m, in \u001b[0;36mpandas._libs.writers.write_csv_rows\u001b[0;34m()\u001b[0m\n",
      "\u001b[0;31mKeyboardInterrupt\u001b[0m: "
     ]
    }
   ],
   "source": [
    "import rasterio\n",
    "import pandas as pd\n",
    "import numpy as np\n",
    "\n",
    "CIV_cocao = 'data/Detected_Cocoa_Farms/CIVKakao.tif'\n",
    "try:\n",
    "        with rasterio.open(CIV_cocao) as src:\n",
    "                band_data = src.read(1)\n",
    "                print(f'CIV - Coordinate Reference System (CRS): {src.crs}')\n",
    "                rows, cols = np.nonzero(band_data)\n",
    "                lons, lats = rasterio.transform.xy(src.transform, rows, cols)\n",
    "                df = pd.DataFrame({'Longitude': lons, 'Latitude': lats})\n",
    "                print(df.head())\n",
    "                df.to_csv('CIVKokao_coordinates.csv', index=False)\n",
    "except rasterio.errors.RasterioIOError as e:\n",
    "        print(f'Error opening or reading GeoTIFF file: {e}')\n",
    "except Exception as e:\n",
    "        print(f'An unexpected error occurred: {e}')"
   ]
  },
  {
   "cell_type": "code",
   "execution_count": null,
   "metadata": {},
   "outputs": [],
   "source": [
    "import rasterio\n",
    "import pandas as pd\n",
    "import numpy as np\n",
    "\n",
    "GHA_cocao = 'data/Detected_Cocoa_Farms/GHAKakao.tif'\n",
    "try:\n",
    "        with rasterio.open(GHA_cocao) as src:\n",
    "                band_data = src.read(1)\n",
    "                print(f'GHA - Coordinate Reference System (CRS): {src.crs}')\n",
    "                rows, cols = np.nonzero(band_data)\n",
    "                lons, lats = rasterio.transform.xy(src.transform, rows, cols)\n",
    "                df = pd.DataFrame({'Longitude': lons, 'Latitude': lats})\n",
    "                print(df.head())\n",
    "                df.to_csv('GHAKokao_coordinates.csv', index=False)\n",
    "except rasterio.errors.RasterioIOError as e:\n",
    "        print(f'Error opening or reading GeoTIFF file: {e}')\n",
    "except Exception as e:\n",
    "        print(f'An unexpected error occurred: {e}')"
   ]
  }
 ],
 "metadata": {
  "colab": {
   "provenance": []
  },
  "kernelspec": {
   "display_name": "base",
   "language": "python",
   "name": "python3"
  },
  "language_info": {
   "codemirror_mode": {
    "name": "ipython",
    "version": 3
   },
   "file_extension": ".py",
   "mimetype": "text/x-python",
   "name": "python",
   "nbconvert_exporter": "python",
   "pygments_lexer": "ipython3",
   "version": "3.12.4"
  }
 },
 "nbformat": 4,
 "nbformat_minor": 4
}
